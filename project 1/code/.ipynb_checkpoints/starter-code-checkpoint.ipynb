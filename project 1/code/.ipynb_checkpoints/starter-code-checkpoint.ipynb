{
 "cells": [
  {
   "cell_type": "markdown",
   "metadata": {},
   "source": [
    "<img src=\"http://imgur.com/1ZcRyrc.png\" style=\"float: left; margin: 20px; height: 55px\">\n",
    "\n",
    "# Project 1: Standardized Test Analysis"
   ]
  },
  {
   "cell_type": "markdown",
   "metadata": {},
   "source": [
    "--- \n",
    "# Part 1\n",
    "\n",
    "Part 1 requires knowledge of basic Python.\n",
    "\n",
    "---"
   ]
  },
  {
   "cell_type": "markdown",
   "metadata": {},
   "source": [
    "## Problem Statement"
   ]
  },
  {
   "cell_type": "markdown",
   "metadata": {},
   "source": [
    "Decide on your problem statement that will guide your analysis for this project. For guidelines, sample prompts, or inspiration, check out the README.\n",
    "\n",
    "**To-Do:** *Replace this cell with your problem statement.*"
   ]
  },
  {
   "cell_type": "markdown",
   "metadata": {},
   "source": [
    "### Contents:\n",
    "- [Background](#Background)\n",
    "- [Data Import & Cleaning](#Data-Import-and-Cleaning)\n",
    "- [Exploratory Data Analysis](#Exploratory-Data-Analysis)\n",
    "- [Data Visualization](#Visualize-the-Data)\n",
    "- [Conclusions and Recommendations](#Conclusions-and-Recommendations)"
   ]
  },
  {
   "cell_type": "markdown",
   "metadata": {},
   "source": [
    "## Background"
   ]
  },
  {
   "cell_type": "markdown",
   "metadata": {},
   "source": [
    "The SAT and ACT are standardized tests that many colleges and universities in the United States require for their admissions process. This score is used along with other materials such as grade point average (GPA) and essay responses to determine whether or not a potential student will be accepted to the university.\n",
    "\n",
    "The SAT has two sections of the test: Evidence-Based Reading and Writing and Math ([*source*](https://www.princetonreview.com/college/sat-sections)). The ACT has 4 sections: English, Mathematics, Reading, and Science, with an additional optional writing section ([*source*](https://www.act.org/content/act/en/products-and-services/the-act/scores/understanding-your-scores.html)). They have different score ranges, which you can read more about on their websites or additional outside sources (a quick Google search will help you understand the scores for each test):\n",
    "* [SAT](https://collegereadiness.collegeboard.org/sat)\n",
    "* [ACT](https://www.act.org/content/act/en.html)\n",
    "\n",
    "Standardized tests have long been a controversial topic for students, administrators, and legislators. Since the 1940's, an increasing number of colleges have been using scores from sudents' performances on tests like the SAT and the ACT as a measure for college readiness and aptitude ([*source*](https://www.minotdailynews.com/news/local-news/2017/04/a-brief-history-of-the-sat-and-act/)). Supporters of these tests argue that these scores can be used as an objective measure to determine college admittance. Opponents of these tests claim that these tests are not accurate measures of students potential or ability and serve as an inequitable barrier to entry. Lately, more and more schools are opting to drop the SAT/ACT requirement for their Fall 2021 applications ([*read more about this here*](https://www.cnn.com/2020/04/14/us/coronavirus-colleges-sat-act-test-trnd/index.html))."
   ]
  },
  {
   "cell_type": "markdown",
   "metadata": {},
   "source": [
    "**To-Do:** *Fill out this cell (or edit the above cell) with any other background or information that is necessary for your problem statement.*"
   ]
  },
  {
   "cell_type": "markdown",
   "metadata": {},
   "source": [
    "### Choose your Data\n",
    "\n",
    "There are 10 datasets included in the [`data`](./data/) folder for this project. You are required to pick **at least two** of these to complete your analysis. Feel free to use more than two if you would like, or add other relevant datasets you find online.\n",
    "\n",
    "* [`act_2017.csv`](./data/act_2017.csv): 2017 ACT Scores by State\n",
    "* [`act_2018.csv`](./data/act_2018.csv): 2018 ACT Scores by State\n",
    "* [`act_2019.csv`](./data/act_2019.csv): 2019 ACT Scores by State\n",
    "* [`act_2019_ca.csv`](./data/act_2019_ca.csv): 2019 ACT Scores in California by School\n",
    "* [`sat_2017.csv`](./data/sat_2017.csv): 2017 SAT Scores by State\n",
    "* [`sat_2018.csv`](./data/sat_2018.csv): 2018 SAT Scores by State\n",
    "* [`sat_2019.csv`](./data/sat_2019.csv): 2019 SAT Scores by State\n",
    "* [`sat_2019_by_intended_college_major.csv`](./data/sat_2019_by_intended_college_major.csv): 2019 SAT Scores by Intended College Major\n",
    "* [`sat_2019_ca.csv`](./data/sat_2019_ca.csv): 2019 SAT Scores in California by School\n",
    "* [`sat_act_by_college.csv`](./data/sat_act_by_college.csv): Ranges of Accepted ACT & SAT Student Scores by Colleges"
   ]
  },
  {
   "cell_type": "markdown",
   "metadata": {},
   "source": [
    "**To-Do:** *Fill out this cell with the datasets you will use for your analysis. Write a brief description of the contents for each dataset that you choose.*"
   ]
  },
  {
   "cell_type": "markdown",
   "metadata": {},
   "source": [
    "### Outside Research"
   ]
  },
  {
   "cell_type": "markdown",
   "metadata": {},
   "source": [
    "Based on your problem statement and your chosen datasets, spend some time doing outside research on state policies or additional information that might be relevant. Summarize your findings below. If you bring in any outside tables or charts, make sure you are explicit about having borrowed them. If you quote any text, make sure that it renders as being quoted. **Make sure that you cite your sources.**"
   ]
  },
  {
   "cell_type": "markdown",
   "metadata": {},
   "source": [
    "**To-Do:** *Fill out this cell with outside research or any additional background information that will support your analysis.*"
   ]
  },
  {
   "cell_type": "markdown",
   "metadata": {},
   "source": [
    "### Coding Challenges\n",
    "\n",
    "1. Manually calculate mean:\n",
    "\n",
    "    Write a function that takes in values and returns the mean of the values. Create a list of numbers that you test on your function to check to make sure your function works!\n",
    "    \n",
    "    *Note*: Do not use any mean methods built-in to any Python libraries to do this! This should be done without importing any additional libraries."
   ]
  },
  {
   "cell_type": "code",
   "execution_count": 1,
   "metadata": {},
   "outputs": [],
   "source": [
    "def get_mean(*num_list):\n",
    "    return sum(num_list)/ len(num_list)"
   ]
  },
  {
   "cell_type": "code",
   "execution_count": 2,
   "metadata": {},
   "outputs": [
    {
     "data": {
      "text/plain": [
       "7.0"
      ]
     },
     "execution_count": 2,
     "metadata": {},
     "output_type": "execute_result"
    }
   ],
   "source": [
    "get_mean(9, 5)"
   ]
  },
  {
   "cell_type": "markdown",
   "metadata": {},
   "source": [
    "2. Manually calculate standard deviation:\n",
    "\n",
    "    The formula for standard deviation is below:\n",
    "\n",
    "    $$\\sigma = \\sqrt{\\frac{1}{n}\\sum_{i=1}^n(x_i - \\mu)^2}$$\n",
    "\n",
    "    Where $x_i$ represents each value in the dataset, $\\mu$ represents the mean of all values in the dataset and $n$ represents the number of values in the dataset.\n",
    "\n",
    "    Write a function that takes in values and returns the standard deviation of the values using the formula above. Hint: use the function you wrote above to calculate the mean! Use the list of numbers you created above to test on your function.\n",
    "    \n",
    "    *Note*: Do not use any standard deviation methods built-in to any Python libraries to do this! This should be done without importing any additional libraries."
   ]
  },
  {
   "cell_type": "code",
   "execution_count": 3,
   "metadata": {},
   "outputs": [],
   "source": [
    "def stand_dev(data):\n",
    "    n = len(data)\n",
    "    mean = sum(data) / n\n",
    "    sq = [(x - mean) ** 2 for x in data]\n",
    "    variance = sum(sq) / n\n",
    "    \n",
    "    return variance**0.5"
   ]
  },
  {
   "cell_type": "markdown",
   "metadata": {},
   "source": [
    "3. Data cleaning function:\n",
    "    \n",
    "    Write a function that takes in a string that is a number and a percent symbol (ex. '50%', '30.5%', etc.) and converts this to a float that is the decimal approximation of the percent. For example, inputting '50%' in your function should return 0.5, '30.5%' should return 0.305, etc. Make sure to test your function to make sure it works!\n",
    "\n",
    "You will use these functions later on in the project!"
   ]
  },
  {
   "cell_type": "code",
   "execution_count": 4,
   "metadata": {},
   "outputs": [],
   "source": [
    "def int_percent(x):\n",
    "    y = float(x.replace('%',''))/100\n",
    "    return y"
   ]
  },
  {
   "cell_type": "markdown",
   "metadata": {},
   "source": [
    "--- \n",
    "# Part 2\n",
    "\n",
    "Part 2 requires knowledge of Pandas, EDA, data cleaning, and data visualization.\n",
    "\n",
    "---"
   ]
  },
  {
   "cell_type": "markdown",
   "metadata": {},
   "source": [
    "*All libraries used should be added here*"
   ]
  },
  {
   "cell_type": "code",
   "execution_count": 5,
   "metadata": {},
   "outputs": [],
   "source": [
    "import numpy as np\n",
    "import pandas as pd\n",
    "import os as os\n",
    "import matplotlib.pyplot as plt\n",
    "import seaborn as sns\n",
    "%matplotlib inline"
   ]
  },
  {
   "cell_type": "markdown",
   "metadata": {},
   "source": [
    "## Data Import and Cleaning"
   ]
  },
  {
   "cell_type": "markdown",
   "metadata": {},
   "source": [
    "### Data Import & Cleaning\n",
    "\n",
    "Import the datasets that you selected for this project and go through the following steps at a minimum. You are welcome to do further cleaning as you feel necessary:\n",
    "1. Display the data: print the first 5 rows of each dataframe to your Jupyter notebook.\n",
    "2. Check for missing values.\n",
    "3. Check for any obvious issues with the observations (keep in mind the minimum & maximum possible values for each test/subtest).\n",
    "4. Fix any errors you identified in steps 2-3.\n",
    "5. Display the data types of each feature.\n",
    "6. Fix any incorrect data types found in step 5.\n",
    "    - Fix any individual values preventing other columns from being the appropriate type.\n",
    "    - If your dataset has a column of percents (ex. '50%', '30.5%', etc.), use the function you wrote in Part 1 (coding challenges, number 3) to convert this to floats! *Hint*: use `.map()` or `.apply()`.\n",
    "7. Rename Columns.\n",
    "    - Column names should be all lowercase.\n",
    "    - Column names should not contain spaces (underscores will suffice--this allows for using the `df.column_name` method to access columns in addition to `df['column_name']`).\n",
    "    - Column names should be unique and informative.\n",
    "8. Drop unnecessary rows (if needed).\n",
    "9. Merge dataframes that can be merged.\n",
    "10. Perform any additional cleaning that you feel is necessary.\n",
    "11. Save your cleaned and merged dataframes as csv files."
   ]
  },
  {
   "cell_type": "markdown",
   "metadata": {},
   "source": [
    "## **Loading Data**"
   ]
  },
  {
   "cell_type": "markdown",
   "metadata": {},
   "source": [
    "This project will be working on 3 main datasets: \n",
    "- i_m\n",
    "- colleges\n",
    "- sat"
   ]
  },
  {
   "cell_type": "code",
   "execution_count": 6,
   "metadata": {},
   "outputs": [],
   "source": [
    "#i_m stands for intended major\n",
    "i_m = pd.read_csv('/Users/jayrussell/Desktop/GA/projects/project-1/data/sat_2019_by_intended_college_major.csv')\n",
    "\n",
    "#dataframe\n",
    "colleges = pd.read_csv('/Users/jayrussell/Desktop/GA/projects/project-1/data/sat_act_by_college.csv', index_col = 'School')\n",
    "\n",
    "#reading sat results by state from 2017 to 2019\n",
    "sat_2017 = pd.read_csv('/Users/jayrussell/Desktop/GA/projects/project-1/data/sat_2017.csv', index_col = 'State')\n",
    "sat_2018 = pd.read_csv('/Users/jayrussell/Desktop/GA/projects/project-1/data/sat_2018.csv', index_col = 'State')\n",
    "sat_2019 = pd.read_csv('/Users/jayrussell/Desktop/GA/projects/project-1/data/sat_2019.csv', index_col = 'State')\n",
    "\n",
    "# sat_2019 needs suffix, therefore columns were renamed for clarity in final sat dataframe.\n",
    "sat_2019.columns = sat_2018.columns\n",
    "sat_2019.columns = sat_2019.columns.map(lambda x: x + '_19')\n",
    "sat = sat_2017.join(sat_2018, lsuffix = '_17', rsuffix = '_18').join(sat_2019)"
   ]
  },
  {
   "cell_type": "code",
   "execution_count": 7,
   "metadata": {},
   "outputs": [
    {
     "data": {
      "text/html": [
       "<div>\n",
       "<style scoped>\n",
       "    .dataframe tbody tr th:only-of-type {\n",
       "        vertical-align: middle;\n",
       "    }\n",
       "\n",
       "    .dataframe tbody tr th {\n",
       "        vertical-align: top;\n",
       "    }\n",
       "\n",
       "    .dataframe thead th {\n",
       "        text-align: right;\n",
       "    }\n",
       "</style>\n",
       "<table border=\"1\" class=\"dataframe\">\n",
       "  <thead>\n",
       "    <tr style=\"text-align: right;\">\n",
       "      <th></th>\n",
       "      <th>IntendedCollegeMajor</th>\n",
       "      <th>TestTakers</th>\n",
       "      <th>Percent</th>\n",
       "      <th>Total</th>\n",
       "      <th>ReadingWriting</th>\n",
       "      <th>Math</th>\n",
       "    </tr>\n",
       "  </thead>\n",
       "  <tbody>\n",
       "    <tr>\n",
       "      <th>0</th>\n",
       "      <td>Agriculture, AgricultureOperations, and Relate...</td>\n",
       "      <td>24,913</td>\n",
       "      <td>1%</td>\n",
       "      <td>977</td>\n",
       "      <td>496</td>\n",
       "      <td>481</td>\n",
       "    </tr>\n",
       "    <tr>\n",
       "      <th>1</th>\n",
       "      <td>Architecture and Related Services</td>\n",
       "      <td>28,988</td>\n",
       "      <td>2%</td>\n",
       "      <td>1047</td>\n",
       "      <td>520</td>\n",
       "      <td>527</td>\n",
       "    </tr>\n",
       "    <tr>\n",
       "      <th>2</th>\n",
       "      <td>Area, Ethnic, Cultural, and Gender Studies</td>\n",
       "      <td>2,629</td>\n",
       "      <td>0%</td>\n",
       "      <td>1040</td>\n",
       "      <td>536</td>\n",
       "      <td>504</td>\n",
       "    </tr>\n",
       "    <tr>\n",
       "      <th>3</th>\n",
       "      <td>Biological and Biomedical Sciences</td>\n",
       "      <td>155,834</td>\n",
       "      <td>8%</td>\n",
       "      <td>1139</td>\n",
       "      <td>572</td>\n",
       "      <td>566</td>\n",
       "    </tr>\n",
       "    <tr>\n",
       "      <th>4</th>\n",
       "      <td>Business, Management, Marketing, and Related S...</td>\n",
       "      <td>221,523</td>\n",
       "      <td>12%</td>\n",
       "      <td>1072</td>\n",
       "      <td>534</td>\n",
       "      <td>537</td>\n",
       "    </tr>\n",
       "  </tbody>\n",
       "</table>\n",
       "</div>"
      ],
      "text/plain": [
       "                                IntendedCollegeMajor TestTakers Percent  \\\n",
       "0  Agriculture, AgricultureOperations, and Relate...     24,913      1%   \n",
       "1                  Architecture and Related Services     28,988      2%   \n",
       "2         Area, Ethnic, Cultural, and Gender Studies      2,629      0%   \n",
       "3                 Biological and Biomedical Sciences    155,834      8%   \n",
       "4  Business, Management, Marketing, and Related S...    221,523     12%   \n",
       "\n",
       "   Total  ReadingWriting  Math  \n",
       "0    977             496   481  \n",
       "1   1047             520   527  \n",
       "2   1040             536   504  \n",
       "3   1139             572   566  \n",
       "4   1072             534   537  "
      ]
     },
     "execution_count": 7,
     "metadata": {},
     "output_type": "execute_result"
    }
   ],
   "source": [
    "i_m.head()"
   ]
  },
  {
   "cell_type": "code",
   "execution_count": 8,
   "metadata": {},
   "outputs": [
    {
     "data": {
      "text/html": [
       "<div>\n",
       "<style scoped>\n",
       "    .dataframe tbody tr th:only-of-type {\n",
       "        vertical-align: middle;\n",
       "    }\n",
       "\n",
       "    .dataframe tbody tr th {\n",
       "        vertical-align: top;\n",
       "    }\n",
       "\n",
       "    .dataframe thead th {\n",
       "        text-align: right;\n",
       "    }\n",
       "</style>\n",
       "<table border=\"1\" class=\"dataframe\">\n",
       "  <thead>\n",
       "    <tr style=\"text-align: right;\">\n",
       "      <th></th>\n",
       "      <th>Test Optional?</th>\n",
       "      <th>Applies to Class Year(s)</th>\n",
       "      <th>Policy Details</th>\n",
       "      <th>Number of Applicants</th>\n",
       "      <th>Accept Rate</th>\n",
       "      <th>SAT Total 25th-75th Percentile</th>\n",
       "      <th>ACT Total 25th-75th Percentile</th>\n",
       "    </tr>\n",
       "    <tr>\n",
       "      <th>School</th>\n",
       "      <th></th>\n",
       "      <th></th>\n",
       "      <th></th>\n",
       "      <th></th>\n",
       "      <th></th>\n",
       "      <th></th>\n",
       "      <th></th>\n",
       "    </tr>\n",
       "  </thead>\n",
       "  <tbody>\n",
       "    <tr>\n",
       "      <th>Stanford University</th>\n",
       "      <td>Yes</td>\n",
       "      <td>2021</td>\n",
       "      <td>Stanford has adopted a one-year test optional ...</td>\n",
       "      <td>47452</td>\n",
       "      <td>4.3%</td>\n",
       "      <td>1440-1570</td>\n",
       "      <td>32-35</td>\n",
       "    </tr>\n",
       "    <tr>\n",
       "      <th>Harvard College</th>\n",
       "      <td>Yes</td>\n",
       "      <td>2021</td>\n",
       "      <td>Harvard has adopted a one-year test optional p...</td>\n",
       "      <td>42749</td>\n",
       "      <td>4.7%</td>\n",
       "      <td>1460-1580</td>\n",
       "      <td>33-35</td>\n",
       "    </tr>\n",
       "    <tr>\n",
       "      <th>Princeton University</th>\n",
       "      <td>Yes</td>\n",
       "      <td>2021</td>\n",
       "      <td>Princeton has adopted a one-year test optional...</td>\n",
       "      <td>35370</td>\n",
       "      <td>5.5%</td>\n",
       "      <td>1440-1570</td>\n",
       "      <td>32-35</td>\n",
       "    </tr>\n",
       "    <tr>\n",
       "      <th>Columbia University</th>\n",
       "      <td>Yes</td>\n",
       "      <td>2021</td>\n",
       "      <td>Columbia has adopted a one-year test optional ...</td>\n",
       "      <td>40203</td>\n",
       "      <td>5.5%</td>\n",
       "      <td>1450-1560</td>\n",
       "      <td>33-35</td>\n",
       "    </tr>\n",
       "    <tr>\n",
       "      <th>Yale University</th>\n",
       "      <td>Yes</td>\n",
       "      <td>2021</td>\n",
       "      <td>Yale has adopted a one-year test optional poli...</td>\n",
       "      <td>36844</td>\n",
       "      <td>6.1%</td>\n",
       "      <td>1460-1570</td>\n",
       "      <td>33-35</td>\n",
       "    </tr>\n",
       "  </tbody>\n",
       "</table>\n",
       "</div>"
      ],
      "text/plain": [
       "                     Test Optional? Applies to Class Year(s)  \\\n",
       "School                                                         \n",
       "Stanford University             Yes                     2021   \n",
       "Harvard College                 Yes                     2021   \n",
       "Princeton University            Yes                     2021   \n",
       "Columbia University             Yes                     2021   \n",
       "Yale University                 Yes                     2021   \n",
       "\n",
       "                                                         Policy Details  \\\n",
       "School                                                                    \n",
       "Stanford University   Stanford has adopted a one-year test optional ...   \n",
       "Harvard College       Harvard has adopted a one-year test optional p...   \n",
       "Princeton University  Princeton has adopted a one-year test optional...   \n",
       "Columbia University   Columbia has adopted a one-year test optional ...   \n",
       "Yale University       Yale has adopted a one-year test optional poli...   \n",
       "\n",
       "                      Number of Applicants Accept Rate  \\\n",
       "School                                                   \n",
       "Stanford University                  47452        4.3%   \n",
       "Harvard College                      42749        4.7%   \n",
       "Princeton University                 35370        5.5%   \n",
       "Columbia University                  40203        5.5%   \n",
       "Yale University                      36844        6.1%   \n",
       "\n",
       "                     SAT Total 25th-75th Percentile  \\\n",
       "School                                                \n",
       "Stanford University                       1440-1570   \n",
       "Harvard College                           1460-1580   \n",
       "Princeton University                      1440-1570   \n",
       "Columbia University                       1450-1560   \n",
       "Yale University                           1460-1570   \n",
       "\n",
       "                     ACT Total 25th-75th Percentile  \n",
       "School                                               \n",
       "Stanford University                           32-35  \n",
       "Harvard College                               33-35  \n",
       "Princeton University                          32-35  \n",
       "Columbia University                           33-35  \n",
       "Yale University                               33-35  "
      ]
     },
     "execution_count": 8,
     "metadata": {},
     "output_type": "execute_result"
    }
   ],
   "source": [
    "colleges.head()"
   ]
  },
  {
   "cell_type": "code",
   "execution_count": 9,
   "metadata": {},
   "outputs": [
    {
     "data": {
      "text/html": [
       "<div>\n",
       "<style scoped>\n",
       "    .dataframe tbody tr th:only-of-type {\n",
       "        vertical-align: middle;\n",
       "    }\n",
       "\n",
       "    .dataframe tbody tr th {\n",
       "        vertical-align: top;\n",
       "    }\n",
       "\n",
       "    .dataframe thead th {\n",
       "        text-align: right;\n",
       "    }\n",
       "</style>\n",
       "<table border=\"1\" class=\"dataframe\">\n",
       "  <thead>\n",
       "    <tr style=\"text-align: right;\">\n",
       "      <th></th>\n",
       "      <th>Participation_17</th>\n",
       "      <th>Evidence-Based Reading and Writing_17</th>\n",
       "      <th>Math_17</th>\n",
       "      <th>Total_17</th>\n",
       "      <th>Participation_18</th>\n",
       "      <th>Evidence-Based Reading and Writing_18</th>\n",
       "      <th>Math_18</th>\n",
       "      <th>Total_18</th>\n",
       "      <th>Participation_19</th>\n",
       "      <th>Evidence-Based Reading and Writing_19</th>\n",
       "      <th>Math_19</th>\n",
       "      <th>Total_19</th>\n",
       "    </tr>\n",
       "    <tr>\n",
       "      <th>State</th>\n",
       "      <th></th>\n",
       "      <th></th>\n",
       "      <th></th>\n",
       "      <th></th>\n",
       "      <th></th>\n",
       "      <th></th>\n",
       "      <th></th>\n",
       "      <th></th>\n",
       "      <th></th>\n",
       "      <th></th>\n",
       "      <th></th>\n",
       "      <th></th>\n",
       "    </tr>\n",
       "  </thead>\n",
       "  <tbody>\n",
       "    <tr>\n",
       "      <th>Alabama</th>\n",
       "      <td>5%</td>\n",
       "      <td>593</td>\n",
       "      <td>572</td>\n",
       "      <td>1165</td>\n",
       "      <td>6%</td>\n",
       "      <td>595</td>\n",
       "      <td>571</td>\n",
       "      <td>1166</td>\n",
       "      <td>7%</td>\n",
       "      <td>583</td>\n",
       "      <td>560</td>\n",
       "      <td>1143</td>\n",
       "    </tr>\n",
       "    <tr>\n",
       "      <th>Alaska</th>\n",
       "      <td>38%</td>\n",
       "      <td>547</td>\n",
       "      <td>533</td>\n",
       "      <td>1080</td>\n",
       "      <td>43%</td>\n",
       "      <td>562</td>\n",
       "      <td>544</td>\n",
       "      <td>1106</td>\n",
       "      <td>41%</td>\n",
       "      <td>556</td>\n",
       "      <td>541</td>\n",
       "      <td>1097</td>\n",
       "    </tr>\n",
       "    <tr>\n",
       "      <th>Arizona</th>\n",
       "      <td>30%</td>\n",
       "      <td>563</td>\n",
       "      <td>553</td>\n",
       "      <td>1116</td>\n",
       "      <td>29%</td>\n",
       "      <td>577</td>\n",
       "      <td>572</td>\n",
       "      <td>1149</td>\n",
       "      <td>31%</td>\n",
       "      <td>569</td>\n",
       "      <td>565</td>\n",
       "      <td>1134</td>\n",
       "    </tr>\n",
       "    <tr>\n",
       "      <th>Arkansas</th>\n",
       "      <td>3%</td>\n",
       "      <td>614</td>\n",
       "      <td>594</td>\n",
       "      <td>1208</td>\n",
       "      <td>5%</td>\n",
       "      <td>592</td>\n",
       "      <td>576</td>\n",
       "      <td>1169</td>\n",
       "      <td>6%</td>\n",
       "      <td>582</td>\n",
       "      <td>559</td>\n",
       "      <td>1141</td>\n",
       "    </tr>\n",
       "    <tr>\n",
       "      <th>California</th>\n",
       "      <td>53%</td>\n",
       "      <td>531</td>\n",
       "      <td>524</td>\n",
       "      <td>1055</td>\n",
       "      <td>60%</td>\n",
       "      <td>540</td>\n",
       "      <td>536</td>\n",
       "      <td>1076</td>\n",
       "      <td>63%</td>\n",
       "      <td>534</td>\n",
       "      <td>531</td>\n",
       "      <td>1065</td>\n",
       "    </tr>\n",
       "  </tbody>\n",
       "</table>\n",
       "</div>"
      ],
      "text/plain": [
       "           Participation_17  Evidence-Based Reading and Writing_17  Math_17  \\\n",
       "State                                                                         \n",
       "Alabama                  5%                                    593      572   \n",
       "Alaska                  38%                                    547      533   \n",
       "Arizona                 30%                                    563      553   \n",
       "Arkansas                 3%                                    614      594   \n",
       "California              53%                                    531      524   \n",
       "\n",
       "            Total_17 Participation_18  Evidence-Based Reading and Writing_18  \\\n",
       "State                                                                          \n",
       "Alabama         1165               6%                                    595   \n",
       "Alaska          1080              43%                                    562   \n",
       "Arizona         1116              29%                                    577   \n",
       "Arkansas        1208               5%                                    592   \n",
       "California      1055              60%                                    540   \n",
       "\n",
       "            Math_18  Total_18 Participation_19  \\\n",
       "State                                            \n",
       "Alabama         571      1166               7%   \n",
       "Alaska          544      1106              41%   \n",
       "Arizona         572      1149              31%   \n",
       "Arkansas        576      1169               6%   \n",
       "California      536      1076              63%   \n",
       "\n",
       "            Evidence-Based Reading and Writing_19  Math_19  Total_19  \n",
       "State                                                                 \n",
       "Alabama                                       583      560      1143  \n",
       "Alaska                                        556      541      1097  \n",
       "Arizona                                       569      565      1134  \n",
       "Arkansas                                      582      559      1141  \n",
       "California                                    534      531      1065  "
      ]
     },
     "execution_count": 9,
     "metadata": {},
     "output_type": "execute_result"
    }
   ],
   "source": [
    "sat.head()"
   ]
  },
  {
   "cell_type": "markdown",
   "metadata": {},
   "source": [
    "## Removing unwanted columns"
   ]
  },
  {
   "cell_type": "markdown",
   "metadata": {},
   "source": [
    "- These columns aren't relevant to the problem statement"
   ]
  },
  {
   "cell_type": "code",
   "execution_count": 10,
   "metadata": {},
   "outputs": [],
   "source": [
    "colleges = colleges.drop(['Test Optional?', 'Applies to Class Year(s)', 'ACT Total 25th-75th Percentile', 'Policy Details'], axis = 1)"
   ]
  },
  {
   "cell_type": "markdown",
   "metadata": {},
   "source": [
    "## Checking for missing values"
   ]
  },
  {
   "cell_type": "markdown",
   "metadata": {},
   "source": [
    "1. How many null values are there in each data set"
   ]
  },
  {
   "cell_type": "markdown",
   "metadata": {},
   "source": [
    "- No null values in all 3 datasets"
   ]
  },
  {
   "cell_type": "code",
   "execution_count": 11,
   "metadata": {},
   "outputs": [
    {
     "data": {
      "text/plain": [
       "False    38\n",
       "dtype: int64"
      ]
     },
     "execution_count": 11,
     "metadata": {},
     "output_type": "execute_result"
    }
   ],
   "source": [
    "i_m.isna().any(axis=1).value_counts()"
   ]
  },
  {
   "cell_type": "code",
   "execution_count": 12,
   "metadata": {},
   "outputs": [
    {
     "data": {
      "text/plain": [
       "False    416\n",
       "dtype: int64"
      ]
     },
     "execution_count": 12,
     "metadata": {},
     "output_type": "execute_result"
    }
   ],
   "source": [
    "colleges.isna().any(axis=1).value_counts() #26 rows with null instances"
   ]
  },
  {
   "cell_type": "markdown",
   "metadata": {},
   "source": [
    "It was found that there were missing values in 2017 and 2018 datasets on Puerto Rico and the Virgin Islands as they weren't included in comparison to the 2019 dataset.\n",
    "The join method excluded those rows as they were null values."
   ]
  },
  {
   "cell_type": "code",
   "execution_count": 13,
   "metadata": {},
   "outputs": [
    {
     "data": {
      "text/plain": [
       "False    51\n",
       "dtype: int64"
      ]
     },
     "execution_count": 13,
     "metadata": {},
     "output_type": "execute_result"
    }
   ],
   "source": [
    "sat.isna().any(axis=1).value_counts() "
   ]
  },
  {
   "cell_type": "markdown",
   "metadata": {},
   "source": [
    "2. Finding other forms of missing values"
   ]
  },
  {
   "cell_type": "markdown",
   "metadata": {},
   "source": [
    "After investigating each column with .unique():\n",
    "- i_m and sat have no obscure missing values\n",
    "- Colleges has obscure missing values '\\u200b\\u200b' and '--' "
   ]
  },
  {
   "cell_type": "code",
   "execution_count": 14,
   "metadata": {},
   "outputs": [
    {
     "data": {
      "text/plain": [
       "array(['1440-1570', '1460-1580', '1450-1560', '1460-1570',\n",
       "       '\\u200b\\u200b 1530-1560', '\\u200b\\u200b 1500-1570',\n",
       "       '\\u200b\\u200b 1440-1570', '\\u200b\\u200b 1490-1570', '1390-1540',\n",
       "       '1440-1560', '1330-1520', '1450-1570', '1380-1540', '1440-1550',\n",
       "       '1460-1560', '1360-1510', '1470-1560', '1400-1560', '1410-1550',\n",
       "       '1340-1520', '1270-1480', '1290-1510', '1360-1520', '1350-1530',\n",
       "       '1350-1510', '1340-1490', '1300-1480', '1490-1570', '1370-1530',\n",
       "       '1300-1530', '1470-1570', '1360-1530', '1400-1550', '1283-1510',\n",
       "       '1370-1510', '1320-1510', '1370-1520', '1310-1485', '1350-1520',\n",
       "       '1360-1540', '1300-1510', '1348-1490', '1330-1500', '1300-1490',\n",
       "       '1340-1530', '1180-1440', '1340-1500', '1270-1450', '1280-1420',\n",
       "       '1370-1490', '1320-1470', '1290-1460', '1250-1420', '1290-1450',\n",
       "       '1300-1500', '1260-1460', '1320-1490', '1220-1400', '1250-1470',\n",
       "       '1250-1460', '1280-1500', '1250-1440', '1220-1380', '1240-1470',\n",
       "       '1333-1490', '1280-1450', '1300-1460', '1210-1380', '1110-1320',\n",
       "       '1270-1460', '1260-1430', '1255-1430', '1200-1390', '1220-1420',\n",
       "       '1040-1310', '1280-1480', '1090-1260', '1310-1450', '1270-1490',\n",
       "       '1030-1213', '1100-1320', '1180-1410', '890-1080', '1040-1250',\n",
       "       '1325-1520', '1310-1440', '1240-1410', '1280-1470', '1150-1410',\n",
       "       '1330-1480', '1160-1350', '1130-1330', '1080-1230', '1230-1410',\n",
       "       '1230-1440', '1220-1430', '1250-1390', '1200-1380', '1150-1360',\n",
       "       '1270-1420', '1250-1430', '1150-1350', '1210-1350', '1190-1430',\n",
       "       '1040-1270', '1200-1350', '1210-1420', '1280-1440', '1140-1320',\n",
       "       '1160-1370', '1210-1360', '1160-1360', '1310-1470', '1180-1370',\n",
       "       '1020-1205', '1230-1400', '1110-1290', '1200-1360', '1240-1440',\n",
       "       '1030-1200', '1330-1450', '1190-1370', '990-1160', '1090-1250',\n",
       "       '1050-1200', '1150-1380', '1040-1260', '1030-1250', '1240-1450',\n",
       "       '1240-1420', '1260-1440', '1130-1340', '1260-1480', '1203-1360',\n",
       "       '1040-1230', '1230-1390', '990-1190', '1160-1390', '1210-1450',\n",
       "       '1110-1310', '1080-1270', '950-1130', '1160-1340', '1070-1270',\n",
       "       '1170-1350', '1050-1250', '1220-1480', '1080-1260', '910-1130',\n",
       "       '1060-1320', '1090-1270', '1190-1440', '1120-1320', '1190-1410',\n",
       "       '1190-1400', '1140-1400', '1080-1368', '1120-1310', '1160-1330',\n",
       "       '1100-1345', '1170-1360', '1210-1358', '1080-1380', '1200-1430',\n",
       "       '1142.5-1380', '1110-1370', '1050-1310', '1020-1190', '1100-1370',\n",
       "       '1070-1280', '1180-1350', '1190-1380', '1190-1390', '1130-1360',\n",
       "       '1045-1225', '1070-1260', '1248-1420', '1010-1210', '1180-1390',\n",
       "       '1140-1310', '1120-1290', '1080-1358', '1170-1320', '1200-1400',\n",
       "       '1150-1340', '1078-1300', '1020-1240', '1180-1360', '940-1150',\n",
       "       '990-1210', '1080-1310', '1070-1290', '1090-1350', '1160-1338',\n",
       "       '910-1090', '990-1200', '1060-1295', '1000-1210', '--',\n",
       "       '1040-1265', '1150-1310', '990-1170', '1070-1300', '1070-1250',\n",
       "       '1050-1269', '1110-1280', '980-1180', '1180-1340', '1153-1390',\n",
       "       '1012-1345', '990-1180', '1110-1300', '1130-1300', '1030-1260',\n",
       "       '990-1230', '1010-1230', '1150-1330', '1060-1250', '1108-1273',\n",
       "       '970-1190', '1038-1250', '1170-1370', '1100-1250', '1050-1260',\n",
       "       '960-1170', '1060-1220', '1130-1380', '1030-1220', '1100-1270',\n",
       "       '1120-1300', '1060-1365', '1010-1240', '1090-1290', '1140-1340',\n",
       "       '1120-1360', '1140-1350', '1160-1320', '1240-1460', '1030-1190',\n",
       "       '1060-1260', '1143-1320', '1210-1410', '1040-1290', '1130-1310',\n",
       "       '1150-1320', '960-1180', '1070-1240', '1010-1250', '1010-1180',\n",
       "       '1050-1240', '1100-1310', '1020-1220', '940-1140', '1000-1160',\n",
       "       '1080-1320', '1150-1370', '1180-1380', '1060-1290', '1120-1350',\n",
       "       '1100-1290', '1220-1440', '1030-1230', '1090-1280', '1008-1240',\n",
       "       '1040-1240', '1000-1398', '980-1190', '1100-1340', '1090-1300',\n",
       "       '1060-1270', '1080-1300', '1000-1240', '990-1220', '1240-1520',\n",
       "       '1160-1380', '1245-1420', '1200-1340', '1140-1285', '1275-1465',\n",
       "       '1170-1330', '793-1078', '1240-1300', '1060-1280', '1050-1230',\n",
       "       '1050-1270', '820-1050'], dtype=object)"
      ]
     },
     "execution_count": 14,
     "metadata": {},
     "output_type": "execute_result"
    }
   ],
   "source": [
    "# we find that there are values with '\\u200b\\u200b' and '--' that need to be addressed\n",
    "colleges['SAT Total 25th-75th Percentile'].unique()"
   ]
  },
  {
   "cell_type": "markdown",
   "metadata": {},
   "source": [
    "### Addressing incorrect/ missing values"
   ]
  },
  {
   "cell_type": "markdown",
   "metadata": {},
   "source": [
    "Removing rows with '--' and fixing '\\u200b\\u200b' values in the column- 'SAT Total 25th-75th Percentile'"
   ]
  },
  {
   "cell_type": "code",
   "execution_count": 15,
   "metadata": {},
   "outputs": [],
   "source": [
    "def show_null(df):\n",
    "    is_null = df.isna().any(axis=1)\n",
    "    return df[is_null]"
   ]
  },
  {
   "cell_type": "code",
   "execution_count": 16,
   "metadata": {},
   "outputs": [
    {
     "data": {
      "text/html": [
       "<div>\n",
       "<style scoped>\n",
       "    .dataframe tbody tr th:only-of-type {\n",
       "        vertical-align: middle;\n",
       "    }\n",
       "\n",
       "    .dataframe tbody tr th {\n",
       "        vertical-align: top;\n",
       "    }\n",
       "\n",
       "    .dataframe thead th {\n",
       "        text-align: right;\n",
       "    }\n",
       "</style>\n",
       "<table border=\"1\" class=\"dataframe\">\n",
       "  <thead>\n",
       "    <tr style=\"text-align: right;\">\n",
       "      <th></th>\n",
       "      <th>Number of Applicants</th>\n",
       "      <th>Accept Rate</th>\n",
       "      <th>SAT Total 25th-75th Percentile</th>\n",
       "    </tr>\n",
       "    <tr>\n",
       "      <th>School</th>\n",
       "      <th></th>\n",
       "      <th></th>\n",
       "      <th></th>\n",
       "    </tr>\n",
       "  </thead>\n",
       "  <tbody>\n",
       "  </tbody>\n",
       "</table>\n",
       "</div>"
      ],
      "text/plain": [
       "Empty DataFrame\n",
       "Columns: [Number of Applicants, Accept Rate, SAT Total 25th-75th Percentile]\n",
       "Index: []"
      ]
     },
     "execution_count": 16,
     "metadata": {},
     "output_type": "execute_result"
    }
   ],
   "source": [
    "# colleges['Applies to Class Year(s)'] has null values but is not of concern in this project\n",
    "# found a different missing value at index 405, SAT percentiles column- raises the question if there are others in colleges dataframe\n",
    "show_null(colleges)"
   ]
  },
  {
   "cell_type": "code",
   "execution_count": 17,
   "metadata": {},
   "outputs": [
    {
     "data": {
      "text/html": [
       "<div>\n",
       "<style scoped>\n",
       "    .dataframe tbody tr th:only-of-type {\n",
       "        vertical-align: middle;\n",
       "    }\n",
       "\n",
       "    .dataframe tbody tr th {\n",
       "        vertical-align: top;\n",
       "    }\n",
       "\n",
       "    .dataframe thead th {\n",
       "        text-align: right;\n",
       "    }\n",
       "</style>\n",
       "<table border=\"1\" class=\"dataframe\">\n",
       "  <thead>\n",
       "    <tr style=\"text-align: right;\">\n",
       "      <th></th>\n",
       "      <th>Number of Applicants</th>\n",
       "      <th>Accept Rate</th>\n",
       "      <th>SAT Total 25th-75th Percentile</th>\n",
       "    </tr>\n",
       "    <tr>\n",
       "      <th>School</th>\n",
       "      <th></th>\n",
       "      <th></th>\n",
       "      <th></th>\n",
       "    </tr>\n",
       "  </thead>\n",
       "  <tbody>\n",
       "    <tr>\n",
       "      <th>Gustavus Adolphus College</th>\n",
       "      <td>4957</td>\n",
       "      <td>69.2%</td>\n",
       "      <td>--</td>\n",
       "    </tr>\n",
       "    <tr>\n",
       "      <th>Ball State</th>\n",
       "      <td>23305</td>\n",
       "      <td>76.7%</td>\n",
       "      <td>--</td>\n",
       "    </tr>\n",
       "    <tr>\n",
       "      <th>Weber State</th>\n",
       "      <td>6853</td>\n",
       "      <td>89.1%</td>\n",
       "      <td>--</td>\n",
       "    </tr>\n",
       "    <tr>\n",
       "      <th>University of Kansas</th>\n",
       "      <td>15093</td>\n",
       "      <td>93.1%</td>\n",
       "      <td>--</td>\n",
       "    </tr>\n",
       "    <tr>\n",
       "      <th>Kansas State University</th>\n",
       "      <td>8140</td>\n",
       "      <td>95.7%</td>\n",
       "      <td>--</td>\n",
       "    </tr>\n",
       "    <tr>\n",
       "      <th>Milwaukee School of Engineering</th>\n",
       "      <td>3552</td>\n",
       "      <td>61.7%</td>\n",
       "      <td>--</td>\n",
       "    </tr>\n",
       "  </tbody>\n",
       "</table>\n",
       "</div>"
      ],
      "text/plain": [
       "                                 Number of Applicants Accept Rate  \\\n",
       "School                                                              \n",
       "Gustavus Adolphus College                        4957       69.2%   \n",
       "Ball State                                      23305       76.7%   \n",
       "Weber State                                      6853       89.1%   \n",
       "University of Kansas                            15093       93.1%   \n",
       "Kansas State University                          8140       95.7%   \n",
       "Milwaukee School of Engineering                  3552       61.7%   \n",
       "\n",
       "                                SAT Total 25th-75th Percentile  \n",
       "School                                                          \n",
       "Gustavus Adolphus College                                   --  \n",
       "Ball State                                                  --  \n",
       "Weber State                                                 --  \n",
       "University of Kansas                                        --  \n",
       "Kansas State University                                     --  \n",
       "Milwaukee School of Engineering                             --  "
      ]
     },
     "execution_count": 17,
     "metadata": {},
     "output_type": "execute_result"
    }
   ],
   "source": [
    "# since there are only 6 values of 400..., we can safely presume that removing them won't have much of an effect \n",
    "missing = colleges['SAT Total 25th-75th Percentile'] == '--'\n",
    "colleges[missing]"
   ]
  },
  {
   "cell_type": "code",
   "execution_count": 18,
   "metadata": {},
   "outputs": [
    {
     "name": "stderr",
     "output_type": "stream",
     "text": [
      "<ipython-input-18-d21b0c57285e>:2: UserWarning: Boolean Series key will be reindexed to match DataFrame index.\n",
      "  colleges[missing]\n"
     ]
    },
    {
     "data": {
      "text/html": [
       "<div>\n",
       "<style scoped>\n",
       "    .dataframe tbody tr th:only-of-type {\n",
       "        vertical-align: middle;\n",
       "    }\n",
       "\n",
       "    .dataframe tbody tr th {\n",
       "        vertical-align: top;\n",
       "    }\n",
       "\n",
       "    .dataframe thead th {\n",
       "        text-align: right;\n",
       "    }\n",
       "</style>\n",
       "<table border=\"1\" class=\"dataframe\">\n",
       "  <thead>\n",
       "    <tr style=\"text-align: right;\">\n",
       "      <th></th>\n",
       "      <th>Number of Applicants</th>\n",
       "      <th>Accept Rate</th>\n",
       "      <th>SAT Total 25th-75th Percentile</th>\n",
       "    </tr>\n",
       "    <tr>\n",
       "      <th>School</th>\n",
       "      <th></th>\n",
       "      <th></th>\n",
       "      <th></th>\n",
       "    </tr>\n",
       "  </thead>\n",
       "  <tbody>\n",
       "  </tbody>\n",
       "</table>\n",
       "</div>"
      ],
      "text/plain": [
       "Empty DataFrame\n",
       "Columns: [Number of Applicants, Accept Rate, SAT Total 25th-75th Percentile]\n",
       "Index: []"
      ]
     },
     "execution_count": 18,
     "metadata": {},
     "output_type": "execute_result"
    }
   ],
   "source": [
    "colleges = colleges[colleges['SAT Total 25th-75th Percentile'] != '--']\n",
    "colleges[missing]"
   ]
  },
  {
   "cell_type": "code",
   "execution_count": 19,
   "metadata": {},
   "outputs": [],
   "source": [
    "def clean_percentile_column(series):\n",
    "    \n",
    "    series = [x.replace('\\u200b\\u200b ', '') for x in list(series)]\n",
    "    \n",
    "    \n",
    "#     series = [x.replace('--', '') for x in list(series)]\n",
    "    \n",
    "    return series\n",
    "\n",
    "# making the change stick to the colleges dataframe\n",
    "colleges['SAT Total 25th-75th Percentile'] = clean_percentile_column(colleges['SAT Total 25th-75th Percentile'])"
   ]
  },
  {
   "cell_type": "code",
   "execution_count": 20,
   "metadata": {},
   "outputs": [
    {
     "data": {
      "text/plain": [
       "array(['1440-1570', '1460-1580', '1450-1560', '1460-1570', '1530-1560',\n",
       "       '1500-1570', '1490-1570', '1390-1540', '1440-1560', '1330-1520',\n",
       "       '1450-1570', '1380-1540', '1440-1550', '1460-1560', '1360-1510',\n",
       "       '1470-1560', '1400-1560', '1410-1550', '1340-1520', '1270-1480',\n",
       "       '1290-1510', '1360-1520', '1350-1530', '1350-1510', '1340-1490',\n",
       "       '1300-1480', '1370-1530', '1300-1530', '1470-1570', '1360-1530',\n",
       "       '1400-1550', '1283-1510', '1370-1510', '1320-1510', '1370-1520',\n",
       "       '1310-1485', '1350-1520', '1360-1540', '1300-1510', '1348-1490',\n",
       "       '1330-1500', '1300-1490', '1340-1530', '1180-1440', '1340-1500',\n",
       "       '1270-1450', '1280-1420', '1370-1490', '1320-1470', '1290-1460',\n",
       "       '1250-1420', '1290-1450', '1300-1500', '1260-1460', '1320-1490',\n",
       "       '1220-1400', '1250-1470', '1250-1460', '1280-1500', '1250-1440',\n",
       "       '1220-1380', '1240-1470', '1333-1490', '1280-1450', '1300-1460',\n",
       "       '1210-1380', '1110-1320', '1270-1460', '1260-1430', '1255-1430',\n",
       "       '1200-1390', '1220-1420', '1040-1310', '1280-1480', '1090-1260',\n",
       "       '1310-1450', '1270-1490', '1030-1213', '1100-1320', '1180-1410',\n",
       "       '890-1080', '1040-1250', '1325-1520', '1310-1440', '1240-1410',\n",
       "       '1280-1470', '1150-1410', '1330-1480', '1160-1350', '1130-1330',\n",
       "       '1080-1230', '1230-1410', '1230-1440', '1220-1430', '1250-1390',\n",
       "       '1200-1380', '1150-1360', '1270-1420', '1250-1430', '1150-1350',\n",
       "       '1210-1350', '1190-1430', '1040-1270', '1200-1350', '1210-1420',\n",
       "       '1280-1440', '1140-1320', '1160-1370', '1210-1360', '1160-1360',\n",
       "       '1310-1470', '1180-1370', '1020-1205', '1230-1400', '1110-1290',\n",
       "       '1200-1360', '1240-1440', '1030-1200', '1330-1450', '1190-1370',\n",
       "       '990-1160', '1090-1250', '1050-1200', '1150-1380', '1040-1260',\n",
       "       '1030-1250', '1240-1450', '1240-1420', '1260-1440', '1130-1340',\n",
       "       '1260-1480', '1203-1360', '1040-1230', '1230-1390', '990-1190',\n",
       "       '1160-1390', '1210-1450', '1110-1310', '1080-1270', '950-1130',\n",
       "       '1160-1340', '1070-1270', '1170-1350', '1050-1250', '1220-1480',\n",
       "       '1080-1260', '910-1130', '1060-1320', '1090-1270', '1190-1440',\n",
       "       '1120-1320', '1190-1410', '1190-1400', '1140-1400', '1080-1368',\n",
       "       '1120-1310', '1160-1330', '1100-1345', '1170-1360', '1210-1358',\n",
       "       '1080-1380', '1200-1430', '1142.5-1380', '1110-1370', '1050-1310',\n",
       "       '1020-1190', '1100-1370', '1070-1280', '1180-1350', '1190-1380',\n",
       "       '1190-1390', '1130-1360', '1045-1225', '1070-1260', '1248-1420',\n",
       "       '1010-1210', '1180-1390', '1140-1310', '1120-1290', '1080-1358',\n",
       "       '1170-1320', '1200-1400', '1150-1340', '1078-1300', '1020-1240',\n",
       "       '1180-1360', '940-1150', '990-1210', '1080-1310', '1070-1290',\n",
       "       '1090-1350', '1160-1338', '910-1090', '990-1200', '1060-1295',\n",
       "       '1000-1210', '1040-1265', '1150-1310', '990-1170', '1070-1300',\n",
       "       '1070-1250', '1050-1269', '1110-1280', '980-1180', '1180-1340',\n",
       "       '1153-1390', '1012-1345', '990-1180', '1110-1300', '1130-1300',\n",
       "       '1030-1260', '990-1230', '1010-1230', '1150-1330', '1060-1250',\n",
       "       '1108-1273', '970-1190', '1038-1250', '1170-1370', '1100-1250',\n",
       "       '1050-1260', '960-1170', '1060-1220', '1130-1380', '1030-1220',\n",
       "       '1100-1270', '1120-1300', '1060-1365', '1010-1240', '1090-1290',\n",
       "       '1140-1340', '1120-1360', '1140-1350', '1160-1320', '1240-1460',\n",
       "       '1030-1190', '1060-1260', '1143-1320', '1210-1410', '1040-1290',\n",
       "       '1130-1310', '1150-1320', '960-1180', '1070-1240', '1010-1250',\n",
       "       '1010-1180', '1050-1240', '1100-1310', '1020-1220', '940-1140',\n",
       "       '1000-1160', '1080-1320', '1150-1370', '1180-1380', '1060-1290',\n",
       "       '1120-1350', '1100-1290', '1220-1440', '1030-1230', '1090-1280',\n",
       "       '1008-1240', '1040-1240', '1000-1398', '980-1190', '1100-1340',\n",
       "       '1090-1300', '1060-1270', '1080-1300', '1000-1240', '990-1220',\n",
       "       '1240-1520', '1160-1380', '1245-1420', '1200-1340', '1140-1285',\n",
       "       '1275-1465', '1170-1330', '793-1078', '1240-1300', '1060-1280',\n",
       "       '1050-1230', '1050-1270', '820-1050'], dtype=object)"
      ]
     },
     "execution_count": 20,
     "metadata": {},
     "output_type": "execute_result"
    }
   ],
   "source": [
    "# shows no more '\\u200b\\u200b' unique values\n",
    "colleges['SAT Total 25th-75th Percentile'].unique()"
   ]
  },
  {
   "cell_type": "markdown",
   "metadata": {},
   "source": [
    "## Addressing dtype discreptancies"
   ]
  },
  {
   "cell_type": "markdown",
   "metadata": {},
   "source": [
    "- i_m percentages and TestTakers were changed from obj to int\n",
    "- colleges acceptance rate and SAT were converted from obj to int\n",
    "- sat participation rates were converted from obj to int"
   ]
  },
  {
   "cell_type": "code",
   "execution_count": 21,
   "metadata": {},
   "outputs": [
    {
     "data": {
      "text/plain": [
       "IntendedCollegeMajor    object\n",
       "TestTakers              object\n",
       "Percent                 object\n",
       "Total                    int64\n",
       "ReadingWriting           int64\n",
       "Math                     int64\n",
       "dtype: object"
      ]
     },
     "execution_count": 21,
     "metadata": {},
     "output_type": "execute_result"
    }
   ],
   "source": [
    "i_m.dtypes"
   ]
  },
  {
   "cell_type": "code",
   "execution_count": 22,
   "metadata": {},
   "outputs": [
    {
     "data": {
      "text/plain": [
       "Number of Applicants               int64\n",
       "Accept Rate                       object\n",
       "SAT Total 25th-75th Percentile    object\n",
       "dtype: object"
      ]
     },
     "execution_count": 22,
     "metadata": {},
     "output_type": "execute_result"
    }
   ],
   "source": [
    "colleges.dtypes"
   ]
  },
  {
   "cell_type": "code",
   "execution_count": 23,
   "metadata": {},
   "outputs": [
    {
     "data": {
      "text/plain": [
       "Participation_17                         object\n",
       "Evidence-Based Reading and Writing_17     int64\n",
       "Math_17                                   int64\n",
       "Total_17                                  int64\n",
       "Participation_18                         object\n",
       "Evidence-Based Reading and Writing_18     int64\n",
       "Math_18                                   int64\n",
       "Total_18                                  int64\n",
       "Participation_19                         object\n",
       "Evidence-Based Reading and Writing_19     int64\n",
       "Math_19                                   int64\n",
       "Total_19                                  int64\n",
       "dtype: object"
      ]
     },
     "execution_count": 23,
     "metadata": {},
     "output_type": "execute_result"
    }
   ],
   "source": [
    "sat.dtypes"
   ]
  },
  {
   "cell_type": "code",
   "execution_count": 24,
   "metadata": {},
   "outputs": [],
   "source": [
    "#turning i_m percentages into an integer decimal  \n",
    "i_m['Percent'] = i_m['Percent'].transform(int_percent)"
   ]
  },
  {
   "cell_type": "code",
   "execution_count": 25,
   "metadata": {},
   "outputs": [],
   "source": [
    "# removes the commas and turns the elements of a series into an integer\n",
    "def obj_int(series):\n",
    "    integers = []\n",
    "    for x in series:\n",
    "       integers.append(int(''.join(x.split(','))))\n",
    "    return integers"
   ]
  },
  {
   "cell_type": "code",
   "execution_count": 26,
   "metadata": {},
   "outputs": [],
   "source": [
    "# using the function on TestTakers\n",
    "i_m['TestTakers'] = obj_int(i_m['TestTakers'])"
   ]
  },
  {
   "cell_type": "code",
   "execution_count": 27,
   "metadata": {},
   "outputs": [
    {
     "data": {
      "text/plain": [
       "array([ 24913,  28988,   2629, 155834, 221523,  36332,  79736,   2500,\n",
       "        71882, 194127,  33595,  16233,   6469,   9936, 331026,  12611,\n",
       "        35788,   8611,    283,  16508,   6592,   7448,   2979,  10147,\n",
       "        13039,   6668,   3381,  26318,    319,  75626,   7852,  68177,\n",
       "        33356,   1991,   1105, 130642,  26888, 126939])"
      ]
     },
     "execution_count": 27,
     "metadata": {},
     "output_type": "execute_result"
    }
   ],
   "source": [
    "# visualising what it did to TestTakers\n",
    "i_m['TestTakers'].unique()"
   ]
  },
  {
   "cell_type": "code",
   "execution_count": 28,
   "metadata": {},
   "outputs": [],
   "source": [
    "# turning all participation columns in sat dataframe into integers\n",
    "sat['Participation_17'] = sat['Participation_17'].transform(int_percent)\n",
    "sat['Participation_18'] = sat['Participation_18'].transform(int_percent)\n",
    "sat['Participation_19'] = sat['Participation_19'].transform(int_percent)"
   ]
  },
  {
   "cell_type": "markdown",
   "metadata": {},
   "source": [
    "Colleges needs SAT 25th - 75th percentile range to be converted from **object** type to **integers**"
   ]
  },
  {
   "cell_type": "markdown",
   "metadata": {},
   "source": [
    "METHOD: seperate SAT 25th percentile and 75th percentile values into 2 new columns- 25th_percentile and 75th percentile"
   ]
  },
  {
   "cell_type": "code",
   "execution_count": 29,
   "metadata": {},
   "outputs": [],
   "source": [
    "def lower_percentiles(series):\n",
    "    lower = []\n",
    "    for x in series:\n",
    "        y = x.split('-')\n",
    "        lower.append(float(y[0]))\n",
    "    return lower\n",
    "\n",
    "def higher_percentiles(series):\n",
    "    higher = []\n",
    "    for x in series:\n",
    "        y = x.split('-')\n",
    "        higher.append(float(y[1]))      \n",
    "    return higher"
   ]
  },
  {
   "cell_type": "code",
   "execution_count": 30,
   "metadata": {},
   "outputs": [],
   "source": [
    "# creating 2 new columns with the what is considered as a lower SAT score and higher SAT score. Keeping it named as 25th and 75th percentiles will create confusion later on.\n",
    "colleges['enrolled_lower_SAT'] = lower_percentiles(colleges['SAT Total 25th-75th Percentile'])\n",
    "colleges['enrolled_higher_SAT'] = higher_percentiles(colleges['SAT Total 25th-75th Percentile'])"
   ]
  },
  {
   "cell_type": "code",
   "execution_count": 31,
   "metadata": {},
   "outputs": [
    {
     "data": {
      "text/html": [
       "<div>\n",
       "<style scoped>\n",
       "    .dataframe tbody tr th:only-of-type {\n",
       "        vertical-align: middle;\n",
       "    }\n",
       "\n",
       "    .dataframe tbody tr th {\n",
       "        vertical-align: top;\n",
       "    }\n",
       "\n",
       "    .dataframe thead th {\n",
       "        text-align: right;\n",
       "    }\n",
       "</style>\n",
       "<table border=\"1\" class=\"dataframe\">\n",
       "  <thead>\n",
       "    <tr style=\"text-align: right;\">\n",
       "      <th></th>\n",
       "      <th>Number of Applicants</th>\n",
       "      <th>Accept Rate</th>\n",
       "      <th>SAT Total 25th-75th Percentile</th>\n",
       "      <th>enrolled_lower_SAT</th>\n",
       "      <th>enrolled_higher_SAT</th>\n",
       "    </tr>\n",
       "    <tr>\n",
       "      <th>School</th>\n",
       "      <th></th>\n",
       "      <th></th>\n",
       "      <th></th>\n",
       "      <th></th>\n",
       "      <th></th>\n",
       "    </tr>\n",
       "  </thead>\n",
       "  <tbody>\n",
       "    <tr>\n",
       "      <th>Stanford University</th>\n",
       "      <td>47452</td>\n",
       "      <td>4.3%</td>\n",
       "      <td>1440-1570</td>\n",
       "      <td>1440.0</td>\n",
       "      <td>1570.0</td>\n",
       "    </tr>\n",
       "    <tr>\n",
       "      <th>Harvard College</th>\n",
       "      <td>42749</td>\n",
       "      <td>4.7%</td>\n",
       "      <td>1460-1580</td>\n",
       "      <td>1460.0</td>\n",
       "      <td>1580.0</td>\n",
       "    </tr>\n",
       "    <tr>\n",
       "      <th>Princeton University</th>\n",
       "      <td>35370</td>\n",
       "      <td>5.5%</td>\n",
       "      <td>1440-1570</td>\n",
       "      <td>1440.0</td>\n",
       "      <td>1570.0</td>\n",
       "    </tr>\n",
       "    <tr>\n",
       "      <th>Columbia University</th>\n",
       "      <td>40203</td>\n",
       "      <td>5.5%</td>\n",
       "      <td>1450-1560</td>\n",
       "      <td>1450.0</td>\n",
       "      <td>1560.0</td>\n",
       "    </tr>\n",
       "    <tr>\n",
       "      <th>Yale University</th>\n",
       "      <td>36844</td>\n",
       "      <td>6.1%</td>\n",
       "      <td>1460-1570</td>\n",
       "      <td>1460.0</td>\n",
       "      <td>1570.0</td>\n",
       "    </tr>\n",
       "  </tbody>\n",
       "</table>\n",
       "</div>"
      ],
      "text/plain": [
       "                      Number of Applicants Accept Rate  \\\n",
       "School                                                   \n",
       "Stanford University                  47452        4.3%   \n",
       "Harvard College                      42749        4.7%   \n",
       "Princeton University                 35370        5.5%   \n",
       "Columbia University                  40203        5.5%   \n",
       "Yale University                      36844        6.1%   \n",
       "\n",
       "                     SAT Total 25th-75th Percentile  enrolled_lower_SAT  \\\n",
       "School                                                                    \n",
       "Stanford University                       1440-1570              1440.0   \n",
       "Harvard College                           1460-1580              1460.0   \n",
       "Princeton University                      1440-1570              1440.0   \n",
       "Columbia University                       1450-1560              1450.0   \n",
       "Yale University                           1460-1570              1460.0   \n",
       "\n",
       "                      enrolled_higher_SAT  \n",
       "School                                     \n",
       "Stanford University                1570.0  \n",
       "Harvard College                    1580.0  \n",
       "Princeton University               1570.0  \n",
       "Columbia University                1560.0  \n",
       "Yale University                    1570.0  "
      ]
     },
     "execution_count": 31,
     "metadata": {},
     "output_type": "execute_result"
    }
   ],
   "source": [
    "colleges.head()"
   ]
  },
  {
   "cell_type": "code",
   "execution_count": 32,
   "metadata": {},
   "outputs": [],
   "source": [
    "# don't need 'SAT Total 25th-75th Percentile' anymore\n",
    "colleges = colleges.drop(columns='SAT Total 25th-75th Percentile', axis = 1)"
   ]
  },
  {
   "cell_type": "code",
   "execution_count": 33,
   "metadata": {},
   "outputs": [],
   "source": [
    "# removing percentages from series\n",
    "def remove_percent(series):\n",
    "    new = []\n",
    "    for x in series:\n",
    "        y = x.replace('%', '')\n",
    "        new.append(y)\n",
    "    return new"
   ]
  },
  {
   "cell_type": "code",
   "execution_count": 34,
   "metadata": {},
   "outputs": [
    {
     "data": {
      "text/plain": [
       "School\n",
       "Stanford University                      0.043\n",
       "Harvard College                          0.047\n",
       "Princeton University                     0.055\n",
       "Columbia University                      0.055\n",
       "Yale University                          0.061\n",
       "                                         ...  \n",
       "University of Texas Rio Grande Valley    0.798\n",
       "University of South Dakota               0.864\n",
       "University of Mississippi                0.881\n",
       "University of Wyoming                    0.960\n",
       "University of Texas El Paso              0.999\n",
       "Name: Accept Rate, Length: 410, dtype: float64"
      ]
     },
     "execution_count": 34,
     "metadata": {},
     "output_type": "execute_result"
    }
   ],
   "source": [
    "# changing Accept Rate to a decimal and as a float\n",
    "colleges['Accept Rate'] = remove_percent(colleges['Accept Rate'])\n",
    "colleges['Accept Rate'] = colleges['Accept Rate'].apply(lambda x: float(x)/100)\n",
    "colleges['Accept Rate']"
   ]
  },
  {
   "cell_type": "code",
   "execution_count": 35,
   "metadata": {},
   "outputs": [
    {
     "data": {
      "text/plain": [
       "IntendedCollegeMajor     object\n",
       "TestTakers                int64\n",
       "Percent                 float64\n",
       "Total                     int64\n",
       "ReadingWriting            int64\n",
       "Math                      int64\n",
       "dtype: object"
      ]
     },
     "execution_count": 35,
     "metadata": {},
     "output_type": "execute_result"
    }
   ],
   "source": [
    "i_m.dtypes"
   ]
  },
  {
   "cell_type": "code",
   "execution_count": 36,
   "metadata": {},
   "outputs": [
    {
     "data": {
      "text/plain": [
       "Number of Applicants      int64\n",
       "Accept Rate             float64\n",
       "enrolled_lower_SAT      float64\n",
       "enrolled_higher_SAT     float64\n",
       "dtype: object"
      ]
     },
     "execution_count": 36,
     "metadata": {},
     "output_type": "execute_result"
    }
   ],
   "source": [
    "colleges.dtypes"
   ]
  },
  {
   "cell_type": "code",
   "execution_count": 37,
   "metadata": {},
   "outputs": [
    {
     "data": {
      "text/plain": [
       "Participation_17                         float64\n",
       "Evidence-Based Reading and Writing_17      int64\n",
       "Math_17                                    int64\n",
       "Total_17                                   int64\n",
       "Participation_18                         float64\n",
       "Evidence-Based Reading and Writing_18      int64\n",
       "Math_18                                    int64\n",
       "Total_18                                   int64\n",
       "Participation_19                         float64\n",
       "Evidence-Based Reading and Writing_19      int64\n",
       "Math_19                                    int64\n",
       "Total_19                                   int64\n",
       "dtype: object"
      ]
     },
     "execution_count": 37,
     "metadata": {},
     "output_type": "execute_result"
    }
   ],
   "source": [
    "sat.dtypes"
   ]
  },
  {
   "cell_type": "markdown",
   "metadata": {},
   "source": [
    "## Investigating outliers "
   ]
  },
  {
   "cell_type": "markdown",
   "metadata": {},
   "source": [
    "- Everything is in normal range except for the minimum of Math_17 from sat dataframe"
   ]
  },
  {
   "cell_type": "code",
   "execution_count": 38,
   "metadata": {},
   "outputs": [],
   "source": [
    "def min_max(df):\n",
    "    describe = df.describe()\n",
    "    min_max = describe.loc[['min','max'], :]\n",
    "    return min_max"
   ]
  },
  {
   "cell_type": "code",
   "execution_count": 39,
   "metadata": {},
   "outputs": [
    {
     "data": {
      "text/html": [
       "<div>\n",
       "<style scoped>\n",
       "    .dataframe tbody tr th:only-of-type {\n",
       "        vertical-align: middle;\n",
       "    }\n",
       "\n",
       "    .dataframe tbody tr th {\n",
       "        vertical-align: top;\n",
       "    }\n",
       "\n",
       "    .dataframe thead th {\n",
       "        text-align: right;\n",
       "    }\n",
       "</style>\n",
       "<table border=\"1\" class=\"dataframe\">\n",
       "  <thead>\n",
       "    <tr style=\"text-align: right;\">\n",
       "      <th></th>\n",
       "      <th>TestTakers</th>\n",
       "      <th>Percent</th>\n",
       "      <th>Total</th>\n",
       "      <th>ReadingWriting</th>\n",
       "      <th>Math</th>\n",
       "    </tr>\n",
       "  </thead>\n",
       "  <tbody>\n",
       "    <tr>\n",
       "      <th>min</th>\n",
       "      <td>283.0</td>\n",
       "      <td>0.00</td>\n",
       "      <td>916.0</td>\n",
       "      <td>458.0</td>\n",
       "      <td>456.0</td>\n",
       "    </tr>\n",
       "    <tr>\n",
       "      <th>max</th>\n",
       "      <td>331026.0</td>\n",
       "      <td>0.18</td>\n",
       "      <td>1242.0</td>\n",
       "      <td>597.0</td>\n",
       "      <td>646.0</td>\n",
       "    </tr>\n",
       "  </tbody>\n",
       "</table>\n",
       "</div>"
      ],
      "text/plain": [
       "     TestTakers  Percent   Total  ReadingWriting   Math\n",
       "min       283.0     0.00   916.0           458.0  456.0\n",
       "max    331026.0     0.18  1242.0           597.0  646.0"
      ]
     },
     "execution_count": 39,
     "metadata": {},
     "output_type": "execute_result"
    }
   ],
   "source": [
    "min_max(i_m)"
   ]
  },
  {
   "cell_type": "code",
   "execution_count": 40,
   "metadata": {},
   "outputs": [
    {
     "data": {
      "text/html": [
       "<div>\n",
       "<style scoped>\n",
       "    .dataframe tbody tr th:only-of-type {\n",
       "        vertical-align: middle;\n",
       "    }\n",
       "\n",
       "    .dataframe tbody tr th {\n",
       "        vertical-align: top;\n",
       "    }\n",
       "\n",
       "    .dataframe thead th {\n",
       "        text-align: right;\n",
       "    }\n",
       "</style>\n",
       "<table border=\"1\" class=\"dataframe\">\n",
       "  <thead>\n",
       "    <tr style=\"text-align: right;\">\n",
       "      <th></th>\n",
       "      <th>Number of Applicants</th>\n",
       "      <th>Accept Rate</th>\n",
       "      <th>enrolled_lower_SAT</th>\n",
       "      <th>enrolled_higher_SAT</th>\n",
       "    </tr>\n",
       "  </thead>\n",
       "  <tbody>\n",
       "    <tr>\n",
       "      <th>min</th>\n",
       "      <td>211.0</td>\n",
       "      <td>0.043</td>\n",
       "      <td>793.0</td>\n",
       "      <td>1050.0</td>\n",
       "    </tr>\n",
       "    <tr>\n",
       "      <th>max</th>\n",
       "      <td>111322.0</td>\n",
       "      <td>0.999</td>\n",
       "      <td>1530.0</td>\n",
       "      <td>1580.0</td>\n",
       "    </tr>\n",
       "  </tbody>\n",
       "</table>\n",
       "</div>"
      ],
      "text/plain": [
       "     Number of Applicants  Accept Rate  enrolled_lower_SAT  \\\n",
       "min                 211.0        0.043               793.0   \n",
       "max              111322.0        0.999              1530.0   \n",
       "\n",
       "     enrolled_higher_SAT  \n",
       "min               1050.0  \n",
       "max               1580.0  "
      ]
     },
     "execution_count": 40,
     "metadata": {},
     "output_type": "execute_result"
    }
   ],
   "source": [
    "min_max(colleges)"
   ]
  },
  {
   "cell_type": "code",
   "execution_count": 41,
   "metadata": {},
   "outputs": [
    {
     "data": {
      "text/html": [
       "<div>\n",
       "<style scoped>\n",
       "    .dataframe tbody tr th:only-of-type {\n",
       "        vertical-align: middle;\n",
       "    }\n",
       "\n",
       "    .dataframe tbody tr th {\n",
       "        vertical-align: top;\n",
       "    }\n",
       "\n",
       "    .dataframe thead th {\n",
       "        text-align: right;\n",
       "    }\n",
       "</style>\n",
       "<table border=\"1\" class=\"dataframe\">\n",
       "  <thead>\n",
       "    <tr style=\"text-align: right;\">\n",
       "      <th></th>\n",
       "      <th>Participation_17</th>\n",
       "      <th>Evidence-Based Reading and Writing_17</th>\n",
       "      <th>Math_17</th>\n",
       "      <th>Total_17</th>\n",
       "      <th>Participation_18</th>\n",
       "      <th>Evidence-Based Reading and Writing_18</th>\n",
       "      <th>Math_18</th>\n",
       "      <th>Total_18</th>\n",
       "      <th>Participation_19</th>\n",
       "      <th>Evidence-Based Reading and Writing_19</th>\n",
       "      <th>Math_19</th>\n",
       "      <th>Total_19</th>\n",
       "    </tr>\n",
       "  </thead>\n",
       "  <tbody>\n",
       "    <tr>\n",
       "      <th>min</th>\n",
       "      <td>0.02</td>\n",
       "      <td>482.0</td>\n",
       "      <td>52.0</td>\n",
       "      <td>950.0</td>\n",
       "      <td>0.02</td>\n",
       "      <td>480.0</td>\n",
       "      <td>480.0</td>\n",
       "      <td>977.0</td>\n",
       "      <td>0.02</td>\n",
       "      <td>483.0</td>\n",
       "      <td>460.0</td>\n",
       "      <td>943.0</td>\n",
       "    </tr>\n",
       "    <tr>\n",
       "      <th>max</th>\n",
       "      <td>1.00</td>\n",
       "      <td>644.0</td>\n",
       "      <td>651.0</td>\n",
       "      <td>1295.0</td>\n",
       "      <td>1.00</td>\n",
       "      <td>643.0</td>\n",
       "      <td>655.0</td>\n",
       "      <td>1298.0</td>\n",
       "      <td>1.00</td>\n",
       "      <td>636.0</td>\n",
       "      <td>648.0</td>\n",
       "      <td>1284.0</td>\n",
       "    </tr>\n",
       "  </tbody>\n",
       "</table>\n",
       "</div>"
      ],
      "text/plain": [
       "     Participation_17  Evidence-Based Reading and Writing_17  Math_17  \\\n",
       "min              0.02                                  482.0     52.0   \n",
       "max              1.00                                  644.0    651.0   \n",
       "\n",
       "     Total_17  Participation_18  Evidence-Based Reading and Writing_18  \\\n",
       "min     950.0              0.02                                  480.0   \n",
       "max    1295.0              1.00                                  643.0   \n",
       "\n",
       "     Math_18  Total_18  Participation_19  \\\n",
       "min    480.0     977.0              0.02   \n",
       "max    655.0    1298.0              1.00   \n",
       "\n",
       "     Evidence-Based Reading and Writing_19  Math_19  Total_19  \n",
       "min                                  483.0    460.0     943.0  \n",
       "max                                  636.0    648.0    1284.0  "
      ]
     },
     "execution_count": 41,
     "metadata": {},
     "output_type": "execute_result"
    }
   ],
   "source": [
    "min_max(sat)"
   ]
  },
  {
   "cell_type": "markdown",
   "metadata": {},
   "source": [
    "## Renaming Columns"
   ]
  },
  {
   "cell_type": "code",
   "execution_count": 42,
   "metadata": {},
   "outputs": [],
   "source": [
    "def modify_column(data):\n",
    "    data.columns = data.columns.str.replace(' ', '_')\n",
    "    data.columns = data.columns.str.lower()\n",
    "    return "
   ]
  },
  {
   "cell_type": "code",
   "execution_count": 43,
   "metadata": {},
   "outputs": [],
   "source": [
    "modify_column(i_m)\n",
    "modify_column(colleges)\n",
    "modify_column(sat)"
   ]
  },
  {
   "cell_type": "code",
   "execution_count": 44,
   "metadata": {},
   "outputs": [
    {
     "data": {
      "text/html": [
       "<div>\n",
       "<style scoped>\n",
       "    .dataframe tbody tr th:only-of-type {\n",
       "        vertical-align: middle;\n",
       "    }\n",
       "\n",
       "    .dataframe tbody tr th {\n",
       "        vertical-align: top;\n",
       "    }\n",
       "\n",
       "    .dataframe thead th {\n",
       "        text-align: right;\n",
       "    }\n",
       "</style>\n",
       "<table border=\"1\" class=\"dataframe\">\n",
       "  <thead>\n",
       "    <tr style=\"text-align: right;\">\n",
       "      <th></th>\n",
       "      <th>intendedcollegemajor</th>\n",
       "      <th>testtakers</th>\n",
       "      <th>percent</th>\n",
       "      <th>total</th>\n",
       "      <th>readingwriting</th>\n",
       "      <th>math</th>\n",
       "    </tr>\n",
       "  </thead>\n",
       "  <tbody>\n",
       "    <tr>\n",
       "      <th>0</th>\n",
       "      <td>Agriculture, AgricultureOperations, and Relate...</td>\n",
       "      <td>24913</td>\n",
       "      <td>0.01</td>\n",
       "      <td>977</td>\n",
       "      <td>496</td>\n",
       "      <td>481</td>\n",
       "    </tr>\n",
       "    <tr>\n",
       "      <th>1</th>\n",
       "      <td>Architecture and Related Services</td>\n",
       "      <td>28988</td>\n",
       "      <td>0.02</td>\n",
       "      <td>1047</td>\n",
       "      <td>520</td>\n",
       "      <td>527</td>\n",
       "    </tr>\n",
       "    <tr>\n",
       "      <th>2</th>\n",
       "      <td>Area, Ethnic, Cultural, and Gender Studies</td>\n",
       "      <td>2629</td>\n",
       "      <td>0.00</td>\n",
       "      <td>1040</td>\n",
       "      <td>536</td>\n",
       "      <td>504</td>\n",
       "    </tr>\n",
       "    <tr>\n",
       "      <th>3</th>\n",
       "      <td>Biological and Biomedical Sciences</td>\n",
       "      <td>155834</td>\n",
       "      <td>0.08</td>\n",
       "      <td>1139</td>\n",
       "      <td>572</td>\n",
       "      <td>566</td>\n",
       "    </tr>\n",
       "    <tr>\n",
       "      <th>4</th>\n",
       "      <td>Business, Management, Marketing, and Related S...</td>\n",
       "      <td>221523</td>\n",
       "      <td>0.12</td>\n",
       "      <td>1072</td>\n",
       "      <td>534</td>\n",
       "      <td>537</td>\n",
       "    </tr>\n",
       "  </tbody>\n",
       "</table>\n",
       "</div>"
      ],
      "text/plain": [
       "                                intendedcollegemajor  testtakers  percent  \\\n",
       "0  Agriculture, AgricultureOperations, and Relate...       24913     0.01   \n",
       "1                  Architecture and Related Services       28988     0.02   \n",
       "2         Area, Ethnic, Cultural, and Gender Studies        2629     0.00   \n",
       "3                 Biological and Biomedical Sciences      155834     0.08   \n",
       "4  Business, Management, Marketing, and Related S...      221523     0.12   \n",
       "\n",
       "   total  readingwriting  math  \n",
       "0    977             496   481  \n",
       "1   1047             520   527  \n",
       "2   1040             536   504  \n",
       "3   1139             572   566  \n",
       "4   1072             534   537  "
      ]
     },
     "execution_count": 44,
     "metadata": {},
     "output_type": "execute_result"
    }
   ],
   "source": [
    "#didn't work for i_m as it doesnt have spaces in original data set\n",
    "i_m.head()"
   ]
  },
  {
   "cell_type": "code",
   "execution_count": 45,
   "metadata": {},
   "outputs": [
    {
     "data": {
      "text/html": [
       "<div>\n",
       "<style scoped>\n",
       "    .dataframe tbody tr th:only-of-type {\n",
       "        vertical-align: middle;\n",
       "    }\n",
       "\n",
       "    .dataframe tbody tr th {\n",
       "        vertical-align: top;\n",
       "    }\n",
       "\n",
       "    .dataframe thead th {\n",
       "        text-align: right;\n",
       "    }\n",
       "</style>\n",
       "<table border=\"1\" class=\"dataframe\">\n",
       "  <thead>\n",
       "    <tr style=\"text-align: right;\">\n",
       "      <th></th>\n",
       "      <th>intended_college_major</th>\n",
       "      <th>test_takers</th>\n",
       "      <th>percent</th>\n",
       "      <th>total</th>\n",
       "      <th>reading_writing</th>\n",
       "      <th>math</th>\n",
       "    </tr>\n",
       "  </thead>\n",
       "  <tbody>\n",
       "    <tr>\n",
       "      <th>0</th>\n",
       "      <td>Agriculture, AgricultureOperations, and Relate...</td>\n",
       "      <td>24913</td>\n",
       "      <td>0.01</td>\n",
       "      <td>977</td>\n",
       "      <td>496</td>\n",
       "      <td>481</td>\n",
       "    </tr>\n",
       "    <tr>\n",
       "      <th>1</th>\n",
       "      <td>Architecture and Related Services</td>\n",
       "      <td>28988</td>\n",
       "      <td>0.02</td>\n",
       "      <td>1047</td>\n",
       "      <td>520</td>\n",
       "      <td>527</td>\n",
       "    </tr>\n",
       "    <tr>\n",
       "      <th>2</th>\n",
       "      <td>Area, Ethnic, Cultural, and Gender Studies</td>\n",
       "      <td>2629</td>\n",
       "      <td>0.00</td>\n",
       "      <td>1040</td>\n",
       "      <td>536</td>\n",
       "      <td>504</td>\n",
       "    </tr>\n",
       "    <tr>\n",
       "      <th>3</th>\n",
       "      <td>Biological and Biomedical Sciences</td>\n",
       "      <td>155834</td>\n",
       "      <td>0.08</td>\n",
       "      <td>1139</td>\n",
       "      <td>572</td>\n",
       "      <td>566</td>\n",
       "    </tr>\n",
       "    <tr>\n",
       "      <th>4</th>\n",
       "      <td>Business, Management, Marketing, and Related S...</td>\n",
       "      <td>221523</td>\n",
       "      <td>0.12</td>\n",
       "      <td>1072</td>\n",
       "      <td>534</td>\n",
       "      <td>537</td>\n",
       "    </tr>\n",
       "  </tbody>\n",
       "</table>\n",
       "</div>"
      ],
      "text/plain": [
       "                              intended_college_major  test_takers  percent  \\\n",
       "0  Agriculture, AgricultureOperations, and Relate...        24913     0.01   \n",
       "1                  Architecture and Related Services        28988     0.02   \n",
       "2         Area, Ethnic, Cultural, and Gender Studies         2629     0.00   \n",
       "3                 Biological and Biomedical Sciences       155834     0.08   \n",
       "4  Business, Management, Marketing, and Related S...       221523     0.12   \n",
       "\n",
       "   total  reading_writing  math  \n",
       "0    977              496   481  \n",
       "1   1047              520   527  \n",
       "2   1040              536   504  \n",
       "3   1139              572   566  \n",
       "4   1072              534   537  "
      ]
     },
     "execution_count": 45,
     "metadata": {},
     "output_type": "execute_result"
    }
   ],
   "source": [
    "i_m = i_m.rename(columns = {'intendedcollegemajor': 'intended_college_major',\n",
    "                      'testtakers': 'test_takers', \n",
    "                      'readingwriting': 'reading_writing'})\n",
    "i_m.head()"
   ]
  },
  {
   "cell_type": "code",
   "execution_count": 46,
   "metadata": {},
   "outputs": [
    {
     "data": {
      "text/html": [
       "<div>\n",
       "<style scoped>\n",
       "    .dataframe tbody tr th:only-of-type {\n",
       "        vertical-align: middle;\n",
       "    }\n",
       "\n",
       "    .dataframe tbody tr th {\n",
       "        vertical-align: top;\n",
       "    }\n",
       "\n",
       "    .dataframe thead th {\n",
       "        text-align: right;\n",
       "    }\n",
       "</style>\n",
       "<table border=\"1\" class=\"dataframe\">\n",
       "  <thead>\n",
       "    <tr style=\"text-align: right;\">\n",
       "      <th></th>\n",
       "      <th>number_of_applicants</th>\n",
       "      <th>accept_rate</th>\n",
       "      <th>enrolled_lower_sat</th>\n",
       "      <th>enrolled_higher_sat</th>\n",
       "    </tr>\n",
       "    <tr>\n",
       "      <th>School</th>\n",
       "      <th></th>\n",
       "      <th></th>\n",
       "      <th></th>\n",
       "      <th></th>\n",
       "    </tr>\n",
       "  </thead>\n",
       "  <tbody>\n",
       "    <tr>\n",
       "      <th>Stanford University</th>\n",
       "      <td>47452</td>\n",
       "      <td>0.043</td>\n",
       "      <td>1440.0</td>\n",
       "      <td>1570.0</td>\n",
       "    </tr>\n",
       "    <tr>\n",
       "      <th>Harvard College</th>\n",
       "      <td>42749</td>\n",
       "      <td>0.047</td>\n",
       "      <td>1460.0</td>\n",
       "      <td>1580.0</td>\n",
       "    </tr>\n",
       "    <tr>\n",
       "      <th>Princeton University</th>\n",
       "      <td>35370</td>\n",
       "      <td>0.055</td>\n",
       "      <td>1440.0</td>\n",
       "      <td>1570.0</td>\n",
       "    </tr>\n",
       "    <tr>\n",
       "      <th>Columbia University</th>\n",
       "      <td>40203</td>\n",
       "      <td>0.055</td>\n",
       "      <td>1450.0</td>\n",
       "      <td>1560.0</td>\n",
       "    </tr>\n",
       "    <tr>\n",
       "      <th>Yale University</th>\n",
       "      <td>36844</td>\n",
       "      <td>0.061</td>\n",
       "      <td>1460.0</td>\n",
       "      <td>1570.0</td>\n",
       "    </tr>\n",
       "  </tbody>\n",
       "</table>\n",
       "</div>"
      ],
      "text/plain": [
       "                      number_of_applicants  accept_rate  enrolled_lower_sat  \\\n",
       "School                                                                        \n",
       "Stanford University                  47452        0.043              1440.0   \n",
       "Harvard College                      42749        0.047              1460.0   \n",
       "Princeton University                 35370        0.055              1440.0   \n",
       "Columbia University                  40203        0.055              1450.0   \n",
       "Yale University                      36844        0.061              1460.0   \n",
       "\n",
       "                      enrolled_higher_sat  \n",
       "School                                     \n",
       "Stanford University                1570.0  \n",
       "Harvard College                    1580.0  \n",
       "Princeton University               1570.0  \n",
       "Columbia University                1560.0  \n",
       "Yale University                    1570.0  "
      ]
     },
     "execution_count": 46,
     "metadata": {},
     "output_type": "execute_result"
    }
   ],
   "source": [
    "colleges.head()"
   ]
  },
  {
   "cell_type": "code",
   "execution_count": 47,
   "metadata": {},
   "outputs": [
    {
     "data": {
      "text/html": [
       "<div>\n",
       "<style scoped>\n",
       "    .dataframe tbody tr th:only-of-type {\n",
       "        vertical-align: middle;\n",
       "    }\n",
       "\n",
       "    .dataframe tbody tr th {\n",
       "        vertical-align: top;\n",
       "    }\n",
       "\n",
       "    .dataframe thead th {\n",
       "        text-align: right;\n",
       "    }\n",
       "</style>\n",
       "<table border=\"1\" class=\"dataframe\">\n",
       "  <thead>\n",
       "    <tr style=\"text-align: right;\">\n",
       "      <th></th>\n",
       "      <th>participation_17</th>\n",
       "      <th>evidence-based_reading_and_writing_17</th>\n",
       "      <th>math_17</th>\n",
       "      <th>total_17</th>\n",
       "      <th>participation_18</th>\n",
       "      <th>evidence-based_reading_and_writing_18</th>\n",
       "      <th>math_18</th>\n",
       "      <th>total_18</th>\n",
       "      <th>participation_19</th>\n",
       "      <th>evidence-based_reading_and_writing_19</th>\n",
       "      <th>math_19</th>\n",
       "      <th>total_19</th>\n",
       "    </tr>\n",
       "    <tr>\n",
       "      <th>State</th>\n",
       "      <th></th>\n",
       "      <th></th>\n",
       "      <th></th>\n",
       "      <th></th>\n",
       "      <th></th>\n",
       "      <th></th>\n",
       "      <th></th>\n",
       "      <th></th>\n",
       "      <th></th>\n",
       "      <th></th>\n",
       "      <th></th>\n",
       "      <th></th>\n",
       "    </tr>\n",
       "  </thead>\n",
       "  <tbody>\n",
       "    <tr>\n",
       "      <th>Alabama</th>\n",
       "      <td>0.05</td>\n",
       "      <td>593</td>\n",
       "      <td>572</td>\n",
       "      <td>1165</td>\n",
       "      <td>0.06</td>\n",
       "      <td>595</td>\n",
       "      <td>571</td>\n",
       "      <td>1166</td>\n",
       "      <td>0.07</td>\n",
       "      <td>583</td>\n",
       "      <td>560</td>\n",
       "      <td>1143</td>\n",
       "    </tr>\n",
       "    <tr>\n",
       "      <th>Alaska</th>\n",
       "      <td>0.38</td>\n",
       "      <td>547</td>\n",
       "      <td>533</td>\n",
       "      <td>1080</td>\n",
       "      <td>0.43</td>\n",
       "      <td>562</td>\n",
       "      <td>544</td>\n",
       "      <td>1106</td>\n",
       "      <td>0.41</td>\n",
       "      <td>556</td>\n",
       "      <td>541</td>\n",
       "      <td>1097</td>\n",
       "    </tr>\n",
       "    <tr>\n",
       "      <th>Arizona</th>\n",
       "      <td>0.30</td>\n",
       "      <td>563</td>\n",
       "      <td>553</td>\n",
       "      <td>1116</td>\n",
       "      <td>0.29</td>\n",
       "      <td>577</td>\n",
       "      <td>572</td>\n",
       "      <td>1149</td>\n",
       "      <td>0.31</td>\n",
       "      <td>569</td>\n",
       "      <td>565</td>\n",
       "      <td>1134</td>\n",
       "    </tr>\n",
       "    <tr>\n",
       "      <th>Arkansas</th>\n",
       "      <td>0.03</td>\n",
       "      <td>614</td>\n",
       "      <td>594</td>\n",
       "      <td>1208</td>\n",
       "      <td>0.05</td>\n",
       "      <td>592</td>\n",
       "      <td>576</td>\n",
       "      <td>1169</td>\n",
       "      <td>0.06</td>\n",
       "      <td>582</td>\n",
       "      <td>559</td>\n",
       "      <td>1141</td>\n",
       "    </tr>\n",
       "    <tr>\n",
       "      <th>California</th>\n",
       "      <td>0.53</td>\n",
       "      <td>531</td>\n",
       "      <td>524</td>\n",
       "      <td>1055</td>\n",
       "      <td>0.60</td>\n",
       "      <td>540</td>\n",
       "      <td>536</td>\n",
       "      <td>1076</td>\n",
       "      <td>0.63</td>\n",
       "      <td>534</td>\n",
       "      <td>531</td>\n",
       "      <td>1065</td>\n",
       "    </tr>\n",
       "  </tbody>\n",
       "</table>\n",
       "</div>"
      ],
      "text/plain": [
       "            participation_17  evidence-based_reading_and_writing_17  math_17  \\\n",
       "State                                                                          \n",
       "Alabama                 0.05                                    593      572   \n",
       "Alaska                  0.38                                    547      533   \n",
       "Arizona                 0.30                                    563      553   \n",
       "Arkansas                0.03                                    614      594   \n",
       "California              0.53                                    531      524   \n",
       "\n",
       "            total_17  participation_18  evidence-based_reading_and_writing_18  \\\n",
       "State                                                                           \n",
       "Alabama         1165              0.06                                    595   \n",
       "Alaska          1080              0.43                                    562   \n",
       "Arizona         1116              0.29                                    577   \n",
       "Arkansas        1208              0.05                                    592   \n",
       "California      1055              0.60                                    540   \n",
       "\n",
       "            math_18  total_18  participation_19  \\\n",
       "State                                             \n",
       "Alabama         571      1166              0.07   \n",
       "Alaska          544      1106              0.41   \n",
       "Arizona         572      1149              0.31   \n",
       "Arkansas        576      1169              0.06   \n",
       "California      536      1076              0.63   \n",
       "\n",
       "            evidence-based_reading_and_writing_19  math_19  total_19  \n",
       "State                                                                 \n",
       "Alabama                                       583      560      1143  \n",
       "Alaska                                        556      541      1097  \n",
       "Arizona                                       569      565      1134  \n",
       "Arkansas                                      582      559      1141  \n",
       "California                                    534      531      1065  "
      ]
     },
     "execution_count": 47,
     "metadata": {},
     "output_type": "execute_result"
    }
   ],
   "source": [
    "sat.head()"
   ]
  },
  {
   "cell_type": "code",
   "execution_count": 48,
   "metadata": {},
   "outputs": [
    {
     "data": {
      "text/plain": [
       "(38, 6)"
      ]
     },
     "execution_count": 48,
     "metadata": {},
     "output_type": "execute_result"
    }
   ],
   "source": [
    "i_m.shape"
   ]
  },
  {
   "cell_type": "markdown",
   "metadata": {},
   "source": [
    "## Saving new csv files"
   ]
  },
  {
   "cell_type": "code",
   "execution_count": 49,
   "metadata": {},
   "outputs": [],
   "source": [
    "i_m.to_csv(\"../data/data_modified/SAT_intended_majors.csv\", index = False)\n",
    "colleges.to_csv(\"../data/data_modified/SAT_college.csv\", index = False)\n",
    "sat.to_csv(\"../data/data_modified/SAT_state.csv\", index = False)"
   ]
  },
  {
   "cell_type": "markdown",
   "metadata": {},
   "source": [
    "### Data Dictionary\n",
    "\n",
    "Now that we've fixed our data, and given it appropriate names, let's create a [data dictionary](http://library.ucmerced.edu/node/10249). \n",
    "\n",
    "A data dictionary provides a quick overview of features/variables/columns, alongside data types and descriptions. The more descriptive you can be, the more useful this document is.\n",
    "\n",
    "Example of a Fictional Data Dictionary Entry: \n",
    "\n",
    "|Feature|Type|Dataset|Description|\n",
    "|---|---|---|---|\n",
    "|**county_pop**|*integer*|2010 census|The population of the county (units in thousands, where 2.5 represents 2500 people).| \n",
    "|**per_poverty**|*float*|2010 census|The percent of the county over the age of 18 living below the 200% of official US poverty rate (units percent to two decimal places 98.10 means 98.1%)|\n",
    "\n",
    "[Here's a quick link to a short guide for formatting markdown in Jupyter notebooks](https://jupyter-notebook.readthedocs.io/en/stable/examples/Notebook/Working%20With%20Markdown%20Cells.html).\n",
    "\n",
    "Provided is the skeleton for formatting a markdown table, with columns headers that will help you create a data dictionary to quickly summarize your data, as well as some examples. **This would be a great thing to copy and paste into your custom README for this project.**\n",
    "\n",
    "*Note*: if you are unsure of what a feature is, check the source of the data! This can be found in the README."
   ]
  },
  {
   "cell_type": "markdown",
   "metadata": {},
   "source": [
    "**To-Do:** *Edit the table below to create your own data dictionary for the datasets you chose.*\n",
    "\n",
    "|Feature|Type|Dataset|Description|\n",
    "|---|---|---|---|\n",
    "|column name|int/float/object|ACT/SAT|This is an example| \n"
   ]
  },
  {
   "cell_type": "markdown",
   "metadata": {},
   "source": [
    "## Exploratory Data Analysis\n",
    "\n",
    "Complete the following steps to explore your data. You are welcome to do more EDA than the steps outlined here as you feel necessary:\n",
    "1. Summary Statistics.\n",
    "2. Use a **dictionary comprehension** to apply the standard deviation function you create in part 1 to each numeric column in the dataframe.  **No loops**.\n",
    "    - Assign the output to variable `sd` as a dictionary where: \n",
    "        - Each column name is now a key \n",
    "        - That standard deviation of the column is the value \n",
    "        - *Example Output :* `{'ACT_Math': 120, 'ACT_Reading': 120, ...}`\n",
    "3. Investigate trends in the data.\n",
    "    - Using sorting and/or masking (along with the `.head()` method to avoid printing our entire dataframe), consider questions relevant to your problem statement. Some examples are provided below (but feel free to change these questions for your specific problem):\n",
    "        - Which states have the highest and lowest participation rates for the 2017, 2019, or 2019 SAT and ACT?\n",
    "        - Which states have the highest and lowest mean total/composite scores for the 2017, 2019, or 2019 SAT and ACT?\n",
    "        - Do any states with 100% participation on a given test have a rate change year-to-year?\n",
    "        - Do any states show have >50% participation on *both* tests each year?\n",
    "        - Which colleges have the highest median SAT and ACT scores for admittance?\n",
    "        - Which California school districts have the highest and lowest mean test scores?\n",
    "    - **You should comment on your findings at each step in a markdown cell below your code block**. Make sure you include at least one example of sorting your dataframe by a column, and one example of using boolean filtering (i.e., masking) to select a subset of the dataframe."
   ]
  },
  {
   "cell_type": "markdown",
   "metadata": {},
   "source": [
    "### Summary Statistics"
   ]
  },
  {
   "cell_type": "markdown",
   "metadata": {},
   "source": [
    "- finding the count, mean, std, min, 25%, 50%, 75% and max for all datasets"
   ]
  },
  {
   "cell_type": "code",
   "execution_count": 50,
   "metadata": {},
   "outputs": [
    {
     "data": {
      "text/html": [
       "<div>\n",
       "<style scoped>\n",
       "    .dataframe tbody tr th:only-of-type {\n",
       "        vertical-align: middle;\n",
       "    }\n",
       "\n",
       "    .dataframe tbody tr th {\n",
       "        vertical-align: top;\n",
       "    }\n",
       "\n",
       "    .dataframe thead th {\n",
       "        text-align: right;\n",
       "    }\n",
       "</style>\n",
       "<table border=\"1\" class=\"dataframe\">\n",
       "  <thead>\n",
       "    <tr style=\"text-align: right;\">\n",
       "      <th></th>\n",
       "      <th>count</th>\n",
       "      <th>mean</th>\n",
       "      <th>std</th>\n",
       "      <th>min</th>\n",
       "      <th>25%</th>\n",
       "      <th>50%</th>\n",
       "      <th>75%</th>\n",
       "      <th>max</th>\n",
       "    </tr>\n",
       "  </thead>\n",
       "  <tbody>\n",
       "    <tr>\n",
       "      <th>test_takers</th>\n",
       "      <td>38.0</td>\n",
       "      <td>48394.500000</td>\n",
       "      <td>72753.092558</td>\n",
       "      <td>283.0</td>\n",
       "      <td>6611.00</td>\n",
       "      <td>16370.50</td>\n",
       "      <td>60215.750</td>\n",
       "      <td>331026.00</td>\n",
       "    </tr>\n",
       "    <tr>\n",
       "      <th>percent</th>\n",
       "      <td>38.0</td>\n",
       "      <td>0.025789</td>\n",
       "      <td>0.039975</td>\n",
       "      <td>0.0</td>\n",
       "      <td>0.00</td>\n",
       "      <td>0.01</td>\n",
       "      <td>0.035</td>\n",
       "      <td>0.18</td>\n",
       "    </tr>\n",
       "    <tr>\n",
       "      <th>total</th>\n",
       "      <td>38.0</td>\n",
       "      <td>1058.500000</td>\n",
       "      <td>82.445969</td>\n",
       "      <td>916.0</td>\n",
       "      <td>988.25</td>\n",
       "      <td>1066.50</td>\n",
       "      <td>1115.500</td>\n",
       "      <td>1242.00</td>\n",
       "    </tr>\n",
       "    <tr>\n",
       "      <th>reading_writing</th>\n",
       "      <td>38.0</td>\n",
       "      <td>535.500000</td>\n",
       "      <td>41.362439</td>\n",
       "      <td>458.0</td>\n",
       "      <td>501.25</td>\n",
       "      <td>537.00</td>\n",
       "      <td>569.750</td>\n",
       "      <td>597.00</td>\n",
       "    </tr>\n",
       "    <tr>\n",
       "      <th>math</th>\n",
       "      <td>38.0</td>\n",
       "      <td>523.000000</td>\n",
       "      <td>43.386385</td>\n",
       "      <td>456.0</td>\n",
       "      <td>486.50</td>\n",
       "      <td>527.00</td>\n",
       "      <td>542.250</td>\n",
       "      <td>646.00</td>\n",
       "    </tr>\n",
       "  </tbody>\n",
       "</table>\n",
       "</div>"
      ],
      "text/plain": [
       "                 count          mean           std    min      25%       50%  \\\n",
       "test_takers       38.0  48394.500000  72753.092558  283.0  6611.00  16370.50   \n",
       "percent           38.0      0.025789      0.039975    0.0     0.00      0.01   \n",
       "total             38.0   1058.500000     82.445969  916.0   988.25   1066.50   \n",
       "reading_writing   38.0    535.500000     41.362439  458.0   501.25    537.00   \n",
       "math              38.0    523.000000     43.386385  456.0   486.50    527.00   \n",
       "\n",
       "                       75%        max  \n",
       "test_takers      60215.750  331026.00  \n",
       "percent              0.035       0.18  \n",
       "total             1115.500    1242.00  \n",
       "reading_writing    569.750     597.00  \n",
       "math               542.250     646.00  "
      ]
     },
     "execution_count": 50,
     "metadata": {},
     "output_type": "execute_result"
    }
   ],
   "source": [
    "i_m.describe().T"
   ]
  },
  {
   "cell_type": "markdown",
   "metadata": {},
   "source": []
  },
  {
   "cell_type": "code",
   "execution_count": 51,
   "metadata": {},
   "outputs": [
    {
     "data": {
      "text/html": [
       "<div>\n",
       "<style scoped>\n",
       "    .dataframe tbody tr th:only-of-type {\n",
       "        vertical-align: middle;\n",
       "    }\n",
       "\n",
       "    .dataframe tbody tr th {\n",
       "        vertical-align: top;\n",
       "    }\n",
       "\n",
       "    .dataframe thead th {\n",
       "        text-align: right;\n",
       "    }\n",
       "</style>\n",
       "<table border=\"1\" class=\"dataframe\">\n",
       "  <thead>\n",
       "    <tr style=\"text-align: right;\">\n",
       "      <th></th>\n",
       "      <th>count</th>\n",
       "      <th>mean</th>\n",
       "      <th>std</th>\n",
       "      <th>min</th>\n",
       "      <th>25%</th>\n",
       "      <th>50%</th>\n",
       "      <th>75%</th>\n",
       "      <th>max</th>\n",
       "    </tr>\n",
       "  </thead>\n",
       "  <tbody>\n",
       "    <tr>\n",
       "      <th>number_of_applicants</th>\n",
       "      <td>410.0</td>\n",
       "      <td>17586.614634</td>\n",
       "      <td>17533.678784</td>\n",
       "      <td>211.000</td>\n",
       "      <td>5374.50000</td>\n",
       "      <td>11715.5000</td>\n",
       "      <td>24046.750</td>\n",
       "      <td>111322.000</td>\n",
       "    </tr>\n",
       "    <tr>\n",
       "      <th>accept_rate</th>\n",
       "      <td>410.0</td>\n",
       "      <td>0.553344</td>\n",
       "      <td>0.241454</td>\n",
       "      <td>0.043</td>\n",
       "      <td>0.36875</td>\n",
       "      <td>0.6095</td>\n",
       "      <td>0.741</td>\n",
       "      <td>0.999</td>\n",
       "    </tr>\n",
       "    <tr>\n",
       "      <th>enrolled_lower_sat</th>\n",
       "      <td>410.0</td>\n",
       "      <td>1167.008537</td>\n",
       "      <td>129.586121</td>\n",
       "      <td>793.000</td>\n",
       "      <td>1070.00000</td>\n",
       "      <td>1150.0000</td>\n",
       "      <td>1250.000</td>\n",
       "      <td>1530.000</td>\n",
       "    </tr>\n",
       "    <tr>\n",
       "      <th>enrolled_higher_sat</th>\n",
       "      <td>410.0</td>\n",
       "      <td>1358.892683</td>\n",
       "      <td>111.431443</td>\n",
       "      <td>1050.000</td>\n",
       "      <td>1270.00000</td>\n",
       "      <td>1350.0000</td>\n",
       "      <td>1440.000</td>\n",
       "      <td>1580.000</td>\n",
       "    </tr>\n",
       "  </tbody>\n",
       "</table>\n",
       "</div>"
      ],
      "text/plain": [
       "                      count          mean           std       min         25%  \\\n",
       "number_of_applicants  410.0  17586.614634  17533.678784   211.000  5374.50000   \n",
       "accept_rate           410.0      0.553344      0.241454     0.043     0.36875   \n",
       "enrolled_lower_sat    410.0   1167.008537    129.586121   793.000  1070.00000   \n",
       "enrolled_higher_sat   410.0   1358.892683    111.431443  1050.000  1270.00000   \n",
       "\n",
       "                             50%        75%         max  \n",
       "number_of_applicants  11715.5000  24046.750  111322.000  \n",
       "accept_rate               0.6095      0.741       0.999  \n",
       "enrolled_lower_sat     1150.0000   1250.000    1530.000  \n",
       "enrolled_higher_sat    1350.0000   1440.000    1580.000  "
      ]
     },
     "execution_count": 51,
     "metadata": {},
     "output_type": "execute_result"
    }
   ],
   "source": [
    "colleges.describe().T"
   ]
  },
  {
   "cell_type": "code",
   "execution_count": 52,
   "metadata": {},
   "outputs": [
    {
     "data": {
      "text/html": [
       "<div>\n",
       "<style scoped>\n",
       "    .dataframe tbody tr th:only-of-type {\n",
       "        vertical-align: middle;\n",
       "    }\n",
       "\n",
       "    .dataframe tbody tr th {\n",
       "        vertical-align: top;\n",
       "    }\n",
       "\n",
       "    .dataframe thead th {\n",
       "        text-align: right;\n",
       "    }\n",
       "</style>\n",
       "<table border=\"1\" class=\"dataframe\">\n",
       "  <thead>\n",
       "    <tr style=\"text-align: right;\">\n",
       "      <th></th>\n",
       "      <th>count</th>\n",
       "      <th>mean</th>\n",
       "      <th>std</th>\n",
       "      <th>min</th>\n",
       "      <th>25%</th>\n",
       "      <th>50%</th>\n",
       "      <th>75%</th>\n",
       "      <th>max</th>\n",
       "    </tr>\n",
       "  </thead>\n",
       "  <tbody>\n",
       "    <tr>\n",
       "      <th>participation_17</th>\n",
       "      <td>51.0</td>\n",
       "      <td>0.398039</td>\n",
       "      <td>0.352766</td>\n",
       "      <td>0.02</td>\n",
       "      <td>0.040</td>\n",
       "      <td>0.38</td>\n",
       "      <td>0.660</td>\n",
       "      <td>1.0</td>\n",
       "    </tr>\n",
       "    <tr>\n",
       "      <th>evidence-based_reading_and_writing_17</th>\n",
       "      <td>51.0</td>\n",
       "      <td>569.117647</td>\n",
       "      <td>45.666901</td>\n",
       "      <td>482.00</td>\n",
       "      <td>533.500</td>\n",
       "      <td>559.00</td>\n",
       "      <td>613.000</td>\n",
       "      <td>644.0</td>\n",
       "    </tr>\n",
       "    <tr>\n",
       "      <th>math_17</th>\n",
       "      <td>51.0</td>\n",
       "      <td>547.627451</td>\n",
       "      <td>84.909119</td>\n",
       "      <td>52.00</td>\n",
       "      <td>522.000</td>\n",
       "      <td>548.00</td>\n",
       "      <td>599.000</td>\n",
       "      <td>651.0</td>\n",
       "    </tr>\n",
       "    <tr>\n",
       "      <th>total_17</th>\n",
       "      <td>51.0</td>\n",
       "      <td>1126.098039</td>\n",
       "      <td>92.494812</td>\n",
       "      <td>950.00</td>\n",
       "      <td>1055.500</td>\n",
       "      <td>1107.00</td>\n",
       "      <td>1212.000</td>\n",
       "      <td>1295.0</td>\n",
       "    </tr>\n",
       "    <tr>\n",
       "      <th>participation_18</th>\n",
       "      <td>51.0</td>\n",
       "      <td>0.457451</td>\n",
       "      <td>0.373143</td>\n",
       "      <td>0.02</td>\n",
       "      <td>0.045</td>\n",
       "      <td>0.52</td>\n",
       "      <td>0.775</td>\n",
       "      <td>1.0</td>\n",
       "    </tr>\n",
       "    <tr>\n",
       "      <th>evidence-based_reading_and_writing_18</th>\n",
       "      <td>51.0</td>\n",
       "      <td>563.686275</td>\n",
       "      <td>47.502627</td>\n",
       "      <td>480.00</td>\n",
       "      <td>534.500</td>\n",
       "      <td>552.00</td>\n",
       "      <td>610.500</td>\n",
       "      <td>643.0</td>\n",
       "    </tr>\n",
       "    <tr>\n",
       "      <th>math_18</th>\n",
       "      <td>51.0</td>\n",
       "      <td>556.235294</td>\n",
       "      <td>47.772623</td>\n",
       "      <td>480.00</td>\n",
       "      <td>522.500</td>\n",
       "      <td>544.00</td>\n",
       "      <td>593.500</td>\n",
       "      <td>655.0</td>\n",
       "    </tr>\n",
       "    <tr>\n",
       "      <th>total_18</th>\n",
       "      <td>51.0</td>\n",
       "      <td>1120.019608</td>\n",
       "      <td>94.155083</td>\n",
       "      <td>977.00</td>\n",
       "      <td>1057.500</td>\n",
       "      <td>1098.00</td>\n",
       "      <td>1204.000</td>\n",
       "      <td>1298.0</td>\n",
       "    </tr>\n",
       "    <tr>\n",
       "      <th>participation_19</th>\n",
       "      <td>51.0</td>\n",
       "      <td>0.490588</td>\n",
       "      <td>0.387476</td>\n",
       "      <td>0.02</td>\n",
       "      <td>0.055</td>\n",
       "      <td>0.54</td>\n",
       "      <td>0.820</td>\n",
       "      <td>1.0</td>\n",
       "    </tr>\n",
       "    <tr>\n",
       "      <th>evidence-based_reading_and_writing_19</th>\n",
       "      <td>51.0</td>\n",
       "      <td>560.803922</td>\n",
       "      <td>46.248035</td>\n",
       "      <td>483.00</td>\n",
       "      <td>527.500</td>\n",
       "      <td>550.00</td>\n",
       "      <td>612.000</td>\n",
       "      <td>636.0</td>\n",
       "    </tr>\n",
       "    <tr>\n",
       "      <th>math_19</th>\n",
       "      <td>51.0</td>\n",
       "      <td>552.196078</td>\n",
       "      <td>51.290553</td>\n",
       "      <td>460.00</td>\n",
       "      <td>511.500</td>\n",
       "      <td>546.00</td>\n",
       "      <td>599.000</td>\n",
       "      <td>648.0</td>\n",
       "    </tr>\n",
       "    <tr>\n",
       "      <th>total_19</th>\n",
       "      <td>51.0</td>\n",
       "      <td>1113.078431</td>\n",
       "      <td>97.197910</td>\n",
       "      <td>943.00</td>\n",
       "      <td>1038.000</td>\n",
       "      <td>1097.00</td>\n",
       "      <td>1210.000</td>\n",
       "      <td>1284.0</td>\n",
       "    </tr>\n",
       "  </tbody>\n",
       "</table>\n",
       "</div>"
      ],
      "text/plain": [
       "                                       count         mean        std     min  \\\n",
       "participation_17                        51.0     0.398039   0.352766    0.02   \n",
       "evidence-based_reading_and_writing_17   51.0   569.117647  45.666901  482.00   \n",
       "math_17                                 51.0   547.627451  84.909119   52.00   \n",
       "total_17                                51.0  1126.098039  92.494812  950.00   \n",
       "participation_18                        51.0     0.457451   0.373143    0.02   \n",
       "evidence-based_reading_and_writing_18   51.0   563.686275  47.502627  480.00   \n",
       "math_18                                 51.0   556.235294  47.772623  480.00   \n",
       "total_18                                51.0  1120.019608  94.155083  977.00   \n",
       "participation_19                        51.0     0.490588   0.387476    0.02   \n",
       "evidence-based_reading_and_writing_19   51.0   560.803922  46.248035  483.00   \n",
       "math_19                                 51.0   552.196078  51.290553  460.00   \n",
       "total_19                                51.0  1113.078431  97.197910  943.00   \n",
       "\n",
       "                                            25%      50%       75%     max  \n",
       "participation_17                          0.040     0.38     0.660     1.0  \n",
       "evidence-based_reading_and_writing_17   533.500   559.00   613.000   644.0  \n",
       "math_17                                 522.000   548.00   599.000   651.0  \n",
       "total_17                               1055.500  1107.00  1212.000  1295.0  \n",
       "participation_18                          0.045     0.52     0.775     1.0  \n",
       "evidence-based_reading_and_writing_18   534.500   552.00   610.500   643.0  \n",
       "math_18                                 522.500   544.00   593.500   655.0  \n",
       "total_18                               1057.500  1098.00  1204.000  1298.0  \n",
       "participation_19                          0.055     0.54     0.820     1.0  \n",
       "evidence-based_reading_and_writing_19   527.500   550.00   612.000   636.0  \n",
       "math_19                                 511.500   546.00   599.000   648.0  \n",
       "total_19                               1038.000  1097.00  1210.000  1284.0  "
      ]
     },
     "execution_count": 52,
     "metadata": {},
     "output_type": "execute_result"
    }
   ],
   "source": [
    "sat.describe().T"
   ]
  },
  {
   "cell_type": "markdown",
   "metadata": {},
   "source": [
    "### Dict Comp "
   ]
  },
  {
   "cell_type": "code",
   "execution_count": 53,
   "metadata": {},
   "outputs": [
    {
     "data": {
      "text/plain": [
       "Index(['intended_college_major', 'test_takers', 'percent', 'total',\n",
       "       'reading_writing', 'math'],\n",
       "      dtype='object')"
      ]
     },
     "execution_count": 53,
     "metadata": {},
     "output_type": "execute_result"
    }
   ],
   "source": [
    "#how you check the dtype of an individual columns\n",
    "i_m['intended_college_major'].dtype=='int64'\n",
    "\n",
    "#i_m.columns is an iterable to put into index of im['']\n",
    "i_m.columns"
   ]
  },
  {
   "cell_type": "code",
   "execution_count": 54,
   "metadata": {},
   "outputs": [],
   "source": [
    "#applying standard deviation to each column that has been specified as a float or int type\n",
    "def dic_st_dev(df):\n",
    "    sd = {v.name: stand_dev(v) for v in [df[x] for x in df.columns if (df[x].dtype=='float64') or (df[x].dtype=='int64')]}\n",
    "    return sd"
   ]
  },
  {
   "cell_type": "code",
   "execution_count": 55,
   "metadata": {},
   "outputs": [
    {
     "data": {
      "text/plain": [
       "{'test_takers': 71789.43289002257,\n",
       " 'percent': 0.03944560404747735,\n",
       " 'total': 81.35392139482761,\n",
       " 'reading_writing': 40.814567832679806,\n",
       " 'math': 42.811705236572365}"
      ]
     },
     "execution_count": 55,
     "metadata": {},
     "output_type": "execute_result"
    }
   ],
   "source": [
    "sd_i_m = dic_st_dev(i_m)\n",
    "sd_i_m"
   ]
  },
  {
   "cell_type": "code",
   "execution_count": 56,
   "metadata": {},
   "outputs": [
    {
     "data": {
      "text/plain": [
       "{'number_of_applicants': 17512.283194814878,\n",
       " 'accept_rate': 0.2411598625229497,\n",
       " 'enrolled_lower_sat': 129.4279931658202,\n",
       " 'enrolled_higher_sat': 111.29546785908504}"
      ]
     },
     "execution_count": 56,
     "metadata": {},
     "output_type": "execute_result"
    }
   ],
   "source": [
    "sd_colleges = dic_st_dev(colleges)\n",
    "sd_colleges"
   ]
  },
  {
   "cell_type": "code",
   "execution_count": 57,
   "metadata": {},
   "outputs": [
    {
     "data": {
      "text/plain": [
       "{'participation_17': 0.3492907076664507,\n",
       " 'evidence-based_reading_and_writing_17': 45.21697020437866,\n",
       " 'math_17': 84.07255521608297,\n",
       " 'total_17': 91.58351056778743,\n",
       " 'participation_18': 0.3694661922353942,\n",
       " 'evidence-based_reading_and_writing_18': 47.03460978357609,\n",
       " 'math_18': 47.30194550378352,\n",
       " 'total_18': 93.22742384464433,\n",
       " 'participation_19': 0.3836584048685726,\n",
       " 'evidence-based_reading_and_writing_19': 45.792378682545134,\n",
       " 'math_19': 50.78521461840036,\n",
       " 'total_19': 96.24027185617864}"
      ]
     },
     "execution_count": 57,
     "metadata": {},
     "output_type": "execute_result"
    }
   ],
   "source": [
    "sd_sat = dic_st_dev(sat)\n",
    "sd_sat"
   ]
  },
  {
   "cell_type": "markdown",
   "metadata": {},
   "source": [
    "## Trends in data"
   ]
  },
  {
   "cell_type": "markdown",
   "metadata": {},
   "source": [
    "### 1. Creating `prestige_signal`\n",
    "\n",
    "This signal will **represent the \"prestige\" of the school** based on the ranking of:\n",
    "- number of applicants \n",
    "- acceptance rates \n",
    "- SAT range performance "
   ]
  },
  {
   "cell_type": "markdown",
   "metadata": {},
   "source": [
    "**STEP 1. Establishing the rankings of all school variables as a percentage from 0 - 1**"
   ]
  },
  {
   "cell_type": "code",
   "execution_count": 58,
   "metadata": {},
   "outputs": [],
   "source": [
    "# This function is specialised for the colleges dataframe\n",
    "def get_ranking(df):\n",
    "    #1. iterating through df columns\n",
    "    for x in df.columns:\n",
    "        #2. if it isn't acceptance rate, it will be ranking in ascending order \n",
    "        if x != 'accept_rate':\n",
    "            df[x] = df[x].rank(pct = True)\n",
    "        #3. acceptance rate needs to be ranked in reverse as lower is considered more prestigious\n",
    "        else:\n",
    "            df[x] = df[x].rank(pct = True, ascending = False)\n",
    "    return  \n"
   ]
  },
  {
   "cell_type": "markdown",
   "metadata": {},
   "source": [
    "**STEP 2. Prestige signal is considered the sum of these rankings**"
   ]
  },
  {
   "cell_type": "code",
   "execution_count": 59,
   "metadata": {},
   "outputs": [],
   "source": [
    "#creating a copy of colleges as the function will transform the actual values \n",
    "ranking = colleges.copy()"
   ]
  },
  {
   "cell_type": "code",
   "execution_count": 60,
   "metadata": {},
   "outputs": [],
   "source": [
    "#applying get_ranking function\n",
    "get_ranking(ranking)"
   ]
  },
  {
   "cell_type": "code",
   "execution_count": 61,
   "metadata": {},
   "outputs": [
    {
     "data": {
      "text/html": [
       "<div>\n",
       "<style scoped>\n",
       "    .dataframe tbody tr th:only-of-type {\n",
       "        vertical-align: middle;\n",
       "    }\n",
       "\n",
       "    .dataframe tbody tr th {\n",
       "        vertical-align: top;\n",
       "    }\n",
       "\n",
       "    .dataframe thead th {\n",
       "        text-align: right;\n",
       "    }\n",
       "</style>\n",
       "<table border=\"1\" class=\"dataframe\">\n",
       "  <thead>\n",
       "    <tr style=\"text-align: right;\">\n",
       "      <th></th>\n",
       "      <th>number_of_applicants</th>\n",
       "      <th>accept_rate</th>\n",
       "      <th>enrolled_lower_sat</th>\n",
       "      <th>enrolled_higher_sat</th>\n",
       "    </tr>\n",
       "    <tr>\n",
       "      <th>School</th>\n",
       "      <th></th>\n",
       "      <th></th>\n",
       "      <th></th>\n",
       "      <th></th>\n",
       "    </tr>\n",
       "  </thead>\n",
       "  <tbody>\n",
       "    <tr>\n",
       "      <th>Stanford University</th>\n",
       "      <td>0.943902</td>\n",
       "      <td>1.000000</td>\n",
       "      <td>0.960976</td>\n",
       "      <td>0.987805</td>\n",
       "    </tr>\n",
       "    <tr>\n",
       "      <th>Harvard College</th>\n",
       "      <td>0.921951</td>\n",
       "      <td>0.997561</td>\n",
       "      <td>0.981707</td>\n",
       "      <td>1.000000</td>\n",
       "    </tr>\n",
       "    <tr>\n",
       "      <th>Princeton University</th>\n",
       "      <td>0.853659</td>\n",
       "      <td>0.993902</td>\n",
       "      <td>0.960976</td>\n",
       "      <td>0.987805</td>\n",
       "    </tr>\n",
       "    <tr>\n",
       "      <th>Columbia University</th>\n",
       "      <td>0.897561</td>\n",
       "      <td>0.993902</td>\n",
       "      <td>0.971951</td>\n",
       "      <td>0.965854</td>\n",
       "    </tr>\n",
       "    <tr>\n",
       "      <th>Yale University</th>\n",
       "      <td>0.868293</td>\n",
       "      <td>0.990244</td>\n",
       "      <td>0.981707</td>\n",
       "      <td>0.987805</td>\n",
       "    </tr>\n",
       "  </tbody>\n",
       "</table>\n",
       "</div>"
      ],
      "text/plain": [
       "                      number_of_applicants  accept_rate  enrolled_lower_sat  \\\n",
       "School                                                                        \n",
       "Stanford University               0.943902     1.000000            0.960976   \n",
       "Harvard College                   0.921951     0.997561            0.981707   \n",
       "Princeton University              0.853659     0.993902            0.960976   \n",
       "Columbia University               0.897561     0.993902            0.971951   \n",
       "Yale University                   0.868293     0.990244            0.981707   \n",
       "\n",
       "                      enrolled_higher_sat  \n",
       "School                                     \n",
       "Stanford University              0.987805  \n",
       "Harvard College                  1.000000  \n",
       "Princeton University             0.987805  \n",
       "Columbia University              0.965854  \n",
       "Yale University                  0.987805  "
      ]
     },
     "execution_count": 61,
     "metadata": {},
     "output_type": "execute_result"
    }
   ],
   "source": [
    "ranking.head()"
   ]
  },
  {
   "cell_type": "code",
   "execution_count": 62,
   "metadata": {},
   "outputs": [
    {
     "data": {
      "text/html": [
       "<div>\n",
       "<style scoped>\n",
       "    .dataframe tbody tr th:only-of-type {\n",
       "        vertical-align: middle;\n",
       "    }\n",
       "\n",
       "    .dataframe tbody tr th {\n",
       "        vertical-align: top;\n",
       "    }\n",
       "\n",
       "    .dataframe thead th {\n",
       "        text-align: right;\n",
       "    }\n",
       "</style>\n",
       "<table border=\"1\" class=\"dataframe\">\n",
       "  <thead>\n",
       "    <tr style=\"text-align: right;\">\n",
       "      <th></th>\n",
       "      <th>number_of_applicants</th>\n",
       "      <th>accept_rate</th>\n",
       "      <th>enrolled_lower_sat</th>\n",
       "      <th>enrolled_higher_sat</th>\n",
       "      <th>prestige_signal</th>\n",
       "    </tr>\n",
       "    <tr>\n",
       "      <th>School</th>\n",
       "      <th></th>\n",
       "      <th></th>\n",
       "      <th></th>\n",
       "      <th></th>\n",
       "      <th></th>\n",
       "    </tr>\n",
       "  </thead>\n",
       "  <tbody>\n",
       "    <tr>\n",
       "      <th>Stanford University</th>\n",
       "      <td>0.943902</td>\n",
       "      <td>1.000000</td>\n",
       "      <td>0.960976</td>\n",
       "      <td>0.987805</td>\n",
       "      <td>3.892683</td>\n",
       "    </tr>\n",
       "    <tr>\n",
       "      <th>Harvard College</th>\n",
       "      <td>0.921951</td>\n",
       "      <td>0.997561</td>\n",
       "      <td>0.981707</td>\n",
       "      <td>1.000000</td>\n",
       "      <td>3.901220</td>\n",
       "    </tr>\n",
       "    <tr>\n",
       "      <th>Princeton University</th>\n",
       "      <td>0.853659</td>\n",
       "      <td>0.993902</td>\n",
       "      <td>0.960976</td>\n",
       "      <td>0.987805</td>\n",
       "      <td>3.796341</td>\n",
       "    </tr>\n",
       "    <tr>\n",
       "      <th>Columbia University</th>\n",
       "      <td>0.897561</td>\n",
       "      <td>0.993902</td>\n",
       "      <td>0.971951</td>\n",
       "      <td>0.965854</td>\n",
       "      <td>3.829268</td>\n",
       "    </tr>\n",
       "    <tr>\n",
       "      <th>Yale University</th>\n",
       "      <td>0.868293</td>\n",
       "      <td>0.990244</td>\n",
       "      <td>0.981707</td>\n",
       "      <td>0.987805</td>\n",
       "      <td>3.828049</td>\n",
       "    </tr>\n",
       "  </tbody>\n",
       "</table>\n",
       "</div>"
      ],
      "text/plain": [
       "                      number_of_applicants  accept_rate  enrolled_lower_sat  \\\n",
       "School                                                                        \n",
       "Stanford University               0.943902     1.000000            0.960976   \n",
       "Harvard College                   0.921951     0.997561            0.981707   \n",
       "Princeton University              0.853659     0.993902            0.960976   \n",
       "Columbia University               0.897561     0.993902            0.971951   \n",
       "Yale University                   0.868293     0.990244            0.981707   \n",
       "\n",
       "                      enrolled_higher_sat  prestige_signal  \n",
       "School                                                      \n",
       "Stanford University              0.987805         3.892683  \n",
       "Harvard College                  1.000000         3.901220  \n",
       "Princeton University             0.987805         3.796341  \n",
       "Columbia University              0.965854         3.829268  \n",
       "Yale University                  0.987805         3.828049  "
      ]
     },
     "execution_count": 62,
     "metadata": {},
     "output_type": "execute_result"
    }
   ],
   "source": [
    "# prestige_signal is represented as the sum of all rankings\n",
    "ranking['prestige_signal'] = ranking[['number_of_applicants', 'accept_rate','enrolled_lower_sat', 'enrolled_higher_sat']].sum(axis = 1)\n",
    "ranking.head()"
   ]
  },
  {
   "cell_type": "markdown",
   "metadata": {},
   "source": [
    "**STEP 3. Assigning prestige signal to respective colleges**"
   ]
  },
  {
   "cell_type": "code",
   "execution_count": 63,
   "metadata": {},
   "outputs": [],
   "source": [
    "#adding the prestige signal to the original colleges dataframe\n",
    "colleges['prestige_signal'] = ranking['prestige_signal']"
   ]
  },
  {
   "cell_type": "code",
   "execution_count": 64,
   "metadata": {},
   "outputs": [
    {
     "data": {
      "text/html": [
       "<div>\n",
       "<style scoped>\n",
       "    .dataframe tbody tr th:only-of-type {\n",
       "        vertical-align: middle;\n",
       "    }\n",
       "\n",
       "    .dataframe tbody tr th {\n",
       "        vertical-align: top;\n",
       "    }\n",
       "\n",
       "    .dataframe thead th {\n",
       "        text-align: right;\n",
       "    }\n",
       "</style>\n",
       "<table border=\"1\" class=\"dataframe\">\n",
       "  <thead>\n",
       "    <tr style=\"text-align: right;\">\n",
       "      <th></th>\n",
       "      <th>number_of_applicants</th>\n",
       "      <th>accept_rate</th>\n",
       "      <th>enrolled_lower_sat</th>\n",
       "      <th>enrolled_higher_sat</th>\n",
       "      <th>prestige_signal</th>\n",
       "    </tr>\n",
       "    <tr>\n",
       "      <th>School</th>\n",
       "      <th></th>\n",
       "      <th></th>\n",
       "      <th></th>\n",
       "      <th></th>\n",
       "      <th></th>\n",
       "    </tr>\n",
       "  </thead>\n",
       "  <tbody>\n",
       "    <tr>\n",
       "      <th>Stanford University</th>\n",
       "      <td>47452</td>\n",
       "      <td>0.043</td>\n",
       "      <td>1440.0</td>\n",
       "      <td>1570.0</td>\n",
       "      <td>3.892683</td>\n",
       "    </tr>\n",
       "    <tr>\n",
       "      <th>Harvard College</th>\n",
       "      <td>42749</td>\n",
       "      <td>0.047</td>\n",
       "      <td>1460.0</td>\n",
       "      <td>1580.0</td>\n",
       "      <td>3.901220</td>\n",
       "    </tr>\n",
       "    <tr>\n",
       "      <th>Princeton University</th>\n",
       "      <td>35370</td>\n",
       "      <td>0.055</td>\n",
       "      <td>1440.0</td>\n",
       "      <td>1570.0</td>\n",
       "      <td>3.796341</td>\n",
       "    </tr>\n",
       "    <tr>\n",
       "      <th>Columbia University</th>\n",
       "      <td>40203</td>\n",
       "      <td>0.055</td>\n",
       "      <td>1450.0</td>\n",
       "      <td>1560.0</td>\n",
       "      <td>3.829268</td>\n",
       "    </tr>\n",
       "    <tr>\n",
       "      <th>Yale University</th>\n",
       "      <td>36844</td>\n",
       "      <td>0.061</td>\n",
       "      <td>1460.0</td>\n",
       "      <td>1570.0</td>\n",
       "      <td>3.828049</td>\n",
       "    </tr>\n",
       "  </tbody>\n",
       "</table>\n",
       "</div>"
      ],
      "text/plain": [
       "                      number_of_applicants  accept_rate  enrolled_lower_sat  \\\n",
       "School                                                                        \n",
       "Stanford University                  47452        0.043              1440.0   \n",
       "Harvard College                      42749        0.047              1460.0   \n",
       "Princeton University                 35370        0.055              1440.0   \n",
       "Columbia University                  40203        0.055              1450.0   \n",
       "Yale University                      36844        0.061              1460.0   \n",
       "\n",
       "                      enrolled_higher_sat  prestige_signal  \n",
       "School                                                      \n",
       "Stanford University                1570.0         3.892683  \n",
       "Harvard College                    1580.0         3.901220  \n",
       "Princeton University               1570.0         3.796341  \n",
       "Columbia University                1560.0         3.829268  \n",
       "Yale University                    1570.0         3.828049  "
      ]
     },
     "execution_count": 64,
     "metadata": {},
     "output_type": "execute_result"
    }
   ],
   "source": [
    "colleges.head()"
   ]
  },
  {
   "cell_type": "markdown",
   "metadata": {},
   "source": [
    "#### 1a. Discriminating colleges with a `prestige_signal` under the 80th percentile"
   ]
  },
  {
   "cell_type": "code",
   "execution_count": 65,
   "metadata": {},
   "outputs": [
    {
     "data": {
      "text/html": [
       "<div>\n",
       "<style scoped>\n",
       "    .dataframe tbody tr th:only-of-type {\n",
       "        vertical-align: middle;\n",
       "    }\n",
       "\n",
       "    .dataframe tbody tr th {\n",
       "        vertical-align: top;\n",
       "    }\n",
       "\n",
       "    .dataframe thead th {\n",
       "        text-align: right;\n",
       "    }\n",
       "</style>\n",
       "<table border=\"1\" class=\"dataframe\">\n",
       "  <thead>\n",
       "    <tr style=\"text-align: right;\">\n",
       "      <th></th>\n",
       "      <th>number_of_applicants</th>\n",
       "      <th>accept_rate</th>\n",
       "      <th>enrolled_lower_sat</th>\n",
       "      <th>enrolled_higher_sat</th>\n",
       "      <th>prestige_signal</th>\n",
       "    </tr>\n",
       "    <tr>\n",
       "      <th>School</th>\n",
       "      <th></th>\n",
       "      <th></th>\n",
       "      <th></th>\n",
       "      <th></th>\n",
       "      <th></th>\n",
       "    </tr>\n",
       "  </thead>\n",
       "  <tbody>\n",
       "    <tr>\n",
       "      <th>Harvard College</th>\n",
       "      <td>42749</td>\n",
       "      <td>0.047</td>\n",
       "      <td>1460.0</td>\n",
       "      <td>1580.0</td>\n",
       "      <td>3.901220</td>\n",
       "    </tr>\n",
       "    <tr>\n",
       "      <th>Stanford University</th>\n",
       "      <td>47452</td>\n",
       "      <td>0.043</td>\n",
       "      <td>1440.0</td>\n",
       "      <td>1570.0</td>\n",
       "      <td>3.892683</td>\n",
       "    </tr>\n",
       "    <tr>\n",
       "      <th>University of Pennsylvania</th>\n",
       "      <td>44961</td>\n",
       "      <td>0.077</td>\n",
       "      <td>1450.0</td>\n",
       "      <td>1560.0</td>\n",
       "      <td>3.850000</td>\n",
       "    </tr>\n",
       "    <tr>\n",
       "      <th>Columbia University</th>\n",
       "      <td>40203</td>\n",
       "      <td>0.055</td>\n",
       "      <td>1450.0</td>\n",
       "      <td>1560.0</td>\n",
       "      <td>3.829268</td>\n",
       "    </tr>\n",
       "    <tr>\n",
       "      <th>Yale University</th>\n",
       "      <td>36844</td>\n",
       "      <td>0.061</td>\n",
       "      <td>1460.0</td>\n",
       "      <td>1570.0</td>\n",
       "      <td>3.828049</td>\n",
       "    </tr>\n",
       "  </tbody>\n",
       "</table>\n",
       "</div>"
      ],
      "text/plain": [
       "                            number_of_applicants  accept_rate  \\\n",
       "School                                                          \n",
       "Harvard College                            42749        0.047   \n",
       "Stanford University                        47452        0.043   \n",
       "University of Pennsylvania                 44961        0.077   \n",
       "Columbia University                        40203        0.055   \n",
       "Yale University                            36844        0.061   \n",
       "\n",
       "                            enrolled_lower_sat  enrolled_higher_sat  \\\n",
       "School                                                                \n",
       "Harvard College                         1460.0               1580.0   \n",
       "Stanford University                     1440.0               1570.0   \n",
       "University of Pennsylvania              1450.0               1560.0   \n",
       "Columbia University                     1450.0               1560.0   \n",
       "Yale University                         1460.0               1570.0   \n",
       "\n",
       "                            prestige_signal  \n",
       "School                                       \n",
       "Harvard College                    3.901220  \n",
       "Stanford University                3.892683  \n",
       "University of Pennsylvania         3.850000  \n",
       "Columbia University                3.829268  \n",
       "Yale University                    3.828049  "
      ]
     },
     "execution_count": 65,
     "metadata": {},
     "output_type": "execute_result"
    }
   ],
   "source": [
    "#these are considered to be the 5 most prestigious schools\n",
    "colleges.sort_values(by = ['prestige_signal'], ascending = False, axis = 0).head()"
   ]
  },
  {
   "cell_type": "code",
   "execution_count": 66,
   "metadata": {},
   "outputs": [],
   "source": [
    "#function that takes in the series and indicated percentile value \n",
    "def get_percentile(series, x):\n",
    "    return np.percentile(series, x)"
   ]
  },
  {
   "cell_type": "code",
   "execution_count": 67,
   "metadata": {},
   "outputs": [
    {
     "data": {
      "text/plain": [
       "2.9282926829268296"
      ]
     },
     "execution_count": 67,
     "metadata": {},
     "output_type": "execute_result"
    }
   ],
   "source": [
    "#defining that the 80th percentile will be the threshold for schools to be considered 'prestigious' under the prestige signal\n",
    "prestige_threshold = get_percentile(colleges['prestige_signal'], 80)\n",
    "prestige_threshold"
   ]
  },
  {
   "cell_type": "code",
   "execution_count": 68,
   "metadata": {},
   "outputs": [
    {
     "data": {
      "text/plain": [
       "(82, 5)"
      ]
     },
     "execution_count": 68,
     "metadata": {},
     "output_type": "execute_result"
    }
   ],
   "source": [
    "#defining that a prestigious school is above 80th percentile\n",
    "#number of schools have been reduced from 410 to 82\n",
    "prestigious_colleges = colleges[colleges['prestige_signal'] > prestige_threshold]\n",
    "prestigious_colleges.shape"
   ]
  },
  {
   "cell_type": "markdown",
   "metadata": {},
   "source": [
    "### 2. Defining the `min target` and the `safe target`"
   ]
  },
  {
   "cell_type": "code",
   "execution_count": 69,
   "metadata": {},
   "outputs": [
    {
     "data": {
      "text/html": [
       "<div>\n",
       "<style scoped>\n",
       "    .dataframe tbody tr th:only-of-type {\n",
       "        vertical-align: middle;\n",
       "    }\n",
       "\n",
       "    .dataframe tbody tr th {\n",
       "        vertical-align: top;\n",
       "    }\n",
       "\n",
       "    .dataframe thead th {\n",
       "        text-align: right;\n",
       "    }\n",
       "</style>\n",
       "<table border=\"1\" class=\"dataframe\">\n",
       "  <thead>\n",
       "    <tr style=\"text-align: right;\">\n",
       "      <th></th>\n",
       "      <th>min</th>\n",
       "      <th>max</th>\n",
       "      <th>mean</th>\n",
       "    </tr>\n",
       "  </thead>\n",
       "  <tbody>\n",
       "    <tr>\n",
       "      <th>number_of_applicants</th>\n",
       "      <td>4045.000000</td>\n",
       "      <td>111322.00000</td>\n",
       "      <td>32929.329268</td>\n",
       "    </tr>\n",
       "    <tr>\n",
       "      <th>accept_rate</th>\n",
       "      <td>0.043000</td>\n",
       "      <td>0.59000</td>\n",
       "      <td>0.213183</td>\n",
       "    </tr>\n",
       "    <tr>\n",
       "      <th>enrolled_lower_sat</th>\n",
       "      <td>1180.000000</td>\n",
       "      <td>1530.00000</td>\n",
       "      <td>1352.682927</td>\n",
       "    </tr>\n",
       "    <tr>\n",
       "      <th>enrolled_higher_sat</th>\n",
       "      <td>1420.000000</td>\n",
       "      <td>1580.00000</td>\n",
       "      <td>1513.902439</td>\n",
       "    </tr>\n",
       "    <tr>\n",
       "      <th>prestige_signal</th>\n",
       "      <td>2.929268</td>\n",
       "      <td>3.90122</td>\n",
       "      <td>3.363727</td>\n",
       "    </tr>\n",
       "  </tbody>\n",
       "</table>\n",
       "</div>"
      ],
      "text/plain": [
       "                              min           max          mean\n",
       "number_of_applicants  4045.000000  111322.00000  32929.329268\n",
       "accept_rate              0.043000       0.59000      0.213183\n",
       "enrolled_lower_sat    1180.000000    1530.00000   1352.682927\n",
       "enrolled_higher_sat   1420.000000    1580.00000   1513.902439\n",
       "prestige_signal          2.929268       3.90122      3.363727"
      ]
     },
     "execution_count": 69,
     "metadata": {},
     "output_type": "execute_result"
    }
   ],
   "source": [
    "prestigious_colleges.aggregate([min,max,np.mean]).T"
   ]
  },
  {
   "cell_type": "markdown",
   "metadata": {},
   "source": [
    "Since we are concerned about the typical SAT score that will get students accepted; <br> **From `enrolled_lower_sat` and `enrolled_higher_sat`:**\n",
    "- **1180** is the **absolute minimum required for enrollment into a prestigious school** which will be referred to as the `min target`\n",
    "- The mean of the 25th and 75th percentiles represents overall 25th and 75th percentile SAT scores that belong to students that are enrolled in prestigious schools.<br> **1353 - 1514** Is considered as the **\"safe target range\"**, whereas the minimum of the 25th percentile mean (**1353**) will be considered `safe target`"
   ]
  },
  {
   "cell_type": "markdown",
   "metadata": {},
   "source": [
    "### 3. How are students performing against the `min target` and `safe target`?"
   ]
  },
  {
   "cell_type": "markdown",
   "metadata": {},
   "source": [
    "**METHOD:** develop a `comparison value` that simply divides the SAT total of each observation with the `min` and `safe` targets. This represents the disparity **between SAT mean of observations and SAT target**."
   ]
  },
  {
   "cell_type": "markdown",
   "metadata": {},
   "source": [
    "#### 3a. **Intended College Majors** SAT performance vs **Prestigious schools'** SAT targets"
   ]
  },
  {
   "cell_type": "code",
   "execution_count": 70,
   "metadata": {},
   "outputs": [
    {
     "data": {
      "text/html": [
       "<div>\n",
       "<style scoped>\n",
       "    .dataframe tbody tr th:only-of-type {\n",
       "        vertical-align: middle;\n",
       "    }\n",
       "\n",
       "    .dataframe tbody tr th {\n",
       "        vertical-align: top;\n",
       "    }\n",
       "\n",
       "    .dataframe thead th {\n",
       "        text-align: right;\n",
       "    }\n",
       "</style>\n",
       "<table border=\"1\" class=\"dataframe\">\n",
       "  <thead>\n",
       "    <tr style=\"text-align: right;\">\n",
       "      <th></th>\n",
       "      <th>intended_college_major</th>\n",
       "      <th>test_takers</th>\n",
       "      <th>percent</th>\n",
       "      <th>total</th>\n",
       "      <th>reading_writing</th>\n",
       "      <th>math</th>\n",
       "    </tr>\n",
       "  </thead>\n",
       "  <tbody>\n",
       "    <tr>\n",
       "      <th>19</th>\n",
       "      <td>Mathematics and Statistics</td>\n",
       "      <td>16508</td>\n",
       "      <td>0.01</td>\n",
       "      <td>1242</td>\n",
       "      <td>597</td>\n",
       "      <td>646</td>\n",
       "    </tr>\n",
       "    <tr>\n",
       "      <th>27</th>\n",
       "      <td>Physical Sciences</td>\n",
       "      <td>26318</td>\n",
       "      <td>0.01</td>\n",
       "      <td>1203</td>\n",
       "      <td>597</td>\n",
       "      <td>606</td>\n",
       "    </tr>\n",
       "    <tr>\n",
       "      <th>32</th>\n",
       "      <td>Social Sciences</td>\n",
       "      <td>33356</td>\n",
       "      <td>0.02</td>\n",
       "      <td>1164</td>\n",
       "      <td>594</td>\n",
       "      <td>570</td>\n",
       "    </tr>\n",
       "    <tr>\n",
       "      <th>6</th>\n",
       "      <td>Computer and Information Sciences and Support ...</td>\n",
       "      <td>79736</td>\n",
       "      <td>0.04</td>\n",
       "      <td>1156</td>\n",
       "      <td>571</td>\n",
       "      <td>585</td>\n",
       "    </tr>\n",
       "    <tr>\n",
       "      <th>22</th>\n",
       "      <td>Multi/Interdisciplinary Studies</td>\n",
       "      <td>2979</td>\n",
       "      <td>0.00</td>\n",
       "      <td>1155</td>\n",
       "      <td>581</td>\n",
       "      <td>574</td>\n",
       "    </tr>\n",
       "  </tbody>\n",
       "</table>\n",
       "</div>"
      ],
      "text/plain": [
       "                               intended_college_major  test_takers  percent  \\\n",
       "19                         Mathematics and Statistics        16508     0.01   \n",
       "27                                  Physical Sciences        26318     0.01   \n",
       "32                                    Social Sciences        33356     0.02   \n",
       "6   Computer and Information Sciences and Support ...        79736     0.04   \n",
       "22                    Multi/Interdisciplinary Studies         2979     0.00   \n",
       "\n",
       "    total  reading_writing  math  \n",
       "19   1242              597   646  \n",
       "27   1203              597   606  \n",
       "32   1164              594   570  \n",
       "6    1156              571   585  \n",
       "22   1155              581   574  "
      ]
     },
     "execution_count": 70,
     "metadata": {},
     "output_type": "execute_result"
    }
   ],
   "source": [
    "#these are the highest performing cohorts in regards to SAT total\n",
    "i_m.sort_values('total', ascending = False).head()"
   ]
  },
  {
   "cell_type": "markdown",
   "metadata": {},
   "source": [
    "**STEP 1. `comparison value` for each intended college major cohort:**"
   ]
  },
  {
   "cell_type": "code",
   "execution_count": 71,
   "metadata": {},
   "outputs": [],
   "source": [
    "#fucntion that outlines the disparity between the cohort SAT performance against the min and mean SAT targets outlined- specific to i_m dataframe\n",
    "def compare_to_targets(data):\n",
    "    data['compare_min'] = data['total']/ 1180\n",
    "    data['compare_safe'] = data['total']/ 1353\n",
    "    return\n"
   ]
  },
  {
   "cell_type": "code",
   "execution_count": 72,
   "metadata": {},
   "outputs": [],
   "source": [
    "compare_to_targets(i_m)"
   ]
  },
  {
   "cell_type": "code",
   "execution_count": 73,
   "metadata": {},
   "outputs": [
    {
     "data": {
      "text/html": [
       "<div>\n",
       "<style scoped>\n",
       "    .dataframe tbody tr th:only-of-type {\n",
       "        vertical-align: middle;\n",
       "    }\n",
       "\n",
       "    .dataframe tbody tr th {\n",
       "        vertical-align: top;\n",
       "    }\n",
       "\n",
       "    .dataframe thead th {\n",
       "        text-align: right;\n",
       "    }\n",
       "</style>\n",
       "<table border=\"1\" class=\"dataframe\">\n",
       "  <thead>\n",
       "    <tr style=\"text-align: right;\">\n",
       "      <th></th>\n",
       "      <th>intended_college_major</th>\n",
       "      <th>test_takers</th>\n",
       "      <th>percent</th>\n",
       "      <th>total</th>\n",
       "      <th>reading_writing</th>\n",
       "      <th>math</th>\n",
       "      <th>compare_min</th>\n",
       "      <th>compare_safe</th>\n",
       "    </tr>\n",
       "  </thead>\n",
       "  <tbody>\n",
       "    <tr>\n",
       "      <th>19</th>\n",
       "      <td>Mathematics and Statistics</td>\n",
       "      <td>16508</td>\n",
       "      <td>0.01</td>\n",
       "      <td>1242</td>\n",
       "      <td>597</td>\n",
       "      <td>646</td>\n",
       "      <td>1.052542</td>\n",
       "      <td>0.917960</td>\n",
       "    </tr>\n",
       "    <tr>\n",
       "      <th>27</th>\n",
       "      <td>Physical Sciences</td>\n",
       "      <td>26318</td>\n",
       "      <td>0.01</td>\n",
       "      <td>1203</td>\n",
       "      <td>597</td>\n",
       "      <td>606</td>\n",
       "      <td>1.019492</td>\n",
       "      <td>0.889135</td>\n",
       "    </tr>\n",
       "    <tr>\n",
       "      <th>32</th>\n",
       "      <td>Social Sciences</td>\n",
       "      <td>33356</td>\n",
       "      <td>0.02</td>\n",
       "      <td>1164</td>\n",
       "      <td>594</td>\n",
       "      <td>570</td>\n",
       "      <td>0.986441</td>\n",
       "      <td>0.860310</td>\n",
       "    </tr>\n",
       "    <tr>\n",
       "      <th>6</th>\n",
       "      <td>Computer and Information Sciences and Support ...</td>\n",
       "      <td>79736</td>\n",
       "      <td>0.04</td>\n",
       "      <td>1156</td>\n",
       "      <td>571</td>\n",
       "      <td>585</td>\n",
       "      <td>0.979661</td>\n",
       "      <td>0.854398</td>\n",
       "    </tr>\n",
       "    <tr>\n",
       "      <th>22</th>\n",
       "      <td>Multi/Interdisciplinary Studies</td>\n",
       "      <td>2979</td>\n",
       "      <td>0.00</td>\n",
       "      <td>1155</td>\n",
       "      <td>581</td>\n",
       "      <td>574</td>\n",
       "      <td>0.978814</td>\n",
       "      <td>0.853659</td>\n",
       "    </tr>\n",
       "    <tr>\n",
       "      <th>17</th>\n",
       "      <td>Liberal Arts and Sciences, General Studies and...</td>\n",
       "      <td>8611</td>\n",
       "      <td>0.00</td>\n",
       "      <td>1140</td>\n",
       "      <td>584</td>\n",
       "      <td>556</td>\n",
       "      <td>0.966102</td>\n",
       "      <td>0.842572</td>\n",
       "    </tr>\n",
       "  </tbody>\n",
       "</table>\n",
       "</div>"
      ],
      "text/plain": [
       "                               intended_college_major  test_takers  percent  \\\n",
       "19                         Mathematics and Statistics        16508     0.01   \n",
       "27                                  Physical Sciences        26318     0.01   \n",
       "32                                    Social Sciences        33356     0.02   \n",
       "6   Computer and Information Sciences and Support ...        79736     0.04   \n",
       "22                    Multi/Interdisciplinary Studies         2979     0.00   \n",
       "17  Liberal Arts and Sciences, General Studies and...         8611     0.00   \n",
       "\n",
       "    total  reading_writing  math  compare_min  compare_safe  \n",
       "19   1242              597   646     1.052542      0.917960  \n",
       "27   1203              597   606     1.019492      0.889135  \n",
       "32   1164              594   570     0.986441      0.860310  \n",
       "6    1156              571   585     0.979661      0.854398  \n",
       "22   1155              581   574     0.978814      0.853659  \n",
       "17   1140              584   556     0.966102      0.842572  "
      ]
     },
     "execution_count": 73,
     "metadata": {},
     "output_type": "execute_result"
    }
   ],
   "source": [
    "#values above 1 in compare_min or compare_safe indicate that the cohort's average is good enough to get into the minimum/ mean target for a prestigious school\n",
    "i_m_target = i_m.sort_values('compare_min', ascending = False)\n",
    "i_m_target.head(6)"
   ]
  },
  {
   "cell_type": "markdown",
   "metadata": {},
   "source": [
    "PERFORMANCE:"
   ]
  },
  {
   "cell_type": "code",
   "execution_count": 74,
   "metadata": {},
   "outputs": [
    {
     "data": {
      "text/html": [
       "<div>\n",
       "<style scoped>\n",
       "    .dataframe tbody tr th:only-of-type {\n",
       "        vertical-align: middle;\n",
       "    }\n",
       "\n",
       "    .dataframe tbody tr th {\n",
       "        vertical-align: top;\n",
       "    }\n",
       "\n",
       "    .dataframe thead th {\n",
       "        text-align: right;\n",
       "    }\n",
       "</style>\n",
       "<table border=\"1\" class=\"dataframe\">\n",
       "  <thead>\n",
       "    <tr style=\"text-align: right;\">\n",
       "      <th></th>\n",
       "      <th>intended_college_major</th>\n",
       "      <th>test_takers</th>\n",
       "      <th>percent</th>\n",
       "      <th>total</th>\n",
       "      <th>reading_writing</th>\n",
       "      <th>math</th>\n",
       "      <th>compare_min</th>\n",
       "      <th>compare_safe</th>\n",
       "    </tr>\n",
       "  </thead>\n",
       "  <tbody>\n",
       "    <tr>\n",
       "      <th>19</th>\n",
       "      <td>Mathematics and Statistics</td>\n",
       "      <td>16508</td>\n",
       "      <td>0.01</td>\n",
       "      <td>1242</td>\n",
       "      <td>597</td>\n",
       "      <td>646</td>\n",
       "      <td>1.052542</td>\n",
       "      <td>0.917960</td>\n",
       "    </tr>\n",
       "    <tr>\n",
       "      <th>27</th>\n",
       "      <td>Physical Sciences</td>\n",
       "      <td>26318</td>\n",
       "      <td>0.01</td>\n",
       "      <td>1203</td>\n",
       "      <td>597</td>\n",
       "      <td>606</td>\n",
       "      <td>1.019492</td>\n",
       "      <td>0.889135</td>\n",
       "    </tr>\n",
       "  </tbody>\n",
       "</table>\n",
       "</div>"
      ],
      "text/plain": [
       "        intended_college_major  test_takers  percent  total  reading_writing  \\\n",
       "19  Mathematics and Statistics        16508     0.01   1242              597   \n",
       "27           Physical Sciences        26318     0.01   1203              597   \n",
       "\n",
       "    math  compare_min  compare_safe  \n",
       "19   646     1.052542      0.917960  \n",
       "27   606     1.019492      0.889135  "
      ]
     },
     "execution_count": 74,
     "metadata": {},
     "output_type": "execute_result"
    }
   ],
   "source": [
    "qualified_i_m = i_m[i_m['compare_min']>1]\n",
    "qualified_i_m.head()"
   ]
  },
  {
   "cell_type": "code",
   "execution_count": 75,
   "metadata": {},
   "outputs": [
    {
     "data": {
      "text/plain": [
       "(38, 8)"
      ]
     },
     "execution_count": 75,
     "metadata": {},
     "output_type": "execute_result"
    }
   ],
   "source": [
    "#finding that 2 of 38 cohorts have a value > 1. This means on 2 cohorts have an average SAT performance that is suitable for enrollment in a prestigious school\n",
    "i_m_target.shape"
   ]
  },
  {
   "cell_type": "markdown",
   "metadata": {},
   "source": [
    "#### 3b. **States'** SAT performance vs **Prestigious schools'** SAT targets"
   ]
  },
  {
   "cell_type": "markdown",
   "metadata": {},
   "source": [
    "**Step 1. Find `comparison value` for each state from 2017-2019**"
   ]
  },
  {
   "cell_type": "code",
   "execution_count": 76,
   "metadata": {},
   "outputs": [],
   "source": [
    "#fucntion that outlines the disparity between the cohort SAT performance against the min and mean SAT targets outlined- specific to sat dataframe\n",
    "def compare_to_targets1(data):\n",
    "    for x in range(17,20):\n",
    "        data[f'compare_min_{x}'] = data[f'total_{x}']/ 1180\n",
    "        data[f'compare_safe_{x}'] = data[f'total_{x}']/ 1353\n",
    "    return"
   ]
  },
  {
   "cell_type": "code",
   "execution_count": 77,
   "metadata": {},
   "outputs": [],
   "source": [
    "compare_to_targets1(sat)"
   ]
  },
  {
   "cell_type": "code",
   "execution_count": 78,
   "metadata": {},
   "outputs": [
    {
     "data": {
      "text/html": [
       "<div>\n",
       "<style scoped>\n",
       "    .dataframe tbody tr th:only-of-type {\n",
       "        vertical-align: middle;\n",
       "    }\n",
       "\n",
       "    .dataframe tbody tr th {\n",
       "        vertical-align: top;\n",
       "    }\n",
       "\n",
       "    .dataframe thead th {\n",
       "        text-align: right;\n",
       "    }\n",
       "</style>\n",
       "<table border=\"1\" class=\"dataframe\">\n",
       "  <thead>\n",
       "    <tr style=\"text-align: right;\">\n",
       "      <th></th>\n",
       "      <th>participation_17</th>\n",
       "      <th>evidence-based_reading_and_writing_17</th>\n",
       "      <th>math_17</th>\n",
       "      <th>total_17</th>\n",
       "      <th>participation_18</th>\n",
       "      <th>evidence-based_reading_and_writing_18</th>\n",
       "      <th>math_18</th>\n",
       "      <th>total_18</th>\n",
       "      <th>participation_19</th>\n",
       "      <th>evidence-based_reading_and_writing_19</th>\n",
       "      <th>math_19</th>\n",
       "      <th>total_19</th>\n",
       "      <th>compare_min_17</th>\n",
       "      <th>compare_safe_17</th>\n",
       "      <th>compare_min_18</th>\n",
       "      <th>compare_safe_18</th>\n",
       "      <th>compare_min_19</th>\n",
       "      <th>compare_safe_19</th>\n",
       "    </tr>\n",
       "    <tr>\n",
       "      <th>State</th>\n",
       "      <th></th>\n",
       "      <th></th>\n",
       "      <th></th>\n",
       "      <th></th>\n",
       "      <th></th>\n",
       "      <th></th>\n",
       "      <th></th>\n",
       "      <th></th>\n",
       "      <th></th>\n",
       "      <th></th>\n",
       "      <th></th>\n",
       "      <th></th>\n",
       "      <th></th>\n",
       "      <th></th>\n",
       "      <th></th>\n",
       "      <th></th>\n",
       "      <th></th>\n",
       "      <th></th>\n",
       "    </tr>\n",
       "  </thead>\n",
       "  <tbody>\n",
       "    <tr>\n",
       "      <th>Alabama</th>\n",
       "      <td>0.05</td>\n",
       "      <td>593</td>\n",
       "      <td>572</td>\n",
       "      <td>1165</td>\n",
       "      <td>0.06</td>\n",
       "      <td>595</td>\n",
       "      <td>571</td>\n",
       "      <td>1166</td>\n",
       "      <td>0.07</td>\n",
       "      <td>583</td>\n",
       "      <td>560</td>\n",
       "      <td>1143</td>\n",
       "      <td>0.987288</td>\n",
       "      <td>0.861050</td>\n",
       "      <td>0.988136</td>\n",
       "      <td>0.861789</td>\n",
       "      <td>0.968644</td>\n",
       "      <td>0.844789</td>\n",
       "    </tr>\n",
       "    <tr>\n",
       "      <th>Alaska</th>\n",
       "      <td>0.38</td>\n",
       "      <td>547</td>\n",
       "      <td>533</td>\n",
       "      <td>1080</td>\n",
       "      <td>0.43</td>\n",
       "      <td>562</td>\n",
       "      <td>544</td>\n",
       "      <td>1106</td>\n",
       "      <td>0.41</td>\n",
       "      <td>556</td>\n",
       "      <td>541</td>\n",
       "      <td>1097</td>\n",
       "      <td>0.915254</td>\n",
       "      <td>0.798226</td>\n",
       "      <td>0.937288</td>\n",
       "      <td>0.817443</td>\n",
       "      <td>0.929661</td>\n",
       "      <td>0.810791</td>\n",
       "    </tr>\n",
       "    <tr>\n",
       "      <th>Arizona</th>\n",
       "      <td>0.30</td>\n",
       "      <td>563</td>\n",
       "      <td>553</td>\n",
       "      <td>1116</td>\n",
       "      <td>0.29</td>\n",
       "      <td>577</td>\n",
       "      <td>572</td>\n",
       "      <td>1149</td>\n",
       "      <td>0.31</td>\n",
       "      <td>569</td>\n",
       "      <td>565</td>\n",
       "      <td>1134</td>\n",
       "      <td>0.945763</td>\n",
       "      <td>0.824834</td>\n",
       "      <td>0.973729</td>\n",
       "      <td>0.849224</td>\n",
       "      <td>0.961017</td>\n",
       "      <td>0.838137</td>\n",
       "    </tr>\n",
       "    <tr>\n",
       "      <th>Arkansas</th>\n",
       "      <td>0.03</td>\n",
       "      <td>614</td>\n",
       "      <td>594</td>\n",
       "      <td>1208</td>\n",
       "      <td>0.05</td>\n",
       "      <td>592</td>\n",
       "      <td>576</td>\n",
       "      <td>1169</td>\n",
       "      <td>0.06</td>\n",
       "      <td>582</td>\n",
       "      <td>559</td>\n",
       "      <td>1141</td>\n",
       "      <td>1.023729</td>\n",
       "      <td>0.892831</td>\n",
       "      <td>0.990678</td>\n",
       "      <td>0.864006</td>\n",
       "      <td>0.966949</td>\n",
       "      <td>0.843311</td>\n",
       "    </tr>\n",
       "    <tr>\n",
       "      <th>California</th>\n",
       "      <td>0.53</td>\n",
       "      <td>531</td>\n",
       "      <td>524</td>\n",
       "      <td>1055</td>\n",
       "      <td>0.60</td>\n",
       "      <td>540</td>\n",
       "      <td>536</td>\n",
       "      <td>1076</td>\n",
       "      <td>0.63</td>\n",
       "      <td>534</td>\n",
       "      <td>531</td>\n",
       "      <td>1065</td>\n",
       "      <td>0.894068</td>\n",
       "      <td>0.779749</td>\n",
       "      <td>0.911864</td>\n",
       "      <td>0.795270</td>\n",
       "      <td>0.902542</td>\n",
       "      <td>0.787140</td>\n",
       "    </tr>\n",
       "  </tbody>\n",
       "</table>\n",
       "</div>"
      ],
      "text/plain": [
       "            participation_17  evidence-based_reading_and_writing_17  math_17  \\\n",
       "State                                                                          \n",
       "Alabama                 0.05                                    593      572   \n",
       "Alaska                  0.38                                    547      533   \n",
       "Arizona                 0.30                                    563      553   \n",
       "Arkansas                0.03                                    614      594   \n",
       "California              0.53                                    531      524   \n",
       "\n",
       "            total_17  participation_18  evidence-based_reading_and_writing_18  \\\n",
       "State                                                                           \n",
       "Alabama         1165              0.06                                    595   \n",
       "Alaska          1080              0.43                                    562   \n",
       "Arizona         1116              0.29                                    577   \n",
       "Arkansas        1208              0.05                                    592   \n",
       "California      1055              0.60                                    540   \n",
       "\n",
       "            math_18  total_18  participation_19  \\\n",
       "State                                             \n",
       "Alabama         571      1166              0.07   \n",
       "Alaska          544      1106              0.41   \n",
       "Arizona         572      1149              0.31   \n",
       "Arkansas        576      1169              0.06   \n",
       "California      536      1076              0.63   \n",
       "\n",
       "            evidence-based_reading_and_writing_19  math_19  total_19  \\\n",
       "State                                                                  \n",
       "Alabama                                       583      560      1143   \n",
       "Alaska                                        556      541      1097   \n",
       "Arizona                                       569      565      1134   \n",
       "Arkansas                                      582      559      1141   \n",
       "California                                    534      531      1065   \n",
       "\n",
       "            compare_min_17  compare_safe_17  compare_min_18  compare_safe_18  \\\n",
       "State                                                                          \n",
       "Alabama           0.987288         0.861050        0.988136         0.861789   \n",
       "Alaska            0.915254         0.798226        0.937288         0.817443   \n",
       "Arizona           0.945763         0.824834        0.973729         0.849224   \n",
       "Arkansas          1.023729         0.892831        0.990678         0.864006   \n",
       "California        0.894068         0.779749        0.911864         0.795270   \n",
       "\n",
       "            compare_min_19  compare_safe_19  \n",
       "State                                        \n",
       "Alabama           0.968644         0.844789  \n",
       "Alaska            0.929661         0.810791  \n",
       "Arizona           0.961017         0.838137  \n",
       "Arkansas          0.966949         0.843311  \n",
       "California        0.902542         0.787140  "
      ]
     },
     "execution_count": 78,
     "metadata": {},
     "output_type": "execute_result"
    }
   ],
   "source": [
    "#addition is to the right of this dataframe\n",
    "sat.head()"
   ]
  },
  {
   "cell_type": "markdown",
   "metadata": {},
   "source": [
    "**Step 2. Determine the mean from 2017-2019**"
   ]
  },
  {
   "cell_type": "code",
   "execution_count": 79,
   "metadata": {},
   "outputs": [],
   "source": [
    "# creating a list of the names to target \n",
    "min_names = []\n",
    "safe_names = []\n",
    "for x in range(17,20):\n",
    "    min_names.append(f'compare_min_{x}')\n",
    "    safe_names.append(f'compare_safe_{x}')\n",
    "    \n",
    "#finding the mean of the comparison between State SAT performance and SAT targets for years 2017-2019 \n",
    "sat['compare_min'] = sat[min_names].sum(axis=1)/3\n",
    "sat['compare_safe'] = sat[safe_names].sum(axis=1)/3"
   ]
  },
  {
   "cell_type": "code",
   "execution_count": 80,
   "metadata": {},
   "outputs": [
    {
     "data": {
      "text/html": [
       "<div>\n",
       "<style scoped>\n",
       "    .dataframe tbody tr th:only-of-type {\n",
       "        vertical-align: middle;\n",
       "    }\n",
       "\n",
       "    .dataframe tbody tr th {\n",
       "        vertical-align: top;\n",
       "    }\n",
       "\n",
       "    .dataframe thead th {\n",
       "        text-align: right;\n",
       "    }\n",
       "</style>\n",
       "<table border=\"1\" class=\"dataframe\">\n",
       "  <thead>\n",
       "    <tr style=\"text-align: right;\">\n",
       "      <th></th>\n",
       "      <th>participation_17</th>\n",
       "      <th>evidence-based_reading_and_writing_17</th>\n",
       "      <th>math_17</th>\n",
       "      <th>total_17</th>\n",
       "      <th>participation_18</th>\n",
       "      <th>evidence-based_reading_and_writing_18</th>\n",
       "      <th>math_18</th>\n",
       "      <th>total_18</th>\n",
       "      <th>participation_19</th>\n",
       "      <th>evidence-based_reading_and_writing_19</th>\n",
       "      <th>math_19</th>\n",
       "      <th>total_19</th>\n",
       "      <th>compare_min_17</th>\n",
       "      <th>compare_safe_17</th>\n",
       "      <th>compare_min_18</th>\n",
       "      <th>compare_safe_18</th>\n",
       "      <th>compare_min_19</th>\n",
       "      <th>compare_safe_19</th>\n",
       "      <th>compare_min</th>\n",
       "      <th>compare_safe</th>\n",
       "    </tr>\n",
       "    <tr>\n",
       "      <th>State</th>\n",
       "      <th></th>\n",
       "      <th></th>\n",
       "      <th></th>\n",
       "      <th></th>\n",
       "      <th></th>\n",
       "      <th></th>\n",
       "      <th></th>\n",
       "      <th></th>\n",
       "      <th></th>\n",
       "      <th></th>\n",
       "      <th></th>\n",
       "      <th></th>\n",
       "      <th></th>\n",
       "      <th></th>\n",
       "      <th></th>\n",
       "      <th></th>\n",
       "      <th></th>\n",
       "      <th></th>\n",
       "      <th></th>\n",
       "      <th></th>\n",
       "    </tr>\n",
       "  </thead>\n",
       "  <tbody>\n",
       "    <tr>\n",
       "      <th>Alabama</th>\n",
       "      <td>0.05</td>\n",
       "      <td>593</td>\n",
       "      <td>572</td>\n",
       "      <td>1165</td>\n",
       "      <td>0.06</td>\n",
       "      <td>595</td>\n",
       "      <td>571</td>\n",
       "      <td>1166</td>\n",
       "      <td>0.07</td>\n",
       "      <td>583</td>\n",
       "      <td>560</td>\n",
       "      <td>1143</td>\n",
       "      <td>0.987288</td>\n",
       "      <td>0.861050</td>\n",
       "      <td>0.988136</td>\n",
       "      <td>0.861789</td>\n",
       "      <td>0.968644</td>\n",
       "      <td>0.844789</td>\n",
       "      <td>0.981356</td>\n",
       "      <td>0.855876</td>\n",
       "    </tr>\n",
       "    <tr>\n",
       "      <th>Alaska</th>\n",
       "      <td>0.38</td>\n",
       "      <td>547</td>\n",
       "      <td>533</td>\n",
       "      <td>1080</td>\n",
       "      <td>0.43</td>\n",
       "      <td>562</td>\n",
       "      <td>544</td>\n",
       "      <td>1106</td>\n",
       "      <td>0.41</td>\n",
       "      <td>556</td>\n",
       "      <td>541</td>\n",
       "      <td>1097</td>\n",
       "      <td>0.915254</td>\n",
       "      <td>0.798226</td>\n",
       "      <td>0.937288</td>\n",
       "      <td>0.817443</td>\n",
       "      <td>0.929661</td>\n",
       "      <td>0.810791</td>\n",
       "      <td>0.927401</td>\n",
       "      <td>0.808820</td>\n",
       "    </tr>\n",
       "    <tr>\n",
       "      <th>Arizona</th>\n",
       "      <td>0.30</td>\n",
       "      <td>563</td>\n",
       "      <td>553</td>\n",
       "      <td>1116</td>\n",
       "      <td>0.29</td>\n",
       "      <td>577</td>\n",
       "      <td>572</td>\n",
       "      <td>1149</td>\n",
       "      <td>0.31</td>\n",
       "      <td>569</td>\n",
       "      <td>565</td>\n",
       "      <td>1134</td>\n",
       "      <td>0.945763</td>\n",
       "      <td>0.824834</td>\n",
       "      <td>0.973729</td>\n",
       "      <td>0.849224</td>\n",
       "      <td>0.961017</td>\n",
       "      <td>0.838137</td>\n",
       "      <td>0.960169</td>\n",
       "      <td>0.837398</td>\n",
       "    </tr>\n",
       "    <tr>\n",
       "      <th>Arkansas</th>\n",
       "      <td>0.03</td>\n",
       "      <td>614</td>\n",
       "      <td>594</td>\n",
       "      <td>1208</td>\n",
       "      <td>0.05</td>\n",
       "      <td>592</td>\n",
       "      <td>576</td>\n",
       "      <td>1169</td>\n",
       "      <td>0.06</td>\n",
       "      <td>582</td>\n",
       "      <td>559</td>\n",
       "      <td>1141</td>\n",
       "      <td>1.023729</td>\n",
       "      <td>0.892831</td>\n",
       "      <td>0.990678</td>\n",
       "      <td>0.864006</td>\n",
       "      <td>0.966949</td>\n",
       "      <td>0.843311</td>\n",
       "      <td>0.993785</td>\n",
       "      <td>0.866716</td>\n",
       "    </tr>\n",
       "    <tr>\n",
       "      <th>California</th>\n",
       "      <td>0.53</td>\n",
       "      <td>531</td>\n",
       "      <td>524</td>\n",
       "      <td>1055</td>\n",
       "      <td>0.60</td>\n",
       "      <td>540</td>\n",
       "      <td>536</td>\n",
       "      <td>1076</td>\n",
       "      <td>0.63</td>\n",
       "      <td>534</td>\n",
       "      <td>531</td>\n",
       "      <td>1065</td>\n",
       "      <td>0.894068</td>\n",
       "      <td>0.779749</td>\n",
       "      <td>0.911864</td>\n",
       "      <td>0.795270</td>\n",
       "      <td>0.902542</td>\n",
       "      <td>0.787140</td>\n",
       "      <td>0.902825</td>\n",
       "      <td>0.787386</td>\n",
       "    </tr>\n",
       "  </tbody>\n",
       "</table>\n",
       "</div>"
      ],
      "text/plain": [
       "            participation_17  evidence-based_reading_and_writing_17  math_17  \\\n",
       "State                                                                          \n",
       "Alabama                 0.05                                    593      572   \n",
       "Alaska                  0.38                                    547      533   \n",
       "Arizona                 0.30                                    563      553   \n",
       "Arkansas                0.03                                    614      594   \n",
       "California              0.53                                    531      524   \n",
       "\n",
       "            total_17  participation_18  evidence-based_reading_and_writing_18  \\\n",
       "State                                                                           \n",
       "Alabama         1165              0.06                                    595   \n",
       "Alaska          1080              0.43                                    562   \n",
       "Arizona         1116              0.29                                    577   \n",
       "Arkansas        1208              0.05                                    592   \n",
       "California      1055              0.60                                    540   \n",
       "\n",
       "            math_18  total_18  participation_19  \\\n",
       "State                                             \n",
       "Alabama         571      1166              0.07   \n",
       "Alaska          544      1106              0.41   \n",
       "Arizona         572      1149              0.31   \n",
       "Arkansas        576      1169              0.06   \n",
       "California      536      1076              0.63   \n",
       "\n",
       "            evidence-based_reading_and_writing_19  math_19  total_19  \\\n",
       "State                                                                  \n",
       "Alabama                                       583      560      1143   \n",
       "Alaska                                        556      541      1097   \n",
       "Arizona                                       569      565      1134   \n",
       "Arkansas                                      582      559      1141   \n",
       "California                                    534      531      1065   \n",
       "\n",
       "            compare_min_17  compare_safe_17  compare_min_18  compare_safe_18  \\\n",
       "State                                                                          \n",
       "Alabama           0.987288         0.861050        0.988136         0.861789   \n",
       "Alaska            0.915254         0.798226        0.937288         0.817443   \n",
       "Arizona           0.945763         0.824834        0.973729         0.849224   \n",
       "Arkansas          1.023729         0.892831        0.990678         0.864006   \n",
       "California        0.894068         0.779749        0.911864         0.795270   \n",
       "\n",
       "            compare_min_19  compare_safe_19  compare_min  compare_safe  \n",
       "State                                                                   \n",
       "Alabama           0.968644         0.844789     0.981356      0.855876  \n",
       "Alaska            0.929661         0.810791     0.927401      0.808820  \n",
       "Arizona           0.961017         0.838137     0.960169      0.837398  \n",
       "Arkansas          0.966949         0.843311     0.993785      0.866716  \n",
       "California        0.902542         0.787140     0.902825      0.787386  "
      ]
     },
     "execution_count": 80,
     "metadata": {},
     "output_type": "execute_result"
    }
   ],
   "source": [
    "sat.head()"
   ]
  },
  {
   "cell_type": "markdown",
   "metadata": {},
   "source": [
    "**Step 3. Remove unnecessary columns**"
   ]
  },
  {
   "cell_type": "code",
   "execution_count": 81,
   "metadata": {},
   "outputs": [],
   "source": [
    "# dropping the unwanted columns and keeping the average comparison value per state from sat performances between 2017-2019\n",
    "sat = sat.drop(columns = min_names + safe_names)"
   ]
  },
  {
   "cell_type": "code",
   "execution_count": 82,
   "metadata": {},
   "outputs": [
    {
     "data": {
      "text/html": [
       "<div>\n",
       "<style scoped>\n",
       "    .dataframe tbody tr th:only-of-type {\n",
       "        vertical-align: middle;\n",
       "    }\n",
       "\n",
       "    .dataframe tbody tr th {\n",
       "        vertical-align: top;\n",
       "    }\n",
       "\n",
       "    .dataframe thead th {\n",
       "        text-align: right;\n",
       "    }\n",
       "</style>\n",
       "<table border=\"1\" class=\"dataframe\">\n",
       "  <thead>\n",
       "    <tr style=\"text-align: right;\">\n",
       "      <th></th>\n",
       "      <th>participation_17</th>\n",
       "      <th>evidence-based_reading_and_writing_17</th>\n",
       "      <th>math_17</th>\n",
       "      <th>total_17</th>\n",
       "      <th>participation_18</th>\n",
       "      <th>evidence-based_reading_and_writing_18</th>\n",
       "      <th>math_18</th>\n",
       "      <th>total_18</th>\n",
       "      <th>participation_19</th>\n",
       "      <th>evidence-based_reading_and_writing_19</th>\n",
       "      <th>math_19</th>\n",
       "      <th>total_19</th>\n",
       "      <th>compare_min</th>\n",
       "      <th>compare_safe</th>\n",
       "    </tr>\n",
       "    <tr>\n",
       "      <th>State</th>\n",
       "      <th></th>\n",
       "      <th></th>\n",
       "      <th></th>\n",
       "      <th></th>\n",
       "      <th></th>\n",
       "      <th></th>\n",
       "      <th></th>\n",
       "      <th></th>\n",
       "      <th></th>\n",
       "      <th></th>\n",
       "      <th></th>\n",
       "      <th></th>\n",
       "      <th></th>\n",
       "      <th></th>\n",
       "    </tr>\n",
       "  </thead>\n",
       "  <tbody>\n",
       "    <tr>\n",
       "      <th>Minnesota</th>\n",
       "      <td>0.03</td>\n",
       "      <td>644</td>\n",
       "      <td>651</td>\n",
       "      <td>1295</td>\n",
       "      <td>0.04</td>\n",
       "      <td>643</td>\n",
       "      <td>655</td>\n",
       "      <td>1298</td>\n",
       "      <td>0.04</td>\n",
       "      <td>636</td>\n",
       "      <td>648</td>\n",
       "      <td>1284</td>\n",
       "      <td>1.095198</td>\n",
       "      <td>0.955161</td>\n",
       "    </tr>\n",
       "    <tr>\n",
       "      <th>Wisconsin</th>\n",
       "      <td>0.03</td>\n",
       "      <td>642</td>\n",
       "      <td>649</td>\n",
       "      <td>1291</td>\n",
       "      <td>0.03</td>\n",
       "      <td>641</td>\n",
       "      <td>653</td>\n",
       "      <td>1294</td>\n",
       "      <td>0.03</td>\n",
       "      <td>635</td>\n",
       "      <td>648</td>\n",
       "      <td>1283</td>\n",
       "      <td>1.092655</td>\n",
       "      <td>0.952944</td>\n",
       "    </tr>\n",
       "    <tr>\n",
       "      <th>North Dakota</th>\n",
       "      <td>0.02</td>\n",
       "      <td>635</td>\n",
       "      <td>621</td>\n",
       "      <td>1256</td>\n",
       "      <td>0.02</td>\n",
       "      <td>640</td>\n",
       "      <td>643</td>\n",
       "      <td>1283</td>\n",
       "      <td>0.02</td>\n",
       "      <td>627</td>\n",
       "      <td>636</td>\n",
       "      <td>1263</td>\n",
       "      <td>1.074011</td>\n",
       "      <td>0.936684</td>\n",
       "    </tr>\n",
       "    <tr>\n",
       "      <th>Iowa</th>\n",
       "      <td>0.02</td>\n",
       "      <td>641</td>\n",
       "      <td>635</td>\n",
       "      <td>1275</td>\n",
       "      <td>0.03</td>\n",
       "      <td>634</td>\n",
       "      <td>631</td>\n",
       "      <td>1265</td>\n",
       "      <td>0.03</td>\n",
       "      <td>622</td>\n",
       "      <td>622</td>\n",
       "      <td>1244</td>\n",
       "      <td>1.068927</td>\n",
       "      <td>0.932249</td>\n",
       "    </tr>\n",
       "    <tr>\n",
       "      <th>Missouri</th>\n",
       "      <td>0.03</td>\n",
       "      <td>640</td>\n",
       "      <td>631</td>\n",
       "      <td>1271</td>\n",
       "      <td>0.04</td>\n",
       "      <td>633</td>\n",
       "      <td>629</td>\n",
       "      <td>1262</td>\n",
       "      <td>0.04</td>\n",
       "      <td>622</td>\n",
       "      <td>615</td>\n",
       "      <td>1236</td>\n",
       "      <td>1.064689</td>\n",
       "      <td>0.928554</td>\n",
       "    </tr>\n",
       "  </tbody>\n",
       "</table>\n",
       "</div>"
      ],
      "text/plain": [
       "              participation_17  evidence-based_reading_and_writing_17  \\\n",
       "State                                                                   \n",
       "Minnesota                 0.03                                    644   \n",
       "Wisconsin                 0.03                                    642   \n",
       "North Dakota              0.02                                    635   \n",
       "Iowa                      0.02                                    641   \n",
       "Missouri                  0.03                                    640   \n",
       "\n",
       "              math_17  total_17  participation_18  \\\n",
       "State                                               \n",
       "Minnesota         651      1295              0.04   \n",
       "Wisconsin         649      1291              0.03   \n",
       "North Dakota      621      1256              0.02   \n",
       "Iowa              635      1275              0.03   \n",
       "Missouri          631      1271              0.04   \n",
       "\n",
       "              evidence-based_reading_and_writing_18  math_18  total_18  \\\n",
       "State                                                                    \n",
       "Minnesota                                       643      655      1298   \n",
       "Wisconsin                                       641      653      1294   \n",
       "North Dakota                                    640      643      1283   \n",
       "Iowa                                            634      631      1265   \n",
       "Missouri                                        633      629      1262   \n",
       "\n",
       "              participation_19  evidence-based_reading_and_writing_19  \\\n",
       "State                                                                   \n",
       "Minnesota                 0.04                                    636   \n",
       "Wisconsin                 0.03                                    635   \n",
       "North Dakota              0.02                                    627   \n",
       "Iowa                      0.03                                    622   \n",
       "Missouri                  0.04                                    622   \n",
       "\n",
       "              math_19  total_19  compare_min  compare_safe  \n",
       "State                                                       \n",
       "Minnesota         648      1284     1.095198      0.955161  \n",
       "Wisconsin         648      1283     1.092655      0.952944  \n",
       "North Dakota      636      1263     1.074011      0.936684  \n",
       "Iowa              622      1244     1.068927      0.932249  \n",
       "Missouri          615      1236     1.064689      0.928554  "
      ]
     },
     "execution_count": 82,
     "metadata": {},
     "output_type": "execute_result"
    }
   ],
   "source": [
    "#values above 1 in compare_min or compare_safe indicate that the cohort's average is good enough to get into the minimum/ mean target for a prestigious school\n",
    "sat = sat.sort_values('compare_min', ascending = False)\n",
    "sat.head()"
   ]
  },
  {
   "cell_type": "markdown",
   "metadata": {},
   "source": [
    "PERFORMANCE:"
   ]
  },
  {
   "cell_type": "code",
   "execution_count": 83,
   "metadata": {},
   "outputs": [
    {
     "data": {
      "text/plain": [
       "14"
      ]
     },
     "execution_count": 83,
     "metadata": {},
     "output_type": "execute_result"
    }
   ],
   "source": [
    "#value of all states that have a value over 1\n",
    "qualified_states = sat[sat['compare_min']>1]\n",
    "qualified_states.shape[0]"
   ]
  },
  {
   "cell_type": "markdown",
   "metadata": {},
   "source": [
    "### 4. How much harder do students need to work against peers in:\n",
    "- Intended College Major Cohorts\n",
    "- States"
   ]
  },
  {
   "cell_type": "markdown",
   "metadata": {},
   "source": [
    "**4a. Highlighting the observations that can achieve `min target`**"
   ]
  },
  {
   "cell_type": "code",
   "execution_count": 84,
   "metadata": {},
   "outputs": [
    {
     "data": {
      "text/plain": [
       "19    Mathematics and Statistics\n",
       "27             Physical Sciences\n",
       "Name: intended_college_major, dtype: object"
      ]
     },
     "execution_count": 84,
     "metadata": {},
     "output_type": "execute_result"
    }
   ],
   "source": [
    "qualified_i_m['intended_college_major']"
   ]
  },
  {
   "cell_type": "code",
   "execution_count": 85,
   "metadata": {},
   "outputs": [
    {
     "data": {
      "text/plain": [
       "Index(['Minnesota', 'Wisconsin', 'North Dakota', 'Iowa', 'Missouri', 'Kansas',\n",
       "       'Nebraska', 'Kentucky', 'Wyoming', 'South Dakota', 'Mississippi',\n",
       "       'Tennessee', 'Louisiana', 'Montana'],\n",
       "      dtype='object', name='State')"
      ]
     },
     "execution_count": 85,
     "metadata": {},
     "output_type": "execute_result"
    }
   ],
   "source": [
    "qualified_states.index"
   ]
  },
  {
   "cell_type": "markdown",
   "metadata": {},
   "source": [
    "**4b. What it takes to close the gap between average peers and achieving prestige SAT targets**"
   ]
  },
  {
   "cell_type": "markdown",
   "metadata": {},
   "source": [
    "To understand how much harder a student has to work against peers:<br>\n",
    "\n",
    "\n",
    "Peers' performance vs targets are reflected in `comparison value` <br>→ % extra effort needed to achieve targets = 1 - `comparison value` <br> DEFINITION: `effort value`"
   ]
  },
  {
   "cell_type": "markdown",
   "metadata": {},
   "source": [
    "**Effort values by intended majors' cohort**"
   ]
  },
  {
   "cell_type": "code",
   "execution_count": 86,
   "metadata": {},
   "outputs": [],
   "source": [
    "#outlining how the extra effort needed to to achieve SAT targets is the disparity between achieving 1\n",
    "effort_i_m = i_m[['intended_college_major', 'compare_min', 'compare_safe']].copy().set_index('intended_college_major')\n",
    "effort_i_m['effort_min'] = 1 - effort_i_m['compare_min']\n",
    "effort_i_m['effort_safe'] = 1 - effort_i_m['compare_safe']\n",
    "effort_i_m = effort_i_m.drop(columns = ['compare_min','compare_safe'])"
   ]
  },
  {
   "cell_type": "code",
   "execution_count": 114,
   "metadata": {},
   "outputs": [
    {
     "data": {
      "text/html": [
       "<div>\n",
       "<style scoped>\n",
       "    .dataframe tbody tr th:only-of-type {\n",
       "        vertical-align: middle;\n",
       "    }\n",
       "\n",
       "    .dataframe tbody tr th {\n",
       "        vertical-align: top;\n",
       "    }\n",
       "\n",
       "    .dataframe thead th {\n",
       "        text-align: right;\n",
       "    }\n",
       "</style>\n",
       "<table border=\"1\" class=\"dataframe\">\n",
       "  <thead>\n",
       "    <tr style=\"text-align: right;\">\n",
       "      <th></th>\n",
       "      <th>effort_min</th>\n",
       "      <th>effort_safe</th>\n",
       "    </tr>\n",
       "    <tr>\n",
       "      <th>intended_college_major</th>\n",
       "      <th></th>\n",
       "      <th></th>\n",
       "    </tr>\n",
       "  </thead>\n",
       "  <tbody>\n",
       "    <tr>\n",
       "      <th>Mechanic and Repair Technologies/Technicians</th>\n",
       "      <td>0.223729</td>\n",
       "      <td>0.322986</td>\n",
       "    </tr>\n",
       "    <tr>\n",
       "      <th>Construction Trades, General</th>\n",
       "      <td>0.221186</td>\n",
       "      <td>0.320769</td>\n",
       "    </tr>\n",
       "    <tr>\n",
       "      <th>Personal and Culinary Services, General</th>\n",
       "      <td>0.212712</td>\n",
       "      <td>0.313378</td>\n",
       "    </tr>\n",
       "    <tr>\n",
       "      <th>Precision Production</th>\n",
       "      <td>0.210169</td>\n",
       "      <td>0.311160</td>\n",
       "    </tr>\n",
       "    <tr>\n",
       "      <th>Family and Consumer Sciences/Human Sciences</th>\n",
       "      <td>0.192373</td>\n",
       "      <td>0.295639</td>\n",
       "    </tr>\n",
       "    <tr>\n",
       "      <th>Parks, Recreation and Leisure Studies</th>\n",
       "      <td>0.186441</td>\n",
       "      <td>0.290466</td>\n",
       "    </tr>\n",
       "    <tr>\n",
       "      <th>Other</th>\n",
       "      <td>0.183898</td>\n",
       "      <td>0.288248</td>\n",
       "    </tr>\n",
       "    <tr>\n",
       "      <th>Security and Protective Services</th>\n",
       "      <td>0.173729</td>\n",
       "      <td>0.279379</td>\n",
       "    </tr>\n",
       "    <tr>\n",
       "      <th>Agriculture, AgricultureOperations, and Related Sciences</th>\n",
       "      <td>0.172034</td>\n",
       "      <td>0.277901</td>\n",
       "    </tr>\n",
       "    <tr>\n",
       "      <th>Military Technologies</th>\n",
       "      <td>0.166102</td>\n",
       "      <td>0.272727</td>\n",
       "    </tr>\n",
       "    <tr>\n",
       "      <th>Public Administration and Social Service Professions</th>\n",
       "      <td>0.151695</td>\n",
       "      <td>0.260163</td>\n",
       "    </tr>\n",
       "    <tr>\n",
       "      <th>Transportation and Materials Moving</th>\n",
       "      <td>0.136441</td>\n",
       "      <td>0.246859</td>\n",
       "    </tr>\n",
       "    <tr>\n",
       "      <th>Education</th>\n",
       "      <td>0.133898</td>\n",
       "      <td>0.244642</td>\n",
       "    </tr>\n",
       "    <tr>\n",
       "      <th>Area, Ethnic, Cultural, and Gender Studies</th>\n",
       "      <td>0.118644</td>\n",
       "      <td>0.231338</td>\n",
       "    </tr>\n",
       "    <tr>\n",
       "      <th>Engineering Technologies/Technicians</th>\n",
       "      <td>0.117797</td>\n",
       "      <td>0.230599</td>\n",
       "    </tr>\n",
       "    <tr>\n",
       "      <th>Visual and Performing Arts, General</th>\n",
       "      <td>0.114407</td>\n",
       "      <td>0.227642</td>\n",
       "    </tr>\n",
       "    <tr>\n",
       "      <th>Architecture and Related Services</th>\n",
       "      <td>0.112712</td>\n",
       "      <td>0.226164</td>\n",
       "    </tr>\n",
       "    <tr>\n",
       "      <th>Health Professions and related Clinical Sciences</th>\n",
       "      <td>0.111864</td>\n",
       "      <td>0.225425</td>\n",
       "    </tr>\n",
       "    <tr>\n",
       "      <th>Psychology, General</th>\n",
       "      <td>0.098305</td>\n",
       "      <td>0.213599</td>\n",
       "    </tr>\n",
       "    <tr>\n",
       "      <th>Communication, Journalism, and Related Programs</th>\n",
       "      <td>0.094068</td>\n",
       "      <td>0.209904</td>\n",
       "    </tr>\n",
       "    <tr>\n",
       "      <th>Undecided</th>\n",
       "      <td>0.094068</td>\n",
       "      <td>0.209904</td>\n",
       "    </tr>\n",
       "    <tr>\n",
       "      <th>Business, Management, Marketing, and Related Support Services</th>\n",
       "      <td>0.091525</td>\n",
       "      <td>0.207687</td>\n",
       "    </tr>\n",
       "    <tr>\n",
       "      <th>History, General</th>\n",
       "      <td>0.076271</td>\n",
       "      <td>0.194383</td>\n",
       "    </tr>\n",
       "    <tr>\n",
       "      <th>Theology and Religious Vocations</th>\n",
       "      <td>0.071186</td>\n",
       "      <td>0.189948</td>\n",
       "    </tr>\n",
       "    <tr>\n",
       "      <th>Foreign Languages and Literatures, General</th>\n",
       "      <td>0.066102</td>\n",
       "      <td>0.185514</td>\n",
       "    </tr>\n",
       "    <tr>\n",
       "      <th>Natural resources and Conservation</th>\n",
       "      <td>0.064407</td>\n",
       "      <td>0.184035</td>\n",
       "    </tr>\n",
       "    <tr>\n",
       "      <th>Legal Studies, General</th>\n",
       "      <td>0.064407</td>\n",
       "      <td>0.184035</td>\n",
       "    </tr>\n",
       "    <tr>\n",
       "      <th>Library Science/Librarianship</th>\n",
       "      <td>0.063559</td>\n",
       "      <td>0.183296</td>\n",
       "    </tr>\n",
       "    <tr>\n",
       "      <th>English Language and Literature/Letters</th>\n",
       "      <td>0.051695</td>\n",
       "      <td>0.172949</td>\n",
       "    </tr>\n",
       "    <tr>\n",
       "      <th>Philosophy and Religious Studies</th>\n",
       "      <td>0.050847</td>\n",
       "      <td>0.172210</td>\n",
       "    </tr>\n",
       "    <tr>\n",
       "      <th>Engineering</th>\n",
       "      <td>0.034746</td>\n",
       "      <td>0.158167</td>\n",
       "    </tr>\n",
       "    <tr>\n",
       "      <th>Biological and Biomedical Sciences</th>\n",
       "      <td>0.034746</td>\n",
       "      <td>0.158167</td>\n",
       "    </tr>\n",
       "    <tr>\n",
       "      <th>Liberal Arts and Sciences, General Studies and Humanities</th>\n",
       "      <td>0.033898</td>\n",
       "      <td>0.157428</td>\n",
       "    </tr>\n",
       "    <tr>\n",
       "      <th>Multi/Interdisciplinary Studies</th>\n",
       "      <td>0.021186</td>\n",
       "      <td>0.146341</td>\n",
       "    </tr>\n",
       "    <tr>\n",
       "      <th>Computer and Information Sciences and Support Services</th>\n",
       "      <td>0.020339</td>\n",
       "      <td>0.145602</td>\n",
       "    </tr>\n",
       "    <tr>\n",
       "      <th>Social Sciences</th>\n",
       "      <td>0.013559</td>\n",
       "      <td>0.139690</td>\n",
       "    </tr>\n",
       "    <tr>\n",
       "      <th>Physical Sciences</th>\n",
       "      <td>-0.019492</td>\n",
       "      <td>0.110865</td>\n",
       "    </tr>\n",
       "    <tr>\n",
       "      <th>Mathematics and Statistics</th>\n",
       "      <td>-0.052542</td>\n",
       "      <td>0.082040</td>\n",
       "    </tr>\n",
       "  </tbody>\n",
       "</table>\n",
       "</div>"
      ],
      "text/plain": [
       "                                                    effort_min  effort_safe\n",
       "intended_college_major                                                     \n",
       "Mechanic and Repair Technologies/Technicians          0.223729     0.322986\n",
       "Construction Trades, General                          0.221186     0.320769\n",
       "Personal and Culinary Services, General               0.212712     0.313378\n",
       "Precision Production                                  0.210169     0.311160\n",
       "Family and Consumer Sciences/Human Sciences           0.192373     0.295639\n",
       "Parks, Recreation and Leisure Studies                 0.186441     0.290466\n",
       "Other                                                 0.183898     0.288248\n",
       "Security and Protective Services                      0.173729     0.279379\n",
       "Agriculture, AgricultureOperations, and Related...    0.172034     0.277901\n",
       "Military Technologies                                 0.166102     0.272727\n",
       "Public Administration and Social Service Profes...    0.151695     0.260163\n",
       "Transportation and Materials Moving                   0.136441     0.246859\n",
       "Education                                             0.133898     0.244642\n",
       "Area, Ethnic, Cultural, and Gender Studies            0.118644     0.231338\n",
       "Engineering Technologies/Technicians                  0.117797     0.230599\n",
       "Visual and Performing Arts, General                   0.114407     0.227642\n",
       "Architecture and Related Services                     0.112712     0.226164\n",
       "Health Professions and related Clinical Sciences      0.111864     0.225425\n",
       "Psychology, General                                   0.098305     0.213599\n",
       "Communication, Journalism, and Related Programs       0.094068     0.209904\n",
       "Undecided                                             0.094068     0.209904\n",
       "Business, Management, Marketing, and Related Su...    0.091525     0.207687\n",
       "History, General                                      0.076271     0.194383\n",
       "Theology and Religious Vocations                      0.071186     0.189948\n",
       "Foreign Languages and Literatures, General            0.066102     0.185514\n",
       "Natural resources and Conservation                    0.064407     0.184035\n",
       "Legal Studies, General                                0.064407     0.184035\n",
       "Library Science/Librarianship                         0.063559     0.183296\n",
       "English Language and Literature/Letters               0.051695     0.172949\n",
       "Philosophy and Religious Studies                      0.050847     0.172210\n",
       "Engineering                                           0.034746     0.158167\n",
       "Biological and Biomedical Sciences                    0.034746     0.158167\n",
       "Liberal Arts and Sciences, General Studies and ...    0.033898     0.157428\n",
       "Multi/Interdisciplinary Studies                       0.021186     0.146341\n",
       "Computer and Information Sciences and Support S...    0.020339     0.145602\n",
       "Social Sciences                                       0.013559     0.139690\n",
       "Physical Sciences                                    -0.019492     0.110865\n",
       "Mathematics and Statistics                           -0.052542     0.082040"
      ]
     },
     "execution_count": 114,
     "metadata": {},
     "output_type": "execute_result"
    }
   ],
   "source": [
    "#highlighting the cohorts' % increase in effort needed to achieve prestige SAT targets. Those with negative values only need to perform the same as their average to achieve outlined SAT target\n",
    "effort_i_m.sort_values('effort_min', ascending = False)"
   ]
  },
  {
   "cell_type": "code",
   "execution_count": 102,
   "metadata": {},
   "outputs": [
    {
     "data": {
      "text/plain": [
       "0.21766444937176646"
      ]
     },
     "execution_count": 102,
     "metadata": {},
     "output_type": "execute_result"
    }
   ],
   "source": [
    "effort_i_m['effort_safe'].mean()"
   ]
  },
  {
   "cell_type": "markdown",
   "metadata": {},
   "source": [
    "**Effort values by state**"
   ]
  },
  {
   "cell_type": "code",
   "execution_count": 88,
   "metadata": {},
   "outputs": [
    {
     "data": {
      "text/html": [
       "<div>\n",
       "<style scoped>\n",
       "    .dataframe tbody tr th:only-of-type {\n",
       "        vertical-align: middle;\n",
       "    }\n",
       "\n",
       "    .dataframe tbody tr th {\n",
       "        vertical-align: top;\n",
       "    }\n",
       "\n",
       "    .dataframe thead th {\n",
       "        text-align: right;\n",
       "    }\n",
       "</style>\n",
       "<table border=\"1\" class=\"dataframe\">\n",
       "  <thead>\n",
       "    <tr style=\"text-align: right;\">\n",
       "      <th></th>\n",
       "      <th>effort_min</th>\n",
       "      <th>effort_safe</th>\n",
       "    </tr>\n",
       "    <tr>\n",
       "      <th>State</th>\n",
       "      <th></th>\n",
       "      <th></th>\n",
       "    </tr>\n",
       "  </thead>\n",
       "  <tbody>\n",
       "    <tr>\n",
       "      <th>District of Columbia</th>\n",
       "      <td>0.180226</td>\n",
       "      <td>0.285046</td>\n",
       "    </tr>\n",
       "    <tr>\n",
       "      <th>Delaware</th>\n",
       "      <td>0.158475</td>\n",
       "      <td>0.266075</td>\n",
       "    </tr>\n",
       "    <tr>\n",
       "      <th>Idaho</th>\n",
       "      <td>0.152825</td>\n",
       "      <td>0.261148</td>\n",
       "    </tr>\n",
       "    <tr>\n",
       "      <th>Michigan</th>\n",
       "      <td>0.147175</td>\n",
       "      <td>0.256221</td>\n",
       "    </tr>\n",
       "    <tr>\n",
       "      <th>West Virginia</th>\n",
       "      <td>0.144633</td>\n",
       "      <td>0.254003</td>\n",
       "    </tr>\n",
       "  </tbody>\n",
       "</table>\n",
       "</div>"
      ],
      "text/plain": [
       "                      effort_min  effort_safe\n",
       "State                                        \n",
       "District of Columbia    0.180226     0.285046\n",
       "Delaware                0.158475     0.266075\n",
       "Idaho                   0.152825     0.261148\n",
       "Michigan                0.147175     0.256221\n",
       "West Virginia           0.144633     0.254003"
      ]
     },
     "execution_count": 88,
     "metadata": {},
     "output_type": "execute_result"
    }
   ],
   "source": [
    "effort_sat = sat.copy()\n",
    "effort_sat = effort_sat[['compare_min', 'compare_safe']]\n",
    "effort_sat['effort_min'] = 1 - effort_sat['compare_min']\n",
    "effort_sat['effort_safe'] = 1 - effort_sat['compare_safe']\n",
    "effort_sat = effort_sat.drop(columns = ['compare_min','compare_safe'])\n",
    "effort_sat.sort_values('effort_safe', ascending = False).head()"
   ]
  },
  {
   "cell_type": "code",
   "execution_count": 101,
   "metadata": {},
   "outputs": [
    {
     "data": {
      "text/plain": [
       "0.17240796293880947"
      ]
     },
     "execution_count": 101,
     "metadata": {},
     "output_type": "execute_result"
    }
   ],
   "source": [
    "effort_sat['effort_safe'].mean()"
   ]
  },
  {
   "cell_type": "markdown",
   "metadata": {},
   "source": [
    "### Findings "
   ]
  },
  {
   "cell_type": "markdown",
   "metadata": {},
   "source": [
    "We defined 2 SAT targets to aim for in order to be accepted into a prestigious school:\n",
    "- `min target`= **1180**\n",
    "- `safe target` = **1353**\n",
    "\n",
    "\n",
    "**In reference to intended major cohort's SAT performance (2019):**<br>\n",
    "- Highest performing cohort: **Mathematics and Statistics**\n",
    "\n",
    "- **2 of 38 cohorts** had an average performance good enough to meet the `min target` (*Mathematics and Statistics, Physical Sciences*)\n",
    "\n",
    "- Whereas **0 of 38** have an average performance that will meet the `safe target`\n",
    "\n",
    "\n",
    "**In reference to State's SAT performance (2017-2019):**<br>\n",
    "- **14 of 51** areas achieve an average SAT score that meets the `min target`\n",
    "- **0 of 51** areas achieve an average SAT score that meets the `safe target`\n",
    "\n",
    "*NOTE:* Participation of high ranking states are incredibly low, and must be accounted for when considering their SAT performance."
   ]
  },
  {
   "cell_type": "markdown",
   "metadata": {},
   "source": [
    "**How much more effort is needed to achieve min and safe SAT targets:**<br> \n",
    "\n",
    "**By Intended Majors' cohort's SAT performance (2019):**<br>\n",
    "Mechanic and Repair Technologies/Technicians: 22.4% | 32.3% <br> Construction Trades, General: 22.1% | 32%<br>Personal and Culinary Services, General: 21.3% | 31.3%<br> Overall mean: 21.8%\n",
    "\n",
    "\n",
    "**By States' SAT performance (2017-2019):**<br>\n",
    "District of Columbia: 18% | 28.5% <br> Delaware: 15.8% | 26.6% <br> Idaho: 15.28% | 26.1% <br>Overall mean: 17.2%"
   ]
  },
  {
   "cell_type": "markdown",
   "metadata": {},
   "source": [
    "3. Plot and interpret boxplots. \n",
    "    - Boxplots demonstrate central tendency and spread in variables. In a certain sense, these are somewhat redundant with histograms, but you may be better able to identify clear outliers or differences in IQR, etc.\n",
    "    - Multiple values can be plotted to a single boxplot as long as they are of the same relative scale (meaning they have similar min/max values).\n",
    "    - Each boxplot should:\n",
    "        - Only include variables of a similar scale\n",
    "        - Have clear labels for each variable\n",
    "        - Have appropriate titles and labels\n"
   ]
  },
  {
   "cell_type": "markdown",
   "metadata": {},
   "source": [
    "# Visualisation"
   ]
  },
  {
   "cell_type": "markdown",
   "metadata": {},
   "source": [
    "**`prestige_signal` distribution across schools**"
   ]
  },
  {
   "cell_type": "code",
   "execution_count": 89,
   "metadata": {},
   "outputs": [
    {
     "data": {
      "text/plain": [
       "<matplotlib.lines.Line2D at 0x116489df0>"
      ]
     },
     "execution_count": 89,
     "metadata": {},
     "output_type": "execute_result"
    },
    {
     "data": {
      "image/png": "[encoded data removed]",
      "text/plain": [
       "<Figure size 360x360 with 1 Axes>"
      ]
     },
     "metadata": {
      "needs_background": "light"
     },
     "output_type": "display_data"
    }
   ],
   "source": [
    "#visualising the chosen cut-off for prestegious schools (80th percentile according to prestige signal)\n",
    "prestige_dis = sns.displot(data= colleges,\n",
    "            x = 'prestige_signal',\n",
    "            edgecolor = 'none',\n",
    "            bins=25\n",
    "           )\n",
    "plt.title('Prestige Signal distribution across schools')\n",
    "plt.axvline(prestige_threshold, 40,0, color='r')"
   ]
  },
  {
   "cell_type": "code",
   "execution_count": 90,
   "metadata": {},
   "outputs": [
    {
     "data": {
      "text/html": [
       "<div>\n",
       "<style scoped>\n",
       "    .dataframe tbody tr th:only-of-type {\n",
       "        vertical-align: middle;\n",
       "    }\n",
       "\n",
       "    .dataframe tbody tr th {\n",
       "        vertical-align: top;\n",
       "    }\n",
       "\n",
       "    .dataframe thead th {\n",
       "        text-align: right;\n",
       "    }\n",
       "</style>\n",
       "<table border=\"1\" class=\"dataframe\">\n",
       "  <thead>\n",
       "    <tr style=\"text-align: right;\">\n",
       "      <th></th>\n",
       "      <th>participation_17</th>\n",
       "      <th>evidence-based_reading_and_writing_17</th>\n",
       "      <th>math_17</th>\n",
       "      <th>total_17</th>\n",
       "      <th>participation_18</th>\n",
       "      <th>evidence-based_reading_and_writing_18</th>\n",
       "      <th>math_18</th>\n",
       "      <th>total_18</th>\n",
       "      <th>participation_19</th>\n",
       "      <th>evidence-based_reading_and_writing_19</th>\n",
       "      <th>math_19</th>\n",
       "      <th>total_19</th>\n",
       "      <th>compare_min</th>\n",
       "      <th>compare_safe</th>\n",
       "    </tr>\n",
       "    <tr>\n",
       "      <th>State</th>\n",
       "      <th></th>\n",
       "      <th></th>\n",
       "      <th></th>\n",
       "      <th></th>\n",
       "      <th></th>\n",
       "      <th></th>\n",
       "      <th></th>\n",
       "      <th></th>\n",
       "      <th></th>\n",
       "      <th></th>\n",
       "      <th></th>\n",
       "      <th></th>\n",
       "      <th></th>\n",
       "      <th></th>\n",
       "    </tr>\n",
       "  </thead>\n",
       "  <tbody>\n",
       "    <tr>\n",
       "      <th>Minnesota</th>\n",
       "      <td>0.03</td>\n",
       "      <td>644</td>\n",
       "      <td>651</td>\n",
       "      <td>1295</td>\n",
       "      <td>0.04</td>\n",
       "      <td>643</td>\n",
       "      <td>655</td>\n",
       "      <td>1298</td>\n",
       "      <td>0.04</td>\n",
       "      <td>636</td>\n",
       "      <td>648</td>\n",
       "      <td>1284</td>\n",
       "      <td>1.095198</td>\n",
       "      <td>0.955161</td>\n",
       "    </tr>\n",
       "    <tr>\n",
       "      <th>Wisconsin</th>\n",
       "      <td>0.03</td>\n",
       "      <td>642</td>\n",
       "      <td>649</td>\n",
       "      <td>1291</td>\n",
       "      <td>0.03</td>\n",
       "      <td>641</td>\n",
       "      <td>653</td>\n",
       "      <td>1294</td>\n",
       "      <td>0.03</td>\n",
       "      <td>635</td>\n",
       "      <td>648</td>\n",
       "      <td>1283</td>\n",
       "      <td>1.092655</td>\n",
       "      <td>0.952944</td>\n",
       "    </tr>\n",
       "    <tr>\n",
       "      <th>North Dakota</th>\n",
       "      <td>0.02</td>\n",
       "      <td>635</td>\n",
       "      <td>621</td>\n",
       "      <td>1256</td>\n",
       "      <td>0.02</td>\n",
       "      <td>640</td>\n",
       "      <td>643</td>\n",
       "      <td>1283</td>\n",
       "      <td>0.02</td>\n",
       "      <td>627</td>\n",
       "      <td>636</td>\n",
       "      <td>1263</td>\n",
       "      <td>1.074011</td>\n",
       "      <td>0.936684</td>\n",
       "    </tr>\n",
       "    <tr>\n",
       "      <th>Iowa</th>\n",
       "      <td>0.02</td>\n",
       "      <td>641</td>\n",
       "      <td>635</td>\n",
       "      <td>1275</td>\n",
       "      <td>0.03</td>\n",
       "      <td>634</td>\n",
       "      <td>631</td>\n",
       "      <td>1265</td>\n",
       "      <td>0.03</td>\n",
       "      <td>622</td>\n",
       "      <td>622</td>\n",
       "      <td>1244</td>\n",
       "      <td>1.068927</td>\n",
       "      <td>0.932249</td>\n",
       "    </tr>\n",
       "    <tr>\n",
       "      <th>Missouri</th>\n",
       "      <td>0.03</td>\n",
       "      <td>640</td>\n",
       "      <td>631</td>\n",
       "      <td>1271</td>\n",
       "      <td>0.04</td>\n",
       "      <td>633</td>\n",
       "      <td>629</td>\n",
       "      <td>1262</td>\n",
       "      <td>0.04</td>\n",
       "      <td>622</td>\n",
       "      <td>615</td>\n",
       "      <td>1236</td>\n",
       "      <td>1.064689</td>\n",
       "      <td>0.928554</td>\n",
       "    </tr>\n",
       "  </tbody>\n",
       "</table>\n",
       "</div>"
      ],
      "text/plain": [
       "              participation_17  evidence-based_reading_and_writing_17  \\\n",
       "State                                                                   \n",
       "Minnesota                 0.03                                    644   \n",
       "Wisconsin                 0.03                                    642   \n",
       "North Dakota              0.02                                    635   \n",
       "Iowa                      0.02                                    641   \n",
       "Missouri                  0.03                                    640   \n",
       "\n",
       "              math_17  total_17  participation_18  \\\n",
       "State                                               \n",
       "Minnesota         651      1295              0.04   \n",
       "Wisconsin         649      1291              0.03   \n",
       "North Dakota      621      1256              0.02   \n",
       "Iowa              635      1275              0.03   \n",
       "Missouri          631      1271              0.04   \n",
       "\n",
       "              evidence-based_reading_and_writing_18  math_18  total_18  \\\n",
       "State                                                                    \n",
       "Minnesota                                       643      655      1298   \n",
       "Wisconsin                                       641      653      1294   \n",
       "North Dakota                                    640      643      1283   \n",
       "Iowa                                            634      631      1265   \n",
       "Missouri                                        633      629      1262   \n",
       "\n",
       "              participation_19  evidence-based_reading_and_writing_19  \\\n",
       "State                                                                   \n",
       "Minnesota                 0.04                                    636   \n",
       "Wisconsin                 0.03                                    635   \n",
       "North Dakota              0.02                                    627   \n",
       "Iowa                      0.03                                    622   \n",
       "Missouri                  0.04                                    622   \n",
       "\n",
       "              math_19  total_19  compare_min  compare_safe  \n",
       "State                                                       \n",
       "Minnesota         648      1284     1.095198      0.955161  \n",
       "Wisconsin         648      1283     1.092655      0.952944  \n",
       "North Dakota      636      1263     1.074011      0.936684  \n",
       "Iowa              622      1244     1.068927      0.932249  \n",
       "Missouri          615      1236     1.064689      0.928554  "
      ]
     },
     "execution_count": 90,
     "metadata": {},
     "output_type": "execute_result"
    }
   ],
   "source": [
    "sat.head()"
   ]
  },
  {
   "cell_type": "markdown",
   "metadata": {},
   "source": [
    "**State-wide SAT performance vs prestige safe target**"
   ]
  },
  {
   "cell_type": "code",
   "execution_count": 91,
   "metadata": {},
   "outputs": [
    {
     "data": {
      "text/plain": [
       "Text(0.5, 1.0, 'State-wide comparison to Prestige Safe Target (1353)')"
      ]
     },
     "execution_count": 91,
     "metadata": {},
     "output_type": "execute_result"
    },
    {
     "data": {
      "image/png": "[encoded data removed]",
      "text/plain": [
       "<Figure size 360x360 with 1 Axes>"
      ]
     },
     "metadata": {
      "needs_background": "light"
     },
     "output_type": "display_data"
    }
   ],
   "source": [
    "sns.catplot(x='compare_safe', kind=\"box\", data=sat)\n",
    "plt.title('State-wide comparison to Prestige Safe Target (1353)')"
   ]
  },
  {
   "cell_type": "markdown",
   "metadata": {},
   "source": [
    "**Participation rate contributes to sat performance**"
   ]
  },
  {
   "cell_type": "code",
   "execution_count": 92,
   "metadata": {},
   "outputs": [],
   "source": [
    "participation = sat[['participation_17', 'participation_18', 'participation_19','compare_min']]"
   ]
  },
  {
   "cell_type": "code",
   "execution_count": 93,
   "metadata": {},
   "outputs": [
    {
     "data": {
      "text/plain": [
       "Text(0.5, 1.0, 'Correlation of State SAT variables to comparison_values')"
      ]
     },
     "execution_count": 93,
     "metadata": {},
     "output_type": "execute_result"
    },
    {
     "data": {
      "image/png": "[encoded data removed]",
      "text/plain": [
       "<Figure size 432x288 with 2 Axes>"
      ]
     },
     "metadata": {
      "needs_background": "light"
     },
     "output_type": "display_data"
    }
   ],
   "source": [
    "sns.heatmap(participation.corr()[['compare_min']].sort_values(by=['compare_min'],ascending=False, key = abs), cmap = 'coolwarm', annot = True)\n",
    "plt.title('Correlation of State SAT variables to comparison_values')"
   ]
  },
  {
   "cell_type": "markdown",
   "metadata": {},
   "source": [
    "**Findings:** participation rates have an alarming amount of negative correlation, highlighting that the lower participation rates will usually contribute to higher SAT performance (comparison_min)"
   ]
  },
  {
   "cell_type": "markdown",
   "metadata": {},
   "source": [
    "#### `comparison values` and `effort values` of intended-major cohorts:"
   ]
  },
  {
   "cell_type": "markdown",
   "metadata": {},
   "source": [
    "**1. comparison values**"
   ]
  },
  {
   "cell_type": "code",
   "execution_count": 94,
   "metadata": {},
   "outputs": [
    {
     "data": {
      "text/plain": [
       "<seaborn.axisgrid.FacetGrid at 0x116981100>"
      ]
     },
     "execution_count": 94,
     "metadata": {},
     "output_type": "execute_result"
    },
    {
     "data": {
      "image/png": "[encoded data removed]",
      "text/plain": [
       "<Figure size 360x360 with 1 Axes>"
      ]
     },
     "metadata": {
      "needs_background": "light"
     },
     "output_type": "display_data"
    }
   ],
   "source": [
    "i_m_min = sns.relplot(data = i_m,\n",
    "           x = i_m.index,\n",
    "           y = 'compare_min').set(title = 'Intended College Major vs Min Target')\n",
    "i_m_min.refline(y = 1,\n",
    "          color = \"red\",\n",
    "          lw = 3)\n",
    "i_m_min.set_axis_labels(\"Instances of Intended College Majors\", \"Comparison Value (min)\")"
   ]
  },
  {
   "cell_type": "code",
   "execution_count": 95,
   "metadata": {},
   "outputs": [
    {
     "data": {
      "text/plain": [
       "<seaborn.axisgrid.FacetGrid at 0x1166fbca0>"
      ]
     },
     "execution_count": 95,
     "metadata": {},
     "output_type": "execute_result"
    },
    {
     "data": {
      "image/png": "[encoded data removed]",
      "text/plain": [
       "<Figure size 360x360 with 1 Axes>"
      ]
     },
     "metadata": {
      "needs_background": "light"
     },
     "output_type": "display_data"
    }
   ],
   "source": [
    "i_m_safe = sns.relplot(data = i_m,\n",
    "           x = i_m.index,\n",
    "           y = 'compare_safe').set(title = 'Intended college major vs safe target')\n",
    "i_m_safe.refline(y = 1,\n",
    "          color = \"red\",\n",
    "          lw = 3)\n",
    "i_m_safe.set_axis_labels(\"Instances of Intended College Majors\", \"Comparison Value (safe)\")"
   ]
  },
  {
   "cell_type": "code",
   "execution_count": 111,
   "metadata": {},
   "outputs": [
    {
     "data": {
      "text/plain": [
       "<seaborn.axisgrid.FacetGrid at 0x1189f8400>"
      ]
     },
     "execution_count": 111,
     "metadata": {},
     "output_type": "execute_result"
    },
    {
     "data": {
      "image/png": "[encoded data removed]",
      "text/plain": [
       "<Figure size 360x360 with 1 Axes>"
      ]
     },
     "metadata": {
      "needs_background": "light"
     },
     "output_type": "display_data"
    }
   ],
   "source": [
    "sat_min = sns.relplot(data = sat,\n",
    "           x = range(1,len(sat.index)+1),\n",
    "           y = 'compare_min').set(title = 'States vs Min Target')\n",
    "sat_min.refline(y = 1,\n",
    "          color = \"red\",\n",
    "          lw = 3)\n",
    "sat_min.set_axis_labels(\"Instances of States\", \"Comparison Value (min)\")"
   ]
  },
  {
   "cell_type": "code",
   "execution_count": 113,
   "metadata": {},
   "outputs": [
    {
     "data": {
      "text/plain": [
       "<seaborn.axisgrid.FacetGrid at 0x118d6b0a0>"
      ]
     },
     "execution_count": 113,
     "metadata": {},
     "output_type": "execute_result"
    },
    {
     "data": {
      "image/png": "[encoded data removed]",
      "text/plain": [
       "<Figure size 360x360 with 1 Axes>"
      ]
     },
     "metadata": {
      "needs_background": "light"
     },
     "output_type": "display_data"
    }
   ],
   "source": [
    "sat_safe = sns.relplot(data = sat,\n",
    "           x = range(1,len(sat.index)+1),\n",
    "           y = 'compare_safe').set(title = 'States vs Safe Target')\n",
    "sat_safe.refline(y = 1,\n",
    "          color = \"red\",\n",
    "          lw = 3)\n",
    "sat_safe.set_axis_labels(\"Instances of States\", \"Comparison Value (safe)\")"
   ]
  },
  {
   "cell_type": "markdown",
   "metadata": {},
   "source": [
    "**2. effort values**"
   ]
  },
  {
   "cell_type": "markdown",
   "metadata": {},
   "source": [
    "Only focusing on prestige safe target as it also represents the same trend as prestige min target"
   ]
  },
  {
   "cell_type": "markdown",
   "metadata": {},
   "source": [
    "**a. intended college major**"
   ]
  },
  {
   "cell_type": "code",
   "execution_count": 96,
   "metadata": {},
   "outputs": [],
   "source": [
    "effort_i_m = effort_i_m.sort_values('effort_safe', ascending = False)"
   ]
  },
  {
   "cell_type": "code",
   "execution_count": 97,
   "metadata": {},
   "outputs": [
    {
     "data": {
      "text/plain": [
       "Text(0.5, 1.0, 'Effort required to reach safe prestige targets for each Intended College Major')"
      ]
     },
     "execution_count": 97,
     "metadata": {},
     "output_type": "execute_result"
    },
    {
     "data": {
      "image/png": "[encoded data removed]",
      "text/plain": [
       "<Figure size 2160x648 with 1 Axes>"
      ]
     },
     "metadata": {
      "needs_background": "light"
     },
     "output_type": "display_data"
    }
   ],
   "source": [
    "X = effort_i_m.index\n",
    "plt.figure(figsize = (30,9))\n",
    "X_axis = np.arange(len(effort_i_m.index))\n",
    "safe = plt.bar(effort_i_m.index,effort_i_m['effort_safe'], 0.4, label = 'effort_safe')\n",
    "plt.ylabel('% Extra Effort required vs peers')\n",
    "plt.xlabel('Intended College Majors')\n",
    "\n",
    "plt.xticks(X_axis, X, rotation = 90)\n",
    "plt.title('Effort required to reach safe prestige targets for each Intended College Major')"
   ]
  },
  {
   "cell_type": "markdown",
   "metadata": {},
   "source": [
    "**b. States**"
   ]
  },
  {
   "cell_type": "code",
   "execution_count": 98,
   "metadata": {},
   "outputs": [],
   "source": [
    "effort_sat = effort_sat.sort_values('effort_safe', ascending = False)"
   ]
  },
  {
   "cell_type": "code",
   "execution_count": 99,
   "metadata": {},
   "outputs": [
    {
     "data": {
      "text/plain": [
       "Text(0.5, 1.0, 'Effort required to reach safe prestige targets for each State')"
      ]
     },
     "execution_count": 99,
     "metadata": {},
     "output_type": "execute_result"
    },
    {
     "data": {
      "image/png": "[encoded data removed]",
      "text/plain": [
       "<Figure size 2160x648 with 1 Axes>"
      ]
     },
     "metadata": {
      "needs_background": "light"
     },
     "output_type": "display_data"
    }
   ],
   "source": [
    "X = effort_sat.index\n",
    "plt.figure(figsize = (30,9))\n",
    "X_axis = np.arange(len(effort_sat.index))\n",
    "safe = plt.bar(effort_sat.index,effort_sat['effort_safe'], 0.4, label = 'effort_safe', color = 'green')\n",
    "plt.ylabel('% Extra Effort required vs peers')\n",
    "plt.xlabel('Intended College Majors')\n",
    "\n",
    "plt.xticks(X_axis, X, rotation = 90)\n",
    "plt.title('Effort required to reach safe prestige targets for each State')"
   ]
  },
  {
   "cell_type": "markdown",
   "metadata": {},
   "source": [
    "## Conclusions and Recommendations"
   ]
  },
  {
   "cell_type": "markdown",
   "metadata": {},
   "source": [
    "Make sure to answer your question of interest or address your problem statement here."
   ]
  },
  {
   "cell_type": "markdown",
   "metadata": {},
   "source": [
    "**Key take-aways:**<br>\n",
    "Students should aim to get the minimum of 1180 as their SAT score, and 1353 as a safer goal if they want to be considered in a prestigious school. <br> Regardless of intended college major you've indicated or state that you're in, you need to be out-performing your peers to achieve a SAT that will **safely** get you into a prestigious school. <br> Students intending to do math and physics in college have the highest chances of getting into prestigious schools on average. <br>SAT performance isn't representative of a student's overall ability to be considered to a prestigious school. <br> State-wide performance is biased towards low participation rates, therefore we cannot make definitive conclusions. <br> Students should be working 17.2% harder than their peers\n",
    "\n",
    "\n",
    "**Reccomendations:**<br> The prestige_signal needs to be weighted by participation rates when investigating SAT performance in states."
   ]
  },
  {
   "cell_type": "markdown",
   "metadata": {},
   "source": [
    "Don't forget to create your README!\n",
    "\n",
    "**To-Do:** *If you combine your problem statement, data dictionary, brief summary of your analysis, and conclusions/recommendations, you have an amazing README.md file that quickly aligns your audience to the contents of your project.* Don't forget to cite your data sources!"
   ]
  }
 ],
 "metadata": {
  "anaconda-cloud": {},
  "kernelspec": {
   "display_name": "Python 3",
   "language": "python",
   "name": "python3"
  },
  "language_info": {
   "codemirror_mode": {
    "name": "ipython",
    "version": 3
   },
   "file_extension": ".py",
   "mimetype": "text/x-python",
   "name": "python",
   "nbconvert_exporter": "python",
   "pygments_lexer": "ipython3",
   "version": "3.8.8"
  }
 },
 "nbformat": 4,
 "nbformat_minor": 4
}
