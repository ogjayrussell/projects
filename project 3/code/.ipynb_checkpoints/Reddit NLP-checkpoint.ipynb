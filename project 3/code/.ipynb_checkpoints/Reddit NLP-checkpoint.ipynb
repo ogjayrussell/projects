{
 "cells": [
  {
   "cell_type": "markdown",
   "id": "2d817484-3b29-4d2a-9779-4ada4dfff5e8",
   "metadata": {},
   "source": [
    "# Discerning the language used between r/godtiersuperpowers vs r/LifeProTips"
   ]
  },
  {
   "cell_type": "markdown",
   "id": "b2353c0c-b4c3-4435-becb-2e49964786b9",
   "metadata": {},
   "source": [
    "Can we make a model that is able to discern wether a post holds genuine tips to help people out or... if it's a completely fictional fantasy?"
   ]
  },
  {
   "cell_type": "markdown",
   "id": "eee67c02-e375-4e63-b2d5-e6177a3aeef7",
   "metadata": {},
   "source": [
    "_____"
   ]
  },
  {
   "cell_type": "markdown",
   "id": "823b085e-e1b5-4e2b-9475-190dbcadde15",
   "metadata": {},
   "source": [
    "### Imports"
   ]
  },
  {
   "cell_type": "code",
   "execution_count": 2,
   "id": "47a0f40b-fc7f-4c50-be62-1e0ab25bbf42",
   "metadata": {},
   "outputs": [
    {
     "name": "stdout",
     "output_type": "stream",
     "text": [
      "The autoreload extension is already loaded. To reload it, use:\n",
      "  %reload_ext autoreload\n"
     ]
    }
   ],
   "source": [
    "import func as func\n",
    "import praw\n",
    "from psaw import PushshiftAPI\n",
    "import requests\n",
    "import numpy as np\n",
    "import pandas as pd\n",
    "import matplotlib.pyplot as plt\n",
    "import seaborn as sns\n",
    "\n",
    "from sklearn.linear_model import LogisticRegression\n",
    "from sklearn.compose import ColumnTransformer\n",
    "from sklearn.model_selection import train_test_split, cross_val_score, GridSearchCV\n",
    "from sklearn.pipeline import Pipeline\n",
    "from sklearn.metrics import r2_score, mean_squared_error, accuracy_score, classification_report, confusion_matrix, ConfusionMatrixDisplay\n",
    "from sklearn.impute import KNNImputer\n",
    "from sklearn.preprocessing import StandardScaler\n",
    "from sklearn.dummy import DummyRegressor\n",
    "from sklearn.ensemble import RandomForestClassifier\n",
    "from sklearn.tree import plot_tree\n",
    "\n",
    "from nltk.tokenize import sent_tokenize, word_tokenize, RegexpTokenizer\n",
    "from nltk.stem import WordNetLemmatizer\n",
    "from nltk.corpus import stopwords\n",
    "\n",
    "from sklearn.feature_extraction.text import CountVectorizer, TfidfVectorizer\n",
    "from statsmodels.stats.outliers_influence import variance_inflation_factor\n",
    "\n",
    "from sklearn.naive_bayes import MultinomialNB\n",
    "\n",
    "import sys\n",
    "if not sys.warnoptions:\n",
    "    import warnings\n",
    "    warnings.simplefilter(\"ignore\")\n",
    "\n",
    "%load_ext autoreload\n",
    "%autoreload 2"
   ]
  },
  {
   "cell_type": "markdown",
   "id": "ce2b723d-0c8c-4748-80ca-f6b856b896cc",
   "metadata": {
    "tags": []
   },
   "source": [
    "# Extracting information from 2000 subreddit posts using PRAW\n"
   ]
  },
  {
   "cell_type": "markdown",
   "id": "14d6051d-3ae4-4c9d-a3b7-1ecc1fc21fc2",
   "metadata": {
    "tags": []
   },
   "source": [
    "## Accessing Python Reddit API Wrapper (PRAW)"
   ]
  },
  {
   "cell_type": "code",
   "execution_count": 3,
   "id": "bf15f22c-3e46-4dc3-bcd5-2c07cb093bed",
   "metadata": {},
   "outputs": [
    {
     "name": "stderr",
     "output_type": "stream",
     "text": [
      "Version 7.5.0 of praw is outdated. Version 7.6.0 was released 7 days ago.\n"
     ]
    }
   ],
   "source": [
    "#reddit instance to gain access to reddit content\n",
    "reddit = praw.Reddit(client_id = 'WOnuVMarbgdLMOZ8qVZu_g',\n",
    "                    client_secret = '-b0KDq16LqaTYB0y77h0N9E314o-8A',\n",
    "                    username = 'r2foru',\n",
    "                    password = '',\n",
    "                    user_agent = 'yee')\n"
   ]
  },
  {
   "cell_type": "markdown",
   "id": "bbac0342-11b0-492b-9581-d97c3956ffd8",
   "metadata": {},
   "source": [
    "### 1. Function that takes targeted information and saves to a csv file\n",
    "\n",
    "#### **How it's done:** \n",
    "- Iterate through list of subreddits to:\n",
    "    1. Create csv pathway\n",
    "    2. Access subreddit\n",
    "    3. Describe what type of posts to sort by- top/ hot/ new\n",
    "        - Also outline how many posts to take\n",
    "    4. Create dictionary to store post information\n",
    "     \n",
    "     <br>\n",
    "- Iterate each post of each subreddit to:\n",
    "    5. Access post characteristics from post object and append to dictionary\n",
    "    6. Create dataframe from said dictionary and save it as a csv file\n",
    "\n",
    "#### Objectives: \n",
    "- Sort by 'top' and 'hot'\n",
    "- Collect 2000 posts per subreddit\n",
    "- Extract from each post their:\n",
    "    - ID\n",
    "    - URL\n",
    "    - Title\n",
    "    - Self text\n",
    "    - Score\n",
    "    - Number of comments\n",
    "\n",
    "**NOTE:** Refer to README to understand these characteristics of a post"
   ]
  },
  {
   "cell_type": "markdown",
   "id": "b9e4eedc-ba86-4a2a-81cf-76ee3fdcbf3e",
   "metadata": {
    "tags": []
   },
   "source": [
    "*The fucntion can be found in func.py*"
   ]
  },
  {
   "cell_type": "markdown",
   "id": "db773fdd-9f7b-45d8-b534-f72e31bad913",
   "metadata": {
    "tags": []
   },
   "source": [
    "### 2. Saving csv files of 'LifeProTips' and 'godtiersuperpowers' sorted by top, hot and new \n",
    "Using func.extract_subreddit (function is found in .py file) to make 4 seperate csv files containing all the information outlined previously"
   ]
  },
  {
   "cell_type": "code",
   "execution_count": 4,
   "id": "c459b6ec-40c1-4600-8d03-9cbc4d9537c3",
   "metadata": {},
   "outputs": [],
   "source": [
    "#list of chosen subreddits\n",
    "# sub_list = ['LifeProTips', 'godtiersuperpowers']\n",
    "\n",
    "#performing function onto these subreddits\n",
    "# func.extract_subreddit(sub_list) "
   ]
  },
  {
   "cell_type": "markdown",
   "id": "aa11cc1b-970e-46de-935d-5c0452fd0af3",
   "metadata": {},
   "source": [
    "### 3. Reading the CSV files"
   ]
  },
  {
   "cell_type": "code",
   "execution_count": 5,
   "id": "0cdfb75a-d810-4fdc-93f3-ff932ab53921",
   "metadata": {},
   "outputs": [],
   "source": [
    "gt_top = pd.read_csv('../data/godtiersuperpowers_top_scraped.csv')\n",
    "gt_hot = pd.read_csv('../data/godtiersuperpowers_hot_scraped.csv')\n",
    "gt_new = pd.read_csv('../data/godtiersuperpowers_new_scraped.csv')\n",
    "\n",
    "lpt_top = pd.read_csv('../data/LifeProTips_top_scraped.csv')\n",
    "lpt_hot = pd.read_csv('../data/LifeProTips_hot_scraped.csv')\n",
    "lpt_new = pd.read_csv('../data/LifeProTips_new_scraped.csv')"
   ]
  },
  {
   "cell_type": "code",
   "execution_count": 6,
   "id": "ded5480e-f3fd-4887-ae5d-f5e76bd4d575",
   "metadata": {},
   "outputs": [
    {
     "data": {
      "text/html": [
       "<div>\n",
       "<style scoped>\n",
       "    .dataframe tbody tr th:only-of-type {\n",
       "        vertical-align: middle;\n",
       "    }\n",
       "\n",
       "    .dataframe tbody tr th {\n",
       "        vertical-align: top;\n",
       "    }\n",
       "\n",
       "    .dataframe thead th {\n",
       "        text-align: right;\n",
       "    }\n",
       "</style>\n",
       "<table border=\"1\" class=\"dataframe\">\n",
       "  <thead>\n",
       "    <tr style=\"text-align: right;\">\n",
       "      <th></th>\n",
       "      <th>id</th>\n",
       "      <th>url</th>\n",
       "      <th>title</th>\n",
       "      <th>self_text</th>\n",
       "      <th>score</th>\n",
       "      <th>num_comments</th>\n",
       "      <th>subreddit</th>\n",
       "    </tr>\n",
       "  </thead>\n",
       "  <tbody>\n",
       "    <tr>\n",
       "      <th>0</th>\n",
       "      <td>unbnr1</td>\n",
       "      <td>https://www.reddit.com/r/godtiersuperpowers/co...</td>\n",
       "      <td>You gain all the abilities and items from ever...</td>\n",
       "      <td>NaN</td>\n",
       "      <td>1087</td>\n",
       "      <td>106</td>\n",
       "      <td>godtiersuperpowers</td>\n",
       "    </tr>\n",
       "    <tr>\n",
       "      <th>1</th>\n",
       "      <td>uno321</td>\n",
       "      <td>https://www.reddit.com/r/godtiersuperpowers/co...</td>\n",
       "      <td>whenever you stare at someone for more than 5 ...</td>\n",
       "      <td>NaN</td>\n",
       "      <td>43</td>\n",
       "      <td>7</td>\n",
       "      <td>godtiersuperpowers</td>\n",
       "    </tr>\n",
       "  </tbody>\n",
       "</table>\n",
       "</div>"
      ],
      "text/plain": [
       "       id                                                url  \\\n",
       "0  unbnr1  https://www.reddit.com/r/godtiersuperpowers/co...   \n",
       "1  uno321  https://www.reddit.com/r/godtiersuperpowers/co...   \n",
       "\n",
       "                                               title self_text  score  \\\n",
       "0  You gain all the abilities and items from ever...       NaN   1087   \n",
       "1  whenever you stare at someone for more than 5 ...       NaN     43   \n",
       "\n",
       "   num_comments           subreddit  \n",
       "0           106  godtiersuperpowers  \n",
       "1             7  godtiersuperpowers  "
      ]
     },
     "execution_count": 6,
     "metadata": {},
     "output_type": "execute_result"
    }
   ],
   "source": [
    "gt_hot.head(2)"
   ]
  },
  {
   "cell_type": "markdown",
   "id": "daada518-81de-411a-9cb1-84861bc1f2d1",
   "metadata": {
    "tags": []
   },
   "source": [
    "### 4. Combining the data sets\n",
    "- PRAW is unable to extract exactly the 1000 posts for each category of posts. lpt_hot only had 338 entries compared to gt with 999. I consciously ignored giving godtiersuperpowers posts sorted by 'new' to achieve a better class balance between subreddits. Improving the class balance from 6:4 to 5:5 increased accuracy by 10%, recall by 35% and specificity by 2%.\n",
    "- The dataset had been shuffled so that the observations were assorted randomly."
   ]
  },
  {
   "cell_type": "code",
   "execution_count": 7,
   "id": "297ff5b9-2e3b-433b-9725-eaa9a6284464",
   "metadata": {},
   "outputs": [
    {
     "data": {
      "text/plain": [
       "((1000, 7), (999, 7), (991, 7))"
      ]
     },
     "execution_count": 7,
     "metadata": {},
     "output_type": "execute_result"
    }
   ],
   "source": [
    "#these aren't consistently 1000 entries each\n",
    "gt_top.shape, gt_hot.shape, gt_new.shape"
   ]
  },
  {
   "cell_type": "code",
   "execution_count": 8,
   "id": "79f85bf3-383f-4a9e-9370-f3c030961217",
   "metadata": {},
   "outputs": [
    {
     "data": {
      "text/plain": [
       "((988, 7), (338, 7), (982, 7))"
      ]
     },
     "execution_count": 8,
     "metadata": {},
     "output_type": "execute_result"
    }
   ],
   "source": [
    "#lpt_hot has 338 observations \n",
    "lpt_top.shape, lpt_hot.shape, lpt_new.shape"
   ]
  },
  {
   "cell_type": "code",
   "execution_count": 9,
   "id": "1024c5c5-e996-4b98-9230-cf444aa7a389",
   "metadata": {},
   "outputs": [],
   "source": [
    "gt = pd.concat([gt_top, gt_hot], axis = 0)\n",
    "lpt = pd.concat([lpt_top, lpt_hot, lpt_new], axis = 0)\n",
    "\n",
    "#ignore_index is needed as index will duplicate when concatenating\n",
    "df = pd.concat([lpt, gt], axis = 0, ignore_index = True)\n",
    "\n",
    "#To increase randomness in our dataset, we reshuffle the dataframe by rows since concatenation added all gt observations below all\n",
    "#lpt observations\n",
    "df = df.sample(frac = 1, ignore_index = True)"
   ]
  },
  {
   "cell_type": "code",
   "execution_count": 10,
   "id": "9b2d7891-c813-491a-b06e-886901da0ed0",
   "metadata": {},
   "outputs": [
    {
     "data": {
      "text/html": [
       "<div>\n",
       "<style scoped>\n",
       "    .dataframe tbody tr th:only-of-type {\n",
       "        vertical-align: middle;\n",
       "    }\n",
       "\n",
       "    .dataframe tbody tr th {\n",
       "        vertical-align: top;\n",
       "    }\n",
       "\n",
       "    .dataframe thead th {\n",
       "        text-align: right;\n",
       "    }\n",
       "</style>\n",
       "<table border=\"1\" class=\"dataframe\">\n",
       "  <thead>\n",
       "    <tr style=\"text-align: right;\">\n",
       "      <th></th>\n",
       "      <th>id</th>\n",
       "      <th>url</th>\n",
       "      <th>title</th>\n",
       "      <th>self_text</th>\n",
       "      <th>score</th>\n",
       "      <th>num_comments</th>\n",
       "      <th>subreddit</th>\n",
       "    </tr>\n",
       "  </thead>\n",
       "  <tbody>\n",
       "    <tr>\n",
       "      <th>0</th>\n",
       "      <td>ddxwd0</td>\n",
       "      <td>https://www.reddit.com/r/godtiersuperpowers/co...</td>\n",
       "      <td>Every bit of water or food you \"waste\" goes di...</td>\n",
       "      <td>NaN</td>\n",
       "      <td>8784</td>\n",
       "      <td>89</td>\n",
       "      <td>godtiersuperpowers</td>\n",
       "    </tr>\n",
       "    <tr>\n",
       "      <th>1</th>\n",
       "      <td>te88dp</td>\n",
       "      <td>https://www.reddit.com/r/godtiersuperpowers/co...</td>\n",
       "      <td>Being able to summon s bagel in my hand at any...</td>\n",
       "      <td>NaN</td>\n",
       "      <td>8</td>\n",
       "      <td>2</td>\n",
       "      <td>godtiersuperpowers</td>\n",
       "    </tr>\n",
       "    <tr>\n",
       "      <th>2</th>\n",
       "      <td>ll84gb</td>\n",
       "      <td>https://www.reddit.com/r/LifeProTips/comments/...</td>\n",
       "      <td>LPT: if you need to defrost your windshield, y...</td>\n",
       "      <td>Flipping down the sun visors will direct the a...</td>\n",
       "      <td>37723</td>\n",
       "      <td>1099</td>\n",
       "      <td>LifeProTips</td>\n",
       "    </tr>\n",
       "    <tr>\n",
       "      <th>3</th>\n",
       "      <td>g70mjs</td>\n",
       "      <td>https://www.reddit.com/r/LifeProTips/comments/...</td>\n",
       "      <td>LPT: You Must Do an Absolute 100% Dry Run Test...</td>\n",
       "      <td>Got a big presentation?  Got a big event you a...</td>\n",
       "      <td>35917</td>\n",
       "      <td>730</td>\n",
       "      <td>LifeProTips</td>\n",
       "    </tr>\n",
       "    <tr>\n",
       "      <th>4</th>\n",
       "      <td>8b3xt9</td>\n",
       "      <td>https://www.reddit.com/r/LifeProTips/comments/...</td>\n",
       "      <td>LPT: When you spill wine on fabric (clothing, ...</td>\n",
       "      <td>NaN</td>\n",
       "      <td>51206</td>\n",
       "      <td>1050</td>\n",
       "      <td>LifeProTips</td>\n",
       "    </tr>\n",
       "  </tbody>\n",
       "</table>\n",
       "</div>"
      ],
      "text/plain": [
       "       id                                                url  \\\n",
       "0  ddxwd0  https://www.reddit.com/r/godtiersuperpowers/co...   \n",
       "1  te88dp  https://www.reddit.com/r/godtiersuperpowers/co...   \n",
       "2  ll84gb  https://www.reddit.com/r/LifeProTips/comments/...   \n",
       "3  g70mjs  https://www.reddit.com/r/LifeProTips/comments/...   \n",
       "4  8b3xt9  https://www.reddit.com/r/LifeProTips/comments/...   \n",
       "\n",
       "                                               title  \\\n",
       "0  Every bit of water or food you \"waste\" goes di...   \n",
       "1  Being able to summon s bagel in my hand at any...   \n",
       "2  LPT: if you need to defrost your windshield, y...   \n",
       "3  LPT: You Must Do an Absolute 100% Dry Run Test...   \n",
       "4  LPT: When you spill wine on fabric (clothing, ...   \n",
       "\n",
       "                                           self_text  score  num_comments  \\\n",
       "0                                                NaN   8784            89   \n",
       "1                                                NaN      8             2   \n",
       "2  Flipping down the sun visors will direct the a...  37723          1099   \n",
       "3  Got a big presentation?  Got a big event you a...  35917           730   \n",
       "4                                                NaN  51206          1050   \n",
       "\n",
       "            subreddit  \n",
       "0  godtiersuperpowers  \n",
       "1  godtiersuperpowers  \n",
       "2         LifeProTips  \n",
       "3         LifeProTips  \n",
       "4         LifeProTips  "
      ]
     },
     "execution_count": 10,
     "metadata": {},
     "output_type": "execute_result"
    }
   ],
   "source": [
    "df.head()"
   ]
  },
  {
   "cell_type": "markdown",
   "id": "ca3ad486-ee8c-4247-9f0b-b8fed8c5c0c0",
   "metadata": {},
   "source": [
    "### 5. Data Cleaning? \n",
    "Nearly half of the posts don't have a self-text, represented as a np.nan. Fortunately, there are no issues with our dtypes.\n",
    "\n",
    "With such a high number of null values and enough language information from the words in the 'titles', I've decided to make a placeholder that represents 1 if there was a value in there and 0 if there wasn't anything. This will be for later use in our model."
   ]
  },
  {
   "cell_type": "code",
   "execution_count": 11,
   "id": "d39cb703-ff3a-49fe-b57c-b5362eb5743f",
   "metadata": {},
   "outputs": [
    {
     "name": "stdout",
     "output_type": "stream",
     "text": [
      "<class 'pandas.core.frame.DataFrame'>\n",
      "RangeIndex: 4307 entries, 0 to 4306\n",
      "Data columns (total 7 columns):\n",
      " #   Column        Non-Null Count  Dtype \n",
      "---  ------        --------------  ----- \n",
      " 0   id            4307 non-null   object\n",
      " 1   url           4307 non-null   object\n",
      " 2   title         4307 non-null   object\n",
      " 3   self_text     2280 non-null   object\n",
      " 4   score         4307 non-null   int64 \n",
      " 5   num_comments  4307 non-null   int64 \n",
      " 6   subreddit     4307 non-null   object\n",
      "dtypes: int64(2), object(5)\n",
      "memory usage: 235.7+ KB\n"
     ]
    }
   ],
   "source": [
    "#self_text nearly has half entries as null values\n",
    "df.info()"
   ]
  },
  {
   "cell_type": "markdown",
   "id": "36bc142c-82d8-42ad-b0c7-1ba750af39e0",
   "metadata": {},
   "source": [
    "**Absence of self_text in both subreddits**<br>\n",
    "It seems that LifeProTips takes advantage of self-text to explain things in further detail. This imbalance outlines a characteristic of LifeProTips vs godtiersuperpowers."
   ]
  },
  {
   "cell_type": "code",
   "execution_count": 12,
   "id": "ee7e83fd-e21a-4180-85ac-75bdff3eccb7",
   "metadata": {},
   "outputs": [
    {
     "data": {
      "text/plain": [
       "godtiersuperpowers    1211\n",
       "LifeProTips            816\n",
       "Name: subreddit, dtype: int64"
      ]
     },
     "execution_count": 12,
     "metadata": {},
     "output_type": "execute_result"
    }
   ],
   "source": [
    "#This finds the amount of instances that each subreddit that have np.nan in 'self_text'\n",
    "df[df['self_text'].isnull()]['subreddit'].value_counts()"
   ]
  },
  {
   "cell_type": "markdown",
   "id": "c52d1e7c-8255-4916-8dd6-f6379ecddd7a",
   "metadata": {},
   "source": [
    "**Addressing np.nan in self_text**<br> Binarize self_text so that it represents the absence or existance of self_text."
   ]
  },
  {
   "cell_type": "code",
   "execution_count": 13,
   "id": "ac1f272c-13cb-4764-ba16-0b65e5901299",
   "metadata": {},
   "outputs": [],
   "source": [
    "#this will transform self_text to the int values of a boolean that represents as 1 when there was a value, and 0 when it was a np.nan\n",
    "df['self_text'] = df['self_text'].notnull().astype(int)"
   ]
  },
  {
   "cell_type": "code",
   "execution_count": 14,
   "id": "d6dd4cfe-3ec2-4a66-8b53-feda1ab17920",
   "metadata": {},
   "outputs": [
    {
     "data": {
      "text/html": [
       "<div>\n",
       "<style scoped>\n",
       "    .dataframe tbody tr th:only-of-type {\n",
       "        vertical-align: middle;\n",
       "    }\n",
       "\n",
       "    .dataframe tbody tr th {\n",
       "        vertical-align: top;\n",
       "    }\n",
       "\n",
       "    .dataframe thead th {\n",
       "        text-align: right;\n",
       "    }\n",
       "</style>\n",
       "<table border=\"1\" class=\"dataframe\">\n",
       "  <thead>\n",
       "    <tr style=\"text-align: right;\">\n",
       "      <th></th>\n",
       "      <th>id</th>\n",
       "      <th>url</th>\n",
       "      <th>title</th>\n",
       "      <th>self_text</th>\n",
       "      <th>score</th>\n",
       "      <th>num_comments</th>\n",
       "      <th>subreddit</th>\n",
       "    </tr>\n",
       "  </thead>\n",
       "  <tbody>\n",
       "    <tr>\n",
       "      <th>0</th>\n",
       "      <td>ddxwd0</td>\n",
       "      <td>https://www.reddit.com/r/godtiersuperpowers/co...</td>\n",
       "      <td>Every bit of water or food you \"waste\" goes di...</td>\n",
       "      <td>0</td>\n",
       "      <td>8784</td>\n",
       "      <td>89</td>\n",
       "      <td>godtiersuperpowers</td>\n",
       "    </tr>\n",
       "  </tbody>\n",
       "</table>\n",
       "</div>"
      ],
      "text/plain": [
       "       id                                                url  \\\n",
       "0  ddxwd0  https://www.reddit.com/r/godtiersuperpowers/co...   \n",
       "\n",
       "                                               title  self_text  score  \\\n",
       "0  Every bit of water or food you \"waste\" goes di...          0   8784   \n",
       "\n",
       "   num_comments           subreddit  \n",
       "0            89  godtiersuperpowers  "
      ]
     },
     "execution_count": 14,
     "metadata": {},
     "output_type": "execute_result"
    }
   ],
   "source": [
    "df.head(1)"
   ]
  },
  {
   "cell_type": "markdown",
   "id": "1e9dedd3-7914-423c-89ca-dc1dfc3f54ba",
   "metadata": {},
   "source": [
    "**Saving cleaned and concatenated data to new csv file**"
   ]
  },
  {
   "cell_type": "code",
   "execution_count": 15,
   "id": "6f3d57f8-429c-429c-9252-9cdffa28edf4",
   "metadata": {},
   "outputs": [],
   "source": [
    "# df.to_csv('../data/sub_data.csv', index = False)"
   ]
  },
  {
   "cell_type": "markdown",
   "id": "943feb5d-8629-4266-b027-86bde858c686",
   "metadata": {},
   "source": [
    "# EDA"
   ]
  },
  {
   "cell_type": "code",
   "execution_count": 16,
   "id": "6862ffc6-80b4-4b93-afde-6621424511f7",
   "metadata": {},
   "outputs": [],
   "source": [
    "#reading the cleaned and concatenated data\n",
    "df = pd.read_csv('../data/sub_data.csv')"
   ]
  },
  {
   "cell_type": "code",
   "execution_count": 17,
   "id": "b885e595-085d-49c6-8d31-cd27ccf2da42",
   "metadata": {},
   "outputs": [
    {
     "data": {
      "text/plain": [
       "(3961, 9)"
      ]
     },
     "execution_count": 17,
     "metadata": {},
     "output_type": "execute_result"
    }
   ],
   "source": [
    "df.shape"
   ]
  },
  {
   "cell_type": "code",
   "execution_count": 18,
   "id": "d707ada4-fe59-4569-8ec3-0ecaae4e6ebd",
   "metadata": {},
   "outputs": [
    {
     "data": {
      "text/plain": [
       "godtiersuperpowers    0.504671\n",
       "LifeProTips           0.495329\n",
       "Name: subreddit, dtype: float64"
      ]
     },
     "execution_count": 18,
     "metadata": {},
     "output_type": "execute_result"
    }
   ],
   "source": [
    "df['subreddit'].value_counts(normalize = True)"
   ]
  },
  {
   "cell_type": "markdown",
   "id": "42698d0c-4d58-468f-8866-09dfa4b8f76f",
   "metadata": {},
   "source": [
    "### Duplicates?\n",
    "Duplicates could be a problem in creating bias if there were persons with multiple entries within the subreddit. There are no concerns with only 4 duplicates in our data set."
   ]
  },
  {
   "cell_type": "code",
   "execution_count": 19,
   "id": "41f75eff-01f3-43e4-82d5-918700879173",
   "metadata": {},
   "outputs": [
    {
     "data": {
      "text/plain": [
       "0"
      ]
     },
     "execution_count": 19,
     "metadata": {},
     "output_type": "execute_result"
    }
   ],
   "source": [
    "df['id'].duplicated().sum()"
   ]
  },
  {
   "cell_type": "code",
   "execution_count": 20,
   "id": "206aa637-ac28-43d3-b429-39818502a209",
   "metadata": {},
   "outputs": [
    {
     "data": {
      "text/plain": [
       "Series([], Name: subreddit, dtype: float64)"
      ]
     },
     "execution_count": 20,
     "metadata": {},
     "output_type": "execute_result"
    }
   ],
   "source": [
    "duplicated = df[df['id'].duplicated()]\n",
    "duplicated['subreddit'].value_counts(normalize = True)"
   ]
  },
  {
   "cell_type": "code",
   "execution_count": 21,
   "id": "50ea777c-5619-42e5-a9de-e57ba097c74b",
   "metadata": {},
   "outputs": [],
   "source": [
    "df = df.drop_duplicates(subset = ['id'])"
   ]
  },
  {
   "cell_type": "code",
   "execution_count": 22,
   "id": "447f6ac6-3e69-41f3-8594-1b9a406d78c9",
   "metadata": {},
   "outputs": [
    {
     "data": {
      "text/plain": [
       "(3961, 9)"
      ]
     },
     "execution_count": 22,
     "metadata": {},
     "output_type": "execute_result"
    }
   ],
   "source": [
    "df.shape"
   ]
  },
  {
   "cell_type": "code",
   "execution_count": 23,
   "id": "a2745de3-0028-4567-9278-e8734b79e752",
   "metadata": {},
   "outputs": [
    {
     "data": {
      "text/plain": [
       "godtiersuperpowers    0.504671\n",
       "LifeProTips           0.495329\n",
       "Name: subreddit, dtype: float64"
      ]
     },
     "execution_count": 23,
     "metadata": {},
     "output_type": "execute_result"
    }
   ],
   "source": [
    "df['subreddit'].value_counts(normalize = True)"
   ]
  },
  {
   "cell_type": "markdown",
   "id": "e9284f0d-a3b7-4f43-bf74-388436c15425",
   "metadata": {},
   "source": [
    "### Character and Word Count of post titles\n",
    "LifeProTips contains close to 2x more characters and words in post titles. "
   ]
  },
  {
   "cell_type": "code",
   "execution_count": 24,
   "id": "6ba61cff-bb1e-4647-a0c1-8a9046b4ddcf",
   "metadata": {},
   "outputs": [],
   "source": [
    "#new column with the length of each title (number of characters)\n",
    "df['title_length'] = df['title'].transform(len)"
   ]
  },
  {
   "cell_type": "code",
   "execution_count": 25,
   "id": "5580a122-e541-4d57-ac67-06a729b545a8",
   "metadata": {},
   "outputs": [],
   "source": [
    "#creating new column that count's the amount of spaces found in each title\n",
    "df['title_word_count'] = df['title'].map(lambda x: len(x.split(' ')))"
   ]
  },
  {
   "cell_type": "markdown",
   "id": "866c6347-34f6-4e6a-986b-9f741a53f68a",
   "metadata": {},
   "source": [
    "**Character count**"
   ]
  },
  {
   "cell_type": "code",
   "execution_count": 26,
   "id": "1572b03a-0a83-4084-a6fe-fbe71edb108d",
   "metadata": {},
   "outputs": [
    {
     "data": {
      "text/plain": [
       "subreddit\n",
       "LifeProTips           147.047910\n",
       "godtiersuperpowers     81.013007\n",
       "Name: title_length, dtype: float64"
      ]
     },
     "execution_count": 26,
     "metadata": {},
     "output_type": "execute_result"
    }
   ],
   "source": [
    "#mean title length for each subreddit\n",
    "#LPT has about 2x more characters in titles\n",
    "df.groupby('subreddit')['title_length'].mean()"
   ]
  },
  {
   "cell_type": "markdown",
   "id": "8c8a2b53-8058-4024-b607-e753391533ee",
   "metadata": {},
   "source": [
    "**Word count**"
   ]
  },
  {
   "cell_type": "code",
   "execution_count": 27,
   "id": "ba259874-b703-4862-a53b-4751aded5ae0",
   "metadata": {},
   "outputs": [
    {
     "data": {
      "text/plain": [
       "subreddit\n",
       "LifeProTips           26.909786\n",
       "godtiersuperpowers    14.957979\n",
       "Name: title_word_count, dtype: float64"
      ]
     },
     "execution_count": 27,
     "metadata": {},
     "output_type": "execute_result"
    }
   ],
   "source": [
    "#word count of lpt vs gtsp\n",
    "df.groupby('subreddit')['title_word_count'].mean()"
   ]
  },
  {
   "cell_type": "markdown",
   "id": "fdafa74a-e181-4e12-bf3f-d33a011c9904",
   "metadata": {},
   "source": [
    "#### Character and word count visualisations\n",
    "**Distribution plots**<br>\n",
    "The different distributions of title length reveal how godtiersuperpowers will usually have a short amount of characters wheras LifeProTips have titles that vary in length. This can be explained by how LifeProTips posts may have advice that need much more explanation than a super power being described by godtiersuperpowers. \n",
    "\n",
    "Another interesting observation is that the word count of gtsp seems to have a much stronger point in the middle. This suggests that there is a lot of conistency with the amount of words used in a gtsp title but the amount of characters can vary. \n",
    "\n",
    "\n",
    "**Box plots**<br>\n",
    "From the box plots, we can identify many outliers within godtiersuperpowers since it has a more normal distribution. Logistic Regression is one of the models that I've decided to use and assumes that there aren't any outliers. In this case I've decided to keep them because their removal will make a class imbalance that has more of an affect than this assumption."
   ]
  },
  {
   "cell_type": "code",
   "execution_count": 28,
   "id": "5e4b2ee4-0423-4d7d-b86f-ccd4189d8436",
   "metadata": {},
   "outputs": [
    {
     "data": {
      "text/plain": [
       "Text(0.5, 0.98, 'Title Character Length/ Word Count Distribution between LPT and GTSP')"
      ]
     },
     "execution_count": 28,
     "metadata": {},
     "output_type": "execute_result"
    },
    {
     "data": {
      "image/png": "[encoded data removed]",
      "text/plain": [
       "<Figure size 1440x504 with 2 Axes>"
      ]
     },
     "metadata": {
      "needs_background": "light"
     },
     "output_type": "display_data"
    }
   ],
   "source": [
    "cols = ['title_length', 'title_word_count']\n",
    "\n",
    "#1. Subplots of our distributions on chracter and word count\n",
    "fig, axes = plt.subplots(1, 2, figsize=(20, 7))\n",
    "\n",
    "#axes.ravel() are the indexs used for subplotting\n",
    "axes = axes.ravel()\n",
    "\n",
    "#iterating to compare chracter and word count on both subreddits\n",
    "for col, ax in zip(cols, axes):\n",
    "    sns.histplot(x= df[col], data = df, hue = 'subreddit', ax=ax)\n",
    "\n",
    "fig.suptitle('Title Character Length/ Word Count Distribution between LPT and GTSP')"
   ]
  },
  {
   "cell_type": "code",
   "execution_count": 29,
   "id": "e39c3b24-d297-4b3c-8083-fa215047cd29",
   "metadata": {},
   "outputs": [
    {
     "data": {
      "text/plain": [
       "Text(0.5, 0.98, 'Title Character Length/  Boxplot between LPT and GTSP')"
      ]
     },
     "execution_count": 29,
     "metadata": {},
     "output_type": "execute_result"
    },
    {
     "data": {
      "image/png": "[encoded data removed]",
      "text/plain": [
       "<Figure size 1584x360 with 2 Axes>"
      ]
     },
     "metadata": {
      "needs_background": "light"
     },
     "output_type": "display_data"
    }
   ],
   "source": [
    "#2. Subplots of our boxplots on chracter and word count\n",
    "fig, axes = plt.subplots(1, 2, figsize=(22, 5))\n",
    "\n",
    "for col, ax in zip(cols, axes):\n",
    "    sns.boxplot(data = df, x = df[col], y = df['subreddit'], ax=ax)\n",
    "    \n",
    "fig.suptitle('Title Character Length/  Boxplot between LPT and GTSP')"
   ]
  },
  {
   "cell_type": "code",
   "execution_count": 30,
   "id": "9c8c975b-bacb-4109-a5c8-a7346d0795be",
   "metadata": {},
   "outputs": [
    {
     "data": {
      "text/plain": [
       "(1696, 9)"
      ]
     },
     "execution_count": 30,
     "metadata": {},
     "output_type": "execute_result"
    }
   ],
   "source": [
    "df[df['title_word_count'] < 16].shape"
   ]
  },
  {
   "cell_type": "markdown",
   "id": "9d6ec457-2b8d-4cfe-a571-af996fc26c29",
   "metadata": {},
   "source": [
    "### Scores and num_comments\n",
    "LifeProTips is a popular subreddit with 20,000,000+ members wheras godtiersuperpowers as only 360,000. This inevitably means that lifeprotips should have more traction in comments and a higher scoring average per post.\n",
    "\n",
    "The distributions of the scores and number of comments highlight that many observations hold a value of 0. These probably belong to posts that were sorted by 'new' and even 'hot'. It's clear that LifeProTips is a more popular subreddit since most of LifeProTips (blue) observations are higher."
   ]
  },
  {
   "cell_type": "code",
   "execution_count": 31,
   "id": "10d3c599-4721-4805-8573-470f66cdf37e",
   "metadata": {},
   "outputs": [
    {
     "data": {
      "text/plain": [
       "subreddit\n",
       "LifeProTips           26573.055556\n",
       "godtiersuperpowers     6078.329665\n",
       "Name: score, dtype: float64"
      ]
     },
     "execution_count": 31,
     "metadata": {},
     "output_type": "execute_result"
    }
   ],
   "source": [
    "#Mean of post scores by subreddit\n",
    "df.groupby('subreddit')['score'].mean()"
   ]
  },
  {
   "cell_type": "code",
   "execution_count": 32,
   "id": "2e0e8544-529c-4663-a326-54d389f1f251",
   "metadata": {},
   "outputs": [
    {
     "data": {
      "text/plain": [
       "subreddit\n",
       "LifeProTips           831.522936\n",
       "godtiersuperpowers    142.831416\n",
       "Name: num_comments, dtype: float64"
      ]
     },
     "execution_count": 32,
     "metadata": {},
     "output_type": "execute_result"
    }
   ],
   "source": [
    "#Mean of post comments by subreddit\n",
    "df.groupby('subreddit')['num_comments'].mean()"
   ]
  },
  {
   "cell_type": "code",
   "execution_count": 33,
   "id": "1c44abbb-724e-47a3-b113-2807fcb1bd88",
   "metadata": {},
   "outputs": [
    {
     "data": {
      "text/plain": [
       "[Text(0.5, 1.0, 'Number of Comments distribution between LPT and GTSP')]"
      ]
     },
     "execution_count": 33,
     "metadata": {},
     "output_type": "execute_result"
    },
    {
     "data": {
      "image/png": "[encoded data removed]",
      "text/plain": [
       "<Figure size 1440x504 with 2 Axes>"
      ]
     },
     "metadata": {
      "needs_background": "light"
     },
     "output_type": "display_data"
    }
   ],
   "source": [
    "fig, axes = plt.subplots(1, 2, figsize=(20, 7))\n",
    "\n",
    "#plotting distribution of scores and number of comments by each subreddit\n",
    "score = sns.histplot(data = df, x = df['score'], hue = 'subreddit', ax= axes[0])\n",
    "num_comments = sns.histplot(data = df, x = df['num_comments'], hue = 'subreddit', bins = 40)\n",
    "\n",
    "score.set(title= \"Score distribution between LPT and GTSP\")\n",
    "num_comments.set(title= \"Number of Comments distribution between LPT and GTSP\")"
   ]
  },
  {
   "cell_type": "markdown",
   "id": "42a85c8e-1577-4f32-97b8-22e8807b6875",
   "metadata": {},
   "source": [
    "### Summary Statistics\n",
    "An overlook on the data:\n",
    "- The mean of score and num_comments would be affected by the large amonut of 0 observations\n",
    "- Bit more than half of the observations had self_text\n",
    "- The most popular post had 173,391 upvotes\n",
    "- A few posts somehow only have 1 word"
   ]
  },
  {
   "cell_type": "code",
   "execution_count": 34,
   "id": "f41a7e70-8499-40b4-bfd7-10722a48849a",
   "metadata": {},
   "outputs": [
    {
     "data": {
      "text/html": [
       "<div>\n",
       "<style scoped>\n",
       "    .dataframe tbody tr th:only-of-type {\n",
       "        vertical-align: middle;\n",
       "    }\n",
       "\n",
       "    .dataframe tbody tr th {\n",
       "        vertical-align: top;\n",
       "    }\n",
       "\n",
       "    .dataframe thead th {\n",
       "        text-align: right;\n",
       "    }\n",
       "</style>\n",
       "<table border=\"1\" class=\"dataframe\">\n",
       "  <thead>\n",
       "    <tr style=\"text-align: right;\">\n",
       "      <th></th>\n",
       "      <th>count</th>\n",
       "      <th>mean</th>\n",
       "      <th>std</th>\n",
       "      <th>min</th>\n",
       "      <th>25%</th>\n",
       "      <th>50%</th>\n",
       "      <th>75%</th>\n",
       "      <th>max</th>\n",
       "    </tr>\n",
       "  </thead>\n",
       "  <tbody>\n",
       "    <tr>\n",
       "      <th>self_text</th>\n",
       "      <td>3961.0</td>\n",
       "      <td>0.513254</td>\n",
       "      <td>0.499887</td>\n",
       "      <td>0.0</td>\n",
       "      <td>0.0</td>\n",
       "      <td>1.0</td>\n",
       "      <td>1.0</td>\n",
       "      <td>1.0</td>\n",
       "    </tr>\n",
       "    <tr>\n",
       "      <th>score</th>\n",
       "      <td>3961.0</td>\n",
       "      <td>16229.971219</td>\n",
       "      <td>23108.060850</td>\n",
       "      <td>0.0</td>\n",
       "      <td>17.0</td>\n",
       "      <td>7076.0</td>\n",
       "      <td>33995.0</td>\n",
       "      <td>173391.0</td>\n",
       "    </tr>\n",
       "    <tr>\n",
       "      <th>num_comments</th>\n",
       "      <td>3961.0</td>\n",
       "      <td>483.960616</td>\n",
       "      <td>842.123510</td>\n",
       "      <td>0.0</td>\n",
       "      <td>6.0</td>\n",
       "      <td>95.0</td>\n",
       "      <td>611.0</td>\n",
       "      <td>12106.0</td>\n",
       "    </tr>\n",
       "    <tr>\n",
       "      <th>title_length</th>\n",
       "      <td>3961.0</td>\n",
       "      <td>113.722040</td>\n",
       "      <td>71.321188</td>\n",
       "      <td>1.0</td>\n",
       "      <td>60.0</td>\n",
       "      <td>96.0</td>\n",
       "      <td>155.0</td>\n",
       "      <td>300.0</td>\n",
       "    </tr>\n",
       "    <tr>\n",
       "      <th>title_word_count</th>\n",
       "      <td>3961.0</td>\n",
       "      <td>20.878061</td>\n",
       "      <td>13.080733</td>\n",
       "      <td>1.0</td>\n",
       "      <td>11.0</td>\n",
       "      <td>17.0</td>\n",
       "      <td>29.0</td>\n",
       "      <td>63.0</td>\n",
       "    </tr>\n",
       "  </tbody>\n",
       "</table>\n",
       "</div>"
      ],
      "text/plain": [
       "                   count          mean           std  min   25%     50%  \\\n",
       "self_text         3961.0      0.513254      0.499887  0.0   0.0     1.0   \n",
       "score             3961.0  16229.971219  23108.060850  0.0  17.0  7076.0   \n",
       "num_comments      3961.0    483.960616    842.123510  0.0   6.0    95.0   \n",
       "title_length      3961.0    113.722040     71.321188  1.0  60.0    96.0   \n",
       "title_word_count  3961.0     20.878061     13.080733  1.0  11.0    17.0   \n",
       "\n",
       "                      75%       max  \n",
       "self_text             1.0       1.0  \n",
       "score             33995.0  173391.0  \n",
       "num_comments        611.0   12106.0  \n",
       "title_length        155.0     300.0  \n",
       "title_word_count     29.0      63.0  "
      ]
     },
     "execution_count": 34,
     "metadata": {},
     "output_type": "execute_result"
    }
   ],
   "source": [
    "df.describe().T"
   ]
  },
  {
   "cell_type": "markdown",
   "id": "ae6f3fe9-ded1-48b4-8e39-5fca91500003",
   "metadata": {},
   "source": [
    "**Posts with 1 word**<br>\n",
    "Some of these posts seem to have their self_text as their description. 1 interesting instance has emojis between each word instead of spaces, which explains why title_word_count which count's spaces didn't pick this up. This won't affect our data with 19 instances of 1 word titles."
   ]
  },
  {
   "cell_type": "code",
   "execution_count": 35,
   "id": "9e30ab6c-432d-4b9b-85bb-839287de6e72",
   "metadata": {
    "tags": []
   },
   "outputs": [
    {
     "data": {
      "text/plain": [
       "(19, 9)"
      ]
     },
     "execution_count": 35,
     "metadata": {},
     "output_type": "execute_result"
    }
   ],
   "source": [
    "df[df['title_word_count'] == 1].shape"
   ]
  },
  {
   "cell_type": "code",
   "execution_count": 36,
   "id": "9a331c24-3891-4d02-abef-f12e086725e7",
   "metadata": {},
   "outputs": [
    {
     "data": {
      "text/html": [
       "<div>\n",
       "<style scoped>\n",
       "    .dataframe tbody tr th:only-of-type {\n",
       "        vertical-align: middle;\n",
       "    }\n",
       "\n",
       "    .dataframe tbody tr th {\n",
       "        vertical-align: top;\n",
       "    }\n",
       "\n",
       "    .dataframe thead th {\n",
       "        text-align: right;\n",
       "    }\n",
       "</style>\n",
       "<table border=\"1\" class=\"dataframe\">\n",
       "  <thead>\n",
       "    <tr style=\"text-align: right;\">\n",
       "      <th></th>\n",
       "      <th>id</th>\n",
       "      <th>url</th>\n",
       "      <th>title</th>\n",
       "      <th>self_text</th>\n",
       "      <th>score</th>\n",
       "      <th>num_comments</th>\n",
       "      <th>subreddit</th>\n",
       "      <th>title_length</th>\n",
       "      <th>title_word_count</th>\n",
       "    </tr>\n",
       "  </thead>\n",
       "  <tbody>\n",
       "    <tr>\n",
       "      <th>12</th>\n",
       "      <td>dt5u4w</td>\n",
       "      <td>https://www.reddit.com/r/godtiersuperpowers/co...</td>\n",
       "      <td>Putting👏claps👏between👏every👏word👏you👏type👏in👏a...</td>\n",
       "      <td>0</td>\n",
       "      <td>14281</td>\n",
       "      <td>478</td>\n",
       "      <td>godtiersuperpowers</td>\n",
       "      <td>104</td>\n",
       "      <td>1</td>\n",
       "    </tr>\n",
       "    <tr>\n",
       "      <th>63</th>\n",
       "      <td>ukde9n</td>\n",
       "      <td>https://www.reddit.com/r/godtiersuperpowers/co...</td>\n",
       "      <td>.</td>\n",
       "      <td>1</td>\n",
       "      <td>542</td>\n",
       "      <td>37</td>\n",
       "      <td>godtiersuperpowers</td>\n",
       "      <td>1</td>\n",
       "      <td>1</td>\n",
       "    </tr>\n",
       "    <tr>\n",
       "      <th>170</th>\n",
       "      <td>tuwen4</td>\n",
       "      <td>https://www.reddit.com/r/godtiersuperpowers/co...</td>\n",
       "      <td>Plant</td>\n",
       "      <td>1</td>\n",
       "      <td>8</td>\n",
       "      <td>2</td>\n",
       "      <td>godtiersuperpowers</td>\n",
       "      <td>5</td>\n",
       "      <td>1</td>\n",
       "    </tr>\n",
       "    <tr>\n",
       "      <th>206</th>\n",
       "      <td>te86aq</td>\n",
       "      <td>https://www.reddit.com/r/godtiersuperpowers/co...</td>\n",
       "      <td>Icon.</td>\n",
       "      <td>1</td>\n",
       "      <td>2</td>\n",
       "      <td>0</td>\n",
       "      <td>godtiersuperpowers</td>\n",
       "      <td>5</td>\n",
       "      <td>1</td>\n",
       "    </tr>\n",
       "    <tr>\n",
       "      <th>666</th>\n",
       "      <td>ctwvck</td>\n",
       "      <td>https://i.redd.it/t6vuq0i93zh31.png</td>\n",
       "      <td>This</td>\n",
       "      <td>0</td>\n",
       "      <td>19926</td>\n",
       "      <td>241</td>\n",
       "      <td>godtiersuperpowers</td>\n",
       "      <td>4</td>\n",
       "      <td>1</td>\n",
       "    </tr>\n",
       "  </tbody>\n",
       "</table>\n",
       "</div>"
      ],
      "text/plain": [
       "         id                                                url  \\\n",
       "12   dt5u4w  https://www.reddit.com/r/godtiersuperpowers/co...   \n",
       "63   ukde9n  https://www.reddit.com/r/godtiersuperpowers/co...   \n",
       "170  tuwen4  https://www.reddit.com/r/godtiersuperpowers/co...   \n",
       "206  te86aq  https://www.reddit.com/r/godtiersuperpowers/co...   \n",
       "666  ctwvck                https://i.redd.it/t6vuq0i93zh31.png   \n",
       "\n",
       "                                                 title  self_text  score  \\\n",
       "12   Putting👏claps👏between👏every👏word👏you👏type👏in👏a...          0  14281   \n",
       "63                                                   .          1    542   \n",
       "170                                              Plant          1      8   \n",
       "206                                              Icon.          1      2   \n",
       "666                                               This          0  19926   \n",
       "\n",
       "     num_comments           subreddit  title_length  title_word_count  \n",
       "12            478  godtiersuperpowers           104                 1  \n",
       "63             37  godtiersuperpowers             1                 1  \n",
       "170             2  godtiersuperpowers             5                 1  \n",
       "206             0  godtiersuperpowers             5                 1  \n",
       "666           241  godtiersuperpowers             4                 1  "
      ]
     },
     "execution_count": 36,
     "metadata": {},
     "output_type": "execute_result"
    }
   ],
   "source": [
    "df[df['title_word_count'] == 1].head(5)"
   ]
  },
  {
   "cell_type": "markdown",
   "id": "8854e701-200f-4410-b187-7daf7e7fe0b8",
   "metadata": {},
   "source": [
    "### Multi-collinearity\n",
    "Logistic Regression assumes that there is no multi-collinearity between features. We can observe that score and num_comments do have some collinearity but with a Variance Indication Factor test they hold no significance with values under 10. An explanation for this is because more popular posts (with higher scores) would gain more traction therefore increasing the number of comments. "
   ]
  },
  {
   "cell_type": "code",
   "execution_count": 37,
   "id": "53ff781b-ffc6-43f7-bc94-41f37ee69312",
   "metadata": {},
   "outputs": [],
   "source": [
    "#title_length will no longer be taken to account as it represents the same thing as title_word_count = multi-collinearity\n",
    "features_df = df[['self_text', 'score', 'num_comments', 'title_word_count']]"
   ]
  },
  {
   "cell_type": "code",
   "execution_count": 38,
   "id": "8a08b8fb-a592-42cc-a988-f13dfb4a0896",
   "metadata": {},
   "outputs": [
    {
     "data": {
      "text/plain": [
       "<seaborn.axisgrid.PairGrid at 0x7fcdc0668ee0>"
      ]
     },
     "execution_count": 38,
     "metadata": {},
     "output_type": "execute_result"
    },
    {
     "data": {
      "text/plain": [
       "<Figure size 360x360 with 0 Axes>"
      ]
     },
     "metadata": {},
     "output_type": "display_data"
    },
    {
     "data": {
      "image/png": "[encoded data removed]",
      "text/plain": [
       "<Figure size 720x720 with 20 Axes>"
      ]
     },
     "metadata": {
      "needs_background": "light"
     },
     "output_type": "display_data"
    }
   ],
   "source": [
    "#Plotting the features against each other to observe wether there is any linear relationship\n",
    "plt.figure(figsize = (5,5))\n",
    "sns.pairplot(data = features_df)"
   ]
  },
  {
   "cell_type": "markdown",
   "id": "90434ab6-2c47-42da-bcef-b0814541dce7",
   "metadata": {},
   "source": [
    "### Variance Inflation Factor (VIF)\n",
    "VIF measures the ratio between the variance for a given regression coefficient with only that variable in the model versus the variance for a given regression coefficient with all variables in the model. A good indication of multicollinearity is if there is a VIF > 10 for that feature."
   ]
  },
  {
   "cell_type": "code",
   "execution_count": 39,
   "id": "5ca4ba53-9139-4db3-90da-1c8ed9a98b0f",
   "metadata": {},
   "outputs": [
    {
     "data": {
      "text/html": [
       "<div>\n",
       "<style scoped>\n",
       "    .dataframe tbody tr th:only-of-type {\n",
       "        vertical-align: middle;\n",
       "    }\n",
       "\n",
       "    .dataframe tbody tr th {\n",
       "        vertical-align: top;\n",
       "    }\n",
       "\n",
       "    .dataframe thead th {\n",
       "        text-align: right;\n",
       "    }\n",
       "</style>\n",
       "<table border=\"1\" class=\"dataframe\">\n",
       "  <thead>\n",
       "    <tr style=\"text-align: right;\">\n",
       "      <th></th>\n",
       "      <th>feature</th>\n",
       "      <th>VIF</th>\n",
       "    </tr>\n",
       "  </thead>\n",
       "  <tbody>\n",
       "    <tr>\n",
       "      <th>0</th>\n",
       "      <td>self_text</td>\n",
       "      <td>1.479507</td>\n",
       "    </tr>\n",
       "    <tr>\n",
       "      <th>1</th>\n",
       "      <td>score</td>\n",
       "      <td>5.211588</td>\n",
       "    </tr>\n",
       "    <tr>\n",
       "      <th>2</th>\n",
       "      <td>num_comments</td>\n",
       "      <td>4.212990</td>\n",
       "    </tr>\n",
       "    <tr>\n",
       "      <th>3</th>\n",
       "      <td>title_word_count</td>\n",
       "      <td>2.276292</td>\n",
       "    </tr>\n",
       "  </tbody>\n",
       "</table>\n",
       "</div>"
      ],
      "text/plain": [
       "            feature       VIF\n",
       "0         self_text  1.479507\n",
       "1             score  5.211588\n",
       "2      num_comments  4.212990\n",
       "3  title_word_count  2.276292"
      ]
     },
     "execution_count": 39,
     "metadata": {},
     "output_type": "execute_result"
    }
   ],
   "source": [
    "vif_data = pd.DataFrame()\n",
    "vif_data[\"feature\"] = features_df.columns\n",
    "vif_data[\"VIF\"] = [variance_inflation_factor(features_df.values, i) for i in range(len(features_df.columns))]\n",
    "\n",
    "vif_data"
   ]
  },
  {
   "cell_type": "markdown",
   "id": "5894d63f-375f-4205-8130-44556710b491",
   "metadata": {},
   "source": [
    "**Saving cleaned and concatenated data to new csv file**"
   ]
  },
  {
   "cell_type": "code",
   "execution_count": 40,
   "id": "8f9fd4e2-a9a7-4815-b79c-81e01945193b",
   "metadata": {},
   "outputs": [],
   "source": [
    "#saving as sub_data.csv\n",
    "\n",
    "# df.to_csv('../data/sub_data.csv', index = False)"
   ]
  },
  {
   "cell_type": "code",
   "execution_count": 41,
   "id": "88e33f51-b81d-4915-b450-6d17f906925b",
   "metadata": {},
   "outputs": [
    {
     "data": {
      "text/plain": [
       "(3961, 9)"
      ]
     },
     "execution_count": 41,
     "metadata": {},
     "output_type": "execute_result"
    }
   ],
   "source": [
    "df.shape"
   ]
  },
  {
   "cell_type": "markdown",
   "id": "758dc0d0-fa18-4585-8591-8fe9c2380907",
   "metadata": {
    "tags": []
   },
   "source": [
    "# Pre-processing for NLP\n",
    "Our titles need to be pre-processed so that we have information that is more interpretable for our models. This involves:\n",
    "1. Separation of our words as individual strings and removal of special characters with RegularExpression Tokenizer\n",
    "2. Finding roots of words with Lemmatizer\n",
    "3. Stop word removal\n",
    "\n",
    "A train-validation-test split will then be created from our data to prepare for modelling."
   ]
  },
  {
   "cell_type": "markdown",
   "id": "2cb48b8c-d9e8-4507-95c8-64c895b1df8d",
   "metadata": {},
   "source": [
    "**Making all titles as lowercase**"
   ]
  },
  {
   "cell_type": "code",
   "execution_count": 42,
   "id": "f350ac85-30df-4ef8-9ebd-559d2340bda4",
   "metadata": {},
   "outputs": [],
   "source": [
    "#making all title strings into lower case\n",
    "df['title'] = df['title'].map(lambda x: x.lower())"
   ]
  },
  {
   "cell_type": "code",
   "execution_count": 43,
   "id": "ba3c19db-f7c9-4b96-92d7-e4c61dfd2335",
   "metadata": {},
   "outputs": [],
   "source": [
    "#########before further pre-processing, making a copy of df for later use\n",
    "df_copy = df.copy()"
   ]
  },
  {
   "cell_type": "markdown",
   "id": "122b7fd8-a203-4590-bb7c-9169072b5c14",
   "metadata": {},
   "source": [
    "_______\n",
    "## **WORD REMOVAL SECTION\n",
    "### Removing unnecessary words\n",
    "The removal of words have been decided from insight into the most popular words that don't help the model differentiate between subreddit. Further explanation into this is found when we look into 'the relationship of our words in 'Investigating relationships with our words on train set'.\n",
    "\n",
    "In addition, many LPT post titles starts with 'LPT:' because it is a culture for this subreddit. This makes it too easy for our model to learn so I decided to remove it."
   ]
  },
  {
   "cell_type": "code",
   "execution_count": 44,
   "id": "6e71831d-5d7d-42dd-8f39-97702509f2de",
   "metadata": {},
   "outputs": [],
   "source": [
    "#using mapping to remove any word from all titles in df\n",
    "def remove_it(word):\n",
    "    return df['title'].map(lambda x: x.replace(f'{word}', ''))"
   ]
  },
  {
   "cell_type": "markdown",
   "id": "3a3b514e-45e2-4e3d-8c95-54b3d4b94e9e",
   "metadata": {},
   "source": [
    "**'LPT' removal from titles**"
   ]
  },
  {
   "cell_type": "code",
   "execution_count": 45,
   "id": "73dbd3ca-f431-48d3-adc0-07a693c8f650",
   "metadata": {},
   "outputs": [
    {
     "data": {
      "text/html": [
       "<div>\n",
       "<style scoped>\n",
       "    .dataframe tbody tr th:only-of-type {\n",
       "        vertical-align: middle;\n",
       "    }\n",
       "\n",
       "    .dataframe tbody tr th {\n",
       "        vertical-align: top;\n",
       "    }\n",
       "\n",
       "    .dataframe thead th {\n",
       "        text-align: right;\n",
       "    }\n",
       "</style>\n",
       "<table border=\"1\" class=\"dataframe\">\n",
       "  <thead>\n",
       "    <tr style=\"text-align: right;\">\n",
       "      <th></th>\n",
       "      <th>id</th>\n",
       "      <th>url</th>\n",
       "      <th>title</th>\n",
       "      <th>self_text</th>\n",
       "      <th>score</th>\n",
       "      <th>num_comments</th>\n",
       "      <th>subreddit</th>\n",
       "      <th>title_length</th>\n",
       "      <th>title_word_count</th>\n",
       "    </tr>\n",
       "  </thead>\n",
       "  <tbody>\n",
       "    <tr>\n",
       "      <th>0</th>\n",
       "      <td>uh5vtk</td>\n",
       "      <td>https://www.reddit.com/r/LifeProTips/comments/...</td>\n",
       "      <td>lpt: on iphone if you move your cursor with tw...</td>\n",
       "      <td>1</td>\n",
       "      <td>12</td>\n",
       "      <td>5</td>\n",
       "      <td>LifeProTips</td>\n",
       "      <td>71</td>\n",
       "      <td>14</td>\n",
       "    </tr>\n",
       "  </tbody>\n",
       "</table>\n",
       "</div>"
      ],
      "text/plain": [
       "       id                                                url  \\\n",
       "0  uh5vtk  https://www.reddit.com/r/LifeProTips/comments/...   \n",
       "\n",
       "                                               title  self_text  score  \\\n",
       "0  lpt: on iphone if you move your cursor with tw...          1     12   \n",
       "\n",
       "   num_comments    subreddit  title_length  title_word_count  \n",
       "0             5  LifeProTips            71                14  "
      ]
     },
     "execution_count": 45,
     "metadata": {},
     "output_type": "execute_result"
    }
   ],
   "source": [
    "df[df['title'].str.contains('lpt')].head(1)"
   ]
  },
  {
   "cell_type": "code",
   "execution_count": 46,
   "id": "6ef00a90-27d8-4952-8f7d-7f86ffc629d9",
   "metadata": {},
   "outputs": [
    {
     "data": {
      "text/plain": [
       "(1961, 9)"
      ]
     },
     "execution_count": 46,
     "metadata": {},
     "output_type": "execute_result"
    }
   ],
   "source": [
    "#1961 posts have 'LPT:' in it\n",
    "df[df['title'].str.contains('lpt')].shape"
   ]
  },
  {
   "cell_type": "code",
   "execution_count": 47,
   "id": "af7c53e9-7442-40f4-96db-dbaabaf22761",
   "metadata": {},
   "outputs": [
    {
     "data": {
      "text/html": [
       "<div>\n",
       "<style scoped>\n",
       "    .dataframe tbody tr th:only-of-type {\n",
       "        vertical-align: middle;\n",
       "    }\n",
       "\n",
       "    .dataframe tbody tr th {\n",
       "        vertical-align: top;\n",
       "    }\n",
       "\n",
       "    .dataframe thead th {\n",
       "        text-align: right;\n",
       "    }\n",
       "</style>\n",
       "<table border=\"1\" class=\"dataframe\">\n",
       "  <thead>\n",
       "    <tr style=\"text-align: right;\">\n",
       "      <th></th>\n",
       "      <th>id</th>\n",
       "      <th>url</th>\n",
       "      <th>title</th>\n",
       "      <th>self_text</th>\n",
       "      <th>score</th>\n",
       "      <th>num_comments</th>\n",
       "      <th>subreddit</th>\n",
       "      <th>title_length</th>\n",
       "      <th>title_word_count</th>\n",
       "    </tr>\n",
       "  </thead>\n",
       "  <tbody>\n",
       "    <tr>\n",
       "      <th>0</th>\n",
       "      <td>uh5vtk</td>\n",
       "      <td>https://www.reddit.com/r/LifeProTips/comments/...</td>\n",
       "      <td>: on iphone if you move your cursor with two f...</td>\n",
       "      <td>1</td>\n",
       "      <td>12</td>\n",
       "      <td>5</td>\n",
       "      <td>LifeProTips</td>\n",
       "      <td>71</td>\n",
       "      <td>14</td>\n",
       "    </tr>\n",
       "  </tbody>\n",
       "</table>\n",
       "</div>"
      ],
      "text/plain": [
       "       id                                                url  \\\n",
       "0  uh5vtk  https://www.reddit.com/r/LifeProTips/comments/...   \n",
       "\n",
       "                                               title  self_text  score  \\\n",
       "0  : on iphone if you move your cursor with two f...          1     12   \n",
       "\n",
       "   num_comments    subreddit  title_length  title_word_count  \n",
       "0             5  LifeProTips            71                14  "
      ]
     },
     "execution_count": 47,
     "metadata": {},
     "output_type": "execute_result"
    }
   ],
   "source": [
    "#re-defining titles without the word 'LPT'\n",
    "df['title'] = remove_it('lpt')\n",
    "df.head(1)"
   ]
  },
  {
   "cell_type": "markdown",
   "id": "51eff5db-b58e-4a1c-8cfd-53dd98b2daf5",
   "metadata": {},
   "source": [
    "**Confusing words to remove**<br> These words represent important words that may 'confuse' our model when differentiating non-fiction and fantasy."
   ]
  },
  {
   "cell_type": "code",
   "execution_count": 48,
   "id": "37f22aeb-91b6-4646-87b5-a5d941f93037",
   "metadata": {},
   "outputs": [],
   "source": [
    "remove = ['always', 'know']\n",
    "\n",
    "for word in remove:\n",
    "    df['title'] = remove_it(word)"
   ]
  },
  {
   "cell_type": "markdown",
   "id": "28038562-0211-4cd0-b8b8-22b462b3293d",
   "metadata": {},
   "source": [
    "__________"
   ]
  },
  {
   "cell_type": "markdown",
   "id": "c8a1bb12-6d99-4ed3-8b37-6be1dc55e365",
   "metadata": {
    "tags": []
   },
   "source": [
    "### Binarizing the target\n",
    "LifeProTips = 1, godtiersuperpowers = 0\n",
    "<br>This will follow **Binary Logistic Regression's assumption** on a binary target."
   ]
  },
  {
   "cell_type": "code",
   "execution_count": 49,
   "id": "a0e2f535-6600-408a-adf7-4932ae33cd31",
   "metadata": {},
   "outputs": [],
   "source": [
    "df['subreddit'] = df['subreddit'].map({'LifeProTips' : 1, 'godtiersuperpowers' : 0})"
   ]
  },
  {
   "cell_type": "code",
   "execution_count": 50,
   "id": "db4447e4-ec8e-43c9-aac4-d0e1839f41df",
   "metadata": {},
   "outputs": [
    {
     "data": {
      "text/plain": [
       "0    1\n",
       "1    0\n",
       "2    1\n",
       "3    0\n",
       "4    0\n",
       "Name: subreddit, dtype: int64"
      ]
     },
     "execution_count": 50,
     "metadata": {},
     "output_type": "execute_result"
    }
   ],
   "source": [
    "df['subreddit'].head()"
   ]
  },
  {
   "cell_type": "markdown",
   "id": "a45c211d-459e-44c7-8665-50ae0fa211b1",
   "metadata": {
    "tags": []
   },
   "source": [
    "### 1. RegExp\n",
    "I'll be using RegExp as a tokenizer to find patterns in words and digits which will in turn also remove punctuation, symbols etc."
   ]
  },
  {
   "cell_type": "markdown",
   "id": "b81c83ed-8a6c-4870-927b-08a004b00773",
   "metadata": {},
   "source": [
    "**Tokenizing**<br> 'Tokenizing' will separate words as individual strings within a list. "
   ]
  },
  {
   "cell_type": "code",
   "execution_count": 51,
   "id": "43b3c03c-4250-4d28-a02a-c2eae6e6bc5e",
   "metadata": {},
   "outputs": [
    {
     "name": "stdout",
     "output_type": "stream",
     "text": [
      ": on iphone if you move your cursor with two fingers it selects text\n"
     ]
    }
   ],
   "source": [
    "#making an example sentence to test my tokenizing\n",
    "#the sentence holds a few challenges for tokenizing such as 'life-long' and 'don't'.\n",
    "title = df['title'][0]\n",
    "print(title)"
   ]
  },
  {
   "cell_type": "code",
   "execution_count": 52,
   "id": "d15b3954-12aa-49e6-9b51-c4e6430e5e46",
   "metadata": {},
   "outputs": [],
   "source": [
    "#instantiating RegexpTokenizer\n",
    "#the annotation expresses that words and digits should be used as an indicator to tokenize words\n",
    "tokenizer = RegexpTokenizer('\\w+|\\d+')"
   ]
  },
  {
   "cell_type": "code",
   "execution_count": 53,
   "id": "19d3ae4f-7855-44b8-9be9-6de54eef60d8",
   "metadata": {},
   "outputs": [],
   "source": [
    "df['title'] = df['title'].map(lambda x: tokenizer.tokenize(x))"
   ]
  },
  {
   "cell_type": "code",
   "execution_count": 54,
   "id": "cc7916ac-a3b7-4dcc-a11d-f323bbc46cd1",
   "metadata": {},
   "outputs": [],
   "source": [
    "# df['title'][1]"
   ]
  },
  {
   "cell_type": "markdown",
   "id": "216e5006-b065-411f-9db1-ecf5aa311270",
   "metadata": {},
   "source": [
    "### 2. Finding roots with lemmatizer\n",
    "Lemmatizer aims to derive the dictionary root of each word. i.e. 'running' = 'run' in root form."
   ]
  },
  {
   "cell_type": "code",
   "execution_count": 55,
   "id": "348e7329-eac0-4e0d-97e7-f91a162394bb",
   "metadata": {},
   "outputs": [],
   "source": [
    "lemmatizer = WordNetLemmatizer() "
   ]
  },
  {
   "cell_type": "code",
   "execution_count": 56,
   "id": "83563b36-649a-43b9-86d2-4324565ac7de",
   "metadata": {},
   "outputs": [],
   "source": [
    "#mapping the lemmatizer to the words within each title\n",
    "df['title'] = df['title'].map(lambda x: [lemmatizer.lemmatize(word) for word in x])"
   ]
  },
  {
   "cell_type": "code",
   "execution_count": 57,
   "id": "5787ccab-8db5-4f2a-a227-6fe859102947",
   "metadata": {},
   "outputs": [],
   "source": [
    "# df['title'][1]"
   ]
  },
  {
   "cell_type": "markdown",
   "id": "281feae2-dc9a-41e7-a3f6-b0d05e3460de",
   "metadata": {},
   "source": [
    "### 3. Stop word removal\n",
    "We are now removing all of the most common words found in the stopwords.words('english') dictionary. This encompasses words such as 'the', 'and', 'a'. I like the sklearn stopwords list."
   ]
  },
  {
   "cell_type": "code",
   "execution_count": 58,
   "id": "42db6073-4fa4-4c31-bfd5-48ee6e3d9a68",
   "metadata": {},
   "outputs": [
    {
     "data": {
      "text/plain": [
       "['i', 'me', 'my', 'myself', 'we']"
      ]
     },
     "execution_count": 58,
     "metadata": {},
     "output_type": "execute_result"
    }
   ],
   "source": [
    "stopwords.words('english')[:5]"
   ]
  },
  {
   "cell_type": "code",
   "execution_count": 59,
   "id": "2aeb3cd7-f98f-4b0a-a06a-eed02077a0d7",
   "metadata": {},
   "outputs": [],
   "source": [
    "df['title'] = df['title'].map(lambda x: [word for word in x if word not in stopwords.words('english')])"
   ]
  },
  {
   "cell_type": "code",
   "execution_count": 60,
   "id": "3097c1fb-c3b8-4219-abf0-86f59a8c0a71",
   "metadata": {},
   "outputs": [
    {
     "data": {
      "text/plain": [
       "['immortal', 'want']"
      ]
     },
     "execution_count": 60,
     "metadata": {},
     "output_type": "execute_result"
    }
   ],
   "source": [
    "#stopwords.words has been able to remove all of the problems that we found with contractions i.e. 'don't' becoming 'don' and 't'\n",
    "df['title'][1]"
   ]
  },
  {
   "cell_type": "markdown",
   "id": "37e3da8e-bd8b-48a6-8da3-2a74e7ad3b2e",
   "metadata": {},
   "source": [
    "## Train Test Split"
   ]
  },
  {
   "cell_type": "markdown",
   "id": "ffb99add-fe61-42cc-9b01-948b1c3d3927",
   "metadata": {},
   "source": [
    "**Establishing our X matrix and y vector**<br>\n",
    "Our X will hold the following features:\n",
    "- title\n",
    "- score\n",
    "- self_text\n",
    "- title_word_count\n",
    "- num_comments\n",
    "\n",
    "**NOTE:** Exclusion of title_length as title_word_count represents the same thing\n",
    "\n",
    "Our y will be 'subreddit'"
   ]
  },
  {
   "cell_type": "code",
   "execution_count": 61,
   "id": "7cbea378-7594-4f3b-a471-f6e47923df0a",
   "metadata": {},
   "outputs": [],
   "source": [
    "X = df[['title', 'score', 'self_text', 'title_word_count', 'num_comments']]\n",
    "y = df['subreddit']"
   ]
  },
  {
   "cell_type": "markdown",
   "id": "79afe1c6-990c-4152-a34a-7cb20f066eea",
   "metadata": {},
   "source": [
    "The train and test will have an 80%, 20% split of the original dataframe."
   ]
  },
  {
   "cell_type": "code",
   "execution_count": 62,
   "id": "5ea6c6f7-b530-4d08-b8bb-9e0805918156",
   "metadata": {},
   "outputs": [],
   "source": [
    "#Since test_size is set to 20%, X_rem and y_rem represent the remaining 20% of the data\n",
    "X_train, X_test, y_train, y_test = train_test_split(X, y, test_size = 0.2,\n",
    "                                                  random_state = 9,\n",
    "                                                    stratify = y)"
   ]
  },
  {
   "cell_type": "code",
   "execution_count": 63,
   "id": "9201f239-6b10-4ce0-b835-c7644d6a2d64",
   "metadata": {},
   "outputs": [
    {
     "data": {
      "text/plain": [
       "((3168, 5), (3168,))"
      ]
     },
     "execution_count": 63,
     "metadata": {},
     "output_type": "execute_result"
    }
   ],
   "source": [
    "#train size\n",
    "X_train.shape, y_train.shape"
   ]
  },
  {
   "cell_type": "code",
   "execution_count": 64,
   "id": "a64d4859-beeb-4452-8959-07f81e7cf9f5",
   "metadata": {},
   "outputs": [
    {
     "data": {
      "text/plain": [
       "((793, 5), (793,))"
      ]
     },
     "execution_count": 64,
     "metadata": {},
     "output_type": "execute_result"
    }
   ],
   "source": [
    "#remaining data sizes\n",
    "X_test.shape, y_test.shape"
   ]
  },
  {
   "cell_type": "markdown",
   "id": "8b3e2ff7-a549-42f2-81a1-cd4abaa64f8d",
   "metadata": {
    "tags": []
   },
   "source": [
    "## Investigating relationships with our words on train set\n",
    "After making the train test split, a pipeline will be used to apply Natural Language Processing (NLP) with TfidfVectorizer on the post title words. To look at the affect of NLP, a new dataframe with TfidVectorizer will be made to investigate what words will be influencing our model the most.\n",
    "\n",
    "**What it does:** Transforms our titles strings into matrix data that places importance on words that are uncommon in titles compared to the other titles."
   ]
  },
  {
   "cell_type": "code",
   "execution_count": 65,
   "id": "71c8dcbf-666d-4a87-8322-4635b3db469e",
   "metadata": {},
   "outputs": [],
   "source": [
    "tvec = TfidfVectorizer(analyzer= lambda x: x)\n",
    "\n",
    "#Creating a dataframe from the sparse matrix that is formed from our Tfidf Transformer\n",
    "title_tvec = pd.DataFrame(tvec.fit_transform(X_train['title']).todense(), \n",
    "                          columns=tvec.get_feature_names_out())"
   ]
  },
  {
   "cell_type": "code",
   "execution_count": 66,
   "id": "664464b4-0750-474d-a840-64fbf8ac3a07",
   "metadata": {},
   "outputs": [
    {
     "data": {
      "text/html": [
       "<div>\n",
       "<style scoped>\n",
       "    .dataframe tbody tr th:only-of-type {\n",
       "        vertical-align: middle;\n",
       "    }\n",
       "\n",
       "    .dataframe tbody tr th {\n",
       "        vertical-align: top;\n",
       "    }\n",
       "\n",
       "    .dataframe thead th {\n",
       "        text-align: right;\n",
       "    }\n",
       "</style>\n",
       "<table border=\"1\" class=\"dataframe\">\n",
       "  <thead>\n",
       "    <tr style=\"text-align: right;\">\n",
       "      <th></th>\n",
       "      <th>0</th>\n",
       "      <th>00</th>\n",
       "      <th>000</th>\n",
       "      <th>000ft</th>\n",
       "      <th>010101</th>\n",
       "      <th>0142</th>\n",
       "      <th>08</th>\n",
       "      <th>1</th>\n",
       "      <th>10</th>\n",
       "      <th>100</th>\n",
       "      <th>...</th>\n",
       "      <th>ziplock</th>\n",
       "      <th>zipped</th>\n",
       "      <th>zombie</th>\n",
       "      <th>zone</th>\n",
       "      <th>zoom</th>\n",
       "      <th>zoophile</th>\n",
       "      <th>zoë</th>\n",
       "      <th>α</th>\n",
       "      <th>π</th>\n",
       "      <th>ゴゴゴゴ</th>\n",
       "    </tr>\n",
       "  </thead>\n",
       "  <tbody>\n",
       "    <tr>\n",
       "      <th>0</th>\n",
       "      <td>0.0</td>\n",
       "      <td>0.0</td>\n",
       "      <td>0.0</td>\n",
       "      <td>0.0</td>\n",
       "      <td>0.0</td>\n",
       "      <td>0.0</td>\n",
       "      <td>0.0</td>\n",
       "      <td>0.0</td>\n",
       "      <td>0.0</td>\n",
       "      <td>0.000000</td>\n",
       "      <td>...</td>\n",
       "      <td>0.0</td>\n",
       "      <td>0.0</td>\n",
       "      <td>0.0</td>\n",
       "      <td>0.0</td>\n",
       "      <td>0.0</td>\n",
       "      <td>0.0</td>\n",
       "      <td>0.0</td>\n",
       "      <td>0.0</td>\n",
       "      <td>0.0</td>\n",
       "      <td>0.0</td>\n",
       "    </tr>\n",
       "    <tr>\n",
       "      <th>1</th>\n",
       "      <td>0.0</td>\n",
       "      <td>0.0</td>\n",
       "      <td>0.0</td>\n",
       "      <td>0.0</td>\n",
       "      <td>0.0</td>\n",
       "      <td>0.0</td>\n",
       "      <td>0.0</td>\n",
       "      <td>0.0</td>\n",
       "      <td>0.0</td>\n",
       "      <td>0.000000</td>\n",
       "      <td>...</td>\n",
       "      <td>0.0</td>\n",
       "      <td>0.0</td>\n",
       "      <td>0.0</td>\n",
       "      <td>0.0</td>\n",
       "      <td>0.0</td>\n",
       "      <td>0.0</td>\n",
       "      <td>0.0</td>\n",
       "      <td>0.0</td>\n",
       "      <td>0.0</td>\n",
       "      <td>0.0</td>\n",
       "    </tr>\n",
       "    <tr>\n",
       "      <th>2</th>\n",
       "      <td>0.0</td>\n",
       "      <td>0.0</td>\n",
       "      <td>0.0</td>\n",
       "      <td>0.0</td>\n",
       "      <td>0.0</td>\n",
       "      <td>0.0</td>\n",
       "      <td>0.0</td>\n",
       "      <td>0.0</td>\n",
       "      <td>0.0</td>\n",
       "      <td>0.216956</td>\n",
       "      <td>...</td>\n",
       "      <td>0.0</td>\n",
       "      <td>0.0</td>\n",
       "      <td>0.0</td>\n",
       "      <td>0.0</td>\n",
       "      <td>0.0</td>\n",
       "      <td>0.0</td>\n",
       "      <td>0.0</td>\n",
       "      <td>0.0</td>\n",
       "      <td>0.0</td>\n",
       "      <td>0.0</td>\n",
       "    </tr>\n",
       "    <tr>\n",
       "      <th>3</th>\n",
       "      <td>0.0</td>\n",
       "      <td>0.0</td>\n",
       "      <td>0.0</td>\n",
       "      <td>0.0</td>\n",
       "      <td>0.0</td>\n",
       "      <td>0.0</td>\n",
       "      <td>0.0</td>\n",
       "      <td>0.0</td>\n",
       "      <td>0.0</td>\n",
       "      <td>0.000000</td>\n",
       "      <td>...</td>\n",
       "      <td>0.0</td>\n",
       "      <td>0.0</td>\n",
       "      <td>0.0</td>\n",
       "      <td>0.0</td>\n",
       "      <td>0.0</td>\n",
       "      <td>0.0</td>\n",
       "      <td>0.0</td>\n",
       "      <td>0.0</td>\n",
       "      <td>0.0</td>\n",
       "      <td>0.0</td>\n",
       "    </tr>\n",
       "    <tr>\n",
       "      <th>4</th>\n",
       "      <td>0.0</td>\n",
       "      <td>0.0</td>\n",
       "      <td>0.0</td>\n",
       "      <td>0.0</td>\n",
       "      <td>0.0</td>\n",
       "      <td>0.0</td>\n",
       "      <td>0.0</td>\n",
       "      <td>0.0</td>\n",
       "      <td>0.0</td>\n",
       "      <td>0.000000</td>\n",
       "      <td>...</td>\n",
       "      <td>0.0</td>\n",
       "      <td>0.0</td>\n",
       "      <td>0.0</td>\n",
       "      <td>0.0</td>\n",
       "      <td>0.0</td>\n",
       "      <td>0.0</td>\n",
       "      <td>0.0</td>\n",
       "      <td>0.0</td>\n",
       "      <td>0.0</td>\n",
       "      <td>0.0</td>\n",
       "    </tr>\n",
       "  </tbody>\n",
       "</table>\n",
       "<p>5 rows × 6453 columns</p>\n",
       "</div>"
      ],
      "text/plain": [
       "     0   00  000  000ft  010101  0142   08    1   10       100  ...  ziplock  \\\n",
       "0  0.0  0.0  0.0    0.0     0.0   0.0  0.0  0.0  0.0  0.000000  ...      0.0   \n",
       "1  0.0  0.0  0.0    0.0     0.0   0.0  0.0  0.0  0.0  0.000000  ...      0.0   \n",
       "2  0.0  0.0  0.0    0.0     0.0   0.0  0.0  0.0  0.0  0.216956  ...      0.0   \n",
       "3  0.0  0.0  0.0    0.0     0.0   0.0  0.0  0.0  0.0  0.000000  ...      0.0   \n",
       "4  0.0  0.0  0.0    0.0     0.0   0.0  0.0  0.0  0.0  0.000000  ...      0.0   \n",
       "\n",
       "   zipped  zombie  zone  zoom  zoophile  zoë    α    π  ゴゴゴゴ  \n",
       "0     0.0     0.0   0.0   0.0       0.0  0.0  0.0  0.0   0.0  \n",
       "1     0.0     0.0   0.0   0.0       0.0  0.0  0.0  0.0   0.0  \n",
       "2     0.0     0.0   0.0   0.0       0.0  0.0  0.0  0.0   0.0  \n",
       "3     0.0     0.0   0.0   0.0       0.0  0.0  0.0  0.0   0.0  \n",
       "4     0.0     0.0   0.0   0.0       0.0  0.0  0.0  0.0   0.0  \n",
       "\n",
       "[5 rows x 6453 columns]"
      ]
     },
     "execution_count": 66,
     "metadata": {},
     "output_type": "execute_result"
    }
   ],
   "source": [
    "title_tvec.head()"
   ]
  },
  {
   "cell_type": "markdown",
   "id": "9514f10a-3582-44aa-9f50-929114e37f95",
   "metadata": {},
   "source": [
    "### **Top 15 words**"
   ]
  },
  {
   "cell_type": "markdown",
   "id": "519f62c4-d103-4a44-8581-4661eb3d9731",
   "metadata": {},
   "source": [
    "These are pretty common words, I thought that action verbs that relate to superpowers would appear. 'get' is the most profound word by far with a score nearing 60. "
   ]
  },
  {
   "cell_type": "code",
   "execution_count": 67,
   "id": "f606999e-d278-4a72-8d85-d5989382ec3f",
   "metadata": {},
   "outputs": [
    {
     "data": {
      "text/plain": [
       "<AxesSubplot:title={'center':'Imporance of words between subreddits'}>"
      ]
     },
     "execution_count": 67,
     "metadata": {},
     "output_type": "execute_result"
    },
    {
     "data": {
      "image/png": "[encoded data removed]",
      "text/plain": [
       "<Figure size 720x360 with 1 Axes>"
      ]
     },
     "metadata": {
      "needs_background": "light"
     },
     "output_type": "display_data"
    }
   ],
   "source": [
    "plt.figure(figsize = (10,5))\n",
    "popular_words = title_tvec.sum().sort_values(ascending = False).head(10).plot(kind = 'barh')\n",
    "plt.title('Imporance of words between subreddits')\n",
    "popular_words"
   ]
  },
  {
   "cell_type": "markdown",
   "id": "777bed6b-d856-471d-b4c2-0018d8fce41d",
   "metadata": {},
   "source": [
    "**Superpower words**<br> Here's how TfidfVectorizer placed importance on words that would probably be found in godtiersuperpowers."
   ]
  },
  {
   "cell_type": "code",
   "execution_count": 68,
   "id": "d2970a95-7e0a-4d87-a51f-acb2e213aaa2",
   "metadata": {},
   "outputs": [],
   "source": [
    "super_words = ['fly', 'invisible', 'fast', 'strength']"
   ]
  },
  {
   "cell_type": "code",
   "execution_count": 69,
   "id": "8f8e9af8-3747-42d7-8e61-798bb3296d01",
   "metadata": {},
   "outputs": [
    {
     "data": {
      "text/plain": [
       "fly          4.877712\n",
       "invisible    4.506965\n",
       "fast         4.058460\n",
       "strength     4.464937\n",
       "dtype: float64"
      ]
     },
     "execution_count": 69,
     "metadata": {},
     "output_type": "execute_result"
    }
   ],
   "source": [
    "title_tvec[super_words].sum()"
   ]
  },
  {
   "cell_type": "markdown",
   "id": "4fed5037-eace-4601-9f40-2f3a509d5e47",
   "metadata": {
    "tags": []
   },
   "source": [
    "### **Balance of words between subreddits\n",
    "To see the impact of these words, I look into the ratio of the appearance of these popular words in each subreddit. I aim to keep words that don't have a 50/50 split because it won't help the model differentiate between the 2 subreddits. These have been labelled as 'confusing' words."
   ]
  },
  {
   "cell_type": "code",
   "execution_count": 70,
   "id": "8adcffb5-3909-48b8-9d21-d651acfb6e70",
   "metadata": {},
   "outputs": [],
   "source": [
    "words= []\n",
    "for label in popular_words.get_yticklabels():\n",
    "    words.append(label.get_text())"
   ]
  },
  {
   "cell_type": "code",
   "execution_count": 71,
   "id": "00551630-003f-4234-a7b9-635ed4a41594",
   "metadata": {},
   "outputs": [],
   "source": [
    "#function that finds the instances of a certain word in 'title' then will find its' prevalence in each subreddit\n",
    "#as a %\n",
    "def word_impact(words):\n",
    "    for word in words:\n",
    "        print(f'{word.upper()}')\n",
    "        ###############df_copy was needed here as tokenizing has creates lists of words in\n",
    "        # original df and won't let me use str.contains function\n",
    "        print(df_copy[df_copy['title'].str.contains(f'{word}')]['subreddit'].value_counts(normalize = True))\n",
    "    return "
   ]
  },
  {
   "cell_type": "markdown",
   "id": "14f3aae8-177a-4356-a7bc-c2145d45ee84",
   "metadata": {},
   "source": [
    "We can see here that 'always' and 'know' have an equal balance between subreddits."
   ]
  },
  {
   "cell_type": "code",
   "execution_count": 72,
   "id": "8ad70598-c11c-4551-85cf-45bc5aff2c52",
   "metadata": {},
   "outputs": [
    {
     "name": "stdout",
     "output_type": "stream",
     "text": [
      "GET\n",
      "LifeProTips           0.582878\n",
      "godtiersuperpowers    0.417122\n",
      "Name: subreddit, dtype: float64\n",
      "TIME\n",
      "godtiersuperpowers    0.613497\n",
      "LifeProTips           0.386503\n",
      "Name: subreddit, dtype: float64\n",
      "MAKE\n",
      "LifeProTips           0.630573\n",
      "godtiersuperpowers    0.369427\n",
      "Name: subreddit, dtype: float64\n",
      "EVERY\n",
      "godtiersuperpowers    0.762238\n",
      "LifeProTips           0.237762\n",
      "Name: subreddit, dtype: float64\n",
      "SOMEONE\n",
      "LifeProTips           0.587413\n",
      "godtiersuperpowers    0.412587\n",
      "Name: subreddit, dtype: float64\n",
      "PEOPLE\n",
      "LifeProTips           0.628019\n",
      "godtiersuperpowers    0.371981\n",
      "Name: subreddit, dtype: float64\n",
      "ONE\n",
      "LifeProTips           0.578883\n",
      "godtiersuperpowers    0.421117\n",
      "Name: subreddit, dtype: float64\n",
      "WANT\n",
      "LifeProTips           0.560669\n",
      "godtiersuperpowers    0.439331\n",
      "Name: subreddit, dtype: float64\n",
      "ANYTHING\n",
      "godtiersuperpowers    0.717105\n",
      "LifeProTips           0.282895\n",
      "Name: subreddit, dtype: float64\n",
      "LIKE\n",
      "LifeProTips           0.609959\n",
      "godtiersuperpowers    0.390041\n",
      "Name: subreddit, dtype: float64\n"
     ]
    }
   ],
   "source": [
    "word_impact(words)"
   ]
  },
  {
   "cell_type": "markdown",
   "id": "aa0ea851-bbbb-4293-9b1b-196976825d83",
   "metadata": {},
   "source": [
    "**Removal of confusing words is in the 'WORD REMOVAL SECTION'**<br>\n",
    "(this section is done in a previous part of this notebook)<br>\n",
    "*'always'* and *'know'* were words that sat around a 50% ratio between the subreddits. "
   ]
  },
  {
   "cell_type": "markdown",
   "id": "9ec14d87-1faf-4503-8161-5802ac098a9d",
   "metadata": {},
   "source": [
    "**Superpower words**<br> 'Invisible' and 'Strength' are appear significantly more often in godtiersuperpowers"
   ]
  },
  {
   "cell_type": "code",
   "execution_count": 73,
   "id": "73d22e74-2295-4810-8e57-299080db116f",
   "metadata": {},
   "outputs": [
    {
     "name": "stdout",
     "output_type": "stream",
     "text": [
      "FLY\n",
      "godtiersuperpowers    0.555556\n",
      "LifeProTips           0.444444\n",
      "Name: subreddit, dtype: float64\n",
      "INVISIBLE\n",
      "godtiersuperpowers    0.857143\n",
      "LifeProTips           0.142857\n",
      "Name: subreddit, dtype: float64\n",
      "FAST\n",
      "godtiersuperpowers    0.571429\n",
      "LifeProTips           0.428571\n",
      "Name: subreddit, dtype: float64\n",
      "STRENGTH\n",
      "godtiersuperpowers    0.875\n",
      "LifeProTips           0.125\n",
      "Name: subreddit, dtype: float64\n"
     ]
    }
   ],
   "source": [
    "word_impact(super_words)"
   ]
  },
  {
   "cell_type": "markdown",
   "id": "0b0ffb39-c424-4101-9c2b-edf9208bb43c",
   "metadata": {},
   "source": [
    "# Modeling\n",
    "\n",
    "**Transformers:**\n",
    "- *TfidfVectorizer* \n",
    "    - Transforms our title's strings into matrix data that places importance on words that are uncommon in titles compared to the other titles.\n",
    "\n",
    "\n",
    "- *StandardScaler* \n",
    "    - Scales our data to ensure that our features are comparable so that our model can understand the importance of features. \n",
    "\n",
    "**Models:**\n",
    "- *RandomForestClassifier*\n",
    "    - An ensemble model that will ensure that there is no multicollinearity problems with our dataset if we were to use an ordinary Decision Tree Classifier. At each split of       RandomForest, it will select a random subset of features to ensure that all words are exposing their relationship to our target. There are no assumptions on              distribution as it is non-parametric.\n",
    "\n",
    "\n",
    "- *LogisticRegression*\n",
    "    - Logistic Regression is great for binary classification problems and doesn't take assumptions for distributions either. Assumptions on outliers have been ignored and will be factored into our results.\n",
    "\n"
   ]
  },
  {
   "cell_type": "markdown",
   "id": "35cca866-6d86-48cd-a776-977096a0f492",
   "metadata": {},
   "source": [
    "### RandomForest Classifier and Logistic Regression Pipelines"
   ]
  },
  {
   "cell_type": "code",
   "execution_count": 74,
   "id": "0af605f2-bb80-4372-9e9c-3d52d1e89957",
   "metadata": {},
   "outputs": [
    {
     "data": {
      "text/plain": [
       "['score', 'self_text', 'title_word_count', 'num_comments']"
      ]
     },
     "execution_count": 74,
     "metadata": {},
     "output_type": "execute_result"
    }
   ],
   "source": [
    "#ColumnTransformer needs specified columns to affect\n",
    "#all columns other than 'title' will need to be scaled\n",
    "cols = list(X_train.columns)\n",
    "cols.remove('title')\n",
    "cols"
   ]
  },
  {
   "cell_type": "code",
   "execution_count": 76,
   "id": "01daef11-12b4-4dea-a855-24fb1004665e",
   "metadata": {},
   "outputs": [],
   "source": [
    "#Transformers for our pipelines\n",
    "transformer = ColumnTransformer([\n",
    "    #re-introducing the TfidVectorizer to the pipeline \n",
    "    ('tvec', TfidfVectorizer(analyzer= lambda x: x), 'title'),\n",
    "    #cols used here\n",
    "    ('s', StandardScaler(with_mean= False), cols)\n",
    "])\n",
    "\n",
    "#1. Randomforest classifier pipeline\n",
    "pipe_forest = Pipeline([\n",
    "    ('t', transformer),\n",
    "    #class_weight favours 1 so that there are less misclassifications of 1\n",
    "    ('rforest', RandomForestClassifier(class_weight = {0: 1, 1:1.4}))\n",
    "])\n",
    "\n",
    "\n",
    "#2. Logistic Regression pipeline\n",
    "pipe_logreg = Pipeline([ \n",
    "    ('t', transformer),\n",
    "    #penalty set to 'none' to avoid regularization\n",
    "    ('logreg', LogisticRegression(penalty = 'none', class_weight = {0: 1, 1:1.4}))\n",
    "    \n",
    "])\n",
    "\n",
    "#3. MultiNomial Bayes\n",
    "pipe_mnb = Pipeline([ \n",
    "    ('t', transformer),\n",
    "    #penalty set to 'none' to avoid regularization\n",
    "    ('mnb', MultinomialNB())\n",
    "    \n",
    "])\n"
   ]
  },
  {
   "cell_type": "markdown",
   "id": "3cc5b50c-53f5-436e-8587-266bc312a44f",
   "metadata": {
    "tags": []
   },
   "source": [
    "## Optimizing hyperparameters\n",
    "The hyperparameters within the transformers and models were adjusted to avoid overfitting and improve the balance between recall and specificity. Overfitting can be mitigated inside a forest classifier by reducing the depth (max_depth) of the tree. I aimed to improve recall and specificity by tweaking the max_features and min_df of the Tfidf Vectorizer parameters as it can increase individuality between the language of subreddits."
   ]
  },
  {
   "cell_type": "code",
   "execution_count": 77,
   "id": "e329d5e3-8976-40a0-a154-1d32ca9d12ff",
   "metadata": {},
   "outputs": [],
   "source": [
    "forest_params = {\n",
    "\n",
    "    #RandomForest Classifier parameters\n",
    "    'rforest__max_depth': [25],\n",
    "    'rforest__n_estimators': [70],\n",
    "    \n",
    "    #Tfidf Vectorizor parameters\n",
    "    't__tvec__max_df': [.97],\n",
    "    't__tvec__max_features': [1000, 1200],\n",
    "    't__tvec__min_df': [4],\n",
    "    't__tvec__ngram_range': [(1,1), (1,2)]\n",
    "      \n",
    "}\n",
    "\n",
    "\n",
    "tfidf_params = {\n",
    "    #Tfidf Vectorizor parameters\n",
    "    't__tvec__max_df': [.97],\n",
    "    't__tvec__max_features': [2000],\n",
    "    't__tvec__min_df': [3,4],\n",
    "    't__tvec__ngram_range': [(1,1)]\n",
    "}\n",
    "    "
   ]
  },
  {
   "cell_type": "markdown",
   "id": "2d7a092c-20b2-42ae-8db6-c95f651342be",
   "metadata": {
    "tags": []
   },
   "source": [
    "## Gridsearch"
   ]
  },
  {
   "cell_type": "code",
   "execution_count": 78,
   "id": "3797fa49-5628-4cdc-acca-32901189aec6",
   "metadata": {},
   "outputs": [],
   "source": [
    "#RandomForest gridseach over params outlined previously\n",
    "forest_gs = GridSearchCV(pipe_forest,\n",
    "                         forest_params,\n",
    "                         cv= 5,\n",
    "                         verbose = 1)\n",
    "\n",
    "#LogisticRegression gridseach over params outlined previously\n",
    "logreg_gs = GridSearchCV(pipe_logreg,\n",
    "                         tfidf_params,\n",
    "                         cv= 5,\n",
    "                         verbose = 1)\n",
    "\n",
    "#Naive Bayes\n",
    "mnb_gs = GridSearchCV(pipe_mnb,\n",
    "                         tfidf_params,\n",
    "                         cv= 5,\n",
    "                         verbose = 1)"
   ]
  },
  {
   "cell_type": "code",
   "execution_count": 79,
   "id": "792c5642-7e5a-4c4c-a2ec-c8228911beb7",
   "metadata": {},
   "outputs": [
    {
     "name": "stdout",
     "output_type": "stream",
     "text": [
      "Fitting 5 folds for each of 4 candidates, totalling 20 fits\n"
     ]
    },
    {
     "data": {
      "text/plain": [
       "GridSearchCV(cv=5,\n",
       "             estimator=Pipeline(steps=[('t',\n",
       "                                        ColumnTransformer(transformers=[('tvec',\n",
       "                                                                         TfidfVectorizer(analyzer=<function <lambda> at 0x7fcd852858b0>),\n",
       "                                                                         'title'),\n",
       "                                                                        ('s',\n",
       "                                                                         StandardScaler(with_mean=False),\n",
       "                                                                         ['score',\n",
       "                                                                          'self_text',\n",
       "                                                                          'title_word_count',\n",
       "                                                                          'num_comments'])])),\n",
       "                                       ('rforest',\n",
       "                                        RandomForestClassifier(class_weight={0: 1,\n",
       "                                                                             1: 1.4}))]),\n",
       "             param_grid={'rforest__max_depth': [25],\n",
       "                         'rforest__n_estimators': [70],\n",
       "                         't__tvec__max_df': [0.97],\n",
       "                         't__tvec__max_features': [1000, 1200],\n",
       "                         't__tvec__min_df': [4],\n",
       "                         't__tvec__ngram_range': [(1, 1), (1, 2)]},\n",
       "             verbose=1)"
      ]
     },
     "execution_count": 79,
     "metadata": {},
     "output_type": "execute_result"
    }
   ],
   "source": [
    "forest_gs.fit(X_train, y_train)"
   ]
  },
  {
   "cell_type": "code",
   "execution_count": 80,
   "id": "fb8db9b0-bee2-4fe3-9cfb-e50252126c91",
   "metadata": {},
   "outputs": [
    {
     "name": "stdout",
     "output_type": "stream",
     "text": [
      "Fitting 5 folds for each of 2 candidates, totalling 10 fits\n"
     ]
    },
    {
     "data": {
      "text/plain": [
       "GridSearchCV(cv=5,\n",
       "             estimator=Pipeline(steps=[('t',\n",
       "                                        ColumnTransformer(transformers=[('tvec',\n",
       "                                                                         TfidfVectorizer(analyzer=<function <lambda> at 0x7fcd852858b0>),\n",
       "                                                                         'title'),\n",
       "                                                                        ('s',\n",
       "                                                                         StandardScaler(with_mean=False),\n",
       "                                                                         ['score',\n",
       "                                                                          'self_text',\n",
       "                                                                          'title_word_count',\n",
       "                                                                          'num_comments'])])),\n",
       "                                       ('logreg',\n",
       "                                        LogisticRegression(class_weight={0: 1,\n",
       "                                                                         1: 1.4},\n",
       "                                                           penalty='none'))]),\n",
       "             param_grid={'t__tvec__max_df': [0.97],\n",
       "                         't__tvec__max_features': [2000],\n",
       "                         't__tvec__min_df': [3, 4],\n",
       "                         't__tvec__ngram_range': [(1, 1)]},\n",
       "             verbose=1)"
      ]
     },
     "execution_count": 80,
     "metadata": {},
     "output_type": "execute_result"
    }
   ],
   "source": [
    "logreg_gs.fit(X_train, y_train)"
   ]
  },
  {
   "cell_type": "code",
   "execution_count": 81,
   "id": "91532a09-b54a-47c1-baa8-23ccd720647b",
   "metadata": {},
   "outputs": [
    {
     "name": "stdout",
     "output_type": "stream",
     "text": [
      "Fitting 5 folds for each of 2 candidates, totalling 10 fits\n"
     ]
    },
    {
     "data": {
      "text/plain": [
       "GridSearchCV(cv=5,\n",
       "             estimator=Pipeline(steps=[('t',\n",
       "                                        ColumnTransformer(transformers=[('tvec',\n",
       "                                                                         TfidfVectorizer(analyzer=<function <lambda> at 0x7fcd852858b0>),\n",
       "                                                                         'title'),\n",
       "                                                                        ('s',\n",
       "                                                                         StandardScaler(with_mean=False),\n",
       "                                                                         ['score',\n",
       "                                                                          'self_text',\n",
       "                                                                          'title_word_count',\n",
       "                                                                          'num_comments'])])),\n",
       "                                       ('mnb', MultinomialNB())]),\n",
       "             param_grid={'t__tvec__max_df': [0.97],\n",
       "                         't__tvec__max_features': [2000],\n",
       "                         't__tvec__min_df': [3, 4],\n",
       "                         't__tvec__ngram_range': [(1, 1)]},\n",
       "             verbose=1)"
      ]
     },
     "execution_count": 81,
     "metadata": {},
     "output_type": "execute_result"
    }
   ],
   "source": [
    "mnb_gs.fit(X_train, y_train)"
   ]
  },
  {
   "cell_type": "markdown",
   "id": "0249354a-c14a-4b4f-ae13-0506ea45d99c",
   "metadata": {},
   "source": [
    "**Best scores:**"
   ]
  },
  {
   "cell_type": "code",
   "execution_count": 82,
   "id": "2092a542-c498-4f2d-b5a5-529eb5664a16",
   "metadata": {},
   "outputs": [
    {
     "data": {
      "text/plain": [
       "(0.9267735135377577, 0.880055915200263, 0.8267067342433257)"
      ]
     },
     "execution_count": 82,
     "metadata": {},
     "output_type": "execute_result"
    }
   ],
   "source": [
    "forest_gs.best_score_, logreg_gs.best_score_, mnb_gs.best_score_"
   ]
  },
  {
   "cell_type": "markdown",
   "id": "3396d777-1f56-4405-8208-78902fc400db",
   "metadata": {},
   "source": [
    "**Best params for each model found by their gridsearch:**"
   ]
  },
  {
   "cell_type": "code",
   "execution_count": 83,
   "id": "24fb099d-1c05-4143-a4aa-0d6d431f8753",
   "metadata": {},
   "outputs": [
    {
     "data": {
      "text/plain": [
       "{'rforest__max_depth': 25,\n",
       " 'rforest__n_estimators': 70,\n",
       " 't__tvec__max_df': 0.97,\n",
       " 't__tvec__max_features': 1000,\n",
       " 't__tvec__min_df': 4,\n",
       " 't__tvec__ngram_range': (1, 1)}"
      ]
     },
     "execution_count": 83,
     "metadata": {},
     "output_type": "execute_result"
    }
   ],
   "source": [
    "forest_gs.best_params_"
   ]
  },
  {
   "cell_type": "code",
   "execution_count": 84,
   "id": "8d851082-eb27-4eaf-a7d2-02302f15dada",
   "metadata": {},
   "outputs": [
    {
     "data": {
      "text/plain": [
       "{'t__tvec__max_df': 0.97,\n",
       " 't__tvec__max_features': 2000,\n",
       " 't__tvec__min_df': 3,\n",
       " 't__tvec__ngram_range': (1, 1)}"
      ]
     },
     "execution_count": 84,
     "metadata": {},
     "output_type": "execute_result"
    }
   ],
   "source": [
    "logreg_gs.best_params_"
   ]
  },
  {
   "cell_type": "code",
   "execution_count": 87,
   "id": "8ddc29ea-0186-47a8-b36a-bdb04094fc9c",
   "metadata": {},
   "outputs": [
    {
     "data": {
      "text/plain": [
       "{'t__tvec__max_df': 0.97,\n",
       " 't__tvec__max_features': 2000,\n",
       " 't__tvec__min_df': 3,\n",
       " 't__tvec__ngram_range': (1, 1)}"
      ]
     },
     "execution_count": 87,
     "metadata": {},
     "output_type": "execute_result"
    }
   ],
   "source": [
    "mnb_gs.best_params_"
   ]
  },
  {
   "cell_type": "markdown",
   "id": "ded9c446-8999-40f1-b36d-5ba78187d78b",
   "metadata": {},
   "source": [
    "# Evaluation\n",
    "Interpretation of the results from Logistic Regression need to take into account the fact that godtiersuperpowers has many outliers under 'title_word_count'. The only concern is that it may reduce the power of statistical tests."
   ]
  },
  {
   "cell_type": "markdown",
   "id": "a5f07241-e466-47c6-86ca-da040bd0f4eb",
   "metadata": {
    "tags": []
   },
   "source": [
    "## Baseline performance\n",
    "The baseline accuracy is 50.47%. My models aim to outperform this."
   ]
  },
  {
   "cell_type": "code",
   "execution_count": 88,
   "id": "b917a0a0-86cc-4a69-aa6a-b73ff80aee1d",
   "metadata": {},
   "outputs": [
    {
     "data": {
      "text/plain": [
       "0    0.504671\n",
       "1    0.495329\n",
       "Name: subreddit, dtype: float64"
      ]
     },
     "execution_count": 88,
     "metadata": {},
     "output_type": "execute_result"
    }
   ],
   "source": [
    "y.value_counts(normalize = True)"
   ]
  },
  {
   "cell_type": "markdown",
   "id": "98d77204-1ff9-450e-b233-62e6c07cf10f",
   "metadata": {
    "tags": []
   },
   "source": [
    "## Model performance\n",
    "Optimizing for accuracy entails the focus on improving **recall**(type 1 errors) and **specificity** (type 2 errors) that describe our model's ability to correctly identify true positives and true negatives."
   ]
  },
  {
   "cell_type": "markdown",
   "id": "d1efcf06-9692-4e39-bf91-786075c30861",
   "metadata": {
    "tags": []
   },
   "source": [
    "### Recall and Specificity\n",
    "Our models have now been trained on data and is able to make certain predictions on the data we give it. When making these decisions on wether an observation is LifeProTips or godtiersuperpowers; how confident is it in this decision? We want our model to be able to differentiate 1 and 0 as certainly as possible, which can be represented by the tradeoff between Recall and Specificity. On top of accuracy being a suitable metric of success, our focus will also be in optimizing Recall (type 1 errors) and Specificity (type 2 errors) as they represent the ratio of our model correctly labelling the actual entries.\n",
    "\n",
    "\n",
    "**RandomForest Classifier Interpretation:**\n",
    "- A test accuracy of 0.91 means that 9% of the variance in the test set cannot be explained by our model.\n",
    "- Recall of 0.91 states that 91% of our actual LifeProTips entries were classified correctly but 1 in 10 were misclassified as godtiersuperpowers\n",
    "- Specificity of 0.92 states that 92% of our actual godtiersuperpower entries were classified correctly but 8% were misclassified as LifeProTips"
   ]
  },
  {
   "cell_type": "markdown",
   "id": "a80b5e06-2fa9-4cf3-89ee-c3caf1c83448",
   "metadata": {},
   "source": [
    "#### **ForestTree Classifier overview**\n",
    "This model was able to outperform Logistic Regression. In addition to a higher accuracy, it was able to achieve a much better balance of Recall and Specificity. Our train and test accuracy highlights that there is some evidence of bias as our model has been slightly overfitted.\n",
    "\n",
    "The confusion matrix confirms that specificity performs better than recall as it's ability to classify true negatives (top left) triumphs its ability to classify true positives (bottom right)."
   ]
  },
  {
   "cell_type": "code",
   "execution_count": 91,
   "id": "fdebbf39-39fb-42a5-bb80-326d626456df",
   "metadata": {},
   "outputs": [
    {
     "name": "stdout",
     "output_type": "stream",
     "text": [
      "Train accuracy: 0.9267735135377577\n",
      "Test accuracy: 0.9029003783102144\n",
      "Recall: 0.8931297709923665\n",
      "Specificity: 0.9125\n"
     ]
    }
   ],
   "source": [
    "#get_metrics will will give the metrics that are in question- accuracy of train and test samples, recall, specificity\n",
    "func.get_metrics(forest_gs, X_test, y_test)"
   ]
  },
  {
   "cell_type": "code",
   "execution_count": null,
   "id": "fb064528-8f1b-4aa4-8a61-1ecb9648180c",
   "metadata": {},
   "outputs": [],
   "source": [
    "#plotting the confusion matrix for both models\n",
    "plt.figure(figsize=(10, 10))\n",
    "ConfusionMatrixDisplay.from_estimator(forest_gs, X_test, y_test,\n",
    "                     cmap = 'BuGn',\n",
    "                     display_labels = ['godtiersuperpowers', 'LifeProTips'])\n",
    "plt.title('ForestTree Classifier Confusion Matrix')"
   ]
  },
  {
   "cell_type": "markdown",
   "id": "fc17cad7-8138-40b9-8513-eafe06acebe3",
   "metadata": {},
   "source": [
    "#### **Logistic Regression overview** \n",
    "There was less flexibility with this model since I could not tune it's hyperparams since many of them became redundant after setting penaly = 'none'. Logistic Regression notably has a high Recall, suprisingly better than RandomForest by 1%. Specificity is quite a lot worse with 84%.\n",
    "\n",
    "The confusion matrix highlights how negative observations (godtiersuperpowers) were more troublesome to classify for Logistic Regression. \n",
    "\n"
   ]
  },
  {
   "cell_type": "code",
   "execution_count": 92,
   "id": "e35ee83a-712e-4f47-ac55-11283c789a5d",
   "metadata": {},
   "outputs": [
    {
     "name": "stdout",
     "output_type": "stream",
     "text": [
      "Train accuracy: 0.880055915200263\n",
      "Test accuracy: 0.8751576292559899\n",
      "Recall: 0.910941475826972\n",
      "Specificity: 0.84\n"
     ]
    }
   ],
   "source": [
    "func.get_metrics(logreg_gs, X_test, y_test)"
   ]
  },
  {
   "cell_type": "code",
   "execution_count": 94,
   "id": "0ae2f097-d904-402d-9775-fe8578a1f419",
   "metadata": {},
   "outputs": [
    {
     "data": {
      "text/plain": [
       "Text(0.5, 1.0, 'Logistic Regression Confusion Matrix')"
      ]
     },
     "execution_count": 94,
     "metadata": {},
     "output_type": "execute_result"
    },
    {
     "data": {
      "text/plain": [
       "<Figure size 360x360 with 0 Axes>"
      ]
     },
     "metadata": {},
     "output_type": "display_data"
    },
    {
     "data": {
      "image/png": "[encoded data removed]",
      "text/plain": [
       "<Figure size 432x288 with 2 Axes>"
      ]
     },
     "metadata": {
      "needs_background": "light"
     },
     "output_type": "display_data"
    }
   ],
   "source": [
    "plt.figure(figsize=(5, 5))\n",
    "ConfusionMatrixDisplay.from_estimator(logreg_gs, X_test, y_test,\n",
    "                     cmap = 'BuGn',\n",
    "                     display_labels = ['godtiersuperpowers', 'LifeProTips'])\n",
    "plt.title('Logistic Regression Confusion Matrix')"
   ]
  },
  {
   "cell_type": "markdown",
   "id": "f2635572-49a9-4dc8-9a1a-cb7da5614b23",
   "metadata": {},
   "source": [
    "#### **MultiNomial Naive Bayes overview** \n",
    "Even worse performance for everything but a great balance between the train test accuracy, as well as recall vs specificity.\n",
    "\n",
    "The confusion matrix reveals how there was an overall struggle in identifying the right subreddits compared to the other model."
   ]
  },
  {
   "cell_type": "code",
   "execution_count": 93,
   "id": "33e26ad1-bac2-4a68-bf10-62c596fb88be",
   "metadata": {},
   "outputs": [
    {
     "name": "stdout",
     "output_type": "stream",
     "text": [
      "Train accuracy: 0.8267067342433257\n",
      "Test accuracy: 0.8297604035308953\n",
      "Recall: 0.821882951653944\n",
      "Specificity: 0.8375\n"
     ]
    }
   ],
   "source": [
    "func.get_metrics(mnb_gs, X_test, y_test)"
   ]
  },
  {
   "cell_type": "code",
   "execution_count": 95,
   "id": "eb83d3e5-602f-49cf-9dfc-2e0e3d90da65",
   "metadata": {},
   "outputs": [
    {
     "data": {
      "text/plain": [
       "Text(0.5, 1.0, 'MNB Regression Confusion Matrix')"
      ]
     },
     "execution_count": 95,
     "metadata": {},
     "output_type": "execute_result"
    },
    {
     "data": {
      "text/plain": [
       "<Figure size 360x360 with 0 Axes>"
      ]
     },
     "metadata": {},
     "output_type": "display_data"
    },
    {
     "data": {
      "image/png": "[encoded data removed]",
      "text/plain": [
       "<Figure size 432x288 with 2 Axes>"
      ]
     },
     "metadata": {
      "needs_background": "light"
     },
     "output_type": "display_data"
    }
   ],
   "source": [
    "plt.figure(figsize=(5, 5))\n",
    "ConfusionMatrixDisplay.from_estimator(mnb_gs, X_test, y_test,\n",
    "                     cmap = 'BuGn',\n",
    "                     display_labels = ['godtiersuperpowers', 'LifeProTips'])\n",
    "plt.title('MNB Regression Confusion Matrix')"
   ]
  },
  {
   "cell_type": "markdown",
   "id": "198690d1-16ec-4b92-983e-7c7d30f019d8",
   "metadata": {},
   "source": [
    "### Distribution of our predicted probablities  \n",
    "The model's predicted probabilities quantifies the confidence of our model towards its' decisions when classifying this binary target with a threshold set at 0.5. Recall and specificity represents the distribution of predicted probabliities towards 1 and 0 respectively. Misclassifications happen when the predicted probability falls into the wrong side of this threshold.\n",
    "\n",
    "The distributions of these predicted probabilities need to be as seperate as possible so that there is less confusion around the 0.5 threshold. "
   ]
  },
  {
   "cell_type": "markdown",
   "id": "aaaf62af-6753-4582-a276-139d4bc14c73",
   "metadata": {
    "tags": []
   },
   "source": [
    "#### ROC curve"
   ]
  },
  {
   "cell_type": "markdown",
   "id": "ecb7788d-b44f-4c28-8a0f-89281ddbf9b6",
   "metadata": {},
   "source": [
    "Shows the trade-off of our model's performance in context to Recall and Specificity as the threshold of our predicted probabilities change."
   ]
  },
  {
   "cell_type": "markdown",
   "id": "5abccee6-bee8-4f57-8e6b-e7037a274300",
   "metadata": {},
   "source": [
    "#### Area Under Curve (AUC) score\n",
    "AUC is an indication of the performance of the model across all possible classification thresholds, representing how separated our positive and negative populations are from each other. We aim to have a higher AUC as it indicates less overlapping between the distributions."
   ]
  },
  {
   "cell_type": "markdown",
   "id": "bc2fe65f-275c-4cdb-9932-654ba601246f",
   "metadata": {},
   "source": [
    "#### **RandomForest Classifier Performance and Distributions**\n",
    "\n",
    "With an AUC of 0.97, we can safely say that this model classifies subreddits correctly since it's overall performance is high in context to the changing thresholds on the predicted probabilities. \n",
    "\n",
    "This can be visualised with the distribution of the actual values and how they were placed in terms of predicted probabilities. There isn't too much evidence of overlap."
   ]
  },
  {
   "cell_type": "code",
   "execution_count": null,
   "id": "e7d72a0c-8df0-4001-aecb-8b45aa4be1ef",
   "metadata": {},
   "outputs": [],
   "source": [
    "func.recall_specificity(forest_gs, X_test, y_test)"
   ]
  },
  {
   "cell_type": "markdown",
   "id": "c397605f-b985-48cd-82da-b5a70d3b2755",
   "metadata": {},
   "source": [
    "#### **Logistic Regression Performance and Distributions**\n",
    "With an AUC of 0.88, this model has more trouble correctly classifying subreddits. The ROC curve is has flat sides, making it look like a triangle. This is because the ROC curve evaluates performance based on changing thresholds but evidence from the distributed predicted probabilities show that the changing threshold wouldn't have impact on the performance.\n",
    "\n",
    "Interstingly, the predicted probabilities didn't show as much uncertainty but still has a problem with misclassifying observations."
   ]
  },
  {
   "cell_type": "code",
   "execution_count": null,
   "id": "e14a1196-7cff-46b0-bce7-519b1135cb1a",
   "metadata": {},
   "outputs": [],
   "source": [
    "pd.DataFrame({'true_values': y_test,\n",
    "                            'pred_probs': logreg_gs.predict_proba(X_test)[:,1]}).head(10)"
   ]
  },
  {
   "cell_type": "code",
   "execution_count": null,
   "id": "5790556e-cfc3-4f1e-a173-cf53dc607793",
   "metadata": {},
   "outputs": [],
   "source": [
    "func.recall_specificity(logreg_gs, X_test, y_test)"
   ]
  },
  {
   "cell_type": "markdown",
   "id": "021c81e2-355f-4cdf-8def-2c22ff1c22a7",
   "metadata": {
    "tags": []
   },
   "source": [
    "### Conclusion and Recommendations"
   ]
  },
  {
   "cell_type": "markdown",
   "id": "190e84c8-9836-42e9-8a9e-2b4322e8b533",
   "metadata": {},
   "source": [
    "**Conclusion:** <br>\n",
    "ForestTree Classifier is the model of choice as it is able to distinguish between non-fiction and fantasy quite confidently with reference to the AUC score of 0.97! LifeProTips and godtiersuperpowers share similar language but that wasn't changing model's ability to bypass that impressively. With an optimistic view of this performance, we can further this project to analyse data for facebook and perhaps discern fake news from real news.\n",
    "\n",
    "**Recommendations:** <br>\n",
    "Words that were obviously more prominant in godtiersuperpowers such as 'invisible' didn't hold as much weight as I'd like them to have. If I were able to weight words with a higher disparity of balance between subreddits, I feel that the model could perform even better. "
   ]
  }
 ],
 "metadata": {
  "kernelspec": {
   "display_name": "Python 3 (ipykernel)",
   "language": "python",
   "name": "python3"
  },
  "language_info": {
   "codemirror_mode": {
    "name": "ipython",
    "version": 3
   },
   "file_extension": ".py",
   "mimetype": "text/x-python",
   "name": "python",
   "nbconvert_exporter": "python",
   "pygments_lexer": "ipython3",
   "version": "3.8.8"
  }
 },
 "nbformat": 4,
 "nbformat_minor": 5
}
