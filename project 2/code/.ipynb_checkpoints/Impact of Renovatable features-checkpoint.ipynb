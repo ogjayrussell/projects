{
 "cells": [
  {
   "cell_type": "code",
   "execution_count": 2,
   "id": "edb09da2-2340-47a8-9570-09b74b3f4874",
   "metadata": {},
   "outputs": [],
   "source": [
    "import numpy as np\n",
    "import pandas as pd\n",
    "import matplotlib.pyplot as plt\n",
    "import seaborn as sns\n",
    "\n",
    "from sklearn.model_selection import train_test_split, cross_val_score\n",
    "from sklearn.model_selection import GridSearchCV\n",
    "from sklearn.pipeline import Pipeline\n",
    "from sklearn.neighbors import KNeighborsClassifier\n",
    "from sklearn.linear_model import LinearRegression, LassoCV, RidgeCV, Lasso, Ridge\n",
    "from sklearn.compose import ColumnTransformer\n",
    "from sklearn.preprocessing import Binarizer\n",
    "from sklearn.preprocessing import PolynomialFeatures, StandardScaler\n",
    "from sklearn.preprocessing import OneHotEncoder, OrdinalEncoder\n",
    "from sklearn.preprocessing import LabelEncoder\n",
    "from sklearn.metrics import r2_score, mean_squared_error\n",
    "\n",
    "\n",
    "import sys\n",
    "\n",
    "#to get rid of convergence warnings for LASSO and RIDGE\n",
    "if not sys.warnoptions:\n",
    "    import warnings\n",
    "    warnings.simplefilter(\"ignore\")"
   ]
  },
  {
   "cell_type": "markdown",
   "id": "524e6f55-578c-4979-962c-295c8b771973",
   "metadata": {},
   "source": [
    "# Renovatable features to predict saleprice\n",
    "\n",
    "---"
   ]
  },
  {
   "cell_type": "markdown",
   "id": "802a1207-0565-424f-b7b9-0f3dc821fbde",
   "metadata": {},
   "source": [
    "The problem statement is to investigate on what renovatable features of a house will impact the sale price the most. \n",
    "\n",
    "**Target audience:** People looking to add value to their house before selling or property developers that would like to understand where they should focus their resources."
   ]
  },
  {
   "cell_type": "markdown",
   "id": "868dc0ba-920c-49c0-8bf7-5d7c0a9f4673",
   "metadata": {},
   "source": [
    "## Defining renovatable features"
   ]
  },
  {
   "cell_type": "markdown",
   "id": "b8ba7cf4-4bda-4ef6-8b46-af14e7a5f49d",
   "metadata": {},
   "source": [
    "Quality or Condition or existance of:\n",
    "- Roof\n",
    "- Basement\n",
    "- Garage\n",
    "- Heating/ Electricity \n",
    "- Air conditioning\n",
    "- Kitchen\n",
    "- Fireplace\n",
    "- Driveway\n",
    "- Alley\n",
    "- Pool\n",
    "- Fence"
   ]
  },
  {
   "cell_type": "markdown",
   "id": "8395adc2-c93c-458d-b577-5dd576a678bd",
   "metadata": {},
   "source": [
    "### A macro view on the importance of renovatable features"
   ]
  },
  {
   "cell_type": "markdown",
   "id": "f32527fe-b44c-46da-ac8f-048009529c68",
   "metadata": {},
   "source": [
    "A model comprising of features only with renovatable characteristics show that renovatable features are a minor indication (explains 30% of variance) of sale price"
   ]
  },
  {
   "cell_type": "code",
   "execution_count": 3,
   "id": "d82ebaf2-7fa4-4f2f-a0dd-fffdbb5598fb",
   "metadata": {},
   "outputs": [],
   "source": [
    "train = pd.read_csv('../data/train.csv')"
   ]
  },
  {
   "cell_type": "markdown",
   "id": "ea94c970-1e47-402b-994c-e728aad29b70",
   "metadata": {},
   "source": [
    "# Data Cleaning"
   ]
  },
  {
   "cell_type": "markdown",
   "id": "b43c7603-5d2b-423a-b1c0-236c0341cb4c",
   "metadata": {},
   "source": [
    "### Addressing null values"
   ]
  },
  {
   "cell_type": "code",
   "execution_count": 4,
   "id": "892928a9-88e5-4e7a-98ce-17f608a32912",
   "metadata": {},
   "outputs": [
    {
     "data": {
      "text/plain": [
       "Pool QC           2042\n",
       "Misc Feature      1986\n",
       "Alley             1911\n",
       "Fence             1651\n",
       "Fireplace Qu      1000\n",
       "Lot Frontage       330\n",
       "Garage Finish      114\n",
       "Garage Qual        114\n",
       "Garage Yr Blt      114\n",
       "Garage Cond        114\n",
       "Garage Type        113\n",
       "Bsmt Exposure       58\n",
       "BsmtFin Type 2      56\n",
       "BsmtFin Type 1      55\n",
       "Bsmt Cond           55\n",
       "Bsmt Qual           55\n",
       "Mas Vnr Area        22\n",
       "Mas Vnr Type        22\n",
       "Bsmt Half Bath       2\n",
       "Bsmt Full Bath       2\n",
       "Garage Area          1\n",
       "Total Bsmt SF        1\n",
       "Bsmt Unf SF          1\n",
       "BsmtFin SF 2         1\n",
       "BsmtFin SF 1         1\n",
       "Garage Cars          1\n",
       "dtype: int64"
      ]
     },
     "execution_count": 4,
     "metadata": {},
     "output_type": "execute_result"
    }
   ],
   "source": [
    "train.isnull().sum().sort_values(ascending = False).loc[lambda x: x>0]"
   ]
  },
  {
   "cell_type": "markdown",
   "id": "85a3ff17-7140-4313-8121-2d5cdba424f9",
   "metadata": {},
   "source": [
    "#### Formatting titles:"
   ]
  },
  {
   "cell_type": "code",
   "execution_count": 5,
   "id": "67d503d6-8640-4c66-a66b-3e99504cbe29",
   "metadata": {},
   "outputs": [],
   "source": [
    "#changing names of columns to snake case\n",
    "train.columns = train.columns.str.lower().str.replace(' ', '_')"
   ]
  },
  {
   "cell_type": "markdown",
   "id": "4dec5f6d-16df-43d0-9c95-59161dfbf01b",
   "metadata": {},
   "source": [
    "#### Changing np.nan to ints and objects to their respective column dtypes"
   ]
  },
  {
   "cell_type": "markdown",
   "id": "b8b3c8c4-9c74-42e7-bc25-57e2971a6b2b",
   "metadata": {},
   "source": [
    "np.nan represents the absence of the features, therefore we will replace them with appropriate notation"
   ]
  },
  {
   "cell_type": "code",
   "execution_count": 6,
   "id": "b248f457-3c3d-43d0-b8bb-2f9d29fed814",
   "metadata": {},
   "outputs": [],
   "source": [
    "#column names with numeric values\n",
    "num_cols = list(train._get_numeric_data().columns)\n",
    "\n",
    "#object columns\n",
    "obj_cols = [x for x in train.columns if x not in num_cols]"
   ]
  },
  {
   "cell_type": "code",
   "execution_count": 7,
   "id": "3b250677-c0d6-4a9a-86d0-073257d9b933",
   "metadata": {},
   "outputs": [],
   "source": [
    "#replacing np.nan with 0 for int columns and 'NA' for obj columns\n",
    "#train_copy will be used for pre-processing as np.nan values are useful for OrdinalEncoding\n",
    "train[num_cols] = train[num_cols].fillna(0)\n",
    "train[obj_cols] = train[obj_cols].fillna('NA')"
   ]
  },
  {
   "cell_type": "code",
   "execution_count": 8,
   "id": "39c62c15-2e94-4662-84b6-e57b9354fd02",
   "metadata": {},
   "outputs": [
    {
     "data": {
      "text/plain": [
       "id              0\n",
       "pid             0\n",
       "ms_subclass     0\n",
       "ms_zoning       0\n",
       "lot_frontage    0\n",
       "               ..\n",
       "misc_val        0\n",
       "mo_sold         0\n",
       "yr_sold         0\n",
       "sale_type       0\n",
       "saleprice       0\n",
       "Length: 81, dtype: int64"
      ]
     },
     "execution_count": 8,
     "metadata": {},
     "output_type": "execute_result"
    }
   ],
   "source": [
    "#no more null values\n",
    "train.isnull().sum()"
   ]
  },
  {
   "cell_type": "markdown",
   "id": "14b224f4-5a8d-4d68-a250-ff7fb580dc4e",
   "metadata": {},
   "source": [
    "**Saving the clean data set as train_clean**"
   ]
  },
  {
   "cell_type": "code",
   "execution_count": 9,
   "id": "d2d9c7d7-0085-47af-b236-d1e65cb50293",
   "metadata": {},
   "outputs": [],
   "source": [
    "train.to_csv('../data/train_clean.csv')"
   ]
  },
  {
   "cell_type": "markdown",
   "id": "d5cba339-f607-47e4-936a-9a5833c52bf7",
   "metadata": {},
   "source": [
    "### Removing unecessary columns"
   ]
  },
  {
   "cell_type": "code",
   "execution_count": 10,
   "id": "f53ff3d7-cbf8-4190-ba6c-2c2e1f0c38cc",
   "metadata": {},
   "outputs": [],
   "source": [
    "train = train.drop(columns = ['id', 'pid'])"
   ]
  },
  {
   "cell_type": "markdown",
   "id": "60dc63a0-764e-4a34-98bd-edc8b024f68e",
   "metadata": {},
   "source": [
    "# EDA"
   ]
  },
  {
   "cell_type": "markdown",
   "id": "f3bb9628-a6a8-458d-a80b-4c1864fd10aa",
   "metadata": {},
   "source": [
    "## Renovatable features + others"
   ]
  },
  {
   "cell_type": "markdown",
   "id": "a047893c-6b0e-416e-b8ab-522a3aaae4eb",
   "metadata": {},
   "source": [
    "Renovatable features within the train Ames housing data set usually have quality or condition in their names. Other renovatable features have been identified through my discretion due to the naming convention being inconsistent in the dataset."
   ]
  },
  {
   "cell_type": "markdown",
   "id": "bf442073-916b-4e88-8cfe-d148a4e5de57",
   "metadata": {},
   "source": [
    "**CAUTION**: Renovatable features have high multicollinearity due to the unavoidable nature of these features i.e. A house containing a great quality kitchen will likely have other great quality features"
   ]
  },
  {
   "cell_type": "markdown",
   "id": "b98b191f-b5b4-4319-8e65-b36e12baf891",
   "metadata": {},
   "source": [
    "### Creating a list of renovatable features- reno"
   ]
  },
  {
   "cell_type": "markdown",
   "id": "6dd47f95-7baa-494f-b5e6-f55287a71ff9",
   "metadata": {},
   "source": [
    "#### Quality features"
   ]
  },
  {
   "cell_type": "markdown",
   "id": "5ca32445-c29c-4704-b322-9c0bb65e23ab",
   "metadata": {},
   "source": [
    "Finding features with 'qu' in the name as an indication of a feature describing quality"
   ]
  },
  {
   "cell_type": "code",
   "execution_count": 11,
   "id": "850fc0df-1ccb-4d8b-93b9-85dc513767f8",
   "metadata": {},
   "outputs": [],
   "source": [
    "#reno will be the list of renovatable feature names\n",
    "reno = list(train.columns[train.columns.str.contains('qu')])\n",
    "\n",
    "#naming convention misses heating_qc, so we add it\n",
    "reno.append('heating_qc')"
   ]
  },
  {
   "cell_type": "markdown",
   "id": "27706ee1-1e60-45f1-ad32-fe79c7e5bbfd",
   "metadata": {},
   "source": [
    "#### Condition features"
   ]
  },
  {
   "cell_type": "markdown",
   "id": "befd4aca-bdbb-4bd5-ab29-e47ccbf5c49e",
   "metadata": {},
   "source": [
    "Finding features with 'cond' in the name as an indication of a feature describing condition"
   ]
  },
  {
   "cell_type": "code",
   "execution_count": 12,
   "id": "b0701a88-f73e-4471-aa6b-af5651916112",
   "metadata": {},
   "outputs": [],
   "source": [
    "#predictors that describe the condition of features in house\n",
    "cond = list(train.columns[train.columns.str.contains('cond')])\n",
    "\n",
    "reno.extend(cond)"
   ]
  },
  {
   "cell_type": "markdown",
   "id": "11a0de6f-5b39-41ea-84da-dc05eec569cb",
   "metadata": {},
   "source": [
    "#### Other renovatable features missed"
   ]
  },
  {
   "cell_type": "code",
   "execution_count": 13,
   "id": "0222eee2-41fa-4393-a9d1-0b25bd3f7f2d",
   "metadata": {},
   "outputs": [],
   "source": [
    "#adding missed features\n",
    "others = ['central_air', \n",
    "          'paved_drive', 'fence', 'electrical', \n",
    "          'roof_matl', 'utilities', 'alley']\n",
    "\n",
    "reno.extend(others)"
   ]
  },
  {
   "cell_type": "markdown",
   "id": "a26b91b3-2777-4759-ac4e-f7690adf7ba3",
   "metadata": {},
   "source": [
    "#### Removing features from reno"
   ]
  },
  {
   "cell_type": "markdown",
   "id": "3654efce-736e-4106-8a52-af168642059f",
   "metadata": {},
   "source": [
    "Some features removed were:\n",
    "- irrelevant from the list\n",
    "- had evidence of multicollinearity"
   ]
  },
  {
   "cell_type": "markdown",
   "id": "bc178609-d0b2-4aa1-9b08-bdec21b3f5f6",
   "metadata": {},
   "source": [
    "**Multicollinearity led to overall_qual, overall_cond, central_air, electrical being removed from consideration for the model**"
   ]
  },
  {
   "cell_type": "code",
   "execution_count": 14,
   "id": "47fdd6ae-87ac-4cb7-800f-540007321be8",
   "metadata": {},
   "outputs": [],
   "source": [
    "#others need to be removed because of multi-collinearity\n",
    "#condition_1,2 don't represent renovatable features\n",
    "#the rest had too much multicollinearity\n",
    "\n",
    "to_remove = ['condition_1', 'condition_2', 'low_qual_fin_sf', 'overall_qual', 'overall_cond', 'central_air', 'electrical']\n",
    "for x in to_remove:\n",
    "    reno.remove(x)"
   ]
  },
  {
   "cell_type": "markdown",
   "id": "4c3cee16-b5fc-402b-a8cb-dd783642f486",
   "metadata": {},
   "source": [
    "### **RENO FEATURES**"
   ]
  },
  {
   "cell_type": "markdown",
   "id": "8fcefe51-cbd0-45b1-b7fb-05517bf98b22",
   "metadata": {},
   "source": [
    "This will be used for reference of renovatable features later"
   ]
  },
  {
   "cell_type": "code",
   "execution_count": 15,
   "id": "c678eb91-94ed-44cb-b359-f5f892025dfe",
   "metadata": {},
   "outputs": [
    {
     "data": {
      "text/plain": [
       "['exter_qual',\n",
       " 'bsmt_qual',\n",
       " 'kitchen_qual',\n",
       " 'fireplace_qu',\n",
       " 'garage_qual',\n",
       " 'heating_qc',\n",
       " 'exter_cond',\n",
       " 'bsmt_cond',\n",
       " 'garage_cond',\n",
       " 'paved_drive',\n",
       " 'fence',\n",
       " 'roof_matl',\n",
       " 'utilities',\n",
       " 'alley']"
      ]
     },
     "execution_count": 15,
     "metadata": {},
     "output_type": "execute_result"
    }
   ],
   "source": [
    "reno"
   ]
  },
  {
   "cell_type": "markdown",
   "id": "0466fbe3-a1e0-4aa7-b705-bb5deec9bc72",
   "metadata": {},
   "source": [
    "## Visualisations of relationship between reno features and saleprice"
   ]
  },
  {
   "cell_type": "markdown",
   "id": "c7941f62-a9bb-480c-a0fd-c44193469889",
   "metadata": {},
   "source": [
    "Comparison of salesprice against renovatable features observe the relationship of increasing increments of quality or condition. These features have different ranking schemes. The most common being:\n",
    "1. Ex\n",
    "2. Gd\n",
    "3. Fa\n",
    "4. Po\n",
    "5. NA"
   ]
  },
  {
   "cell_type": "markdown",
   "id": "a0f20703-6385-46f0-a3d5-4f93da91991e",
   "metadata": {},
   "source": [
    "### Ordinal features with basic ranking scheme"
   ]
  },
  {
   "cell_type": "code",
   "execution_count": 16,
   "id": "1b347b2e-59ab-4b26-a64f-462e417256e9",
   "metadata": {},
   "outputs": [],
   "source": [
    "#the violin plot needs to be instructed with the order of these categories so that we can observe a proper trend as ranking increases\n",
    "#the first 9 renovatable features follow this ranking scheme\n",
    "order = ['NA', 'Po', 'Fa', 'Gd', 'Ex']"
   ]
  },
  {
   "cell_type": "code",
   "execution_count": 17,
   "id": "04a35f19-2321-4eca-9982-1ae1a4a9f89c",
   "metadata": {},
   "outputs": [],
   "source": [
    "#function to make 3 violin plots\n",
    "def violin_3(features):\n",
    "    fig, axes = plt.subplots(1, 3, figsize=(15, 5), sharey=True)\n",
    "    for i in range(3):\n",
    "        sns.violinplot(ax = axes[i], x = features[i], y = 'saleprice', data = train, order = order) #order is used here\n",
    "    return"
   ]
  },
  {
   "cell_type": "code",
   "execution_count": 18,
   "id": "cce32c9c-4ced-4abc-85cc-3364ced183ca",
   "metadata": {},
   "outputs": [
    {
     "data": {
      "image/png": "[encoded data removed]",
      "text/plain": [
       "<Figure size 1080x360 with 3 Axes>"
      ]
     },
     "metadata": {
      "needs_background": "light"
     },
     "output_type": "display_data"
    }
   ],
   "source": [
    "violin_3(reno[:3])"
   ]
  },
  {
   "cell_type": "code",
   "execution_count": 19,
   "id": "ea003c2b-c108-4234-b61a-5677f7187f8a",
   "metadata": {},
   "outputs": [
    {
     "data": {
      "image/png": "[encoded data removed]",
      "text/plain": [
       "<Figure size 1080x360 with 3 Axes>"
      ]
     },
     "metadata": {
      "needs_background": "light"
     },
     "output_type": "display_data"
    }
   ],
   "source": [
    "violin_3(reno[3:6])"
   ]
  },
  {
   "cell_type": "code",
   "execution_count": 20,
   "id": "d8646369-7ccb-42f8-9437-6f4431b8aec9",
   "metadata": {},
   "outputs": [
    {
     "data": {
      "image/png": "[encoded data removed]",
      "text/plain": [
       "<Figure size 1080x360 with 3 Axes>"
      ]
     },
     "metadata": {
      "needs_background": "light"
     },
     "output_type": "display_data"
    }
   ],
   "source": [
    "violin_3(reno[6:9])"
   ]
  },
  {
   "cell_type": "markdown",
   "id": "66e6dbe0-f79f-4f03-be83-a533221dfba7",
   "metadata": {},
   "source": [
    "**Findings:** \n",
    "\n",
    "Some features have an obvious trend that indicates that as these features rise up in rating, the median sale price represented as the the white dot of these violin plots are increasing as well. This means that there is a discernible linear relationship between saleprice and:\n",
    "- exter_qual\n",
    "- exter_cond\n",
    "- bsmt_qual\n",
    "- kitchen_qual\n",
    "\n",
    "In contrast, these features have either a weak or no relationship with saleprice:\n",
    "- fireplace_qu\n",
    "- garage_qu\n",
    "- heating_qc\n",
    "- bsmt_cond\n",
    "- garage_cond\n",
    "\n",
    "\n",
    "#### NOTE: Many of these plots also have a big tail at the top of their distributions, indicating that there are apparent outliers. Inference on this says that features with exaggerated tails are attributes towards higher class houses (more on this later)"
   ]
  },
  {
   "cell_type": "markdown",
   "id": "7f828822-baa4-441a-b775-2bf955d4862f",
   "metadata": {},
   "source": [
    "### Ordinal features with other ranking schemes"
   ]
  },
  {
   "cell_type": "markdown",
   "id": "d519ad44-38bc-418e-9ce6-0de3008fc833",
   "metadata": {},
   "source": [
    "The other features were ranked in a different scheme. This time it is too tedious to outline their orders. The violin plots are arranged with ascending medians. Therefore inference is deducted if the ranking x-labels are in order with the implied order in the dictionary. "
   ]
  },
  {
   "cell_type": "code",
   "execution_count": 21,
   "id": "d6d55731-ed5a-42e7-8000-c3f2472529ab",
   "metadata": {},
   "outputs": [],
   "source": [
    "#function to sort the median of each category of outlined feature to be ascending\n",
    "def create_median_order(column):\n",
    "    order = train.groupby(by = [column])['saleprice'].median().sort_values(ascending = True).index\n",
    "    return order\n",
    "\n",
    "#function to make plot the feature against saleprice with the ax (aax) as an arguement as well\n",
    "#create_median_order is within this function to incorportate the entire process in 1 go\n",
    "def plot_1(column, aax):\n",
    "    return sns.violinplot(ax = axes[aax], x = column, y = 'saleprice', data = train, order = create_median_order(column))"
   ]
  },
  {
   "cell_type": "code",
   "execution_count": 22,
   "id": "6b2d0835-afcc-40db-ae1b-6a6d4cd44ac1",
   "metadata": {},
   "outputs": [
    {
     "data": {
      "text/plain": [
       "<AxesSubplot:xlabel='utilities', ylabel='saleprice'>"
      ]
     },
     "execution_count": 22,
     "metadata": {},
     "output_type": "execute_result"
    },
    {
     "data": {
      "image/png": "[encoded data removed]",
      "text/plain": [
       "<Figure size 1080x360 with 2 Axes>"
      ]
     },
     "metadata": {
      "needs_background": "light"
     },
     "output_type": "display_data"
    }
   ],
   "source": [
    "fig, axes = plt.subplots(1, 2, figsize=(15, 5), sharey=True)\n",
    "plot_1('paved_drive', 0)\n",
    "plot_1('utilities', 1)"
   ]
  },
  {
   "cell_type": "markdown",
   "id": "267081bf-50ed-4027-8716-fe7b2b646495",
   "metadata": {},
   "source": [
    "**Findings:**\n",
    "- paved_drive seem to have a subtle linear relationship with sale price as the quality increases. \n",
    "- Utilities doesn't have enough observations to be considered to have a relationship with saleprice"
   ]
  },
  {
   "cell_type": "code",
   "execution_count": 23,
   "id": "dd7a78d8-f406-4263-a16a-bbfff34e425c",
   "metadata": {},
   "outputs": [],
   "source": [
    "#removing utilities from reno as it wont have predictive power\n",
    "reno.remove('utilities')"
   ]
  },
  {
   "cell_type": "markdown",
   "id": "e3013327-7265-46c4-a0a9-f76cccc5a343",
   "metadata": {},
   "source": [
    "### Nominal data - visuals"
   ]
  },
  {
   "cell_type": "markdown",
   "id": "e5625324-0118-45d0-bfad-44a161e08f55",
   "metadata": {},
   "source": [
    "Roof_matl, alley and fence are all renovatable features but aren't particularly reflected as ordinal data. "
   ]
  },
  {
   "cell_type": "code",
   "execution_count": 24,
   "id": "bc4f1a0e-eaf4-48af-bd08-f8c1ef278b26",
   "metadata": {},
   "outputs": [
    {
     "data": {
      "text/plain": [
       "<AxesSubplot:xlabel='fence', ylabel='saleprice'>"
      ]
     },
     "execution_count": 24,
     "metadata": {},
     "output_type": "execute_result"
    },
    {
     "data": {
      "image/png": "[encoded data removed]",
      "text/plain": [
       "<Figure size 1440x360 with 3 Axes>"
      ]
     },
     "metadata": {
      "needs_background": "light"
     },
     "output_type": "display_data"
    }
   ],
   "source": [
    "fig, axes = plt.subplots(1, 3, figsize=(20, 5), sharey=True)\n",
    "plot_1('roof_matl', 0)\n",
    "plot_1('alley', 1)\n",
    "plot_1('fence', 2)"
   ]
  },
  {
   "cell_type": "markdown",
   "id": "ad60f17a-276a-47b3-81f9-dffbf8e0501e",
   "metadata": {},
   "source": [
    "We can deduct that the increasing median reflects increasing importance of the feature's categories.\n",
    "**Findings:**\n",
    "- Roof material seems to be grouped by Composite Shingle with Gravel & Tar and Wood Shingles with Wood Shakes with the later group being more valuable\n",
    "- The distribution of NA in alley w\n",
    "- Houses with no fence seem to be more valuable than the counterparts"
   ]
  },
  {
   "cell_type": "markdown",
   "id": "9d0b8ced-504d-4871-b946-ab49a3dbee2d",
   "metadata": {},
   "source": [
    "## Additional features with strong predictive power that aren't 'renovatable'"
   ]
  },
  {
   "cell_type": "markdown",
   "id": "e7ae27b2-1f93-4dfa-bcc9-5a7e589eb210",
   "metadata": {},
   "source": [
    "In the end, the renovatable features don't have a strong enough relationship with saleprice in order to create a successfull model. We have to locate other features of a house that explain variance in saleprice."
   ]
  },
  {
   "cell_type": "markdown",
   "id": "75691a04-fb5a-4435-a6ba-1605da610a93",
   "metadata": {},
   "source": [
    "Although overall_qual has the highest predictive power, it had too much multicollinearity with renovatable features and was therefore not considered"
   ]
  },
  {
   "cell_type": "markdown",
   "id": "3c5b8d94-f21a-4889-a29e-1b3826f20092",
   "metadata": {},
   "source": [
    "### Top correlating features towards saleprice"
   ]
  },
  {
   "cell_type": "markdown",
   "id": "5acfd41a-89ae-4216-9048-b72696f13c66",
   "metadata": {},
   "source": [
    "The highest correlating features usually reflect the size of the house i.e. gr_liv_area, garage_area, total_bsmt_sf, 1st_flr_sf"
   ]
  },
  {
   "cell_type": "code",
   "execution_count": 25,
   "id": "a5eced75-c2e9-4866-8ea9-a243e27c08f2",
   "metadata": {},
   "outputs": [
    {
     "data": {
      "text/html": [
       "<div>\n",
       "<style scoped>\n",
       "    .dataframe tbody tr th:only-of-type {\n",
       "        vertical-align: middle;\n",
       "    }\n",
       "\n",
       "    .dataframe tbody tr th {\n",
       "        vertical-align: top;\n",
       "    }\n",
       "\n",
       "    .dataframe thead th {\n",
       "        text-align: right;\n",
       "    }\n",
       "</style>\n",
       "<table border=\"1\" class=\"dataframe\">\n",
       "  <thead>\n",
       "    <tr style=\"text-align: right;\">\n",
       "      <th></th>\n",
       "      <th>saleprice</th>\n",
       "    </tr>\n",
       "  </thead>\n",
       "  <tbody>\n",
       "    <tr>\n",
       "      <th>saleprice</th>\n",
       "      <td>1.000000</td>\n",
       "    </tr>\n",
       "    <tr>\n",
       "      <th>overall_qual</th>\n",
       "      <td>0.800207</td>\n",
       "    </tr>\n",
       "    <tr>\n",
       "      <th>gr_liv_area</th>\n",
       "      <td>0.697038</td>\n",
       "    </tr>\n",
       "    <tr>\n",
       "      <th>garage_area</th>\n",
       "      <td>0.649897</td>\n",
       "    </tr>\n",
       "    <tr>\n",
       "      <th>garage_cars</th>\n",
       "      <td>0.647781</td>\n",
       "    </tr>\n",
       "    <tr>\n",
       "      <th>total_bsmt_sf</th>\n",
       "      <td>0.629303</td>\n",
       "    </tr>\n",
       "    <tr>\n",
       "      <th>1st_flr_sf</th>\n",
       "      <td>0.618486</td>\n",
       "    </tr>\n",
       "    <tr>\n",
       "      <th>year_built</th>\n",
       "      <td>0.571849</td>\n",
       "    </tr>\n",
       "    <tr>\n",
       "      <th>year_remod/add</th>\n",
       "      <td>0.550370</td>\n",
       "    </tr>\n",
       "    <tr>\n",
       "      <th>full_bath</th>\n",
       "      <td>0.537969</td>\n",
       "    </tr>\n",
       "    <tr>\n",
       "      <th>totrms_abvgrd</th>\n",
       "      <td>0.504014</td>\n",
       "    </tr>\n",
       "    <tr>\n",
       "      <th>mas_vnr_area</th>\n",
       "      <td>0.503579</td>\n",
       "    </tr>\n",
       "    <tr>\n",
       "      <th>fireplaces</th>\n",
       "      <td>0.471093</td>\n",
       "    </tr>\n",
       "    <tr>\n",
       "      <th>bsmtfin_sf_1</th>\n",
       "      <td>0.423856</td>\n",
       "    </tr>\n",
       "    <tr>\n",
       "      <th>open_porch_sf</th>\n",
       "      <td>0.333476</td>\n",
       "    </tr>\n",
       "  </tbody>\n",
       "</table>\n",
       "</div>"
      ],
      "text/plain": [
       "                saleprice\n",
       "saleprice        1.000000\n",
       "overall_qual     0.800207\n",
       "gr_liv_area      0.697038\n",
       "garage_area      0.649897\n",
       "garage_cars      0.647781\n",
       "total_bsmt_sf    0.629303\n",
       "1st_flr_sf       0.618486\n",
       "year_built       0.571849\n",
       "year_remod/add   0.550370\n",
       "full_bath        0.537969\n",
       "totrms_abvgrd    0.504014\n",
       "mas_vnr_area     0.503579\n",
       "fireplaces       0.471093\n",
       "bsmtfin_sf_1     0.423856\n",
       "open_porch_sf    0.333476"
      ]
     },
     "execution_count": 25,
     "metadata": {},
     "output_type": "execute_result"
    }
   ],
   "source": [
    "corr = train.corr()[['saleprice']].sort_values('saleprice', ascending = False).head(15)\n",
    "corr"
   ]
  },
  {
   "cell_type": "markdown",
   "id": "7480b81c-d59d-4569-8f0c-e008d125868c",
   "metadata": {},
   "source": [
    "### Visualising their relationship to saleprice"
   ]
  },
  {
   "cell_type": "code",
   "execution_count": 26,
   "id": "8d898447-5bec-483d-b1b5-6f9baf7b7169",
   "metadata": {},
   "outputs": [
    {
     "data": {
      "image/png": "[encoded data removed]",
      "text/plain": [
       "<Figure size 1944x216 with 16 Axes>"
      ]
     },
     "metadata": {
      "needs_background": "light"
     },
     "output_type": "display_data"
    }
   ],
   "source": [
    "pp = sns.pairplot(data=train,\n",
    "                  y_vars=['saleprice'],\n",
    "                  x_vars=list(corr.index),\n",
    "                  size = 3,\n",
    "                 aspect=0.6)"
   ]
  },
  {
   "cell_type": "markdown",
   "id": "26be434f-54d5-4182-bf6e-11abd41cba71",
   "metadata": {},
   "source": [
    "We can see that there are pretty strong relationships but they may have been affected by some extreme outliers"
   ]
  },
  {
   "cell_type": "markdown",
   "id": "3f75141c-479a-46f7-bf52-a811a6f95050",
   "metadata": {},
   "source": [
    "### Feature Engineering"
   ]
  },
  {
   "cell_type": "markdown",
   "id": "ee32675f-d769-4148-9a5e-41f8df9f7c06",
   "metadata": {},
   "source": [
    "To add some more predictive power to our model, i've combined 1st_flr_sf and garage_area to create interaction terms with a correlation of 0.70 with saleprice. This is in attempt to decrease bias in our model."
   ]
  },
  {
   "cell_type": "code",
   "execution_count": 27,
   "id": "b5188bd3-e9e4-409e-8ae2-c8b97fb4ea70",
   "metadata": {},
   "outputs": [],
   "source": [
    "train['1st_flr_sf*garage_area'] = train['1st_flr_sf'] * train['garage_area']"
   ]
  },
  {
   "cell_type": "code",
   "execution_count": 28,
   "id": "943254d1-9199-4b32-bbe0-bbb0361cbfbc",
   "metadata": {},
   "outputs": [
    {
     "data": {
      "text/plain": [
       "<AxesSubplot:title={'center':'1st_flr_sf and garage_area'}, xlabel='1st_flr_sf*garage_area', ylabel='saleprice'>"
      ]
     },
     "execution_count": 28,
     "metadata": {},
     "output_type": "execute_result"
    },
    {
     "data": {
      "image/png": "[encoded data removed]",
      "text/plain": [
       "<Figure size 432x288 with 1 Axes>"
      ]
     },
     "metadata": {
      "needs_background": "light"
     },
     "output_type": "display_data"
    }
   ],
   "source": [
    "plt.title('1st_flr_sf and garage_area')\n",
    "sns.scatterplot(x = '1st_flr_sf*garage_area', y = 'saleprice', data = train)"
   ]
  },
  {
   "cell_type": "code",
   "execution_count": 29,
   "id": "f48e952a-98cf-435d-a83b-442d7c2e40b6",
   "metadata": {},
   "outputs": [
    {
     "data": {
      "text/plain": [
       "array([[1.        , 0.70536482],\n",
       "       [0.70536482, 1.        ]])"
      ]
     },
     "execution_count": 29,
     "metadata": {},
     "output_type": "execute_result"
    }
   ],
   "source": [
    "#finding the correlation of interaction term vs saleprice\n",
    "np.corrcoef(x = train['1st_flr_sf*garage_area'], y = train['saleprice'])"
   ]
  },
  {
   "cell_type": "markdown",
   "id": "080bea61-e9b4-4133-89e4-8c7a6acc0fc1",
   "metadata": {},
   "source": [
    "### A closer look into 1st_flr_sf*garage_area"
   ]
  },
  {
   "cell_type": "markdown",
   "id": "e0f9193c-31c6-428e-9436-ceaa403d7354",
   "metadata": {},
   "source": [
    "gr_liv_area being the strongest coef after overall_qual should have similarities in distributions"
   ]
  },
  {
   "cell_type": "code",
   "execution_count": 30,
   "id": "7118e1e0-9834-4e3e-9fa5-31a9210963c4",
   "metadata": {},
   "outputs": [
    {
     "data": {
      "text/plain": [
       "<AxesSubplot:xlabel='saleprice'>"
      ]
     },
     "execution_count": 30,
     "metadata": {},
     "output_type": "execute_result"
    },
    {
     "data": {
      "image/png": "[encoded data removed]",
      "text/plain": [
       "<Figure size 1440x360 with 2 Axes>"
      ]
     },
     "metadata": {
      "needs_background": "light"
     },
     "output_type": "display_data"
    },
    {
     "data": {
      "text/plain": [
       "<Figure size 720x720 with 0 Axes>"
      ]
     },
     "metadata": {},
     "output_type": "display_data"
    }
   ],
   "source": [
    "fig, axes = plt.subplots(1, 2, figsize=(20, 5), sharey=True)\n",
    "plt.figure(figsize = (10,10))\n",
    "sns.boxplot(ax = axes[0], x = train['1st_flr_sf*garage_area'])\n",
    "sns.boxplot(ax = axes[1], x = train['saleprice'])"
   ]
  },
  {
   "cell_type": "markdown",
   "id": "758d281e-8404-4fa2-b634-123f3f7fe671",
   "metadata": {},
   "source": [
    "**Findings:**\n",
    "- Outliers are apparent in these boxplots and need to be addressed as they may increase variability in our data"
   ]
  },
  {
   "cell_type": "markdown",
   "id": "53586abf-ae7b-4017-a6d5-c190e5e7c2b9",
   "metadata": {},
   "source": [
    "## Distribution of saleprice"
   ]
  },
  {
   "cell_type": "markdown",
   "id": "2fcd70bd-7462-406f-af71-6b26ebf6db2a",
   "metadata": {},
   "source": [
    "There is a skewness to saleprice, therefore it would be advised to use non-parametric models to predict saleprice such as KNN... BUT our problem statement needs coefficients to represent the importance of features. Therefore we need to use linear regression, lassocv and ridgecv."
   ]
  },
  {
   "cell_type": "code",
   "execution_count": 31,
   "id": "252db254-1baf-4a97-9c2d-a30b7f97ca70",
   "metadata": {},
   "outputs": [
    {
     "data": {
      "text/plain": [
       "Text(0.5, 1.0, 'Sale Price Distribution')"
      ]
     },
     "execution_count": 31,
     "metadata": {},
     "output_type": "execute_result"
    },
    {
     "data": {
      "image/png": "[encoded data removed]",
      "text/plain": [
       "<Figure size 432x288 with 1 Axes>"
      ]
     },
     "metadata": {
      "needs_background": "light"
     },
     "output_type": "display_data"
    }
   ],
   "source": [
    "train['saleprice'].hist()\n",
    "plt.axvline(train['saleprice'].mean(), color = 'red')\n",
    "plt.title('Sale Price Distribution')"
   ]
  },
  {
   "cell_type": "markdown",
   "id": "45aca515-f291-4fee-9cd0-63365224526f",
   "metadata": {},
   "source": [
    "### Outliers"
   ]
  },
  {
   "cell_type": "markdown",
   "id": "7588a4ae-246c-47ea-8396-5829d3730184",
   "metadata": {},
   "source": [
    "In reference to the previous boxplot are clear outliers towards the upper bound of saleprice. Lets investigate how many instances of outliers there are:"
   ]
  },
  {
   "cell_type": "markdown",
   "id": "fdaceb79-ee1d-4f5d-a293-1e27faefdeb2",
   "metadata": {},
   "source": [
    "#### Defining thresholds for outliers with IQR:"
   ]
  },
  {
   "cell_type": "markdown",
   "id": "fee10998-6614-487d-8850-af249652a793",
   "metadata": {},
   "source": [
    "Anything above or below the 75th or 25th percentile by 1.5 * IQR is considered an outlier"
   ]
  },
  {
   "cell_type": "code",
   "execution_count": 32,
   "id": "8485d82b-3558-4495-8ff3-378ed0468180",
   "metadata": {},
   "outputs": [],
   "source": [
    "iqr = train[\"saleprice\"].quantile(0.75) - train[\"saleprice\"].quantile(0.25)\n",
    "\n",
    "out_lower = train[\"saleprice\"].quantile(0.25) - 1.5*iqr\n",
    "\n",
    "out_upper = train[\"saleprice\"].quantile(0.25) + 1.5*iqr"
   ]
  },
  {
   "cell_type": "markdown",
   "id": "0ba63b07-6c6e-4e76-b0d5-61bf71abd8e5",
   "metadata": {},
   "source": [
    "Anything below 3562.5 or above 256087.5 is an outlier"
   ]
  },
  {
   "cell_type": "code",
   "execution_count": 33,
   "id": "3f82ba2c-ce2c-4de4-b1b1-296dcd4daba5",
   "metadata": {},
   "outputs": [
    {
     "data": {
      "text/plain": [
       "(3562.5, 256087.5)"
      ]
     },
     "execution_count": 33,
     "metadata": {},
     "output_type": "execute_result"
    }
   ],
   "source": [
    "out_lower, out_upper"
   ]
  },
  {
   "cell_type": "code",
   "execution_count": 34,
   "id": "397ab6a2-b1cd-476d-b9be-6109d2c6f1d4",
   "metadata": {},
   "outputs": [
    {
     "data": {
      "text/plain": [
       "(302, 80)"
      ]
     },
     "execution_count": 34,
     "metadata": {},
     "output_type": "execute_result"
    }
   ],
   "source": [
    "#finding number of observations where price > 256087.5\n",
    "train[train['saleprice']> out_upper].shape"
   ]
  },
  {
   "cell_type": "markdown",
   "id": "0a7d2fe9-449c-4733-83d4-03d01738f707",
   "metadata": {},
   "source": [
    "**Findings:**\n",
    "- Salesprice has 302 instances of outliers that fall above the upper bound. There is also evidence that this carries over to all the other features i.e. Renovatable features have a long upper tail and numrerical features have observations extremely far from the rest of the observations"
   ]
  },
  {
   "cell_type": "markdown",
   "id": "6e575161-867c-4aa3-868b-b027f46df099",
   "metadata": {},
   "source": [
    "### Addressing the outliers"
   ]
  },
  {
   "cell_type": "markdown",
   "id": "7024ae3f-d533-4a5b-9299-3f1392a20cd1",
   "metadata": {},
   "source": [
    "Outliers need to be addressed because they create a false sense of correlation but also reduce variance in the residuals of our models. Findings when removing them:\n",
    "- Reduced RMSE by 15,000\n",
    "- Decreased correlation of the features to saleprice"
   ]
  },
  {
   "cell_type": "code",
   "execution_count": 35,
   "id": "4bf3c8f7-e2bc-4a3b-b58e-516d08b27654",
   "metadata": {},
   "outputs": [],
   "source": [
    "train = train[train['saleprice'] < out_upper]"
   ]
  },
  {
   "cell_type": "markdown",
   "id": "ac31fdfc-0d8d-44a8-8866-261d2f05fea1",
   "metadata": {},
   "source": [
    "### Summary Statistics"
   ]
  },
  {
   "cell_type": "markdown",
   "id": "15f2690a-a52c-46e4-af74-367153a47c8e",
   "metadata": {},
   "source": [
    "We can deduct that these houses are mid-range, mostly with an overall quality of 5 out of 10 with a rough average saleprice of $180,000"
   ]
  },
  {
   "cell_type": "code",
   "execution_count": 36,
   "id": "9422a4a7-cc3a-4b3f-90b0-0bb15b7545a0",
   "metadata": {},
   "outputs": [
    {
     "data": {
      "text/html": [
       "<div>\n",
       "<style scoped>\n",
       "    .dataframe tbody tr th:only-of-type {\n",
       "        vertical-align: middle;\n",
       "    }\n",
       "\n",
       "    .dataframe tbody tr th {\n",
       "        vertical-align: top;\n",
       "    }\n",
       "\n",
       "    .dataframe thead th {\n",
       "        text-align: right;\n",
       "    }\n",
       "</style>\n",
       "<table border=\"1\" class=\"dataframe\">\n",
       "  <thead>\n",
       "    <tr style=\"text-align: right;\">\n",
       "      <th></th>\n",
       "      <th>count</th>\n",
       "      <th>mean</th>\n",
       "      <th>std</th>\n",
       "      <th>min</th>\n",
       "      <th>25%</th>\n",
       "      <th>50%</th>\n",
       "      <th>75%</th>\n",
       "      <th>max</th>\n",
       "    </tr>\n",
       "  </thead>\n",
       "  <tbody>\n",
       "    <tr>\n",
       "      <th>saleprice</th>\n",
       "      <td>1749.0</td>\n",
       "      <td>155705.376215</td>\n",
       "      <td>44401.482806</td>\n",
       "      <td>12789.0</td>\n",
       "      <td>126000.0</td>\n",
       "      <td>150000.0</td>\n",
       "      <td>185500.0</td>\n",
       "      <td>256000.0</td>\n",
       "    </tr>\n",
       "    <tr>\n",
       "      <th>overall_qual</th>\n",
       "      <td>1749.0</td>\n",
       "      <td>5.758148</td>\n",
       "      <td>1.181158</td>\n",
       "      <td>1.0</td>\n",
       "      <td>5.0</td>\n",
       "      <td>6.0</td>\n",
       "      <td>7.0</td>\n",
       "      <td>10.0</td>\n",
       "    </tr>\n",
       "    <tr>\n",
       "      <th>gr_liv_area</th>\n",
       "      <td>1749.0</td>\n",
       "      <td>1388.133219</td>\n",
       "      <td>412.402601</td>\n",
       "      <td>334.0</td>\n",
       "      <td>1092.0</td>\n",
       "      <td>1358.0</td>\n",
       "      <td>1632.0</td>\n",
       "      <td>5642.0</td>\n",
       "    </tr>\n",
       "    <tr>\n",
       "      <th>garage_area</th>\n",
       "      <td>1749.0</td>\n",
       "      <td>429.541452</td>\n",
       "      <td>191.417760</td>\n",
       "      <td>0.0</td>\n",
       "      <td>300.0</td>\n",
       "      <td>442.0</td>\n",
       "      <td>539.0</td>\n",
       "      <td>1418.0</td>\n",
       "    </tr>\n",
       "    <tr>\n",
       "      <th>garage_cars</th>\n",
       "      <td>1749.0</td>\n",
       "      <td>1.627787</td>\n",
       "      <td>0.700069</td>\n",
       "      <td>0.0</td>\n",
       "      <td>1.0</td>\n",
       "      <td>2.0</td>\n",
       "      <td>2.0</td>\n",
       "      <td>5.0</td>\n",
       "    </tr>\n",
       "    <tr>\n",
       "      <th>total_bsmt_sf</th>\n",
       "      <td>1749.0</td>\n",
       "      <td>969.511149</td>\n",
       "      <td>392.384431</td>\n",
       "      <td>0.0</td>\n",
       "      <td>756.0</td>\n",
       "      <td>936.0</td>\n",
       "      <td>1187.0</td>\n",
       "      <td>6110.0</td>\n",
       "    </tr>\n",
       "    <tr>\n",
       "      <th>1st_flr_sf</th>\n",
       "      <td>1749.0</td>\n",
       "      <td>1084.627216</td>\n",
       "      <td>335.954887</td>\n",
       "      <td>334.0</td>\n",
       "      <td>861.0</td>\n",
       "      <td>1040.0</td>\n",
       "      <td>1287.0</td>\n",
       "      <td>5095.0</td>\n",
       "    </tr>\n",
       "    <tr>\n",
       "      <th>year_built</th>\n",
       "      <td>1749.0</td>\n",
       "      <td>1967.222985</td>\n",
       "      <td>29.695008</td>\n",
       "      <td>1872.0</td>\n",
       "      <td>1950.0</td>\n",
       "      <td>1968.0</td>\n",
       "      <td>1996.0</td>\n",
       "      <td>2009.0</td>\n",
       "    </tr>\n",
       "    <tr>\n",
       "      <th>year_remod/add</th>\n",
       "      <td>1749.0</td>\n",
       "      <td>1981.155517</td>\n",
       "      <td>21.105403</td>\n",
       "      <td>1950.0</td>\n",
       "      <td>1960.0</td>\n",
       "      <td>1984.0</td>\n",
       "      <td>2002.0</td>\n",
       "      <td>2010.0</td>\n",
       "    </tr>\n",
       "    <tr>\n",
       "      <th>full_bath</th>\n",
       "      <td>1749.0</td>\n",
       "      <td>1.500286</td>\n",
       "      <td>0.527965</td>\n",
       "      <td>0.0</td>\n",
       "      <td>1.0</td>\n",
       "      <td>1.0</td>\n",
       "      <td>2.0</td>\n",
       "      <td>3.0</td>\n",
       "    </tr>\n",
       "    <tr>\n",
       "      <th>totrms_abvgrd</th>\n",
       "      <td>1749.0</td>\n",
       "      <td>6.190395</td>\n",
       "      <td>1.405204</td>\n",
       "      <td>2.0</td>\n",
       "      <td>5.0</td>\n",
       "      <td>6.0</td>\n",
       "      <td>7.0</td>\n",
       "      <td>15.0</td>\n",
       "    </tr>\n",
       "    <tr>\n",
       "      <th>mas_vnr_area</th>\n",
       "      <td>1749.0</td>\n",
       "      <td>68.216123</td>\n",
       "      <td>138.697385</td>\n",
       "      <td>0.0</td>\n",
       "      <td>0.0</td>\n",
       "      <td>0.0</td>\n",
       "      <td>98.0</td>\n",
       "      <td>1600.0</td>\n",
       "    </tr>\n",
       "    <tr>\n",
       "      <th>fireplaces</th>\n",
       "      <td>1749.0</td>\n",
       "      <td>0.496855</td>\n",
       "      <td>0.612248</td>\n",
       "      <td>0.0</td>\n",
       "      <td>0.0</td>\n",
       "      <td>0.0</td>\n",
       "      <td>1.0</td>\n",
       "      <td>3.0</td>\n",
       "    </tr>\n",
       "    <tr>\n",
       "      <th>bsmtfin_sf_1</th>\n",
       "      <td>1749.0</td>\n",
       "      <td>373.535735</td>\n",
       "      <td>401.360252</td>\n",
       "      <td>0.0</td>\n",
       "      <td>0.0</td>\n",
       "      <td>312.0</td>\n",
       "      <td>644.0</td>\n",
       "      <td>5644.0</td>\n",
       "    </tr>\n",
       "    <tr>\n",
       "      <th>open_porch_sf</th>\n",
       "      <td>1749.0</td>\n",
       "      <td>40.024014</td>\n",
       "      <td>62.332297</td>\n",
       "      <td>0.0</td>\n",
       "      <td>0.0</td>\n",
       "      <td>0.0</td>\n",
       "      <td>59.0</td>\n",
       "      <td>547.0</td>\n",
       "    </tr>\n",
       "  </tbody>\n",
       "</table>\n",
       "</div>"
      ],
      "text/plain": [
       "                 count           mean           std      min       25%  \\\n",
       "saleprice       1749.0  155705.376215  44401.482806  12789.0  126000.0   \n",
       "overall_qual    1749.0       5.758148      1.181158      1.0       5.0   \n",
       "gr_liv_area     1749.0    1388.133219    412.402601    334.0    1092.0   \n",
       "garage_area     1749.0     429.541452    191.417760      0.0     300.0   \n",
       "garage_cars     1749.0       1.627787      0.700069      0.0       1.0   \n",
       "total_bsmt_sf   1749.0     969.511149    392.384431      0.0     756.0   \n",
       "1st_flr_sf      1749.0    1084.627216    335.954887    334.0     861.0   \n",
       "year_built      1749.0    1967.222985     29.695008   1872.0    1950.0   \n",
       "year_remod/add  1749.0    1981.155517     21.105403   1950.0    1960.0   \n",
       "full_bath       1749.0       1.500286      0.527965      0.0       1.0   \n",
       "totrms_abvgrd   1749.0       6.190395      1.405204      2.0       5.0   \n",
       "mas_vnr_area    1749.0      68.216123    138.697385      0.0       0.0   \n",
       "fireplaces      1749.0       0.496855      0.612248      0.0       0.0   \n",
       "bsmtfin_sf_1    1749.0     373.535735    401.360252      0.0       0.0   \n",
       "open_porch_sf   1749.0      40.024014     62.332297      0.0       0.0   \n",
       "\n",
       "                     50%       75%       max  \n",
       "saleprice       150000.0  185500.0  256000.0  \n",
       "overall_qual         6.0       7.0      10.0  \n",
       "gr_liv_area       1358.0    1632.0    5642.0  \n",
       "garage_area        442.0     539.0    1418.0  \n",
       "garage_cars          2.0       2.0       5.0  \n",
       "total_bsmt_sf      936.0    1187.0    6110.0  \n",
       "1st_flr_sf        1040.0    1287.0    5095.0  \n",
       "year_built        1968.0    1996.0    2009.0  \n",
       "year_remod/add    1984.0    2002.0    2010.0  \n",
       "full_bath            1.0       2.0       3.0  \n",
       "totrms_abvgrd        6.0       7.0      15.0  \n",
       "mas_vnr_area         0.0      98.0    1600.0  \n",
       "fireplaces           0.0       1.0       3.0  \n",
       "bsmtfin_sf_1       312.0     644.0    5644.0  \n",
       "open_porch_sf        0.0      59.0     547.0  "
      ]
     },
     "execution_count": 36,
     "metadata": {},
     "output_type": "execute_result"
    }
   ],
   "source": [
    "#looking at statistics of the top 10 correlated numerical features\n",
    "train[corr.index].describe().T"
   ]
  },
  {
   "cell_type": "markdown",
   "id": "f4a32617-3c7e-4173-8acd-d5f251f94636",
   "metadata": {},
   "source": [
    "# Train Test Split"
   ]
  },
  {
   "cell_type": "code",
   "execution_count": 37,
   "id": "0951ea84-32e2-42c1-980d-f2e13d5c4827",
   "metadata": {},
   "outputs": [
    {
     "data": {
      "text/plain": [
       "RL         1327\n",
       "RM          308\n",
       "FV           78\n",
       "C (all)      19\n",
       "RH           14\n",
       "A (agr)       2\n",
       "I (all)       1\n",
       "Name: ms_zoning, dtype: int64"
      ]
     },
     "execution_count": 37,
     "metadata": {},
     "output_type": "execute_result"
    }
   ],
   "source": [
    "train['ms_zoning'].value_counts()"
   ]
  },
  {
   "cell_type": "code",
   "execution_count": 38,
   "id": "eeec1647-439b-439c-b987-9b20b475aab0",
   "metadata": {},
   "outputs": [],
   "source": [
    "#saleprice will be our target variable\n",
    "#features describe the renovatable features + top 9 correlated features to saleprice\n",
    "#ms_zoning is removed as there\n",
    "X = train.drop(columns = ['saleprice'])\n",
    "y = train['saleprice']"
   ]
  },
  {
   "cell_type": "code",
   "execution_count": 39,
   "id": "4f152400-1b85-4e25-ac36-adb44c48cfd7",
   "metadata": {},
   "outputs": [],
   "source": [
    "#test set is set to 20% of the training data\n",
    "#no need to stratify y because it isn't a categorical variable \n",
    "X_train, X_test, y_train, y_test = train_test_split(X, y, test_size = 0.2,\n",
    "                                                 random_state = 9\n",
    "                                                 )"
   ]
  },
  {
   "cell_type": "markdown",
   "id": "2eeb3cb4-6e31-461f-b622-24384fe7f721",
   "metadata": {},
   "source": [
    "# Pre-processing"
   ]
  },
  {
   "cell_type": "markdown",
   "id": "a2029f3f-08a3-455d-aece-8abe34c02126",
   "metadata": {},
   "source": [
    "## Transforming columns"
   ]
  },
  {
   "cell_type": "markdown",
   "id": "5acca33b-c164-40df-8d19-c0cf0cdb8fc1",
   "metadata": {},
   "source": [
    "To fit a model, we can't have any string values. We must process the categorical features with:\n",
    "- OrdinalEncoder for the ordinal features\n",
    "- label encoding for nominal features\n",
    "- Scale all of them"
   ]
  },
  {
   "cell_type": "code",
   "execution_count": 40,
   "id": "8c5ed094-9132-4d36-a786-c601ecbef810",
   "metadata": {},
   "outputs": [],
   "source": [
    "features_all = list(X_train.columns)\n",
    "\n",
    "nominal_reno = ['fence', 'roof_matl', 'alley', 'paved_drive']\n",
    "\n",
    "#Ordinal data will be addressed with OrdinalEncoder()\n",
    "ordinal = [x for x in reno.copy() if x not in nominal_reno]\n",
    "\n",
    "#We will apply LabelEncoder() to all nominal data\n",
    "#obj_cols is a variable previously made that describes all categorical column names\n",
    "cats = [x for x in list(obj_cols) if x not in ordinal]"
   ]
  },
  {
   "cell_type": "markdown",
   "id": "1cb472ae-01a1-4715-a886-c73aa700689e",
   "metadata": {},
   "source": [
    "### 1. Ordinal Encoding for renovatable ordinal features\n",
    "\n",
    "The ordinal data needs to be addressed with OrdinalEncoder (oe) as it ranks each category- valuable information for the model.<br> The way OrdinalEncoder works is that the order of the categories needs to be described to the instantiated oe."
   ]
  },
  {
   "cell_type": "markdown",
   "id": "32479842-72ba-4349-a91b-9f20cc003bce",
   "metadata": {},
   "source": [
    "We already know the ranking scheme of our ordinal data from EDA:"
   ]
  },
  {
   "cell_type": "code",
   "execution_count": 41,
   "id": "0ec7d945-c0a4-4d07-ad67-52efecf97db0",
   "metadata": {},
   "outputs": [],
   "source": [
    "#ordinal encoder requires you to explicitly instruct what the order of the categories are\n",
    "#these ordinal features all follow the ranking scheme from 'NA' to 'Ex'\n",
    "cat_ord = ['NA', 'Po', 'Fa', 'TA', 'Gd', 'Ex']\n",
    "\n",
    "#ordinal encoder needs lists of the ranked categories within a list that matches the intended features in order to transform\n",
    "order = []\n",
    "start = 0\n",
    "\n",
    "\n",
    "while start < len(ordinal):\n",
    "    order.append(cat_ord)\n",
    "    start += 1"
   ]
  },
  {
   "cell_type": "code",
   "execution_count": 42,
   "id": "858fd4a1-b21b-47ce-8ff5-14649b214651",
   "metadata": {},
   "outputs": [
    {
     "data": {
      "text/plain": [
       "[['NA', 'Po', 'Fa', 'TA', 'Gd', 'Ex'],\n",
       " ['NA', 'Po', 'Fa', 'TA', 'Gd', 'Ex'],\n",
       " ['NA', 'Po', 'Fa', 'TA', 'Gd', 'Ex'],\n",
       " ['NA', 'Po', 'Fa', 'TA', 'Gd', 'Ex'],\n",
       " ['NA', 'Po', 'Fa', 'TA', 'Gd', 'Ex'],\n",
       " ['NA', 'Po', 'Fa', 'TA', 'Gd', 'Ex'],\n",
       " ['NA', 'Po', 'Fa', 'TA', 'Gd', 'Ex'],\n",
       " ['NA', 'Po', 'Fa', 'TA', 'Gd', 'Ex'],\n",
       " ['NA', 'Po', 'Fa', 'TA', 'Gd', 'Ex']]"
      ]
     },
     "execution_count": 42,
     "metadata": {},
     "output_type": "execute_result"
    }
   ],
   "source": [
    "#this will be used in an arguement for Ordinal Encoder to indicate the ranking of categories for the 9 ordinal columns\n",
    "order"
   ]
  },
  {
   "cell_type": "code",
   "execution_count": 43,
   "id": "e25b8ae7-6eec-4945-9549-1bef773a56e0",
   "metadata": {},
   "outputs": [],
   "source": [
    "#categories = order (list made previously)\n",
    "oe = OrdinalEncoder(categories = order, handle_unknown = 'use_encoded_value', unknown_value= -1)"
   ]
  },
  {
   "cell_type": "code",
   "execution_count": 44,
   "id": "66a82166-a020-4181-b94a-330431c9ab18",
   "metadata": {},
   "outputs": [],
   "source": [
    "#applying ordinal encoder to ordinal features in train and test \n",
    "X_train[ordinal] = oe.fit_transform(X_train[ordinal])\n",
    "X_test[ordinal] = oe.transform(X_test[ordinal])"
   ]
  },
  {
   "cell_type": "code",
   "execution_count": 45,
   "id": "42dd575a-ffab-4f64-9c84-9472343cfca8",
   "metadata": {},
   "outputs": [
    {
     "data": {
      "text/plain": [
       "430     4.0\n",
       "889     4.0\n",
       "746     3.0\n",
       "1396    3.0\n",
       "1752    4.0\n",
       "       ... \n",
       "66      3.0\n",
       "579     3.0\n",
       "740     3.0\n",
       "405     3.0\n",
       "440     4.0\n",
       "Name: exter_qual, Length: 1399, dtype: float64"
      ]
     },
     "execution_count": 45,
     "metadata": {},
     "output_type": "execute_result"
    }
   ],
   "source": [
    "#this ordinal feature is now ranked from 0-5\n",
    "X_train['exter_qual']"
   ]
  },
  {
   "cell_type": "markdown",
   "id": "bab82e4f-023c-4240-a2a8-e48af5bd4a78",
   "metadata": {},
   "source": [
    "### 2. Ordinal Encoding for all nominal features"
   ]
  },
  {
   "cell_type": "markdown",
   "id": "2bf8ae57-e539-49a9-97e4-78fe62746c99",
   "metadata": {},
   "source": [
    "Chosen over onehotencoder to preserve the feature names for a simpler output when deducting coefficients. LabelEncoder doesnt have an arguement to handle unknown features which had issues when transforming the test set."
   ]
  },
  {
   "cell_type": "code",
   "execution_count": 46,
   "id": "e8da40c8-6089-4811-af0f-72076d5c3de7",
   "metadata": {},
   "outputs": [],
   "source": [
    "oe1 = OrdinalEncoder(categories = 'auto', handle_unknown = 'use_encoded_value', unknown_value= -1)"
   ]
  },
  {
   "cell_type": "code",
   "execution_count": 47,
   "id": "1280a9f0-5d3f-4427-b15f-cb0571690c58",
   "metadata": {},
   "outputs": [],
   "source": [
    "X_train[cats] = oe1.fit_transform(X_train[cats])\n",
    "X_test[cats] = oe1.transform(X_test[cats])"
   ]
  },
  {
   "cell_type": "markdown",
   "id": "8c86447b-a083-421b-94d9-b9087e9b127c",
   "metadata": {},
   "source": [
    "## Feature selection with Lasso regression"
   ]
  },
  {
   "cell_type": "markdown",
   "id": "010d746e-42c5-4d35-99ef-34b1f2a7e25f",
   "metadata": {},
   "source": [
    "**Step 1: Instantiating pipeline with standard scaler and lasso**"
   ]
  },
  {
   "cell_type": "code",
   "execution_count": 48,
   "id": "84af42e9-db96-4bdd-9b9e-fa62fbe72907",
   "metadata": {},
   "outputs": [],
   "source": [
    "#scaling is applied for all features for a better comparison of features with different units\n",
    "#allows for a more meaningful interpretation of coefficients as signals of importance\n",
    "lass_pipe = Pipeline([\n",
    "    ('ss', StandardScaler()),\n",
    "    ('lasso', Lasso())\n",
    "])"
   ]
  },
  {
   "cell_type": "markdown",
   "id": "7317dc11-4f88-4e82-aec1-6a4d2c9bd200",
   "metadata": {},
   "source": [
    "**Step 2: Creating range of alphas as a parameter for gridsearch**"
   ]
  },
  {
   "cell_type": "markdown",
   "id": "92b22514-e48f-4f81-b60c-c29470baf2cf",
   "metadata": {},
   "source": [
    "After some trial and error the appropriate range was within the 1000s"
   ]
  },
  {
   "cell_type": "code",
   "execution_count": 49,
   "id": "520b925f-f4cd-452c-940a-0a0c5ad54dba",
   "metadata": {},
   "outputs": [],
   "source": [
    "l_alpha_param = {'lasso__alpha':np.linspace(1000,3000,21)}   "
   ]
  },
  {
   "cell_type": "markdown",
   "id": "60194228-052e-4ec6-9d89-ba046552f04e",
   "metadata": {},
   "source": [
    "**Step 3: Gridsearch using r2 as a scoring method. This will determine the best lasso model for us.**"
   ]
  },
  {
   "cell_type": "code",
   "execution_count": 50,
   "id": "4c751167-c3ff-43f7-8471-fc8844da75d1",
   "metadata": {},
   "outputs": [],
   "source": [
    "gr = GridSearchCV(lass_pipe,\n",
    "                 l_alpha_param,\n",
    "                 cv = 5,\n",
    "                  scoring = 'r2',\n",
    "                 verbose = 1)"
   ]
  },
  {
   "cell_type": "markdown",
   "id": "38d75c3a-741a-43e2-b373-b581abb29f94",
   "metadata": {},
   "source": [
    "**Step 4: Fitting!**"
   ]
  },
  {
   "cell_type": "code",
   "execution_count": 51,
   "id": "f39d0468-fd71-42df-adc4-99e57305765b",
   "metadata": {},
   "outputs": [
    {
     "name": "stdout",
     "output_type": "stream",
     "text": [
      "Fitting 5 folds for each of 21 candidates, totalling 105 fits\n"
     ]
    },
    {
     "data": {
      "text/plain": [
       "GridSearchCV(cv=5,\n",
       "             estimator=Pipeline(steps=[('ss', StandardScaler()),\n",
       "                                       ('lasso', Lasso())]),\n",
       "             param_grid={'lasso__alpha': array([1000., 1100., 1200., 1300., 1400., 1500., 1600., 1700., 1800.,\n",
       "       1900., 2000., 2100., 2200., 2300., 2400., 2500., 2600., 2700.,\n",
       "       2800., 2900., 3000.])},\n",
       "             scoring='r2', verbose=1)"
      ]
     },
     "execution_count": 51,
     "metadata": {},
     "output_type": "execute_result"
    }
   ],
   "source": [
    "gr.fit(X_train, y_train)"
   ]
  },
  {
   "cell_type": "markdown",
   "id": "c51cada4-fe7a-4a62-a352-372b8e1a5ab5",
   "metadata": {},
   "source": [
    "### Extracting chosen features"
   ]
  },
  {
   "cell_type": "code",
   "execution_count": 52,
   "id": "a7de7a07-a162-40e4-84da-c299f14b6c3f",
   "metadata": {},
   "outputs": [
    {
     "data": {
      "text/plain": [
       "{'lasso__alpha': 1000.0}"
      ]
     },
     "execution_count": 52,
     "metadata": {},
     "output_type": "execute_result"
    }
   ],
   "source": [
    "gr.best_params_"
   ]
  },
  {
   "cell_type": "code",
   "execution_count": 53,
   "id": "7ecb0d22-ac77-4e96-9d7d-ec34efb30133",
   "metadata": {},
   "outputs": [
    {
     "data": {
      "text/plain": [
       "0.7594800763221782"
      ]
     },
     "execution_count": 53,
     "metadata": {},
     "output_type": "execute_result"
    }
   ],
   "source": [
    "gr.best_score_"
   ]
  },
  {
   "cell_type": "markdown",
   "id": "d1797cb4-c5d5-4740-801c-6f12276cccc0",
   "metadata": {},
   "source": [
    "**Step 1. Extracting the coefficients from the lasso model**"
   ]
  },
  {
   "cell_type": "code",
   "execution_count": 54,
   "id": "9c13f33c-982b-4149-910d-ff59213203b7",
   "metadata": {},
   "outputs": [],
   "source": [
    "#using the absolute value will help determine importance of each feature (wether it negatively or positively impacts saleprice)\n",
    "coefs = np.abs(gr.best_estimator_.named_steps['lasso'].coef_)"
   ]
  },
  {
   "cell_type": "code",
   "execution_count": 55,
   "id": "8c81a696-58a0-4755-be12-5290bbf5b621",
   "metadata": {},
   "outputs": [
    {
     "name": "stdout",
     "output_type": "stream",
     "text": [
      "[ 2873.81763959  1620.78966129     0.          1475.2578654\n",
      "     0.             0.          1097.66094362     0.\n",
      "     0.             0.           983.3442017      0.\n",
      "     0.             0.          1287.61835536     0.\n",
      "  9992.46116058  3124.29102829  5873.56432025  1811.47762882\n",
      "     0.           194.2041637      0.             0.\n",
      "     0.             0.          1056.4103536      0.\n",
      "   823.94354289  1544.02403364   695.48382473  1177.00277456\n",
      "  2774.41892595     0.             0.             0.\n",
      "     0.          1971.49032498     0.          3113.10304442\n",
      "     0.             0.           307.06478792     0.\n",
      "     0.         10669.97003996  2301.49444032     0.\n",
      "  4726.43831369     0.             0.             0.\n",
      "  2397.00314214     0.           463.53947917  2318.43375391\n",
      "  1991.06688296  3128.86429218     0.           252.83217276\n",
      "  4997.2707388    334.57906814     0.             0.\n",
      "   387.57262736   451.95940608    23.63534594     0.\n",
      "     0.          1940.06294069  1186.97502457   390.98661204\n",
      "     0.             0.          1646.54588304     0.\n",
      "     0.           347.87911632  1452.34461917]\n"
     ]
    }
   ],
   "source": [
    "#visual understanding of how many features have been ruled out by lasso\n",
    "print(coefs)"
   ]
  },
  {
   "cell_type": "markdown",
   "id": "059b9c43-00fe-4cb7-9f0a-d9ed5c8aa79f",
   "metadata": {},
   "source": [
    "**Step 2. Extracting feature names of these coefs above 0**"
   ]
  },
  {
   "cell_type": "code",
   "execution_count": 56,
   "id": "edaf658f-9d49-4891-90c0-ff47e84cc0cb",
   "metadata": {},
   "outputs": [
    {
     "data": {
      "text/plain": [
       "array(['ms_subclass', 'ms_zoning', 'lot_area', 'lot_shape', 'land_slope',\n",
       "       'bldg_type', 'overall_qual', 'overall_cond', 'year_built',\n",
       "       'year_remod/add', 'roof_matl', 'exter_qual', 'foundation',\n",
       "       'bsmt_qual', 'bsmt_cond', 'bsmt_exposure', 'bsmtfin_type_1',\n",
       "       'total_bsmt_sf', 'heating_qc', '1st_flr_sf', 'gr_liv_area',\n",
       "       'bsmt_full_bath', 'full_bath', 'kitchen_qual', 'functional',\n",
       "       'fireplaces', 'fireplace_qu', 'garage_type', 'garage_finish',\n",
       "       'garage_cars', 'garage_area', 'paved_drive', 'wood_deck_sf',\n",
       "       'open_porch_sf', 'screen_porch', 'pool_area', 'pool_qc',\n",
       "       'misc_val', 'sale_type', '1st_flr_sf*garage_area'], dtype='<U22')"
      ]
     },
     "execution_count": 56,
     "metadata": {},
     "output_type": "execute_result"
    }
   ],
   "source": [
    "#features_all was a variable that has all feature names in the train set\n",
    "#since it will be in the same order as the coef output, we make a condition set to show features above 0\n",
    "\n",
    "kept_features = np.array(features_all)[coefs > 0]\n",
    "kept_features"
   ]
  },
  {
   "cell_type": "markdown",
   "id": "2912bf6d-0e18-4862-a8db-8ac6af646a0b",
   "metadata": {},
   "source": [
    "**Impact of lasso on our features:**"
   ]
  },
  {
   "cell_type": "code",
   "execution_count": 57,
   "id": "baad3415-1f23-4f38-b8a4-5ce928c9b99a",
   "metadata": {},
   "outputs": [
    {
     "name": "stdout",
     "output_type": "stream",
     "text": [
      "Original number of features : 79\n",
      "Number of features after lasso: 40\n"
     ]
    }
   ],
   "source": [
    "print(f'Original number of features : {len(features_all)}')\n",
    "print(f'Number of features after lasso: {len(kept_features)}')"
   ]
  },
  {
   "cell_type": "markdown",
   "id": "a4efd1b1-bcde-4c88-992a-5e4bea61129f",
   "metadata": {},
   "source": [
    "### Re-adding 'reno' features to lasso features"
   ]
  },
  {
   "cell_type": "markdown",
   "id": "3f83569d-2e8a-4b0c-bf11-fc8c4b450322",
   "metadata": {},
   "source": [
    "The renovatable features are of intrest. We don't want the renovatable features to be excluded from the feature selection from with lasso."
   ]
  },
  {
   "cell_type": "code",
   "execution_count": 58,
   "id": "ad0a59f4-1bcc-4027-a9fd-34cb5864dfda",
   "metadata": {},
   "outputs": [],
   "source": [
    "kept_features = list(kept_features)"
   ]
  },
  {
   "cell_type": "code",
   "execution_count": 59,
   "id": "02c5833d-c2ba-4fcd-a523-41ef1d83cb62",
   "metadata": {},
   "outputs": [
    {
     "name": "stdout",
     "output_type": "stream",
     "text": [
      "53\n"
     ]
    }
   ],
   "source": [
    "#adding renovatable features into list of kept_features\n",
    "kept_features.extend(reno)\n",
    "\n",
    "#there may be duplicates from the renovatable features list\n",
    "print(len(kept_features))"
   ]
  },
  {
   "cell_type": "code",
   "execution_count": 60,
   "id": "b2958caa-29e8-45fc-8150-48e61cc59676",
   "metadata": {},
   "outputs": [
    {
     "name": "stdout",
     "output_type": "stream",
     "text": [
      "8\n"
     ]
    }
   ],
   "source": [
    "#put into a set to remove duplicates\n",
    "final_features = list(set(kept_features))\n",
    "\n",
    "#there were 8 renovatable features that were conisidered important from lasso\n",
    "print(len(kept_features) - len(final_features))"
   ]
  },
  {
   "cell_type": "markdown",
   "id": "34f21981-bdb4-46c7-9c89-9b0dfeaaed71",
   "metadata": {},
   "source": [
    "## Multicollinearity?"
   ]
  },
  {
   "cell_type": "markdown",
   "id": "0b71ccc9-9e36-4181-b098-2b2d0b680872",
   "metadata": {},
   "source": [
    "Before we go into modelling, we must check if there is any evidence of multicollinearity between these selected features in order to confirm assumptions made for the model."
   ]
  },
  {
   "cell_type": "markdown",
   "id": "4e2874f5-6c60-44f2-a767-cfecec3b9696",
   "metadata": {},
   "source": [
    "**STEPS TO TAKE:**\n",
    "1. Individually remove the features with the highest VIF one by one by adding feature names to 'multicollinear_features'\n",
    "2. Reasses impact of VIF on all other features"
   ]
  },
  {
   "cell_type": "markdown",
   "id": "e8f48b6c-3c24-4423-8fc7-b9fd2c30ea16",
   "metadata": {},
   "source": [
    "#### Method to address multicollinearity:\n",
    "- Highest instances of multicollinearity was from year_remod/add and year_built with a VIF of infinity. Removing these help reduce VIF of all other features \n",
    "- Other features removed had a VIF > 80\n",
    "\n",
    "It seems that multicollinearity will be unavoidable when including a large amount of renovatable features. Inference on high VIFs may indicate that these features have an ability to influence the perceived quality and condition of other materials. <br> <br>\n",
    "**OUTCOME:** *In the end, only the extremes were removed in an attempt to remove multicollinearity, but it hasn't been fully resolved.*"
   ]
  },
  {
   "cell_type": "code",
   "execution_count": 61,
   "id": "ebdd3038-69e6-49a1-b83c-0af9ba0164f6",
   "metadata": {},
   "outputs": [],
   "source": [
    "pd. set_option('display.max_rows', None)"
   ]
  },
  {
   "cell_type": "code",
   "execution_count": 62,
   "id": "52a65d3b-3391-4ec9-93dc-4b5dd5838b10",
   "metadata": {},
   "outputs": [
    {
     "data": {
      "text/html": [
       "<div>\n",
       "<style scoped>\n",
       "    .dataframe tbody tr th:only-of-type {\n",
       "        vertical-align: middle;\n",
       "    }\n",
       "\n",
       "    .dataframe tbody tr th {\n",
       "        vertical-align: top;\n",
       "    }\n",
       "\n",
       "    .dataframe thead th {\n",
       "        text-align: right;\n",
       "    }\n",
       "</style>\n",
       "<table border=\"1\" class=\"dataframe\">\n",
       "  <thead>\n",
       "    <tr style=\"text-align: right;\">\n",
       "      <th></th>\n",
       "      <th>VIF</th>\n",
       "    </tr>\n",
       "  </thead>\n",
       "  <tbody>\n",
       "    <tr>\n",
       "      <th>1st_flr_sf</th>\n",
       "      <td>inf</td>\n",
       "    </tr>\n",
       "    <tr>\n",
       "      <th>bsmt_unf_sf</th>\n",
       "      <td>inf</td>\n",
       "    </tr>\n",
       "    <tr>\n",
       "      <th>gr_liv_area</th>\n",
       "      <td>inf</td>\n",
       "    </tr>\n",
       "    <tr>\n",
       "      <th>low_qual_fin_sf</th>\n",
       "      <td>inf</td>\n",
       "    </tr>\n",
       "    <tr>\n",
       "      <th>2nd_flr_sf</th>\n",
       "      <td>inf</td>\n",
       "    </tr>\n",
       "    <tr>\n",
       "      <th>total_bsmt_sf</th>\n",
       "      <td>inf</td>\n",
       "    </tr>\n",
       "    <tr>\n",
       "      <th>bsmtfin_sf_1</th>\n",
       "      <td>inf</td>\n",
       "    </tr>\n",
       "    <tr>\n",
       "      <th>bsmtfin_sf_2</th>\n",
       "      <td>inf</td>\n",
       "    </tr>\n",
       "    <tr>\n",
       "      <th>yr_sold</th>\n",
       "      <td>4.195351e+04</td>\n",
       "    </tr>\n",
       "    <tr>\n",
       "      <th>year_built</th>\n",
       "      <td>2.917665e+04</td>\n",
       "    </tr>\n",
       "    <tr>\n",
       "      <th>year_remod/add</th>\n",
       "      <td>2.415107e+04</td>\n",
       "    </tr>\n",
       "    <tr>\n",
       "      <th>pool_qc</th>\n",
       "      <td>9.689008e+02</td>\n",
       "    </tr>\n",
       "    <tr>\n",
       "      <th>street</th>\n",
       "      <td>3.649478e+02</td>\n",
       "    </tr>\n",
       "    <tr>\n",
       "      <th>garage_yr_blt</th>\n",
       "      <td>3.202056e+02</td>\n",
       "    </tr>\n",
       "    <tr>\n",
       "      <th>garage_cond</th>\n",
       "      <td>2.450932e+02</td>\n",
       "    </tr>\n",
       "    <tr>\n",
       "      <th>garage_qual</th>\n",
       "      <td>2.218680e+02</td>\n",
       "    </tr>\n",
       "    <tr>\n",
       "      <th>condition_2</th>\n",
       "      <td>1.685905e+02</td>\n",
       "    </tr>\n",
       "    <tr>\n",
       "      <th>exter_qual</th>\n",
       "      <td>1.219469e+02</td>\n",
       "    </tr>\n",
       "    <tr>\n",
       "      <th>exter_cond</th>\n",
       "      <td>9.318266e+01</td>\n",
       "    </tr>\n",
       "    <tr>\n",
       "      <th>totrms_abvgrd</th>\n",
       "      <td>9.232886e+01</td>\n",
       "    </tr>\n",
       "    <tr>\n",
       "      <th>garage_area</th>\n",
       "      <td>8.246487e+01</td>\n",
       "    </tr>\n",
       "  </tbody>\n",
       "</table>\n",
       "</div>"
      ],
      "text/plain": [
       "                          VIF\n",
       "1st_flr_sf                inf\n",
       "bsmt_unf_sf               inf\n",
       "gr_liv_area               inf\n",
       "low_qual_fin_sf           inf\n",
       "2nd_flr_sf                inf\n",
       "total_bsmt_sf             inf\n",
       "bsmtfin_sf_1              inf\n",
       "bsmtfin_sf_2              inf\n",
       "yr_sold          4.195351e+04\n",
       "year_built       2.917665e+04\n",
       "year_remod/add   2.415107e+04\n",
       "pool_qc          9.689008e+02\n",
       "street           3.649478e+02\n",
       "garage_yr_blt    3.202056e+02\n",
       "garage_cond      2.450932e+02\n",
       "garage_qual      2.218680e+02\n",
       "condition_2      1.685905e+02\n",
       "exter_qual       1.219469e+02\n",
       "exter_cond       9.318266e+01\n",
       "totrms_abvgrd    9.232886e+01\n",
       "garage_area      8.246487e+01"
      ]
     },
     "execution_count": 62,
     "metadata": {},
     "output_type": "execute_result"
    }
   ],
   "source": [
    "from statsmodels.stats.outliers_influence import variance_inflation_factor\n",
    "\n",
    "\n",
    "#creating a list of VIF values that will apply variance_inflation_factor on all the values in X_train\n",
    "vif = [variance_inflation_factor(X_train.values, i) for i in range(len(X_train.columns))]\n",
    "\n",
    "vif_data = pd.DataFrame(data = vif, index = X_train.columns, columns = ['VIF'])\n",
    "high_coll = vif_data[vif_data['VIF'] > 80].sort_values(by = 'VIF', ascending = False)\n",
    "high_coll"
   ]
  },
  {
   "cell_type": "markdown",
   "id": "8cde728d-2b7b-40f4-af4e-3b353245cfd9",
   "metadata": {},
   "source": [
    "### Removing multicollinear features"
   ]
  },
  {
   "cell_type": "markdown",
   "id": "c9cb162c-4c35-47b6-8f64-a1943cc5c695",
   "metadata": {},
   "source": [
    "**This is the final list of features that will be used**"
   ]
  },
  {
   "cell_type": "code",
   "execution_count": 63,
   "id": "4fe68dcc-951b-40df-bddf-9368f9341efa",
   "metadata": {},
   "outputs": [
    {
     "data": {
      "text/plain": [
       "34"
      ]
     },
     "execution_count": 63,
     "metadata": {},
     "output_type": "execute_result"
    }
   ],
   "source": [
    "#multicollinear_features describe the features found to have too much multicollinearity from the next segment\n",
    "multicollinear_features = list(high_coll.index)\n",
    "\n",
    "#ensures that the list of features excludes multicollinear_features\n",
    "amended_features = [x for x in final_features if x not in multicollinear_features]\n",
    "len(amended_features)"
   ]
  },
  {
   "cell_type": "markdown",
   "id": "89efdff2-75ee-45fd-b0ec-2fae8a60908c",
   "metadata": {},
   "source": [
    "### Limiting the train and data sets to these features"
   ]
  },
  {
   "cell_type": "code",
   "execution_count": 64,
   "id": "a3484ec6-599a-4f9f-9ec3-11fd10a05880",
   "metadata": {},
   "outputs": [],
   "source": [
    "X_train = X_train[amended_features]\n",
    "X_test = X_test[amended_features]"
   ]
  },
  {
   "cell_type": "markdown",
   "id": "5bb2ea22-888b-4c69-af7a-061110169653",
   "metadata": {},
   "source": [
    "# Modeling"
   ]
  },
  {
   "cell_type": "markdown",
   "id": "3d39668c-4425-4566-8d17-8c2a0a6ec7f4",
   "metadata": {},
   "source": [
    "After some feature selection and pre-processing, our train and test data is hopefully prepped with only relevant and insightful numerical data.\n",
    "\n",
    "**Models chosen:**\n",
    "- Linear Regression\n",
    "- LassoCV\n",
    "- RidgeCV\n",
    "\n",
    "These were chosen because we need coefficients to interpret wheras knn wouldn't. A comparison between linear regression with the addition of Lasso and Ridge will provide an view on the affect of penalty terms on our feature coefficients. We will then choose the best performing model based on R2 and Root Mean Squared error metrics.\n",
    "\n"
   ]
  },
  {
   "cell_type": "markdown",
   "id": "a3addafd-44e2-4470-992f-a9c0c34f1682",
   "metadata": {},
   "source": [
    "**Pipelines**"
   ]
  },
  {
   "cell_type": "markdown",
   "id": "1fd49a75-75ad-4a8f-ae17-35ac328be976",
   "metadata": {},
   "source": [
    "Standard scaling was included in order to ensure a more meaningful interpretation of coefficients as signals of importance"
   ]
  },
  {
   "cell_type": "code",
   "execution_count": 65,
   "id": "4d7d4711-6563-42a9-8f2d-e30bc757ce6f",
   "metadata": {},
   "outputs": [],
   "source": [
    "#1. Linear Regression\n",
    "lr_pipe = Pipeline([('standardize', StandardScaler()),\n",
    "                   ('OLS', LinearRegression())])\n",
    "\n",
    "#2. Lasso CV\n",
    "\n",
    "#Alphas for lasso need to be high because want the penalty term to rule out unnecessary features\n",
    "l_alphas = np.logspace(0, 3, 21)   \n",
    "\n",
    "lasso_pipe = Pipeline([('standardize', StandardScaler()),\n",
    "                   ('lasso', LassoCV(cv = 5, max_iter = 500))])\n",
    "\n",
    "#3. Ridge CV\n",
    "\n",
    "#alphas need to be lower otherwise the penalty term will overcome the coefficients in our results\n",
    "r_alphas = np.linspace(0, 10, 21) \n",
    "\n",
    "ridge_pipe = Pipeline([('standardize', StandardScaler()),\n",
    "                   ('ridge', RidgeCV(alphas = r_alphas, scoring = 'r2', cv = 5))])"
   ]
  },
  {
   "cell_type": "code",
   "execution_count": 66,
   "id": "acead5ff-870b-42d9-ace8-89e7f79e7474",
   "metadata": {},
   "outputs": [
    {
     "data": {
      "text/plain": [
       "Pipeline(steps=[('standardize', StandardScaler()),\n",
       "                ('ridge',\n",
       "                 RidgeCV(alphas=array([ 0. ,  0.5,  1. ,  1.5,  2. ,  2.5,  3. ,  3.5,  4. ,  4.5,  5. ,\n",
       "        5.5,  6. ,  6.5,  7. ,  7.5,  8. ,  8.5,  9. ,  9.5, 10. ]),\n",
       "                         cv=5, scoring='r2'))])"
      ]
     },
     "execution_count": 66,
     "metadata": {},
     "output_type": "execute_result"
    }
   ],
   "source": [
    "lr_pipe.fit(X_train, y_train)\n",
    "lasso_pipe.fit(X_train, y_train)\n",
    "ridge_pipe.fit(X_train, y_train)"
   ]
  },
  {
   "cell_type": "markdown",
   "id": "723634f3-560a-4856-9af2-65bab808eaca",
   "metadata": {},
   "source": [
    "# Evaluation"
   ]
  },
  {
   "cell_type": "markdown",
   "id": "13274ed1-cd0f-45e8-a481-0484e4bffb51",
   "metadata": {},
   "source": [
    "### R2 score"
   ]
  },
  {
   "cell_type": "markdown",
   "id": "7720d647-70c1-48c4-8103-2982fde3e679",
   "metadata": {},
   "source": [
    "- RidgeCV is evidently the most accurate model with an R2 of 0.81 and the least amounto of bias. Coefficients should be extracted from here.\n",
    "- There is evidence of Bias that needs to be addressed by increasing complexity. Linear Regression has the most bias by quite a lot. A suggestion would be adding polynomial features."
   ]
  },
  {
   "cell_type": "code",
   "execution_count": 67,
   "id": "e6a08b70-d3ec-4723-b471-7c7570075a97",
   "metadata": {},
   "outputs": [
    {
     "name": "stdout",
     "output_type": "stream",
     "text": [
      "========LR========\n",
      "train: 0.7514045988713696\n",
      "test: 0.8212541440984789\n",
      "=====LassoCV======\n",
      "train: 0.7898665611217219\n",
      "test: 0.8199956416509447\n",
      "=====RidgeCV======\n",
      "train: 0.793627206226932\n",
      "test: 0.818874503834576\n"
     ]
    }
   ],
   "source": [
    "print(\"LR\".center(18, \"=\"))\n",
    "\n",
    "#for proper comparison the OLS was also put through 5 folds in cross validation\n",
    "print(f'train: {cross_val_score(lr_pipe.named_steps[\"OLS\"],X_train,y_train,cv=5).mean()}')\n",
    "print(f'test: {cross_val_score(lr_pipe.named_steps[\"OLS\"],X_test,y_test,cv=5).mean()}')\n",
    "      \n",
    "print(\"LassoCV\".center(18, \"=\"))\n",
    "print(f'train: {lasso_pipe.score(X_train, y_train)}')\n",
    "print(f'test: {lasso_pipe.score(X_test, y_test)}')\n",
    "\n",
    "print(\"RidgeCV\".center(18, \"=\"))\n",
    "print(f'train: {ridge_pipe.score(X_train, y_train)}')\n",
    "print(f'test: {ridge_pipe.score(X_test, y_test)}')"
   ]
  },
  {
   "cell_type": "markdown",
   "id": "fb549528-be57-4b4a-90ad-8a2075b0e3ef",
   "metadata": {},
   "source": [
    "### Root Mean Squared Error"
   ]
  },
  {
   "cell_type": "markdown",
   "id": "8ea4079f-39c2-44bd-9908-8ce5a6934c6d",
   "metadata": {},
   "source": [
    "A baseline is established to have a comparison of the maximum Root Mean Squared Error that our model should be outperforming."
   ]
  },
  {
   "cell_type": "markdown",
   "id": "1c47be38-a88a-4eb6-a8f8-caac38936804",
   "metadata": {},
   "source": [
    "**Baseline**"
   ]
  },
  {
   "cell_type": "code",
   "execution_count": 68,
   "id": "fe1a4eb5-4c2b-4e79-8b2c-4c36e32f0132",
   "metadata": {},
   "outputs": [],
   "source": [
    "#DummyRegressor will create a baseline model to that can be compared with\n",
    "from sklearn.dummy import DummyRegressor"
   ]
  },
  {
   "cell_type": "code",
   "execution_count": 69,
   "id": "3bf88208-e3eb-4b8d-9942-58b341ff89bb",
   "metadata": {},
   "outputs": [
    {
     "data": {
      "text/plain": [
       "Pipeline(steps=[('ss', StandardScaler()), ('dum', DummyRegressor())])"
      ]
     },
     "execution_count": 69,
     "metadata": {},
     "output_type": "execute_result"
    }
   ],
   "source": [
    "#pipeline with the same structure as the other models\n",
    "dum_pipe = Pipeline([\n",
    "    ('ss', StandardScaler()),\n",
    "    ('dum', DummyRegressor())\n",
    "])\n",
    "\n",
    "dum_pipe.fit(X_train, y_train)"
   ]
  },
  {
   "cell_type": "markdown",
   "id": "dbb777c7-723c-41a9-8895-40153098a5f6",
   "metadata": {},
   "source": [
    "**Predictions for all models**"
   ]
  },
  {
   "cell_type": "code",
   "execution_count": 70,
   "id": "d162df35-f1a8-430a-aaa8-c85c3f0e7dc0",
   "metadata": {},
   "outputs": [],
   "source": [
    "#this function returns the X_train and X_test predictions\n",
    "def predict(pipeline):\n",
    "    pred_train = pipeline.predict(X_train)\n",
    "    pred_test = pipeline.predict(X_test)\n",
    "    return pred_train, pred_test"
   ]
  },
  {
   "cell_type": "code",
   "execution_count": 71,
   "id": "91011fe0-5254-45d2-a2e9-a503793e04a4",
   "metadata": {},
   "outputs": [],
   "source": [
    "#1. baseline predictions\n",
    "dr_pred_train, dr_pred_test = predict(dum_pipe)\n",
    "\n",
    "#2. linear regression predictions\n",
    "lr_pred_train, lr_pred_test = predict(lr_pipe)\n",
    "\n",
    "#3. lasso predictions\n",
    "lasso_pred_train, lasso_pred_test = predict(lasso_pipe)\n",
    "\n",
    "#4. ridge predictions\n",
    "ridge_pred_train, ridge_pred_test = predict(ridge_pipe)\n"
   ]
  },
  {
   "cell_type": "markdown",
   "id": "c3bf72a4-5664-4fd8-9d63-b5cc920b6e07",
   "metadata": {},
   "source": [
    "**RMSE performance**"
   ]
  },
  {
   "cell_type": "markdown",
   "id": "ac0aa4d1-033d-413e-a87e-d643b92cc8c1",
   "metadata": {},
   "source": [
    "- There is more error in our train sets\n",
    "- All models outperform the baseline by 20,000"
   ]
  },
  {
   "cell_type": "code",
   "execution_count": 72,
   "id": "325a1941-9930-48e1-bd3e-bc55762f841d",
   "metadata": {},
   "outputs": [
    {
     "name": "stdout",
     "output_type": "stream",
     "text": [
      "Baseline : 44387.63782061307\n",
      "========LR========\n",
      "Train : 20163.803377639382\n",
      "test : 18879.24015976498\n",
      "=====LassoCV======\n",
      "Train : 20347.43255978824\n",
      "test : 18813.95843624107\n",
      "=====RidgeCV======\n",
      "Train : 20164.53704297056\n",
      "test : 18872.457848209666\n"
     ]
    }
   ],
   "source": [
    "\n",
    "print(f'Baseline : {mean_squared_error(y_train, dr_pred_train, squared = False)}')\n",
    "\n",
    "print(\"LR\".center(18, \"=\"))\n",
    "print(f'Train : {mean_squared_error(y_train, lr_pred_train, squared= False)}')\n",
    "print(f'test : {mean_squared_error(y_test, lr_pred_test, squared= False)}')\n",
    "\n",
    "print(\"LassoCV\".center(18, \"=\"))\n",
    "print(f'Train : {mean_squared_error(y_train, lasso_pred_train, squared= False)}')\n",
    "print(f'test : {mean_squared_error(y_test, lasso_pred_test, squared= False)}')\n",
    "\n",
    "\n",
    "print(\"RidgeCV\".center(18, \"=\"))\n",
    "print(f'Train : {mean_squared_error(y_train, ridge_pred_train, squared= False)}')\n",
    "print(f'test : {mean_squared_error(y_test, ridge_pred_test, squared= False)}')"
   ]
  },
  {
   "cell_type": "markdown",
   "id": "b915c55a-c31a-453d-80ea-8363c6dc17eb",
   "metadata": {},
   "source": [
    "Winner: Linear Regression with r2 of "
   ]
  },
  {
   "cell_type": "markdown",
   "id": "78b4a453-51b1-47d4-9993-e18d28a6a0a4",
   "metadata": {},
   "source": [
    "### Plotting the residuals"
   ]
  },
  {
   "cell_type": "markdown",
   "id": "b019e793-cd0f-449b-bdd9-90f492830050",
   "metadata": {},
   "source": [
    "- Residuals will help confirm LINE assumptions in terms of Normality and Equal variances"
   ]
  },
  {
   "cell_type": "markdown",
   "id": "c80738bd-2662-4377-b7ed-921164487caa",
   "metadata": {},
   "source": [
    "We will be using residuals from our **Linear Regression** with an r2 of "
   ]
  },
  {
   "cell_type": "code",
   "execution_count": 73,
   "id": "106ccc29-fb6b-410f-adad-e881b8df5402",
   "metadata": {},
   "outputs": [],
   "source": [
    "lr_res = y_train - lr_pred_train"
   ]
  },
  {
   "cell_type": "markdown",
   "id": "c2e6f7b2-422b-4845-a018-95a29e791321",
   "metadata": {},
   "source": [
    "**Normality**"
   ]
  },
  {
   "cell_type": "markdown",
   "id": "67b0c24f-6a95-4842-b0ac-5b10182e46d5",
   "metadata": {},
   "source": [
    "The residuals are normally distributed as it's mean roughly sits at 0, confirming normality for our Linear Regression model. Note that there are some extreme residuals that sit far away from the normal distribution even past the -10,000 mark."
   ]
  },
  {
   "cell_type": "code",
   "execution_count": 74,
   "id": "720b01bf-fcc4-47ff-b21e-830664cfd6f9",
   "metadata": {},
   "outputs": [
    {
     "data": {
      "text/plain": [
       "<matplotlib.lines.Line2D at 0x7fe74d19e760>"
      ]
     },
     "execution_count": 74,
     "metadata": {},
     "output_type": "execute_result"
    },
    {
     "data": {
      "image/png": "[encoded data removed]",
      "text/plain": [
       "<Figure size 720x360 with 1 Axes>"
      ]
     },
     "metadata": {
      "needs_background": "light"
     },
     "output_type": "display_data"
    }
   ],
   "source": [
    "plt.figure(figsize = (10,5))\n",
    "plt.hist(lr_res, bins = 30)\n",
    "plt.axvline(lr_res.mean(), color = 'red')"
   ]
  },
  {
   "cell_type": "markdown",
   "id": "5422ad88-3b23-4c4d-9793-873f8da16a51",
   "metadata": {},
   "source": [
    "**Equal Variances**"
   ]
  },
  {
   "cell_type": "markdown",
   "id": "014b9b6a-612f-410c-98e8-bd9bdb0a3848",
   "metadata": {},
   "source": [
    "An observation of a plot of the residuals confirms that the residuals are mostly homoscedastic since it follows a mirrored distribution along the x-axis. We can locate these extreme outliers mentioned in the distribution of these residuals more easily."
   ]
  },
  {
   "cell_type": "code",
   "execution_count": 75,
   "id": "b3067dbc-5123-41d9-a54c-4c2112e496fe",
   "metadata": {},
   "outputs": [
    {
     "data": {
      "text/plain": [
       "<matplotlib.lines.Line2D at 0x7fe74e39d310>"
      ]
     },
     "execution_count": 75,
     "metadata": {},
     "output_type": "execute_result"
    },
    {
     "data": {
      "image/png": "[encoded data removed]",
      "text/plain": [
       "<Figure size 720x360 with 1 Axes>"
      ]
     },
     "metadata": {
      "needs_background": "light"
     },
     "output_type": "display_data"
    }
   ],
   "source": [
    "plt.figure(figsize = (10,5))\n",
    "plt.scatter(lr_pred_train, lr_res, s=4)\n",
    "plt.axhline(y=0, color = 'red', linestyle = '-')"
   ]
  },
  {
   "cell_type": "markdown",
   "id": "d5e49132-e846-49d1-9987-25598a90e0c2",
   "metadata": {},
   "source": [
    "## Coefficients"
   ]
  },
  {
   "cell_type": "markdown",
   "id": "f86fd914-4909-480b-a285-efca2322ccf7",
   "metadata": {},
   "source": [
    "The coefficients will ultimately define the importance of each feature in terms of their impact towards saleprice. \n",
    "\n",
    "**How to interpret the coefficients:**<br>\n",
    "With a single increase of the increments of a feature, saleprice will increase by the coefficient in dollar amounts"
   ]
  },
  {
   "cell_type": "code",
   "execution_count": 78,
   "id": "1aee5bff-50b5-4a93-a49a-12fd10c8a26c",
   "metadata": {},
   "outputs": [
    {
     "data": {
      "text/plain": [
       "(34,)"
      ]
     },
     "execution_count": 78,
     "metadata": {},
     "output_type": "execute_result"
    }
   ],
   "source": [
    "lr_coef.shape"
   ]
  },
  {
   "cell_type": "code",
   "execution_count": 76,
   "id": "06d86f43-ec87-416c-a42b-3c8cb9f7fad6",
   "metadata": {},
   "outputs": [
    {
     "data": {
      "text/html": [
       "<div>\n",
       "<style scoped>\n",
       "    .dataframe tbody tr th:only-of-type {\n",
       "        vertical-align: middle;\n",
       "    }\n",
       "\n",
       "    .dataframe tbody tr th {\n",
       "        vertical-align: top;\n",
       "    }\n",
       "\n",
       "    .dataframe thead th {\n",
       "        text-align: right;\n",
       "    }\n",
       "</style>\n",
       "<table border=\"1\" class=\"dataframe\">\n",
       "  <thead>\n",
       "    <tr style=\"text-align: right;\">\n",
       "      <th></th>\n",
       "      <th>Coefficient</th>\n",
       "    </tr>\n",
       "  </thead>\n",
       "  <tbody>\n",
       "    <tr>\n",
       "      <th>overall_qual</th>\n",
       "      <td>12877.431482</td>\n",
       "    </tr>\n",
       "    <tr>\n",
       "      <th>full_bath</th>\n",
       "      <td>10899.725804</td>\n",
       "    </tr>\n",
       "    <tr>\n",
       "      <th>garage_cars</th>\n",
       "      <td>6134.247244</td>\n",
       "    </tr>\n",
       "    <tr>\n",
       "      <th>lot_area</th>\n",
       "      <td>4886.533530</td>\n",
       "    </tr>\n",
       "    <tr>\n",
       "      <th>kitchen_qual</th>\n",
       "      <td>3902.647710</td>\n",
       "    </tr>\n",
       "    <tr>\n",
       "      <th>heating_qc</th>\n",
       "      <td>3725.897101</td>\n",
       "    </tr>\n",
       "    <tr>\n",
       "      <th>fireplaces</th>\n",
       "      <td>3281.310860</td>\n",
       "    </tr>\n",
       "    <tr>\n",
       "      <th>bsmt_full_bath</th>\n",
       "      <td>3005.888202</td>\n",
       "    </tr>\n",
       "    <tr>\n",
       "      <th>bsmt_qual</th>\n",
       "      <td>3000.464717</td>\n",
       "    </tr>\n",
       "    <tr>\n",
       "      <th>screen_porch</th>\n",
       "      <td>2994.473708</td>\n",
       "    </tr>\n",
       "    <tr>\n",
       "      <th>overall_cond</th>\n",
       "      <td>2950.642860</td>\n",
       "    </tr>\n",
       "    <tr>\n",
       "      <th>fireplace_qu</th>\n",
       "      <td>2679.480179</td>\n",
       "    </tr>\n",
       "    <tr>\n",
       "      <th>foundation</th>\n",
       "      <td>2442.844055</td>\n",
       "    </tr>\n",
       "    <tr>\n",
       "      <th>paved_drive</th>\n",
       "      <td>2070.294294</td>\n",
       "    </tr>\n",
       "    <tr>\n",
       "      <th>open_porch_sf</th>\n",
       "      <td>1993.615161</td>\n",
       "    </tr>\n",
       "    <tr>\n",
       "      <th>wood_deck_sf</th>\n",
       "      <td>1657.950030</td>\n",
       "    </tr>\n",
       "    <tr>\n",
       "      <th>land_slope</th>\n",
       "      <td>1295.517753</td>\n",
       "    </tr>\n",
       "    <tr>\n",
       "      <th>bsmt_cond</th>\n",
       "      <td>1140.100386</td>\n",
       "    </tr>\n",
       "    <tr>\n",
       "      <th>sale_type</th>\n",
       "      <td>911.079059</td>\n",
       "    </tr>\n",
       "    <tr>\n",
       "      <th>functional</th>\n",
       "      <td>619.365557</td>\n",
       "    </tr>\n",
       "    <tr>\n",
       "      <th>fence</th>\n",
       "      <td>613.048192</td>\n",
       "    </tr>\n",
       "    <tr>\n",
       "      <th>roof_matl</th>\n",
       "      <td>298.783425</td>\n",
       "    </tr>\n",
       "    <tr>\n",
       "      <th>alley</th>\n",
       "      <td>153.035861</td>\n",
       "    </tr>\n",
       "    <tr>\n",
       "      <th>lot_shape</th>\n",
       "      <td>-861.174313</td>\n",
       "    </tr>\n",
       "    <tr>\n",
       "      <th>1st_flr_sf*garage_area</th>\n",
       "      <td>-913.416016</td>\n",
       "    </tr>\n",
       "    <tr>\n",
       "      <th>garage_finish</th>\n",
       "      <td>-1316.904640</td>\n",
       "    </tr>\n",
       "    <tr>\n",
       "      <th>bsmt_exposure</th>\n",
       "      <td>-1374.343731</td>\n",
       "    </tr>\n",
       "    <tr>\n",
       "      <th>pool_area</th>\n",
       "      <td>-1605.132036</td>\n",
       "    </tr>\n",
       "    <tr>\n",
       "      <th>misc_val</th>\n",
       "      <td>-1694.857624</td>\n",
       "    </tr>\n",
       "    <tr>\n",
       "      <th>ms_zoning</th>\n",
       "      <td>-2344.889337</td>\n",
       "    </tr>\n",
       "    <tr>\n",
       "      <th>bldg_type</th>\n",
       "      <td>-2476.204007</td>\n",
       "    </tr>\n",
       "    <tr>\n",
       "      <th>ms_subclass</th>\n",
       "      <td>-2485.059847</td>\n",
       "    </tr>\n",
       "    <tr>\n",
       "      <th>bsmtfin_type_1</th>\n",
       "      <td>-3158.738479</td>\n",
       "    </tr>\n",
       "    <tr>\n",
       "      <th>garage_type</th>\n",
       "      <td>-3264.321889</td>\n",
       "    </tr>\n",
       "  </tbody>\n",
       "</table>\n",
       "</div>"
      ],
      "text/plain": [
       "                         Coefficient\n",
       "overall_qual            12877.431482\n",
       "full_bath               10899.725804\n",
       "garage_cars              6134.247244\n",
       "lot_area                 4886.533530\n",
       "kitchen_qual             3902.647710\n",
       "heating_qc               3725.897101\n",
       "fireplaces               3281.310860\n",
       "bsmt_full_bath           3005.888202\n",
       "bsmt_qual                3000.464717\n",
       "screen_porch             2994.473708\n",
       "overall_cond             2950.642860\n",
       "fireplace_qu             2679.480179\n",
       "foundation               2442.844055\n",
       "paved_drive              2070.294294\n",
       "open_porch_sf            1993.615161\n",
       "wood_deck_sf             1657.950030\n",
       "land_slope               1295.517753\n",
       "bsmt_cond                1140.100386\n",
       "sale_type                 911.079059\n",
       "functional                619.365557\n",
       "fence                     613.048192\n",
       "roof_matl                 298.783425\n",
       "alley                     153.035861\n",
       "lot_shape                -861.174313\n",
       "1st_flr_sf*garage_area   -913.416016\n",
       "garage_finish           -1316.904640\n",
       "bsmt_exposure           -1374.343731\n",
       "pool_area               -1605.132036\n",
       "misc_val                -1694.857624\n",
       "ms_zoning               -2344.889337\n",
       "bldg_type               -2476.204007\n",
       "ms_subclass             -2485.059847\n",
       "bsmtfin_type_1          -3158.738479\n",
       "garage_type             -3264.321889"
      ]
     },
     "execution_count": 76,
     "metadata": {},
     "output_type": "execute_result"
    }
   ],
   "source": [
    "features = list(X_train.columns)\n",
    "#extracting the coefficients of all features in X_train using our best model- RidgeCV\n",
    "lr_coef = ridge_pipe.named_steps['ridge'].coef_\n",
    "\n",
    "#fitting into dataframe\n",
    "final_coefs = pd.DataFrame(data = lr_coef, index= features, columns = ['Coefficient']).sort_values(ascending = False, by = 'Coefficient')\n",
    "final_coefs"
   ]
  },
  {
   "cell_type": "markdown",
   "id": "862e6acd-3306-4bce-806c-56df9f7ea7bd",
   "metadata": {},
   "source": [
    "### Renovatable features' coefficients"
   ]
  },
  {
   "cell_type": "markdown",
   "id": "1354cff4-3637-4647-8be6-0e9867c1fdf1",
   "metadata": {},
   "source": [
    "These renovatable features were our most impactful renovatable features on saleprice:\n",
    "- basement \n",
    "- kitchen \n",
    "- heating \n",
    "- fireplace \n",
    "- driveway\n",
    "- roof material\n",
    "- alley access\n",
    "- fence"
   ]
  },
  {
   "cell_type": "markdown",
   "id": "f9ccc1a6-6477-438e-8a9e-68e1585348a7",
   "metadata": {},
   "source": [
    "**Determining what renovatable features made the cut**"
   ]
  },
  {
   "cell_type": "code",
   "execution_count": 77,
   "id": "7e378923-eff8-4a53-b6c2-ff4d8f7e59cd",
   "metadata": {},
   "outputs": [],
   "source": [
    "#list of indexes that were found in final_coefs and is also in our list of renovatable features 'reno'\n",
    "reno_features = [x for x in list(final_coefs.index) if x in reno]"
   ]
  },
  {
   "cell_type": "code",
   "execution_count": 78,
   "id": "32fae22d-0cc9-4f97-b71e-296d1650280f",
   "metadata": {},
   "outputs": [
    {
     "data": {
      "text/plain": [
       "['kitchen_qual',\n",
       " 'heating_qc',\n",
       " 'bsmt_qual',\n",
       " 'fireplace_qu',\n",
       " 'paved_drive',\n",
       " 'bsmt_cond',\n",
       " 'fence',\n",
       " 'roof_matl',\n",
       " 'alley']"
      ]
     },
     "execution_count": 78,
     "metadata": {},
     "output_type": "execute_result"
    }
   ],
   "source": [
    "#our most impactful renovatable features! \n",
    "reno_features"
   ]
  },
  {
   "cell_type": "markdown",
   "id": "bdc0dac7-521b-4f41-9a46-58681438fa42",
   "metadata": {},
   "source": [
    "# **COEFFICIENTS OF OUR RENO FEATURES**"
   ]
  },
  {
   "cell_type": "markdown",
   "id": "d3b22cfe-8102-413f-a527-55a07a9bb25a",
   "metadata": {},
   "source": [
    "These are the renovatable features that should be prioritized from top to bottom for consideration of adding value to your saleprice!\n",
    "\n",
    "**Interpretation:**\n",
    "With a single increase of the increments of quality, saleprice has been determined to increase by the value of the coefficient<br> e.g. When kitchen quality **increases 'Gd' --> 'Ex'**, it should **add $3902.64** to your saleprice"
   ]
  },
  {
   "cell_type": "code",
   "execution_count": 79,
   "id": "43f5000c-db9c-47cb-8971-aca3bd46dfe1",
   "metadata": {},
   "outputs": [
    {
     "data": {
      "text/html": [
       "<div>\n",
       "<style scoped>\n",
       "    .dataframe tbody tr th:only-of-type {\n",
       "        vertical-align: middle;\n",
       "    }\n",
       "\n",
       "    .dataframe tbody tr th {\n",
       "        vertical-align: top;\n",
       "    }\n",
       "\n",
       "    .dataframe thead th {\n",
       "        text-align: right;\n",
       "    }\n",
       "</style>\n",
       "<table border=\"1\" class=\"dataframe\">\n",
       "  <thead>\n",
       "    <tr style=\"text-align: right;\">\n",
       "      <th></th>\n",
       "      <th>Coefficient</th>\n",
       "    </tr>\n",
       "  </thead>\n",
       "  <tbody>\n",
       "    <tr>\n",
       "      <th>kitchen_qual</th>\n",
       "      <td>3902.647710</td>\n",
       "    </tr>\n",
       "    <tr>\n",
       "      <th>heating_qc</th>\n",
       "      <td>3725.897101</td>\n",
       "    </tr>\n",
       "    <tr>\n",
       "      <th>bsmt_qual</th>\n",
       "      <td>3000.464717</td>\n",
       "    </tr>\n",
       "    <tr>\n",
       "      <th>fireplace_qu</th>\n",
       "      <td>2679.480179</td>\n",
       "    </tr>\n",
       "    <tr>\n",
       "      <th>paved_drive</th>\n",
       "      <td>2070.294294</td>\n",
       "    </tr>\n",
       "    <tr>\n",
       "      <th>bsmt_cond</th>\n",
       "      <td>1140.100386</td>\n",
       "    </tr>\n",
       "    <tr>\n",
       "      <th>fence</th>\n",
       "      <td>613.048192</td>\n",
       "    </tr>\n",
       "    <tr>\n",
       "      <th>roof_matl</th>\n",
       "      <td>298.783425</td>\n",
       "    </tr>\n",
       "    <tr>\n",
       "      <th>alley</th>\n",
       "      <td>153.035861</td>\n",
       "    </tr>\n",
       "  </tbody>\n",
       "</table>\n",
       "</div>"
      ],
      "text/plain": [
       "              Coefficient\n",
       "kitchen_qual  3902.647710\n",
       "heating_qc    3725.897101\n",
       "bsmt_qual     3000.464717\n",
       "fireplace_qu  2679.480179\n",
       "paved_drive   2070.294294\n",
       "bsmt_cond     1140.100386\n",
       "fence          613.048192\n",
       "roof_matl      298.783425\n",
       "alley          153.035861"
      ]
     },
     "execution_count": 79,
     "metadata": {},
     "output_type": "execute_result"
    }
   ],
   "source": [
    "#filtering the list of coefficients to resemble only the renovatable features of interest\n",
    "reno_coefs = final_coefs.filter(items = reno_features, axis = 0)\n",
    "reno_coefs"
   ]
  },
  {
   "cell_type": "markdown",
   "id": "51950882-1797-409e-95f9-572c94e8a6ab",
   "metadata": {},
   "source": [
    "**Plotting coefficients:**"
   ]
  },
  {
   "cell_type": "markdown",
   "id": "c4bc6353-24d4-4a04-9e49-d8c9523a3099",
   "metadata": {},
   "source": [
    "Although roof material would be costly to renovate, it has a significantly lower impact on saleprice compared to changing heating quality, kitchen quality and basement quality."
   ]
  },
  {
   "cell_type": "code",
   "execution_count": 80,
   "id": "9ae8dafb-27d0-49a7-9f6f-24578a05ea7c",
   "metadata": {},
   "outputs": [
    {
     "data": {
      "text/plain": [
       "Text(0.5, 1.0, 'Renovation features correlation')"
      ]
     },
     "execution_count": 80,
     "metadata": {},
     "output_type": "execute_result"
    },
    {
     "data": {
      "text/plain": [
       "<Figure size 1440x2160 with 0 Axes>"
      ]
     },
     "metadata": {},
     "output_type": "display_data"
    },
    {
     "data": {
      "image/png": "[encoded data removed]",
      "text/plain": [
       "<Figure size 432x288 with 1 Axes>"
      ]
     },
     "metadata": {
      "needs_background": "light"
     },
     "output_type": "display_data"
    }
   ],
   "source": [
    "plt.figure(figsize = (20,30))\n",
    "reno_coefs.plot(kind=\"barh\", linewidth = 1)\n",
    "plt.title(\"Renovation features correlation\")"
   ]
  },
  {
   "cell_type": "markdown",
   "id": "456d0d40-141c-407e-aad1-ef7f40d6fb73",
   "metadata": {},
   "source": [
    "## Conclusion and Recommendations"
   ]
  },
  {
   "cell_type": "markdown",
   "id": "3c27891e-fc0d-45db-beba-a00a86fc0ad8",
   "metadata": {},
   "source": [
    "**Conclusion:** <br>\n",
    "Out of the 3 models, the RidgeCV performed the best with the least amount of bias and with an R2 of 0.81. I wouldn't use this model for personal investment decisions as the coefficients have lost some meaning due to multi-collinearity issues. \n",
    "\n",
    "The overall_quality feature had the highest coefficient that indicated an increase in price by $12,877.43 when upgrading in an increment of quality which confirms the importance of improving the quality of the house by means of renovation.\n",
    "\n",
    "Although the model is adequately performing, the results have been decided to be misleading. BUT if we were to interpret this model, we would recommend to property developers/ persons selling their homes that their kitchen is priority to renovate, followed by heating, basement and  fireplace to add at least $2679.48 to their saleprice. \n",
    "\n",
    "\n",
    "**Recommendations:** <br>\n",
    "Although not as reliable, our findings can be used as a rough reference for recommendations. \n",
    "\n",
    "Tedious trial and error was required when carefully creating interaction terms that wouldn't interfere with multicollinearity. More time working on this would eventually reduce bias further. Polynomial features were tested on this model but it had skewed our results completely. "
   ]
  }
 ],
 "metadata": {
  "kernelspec": {
   "display_name": "Python 3 (ipykernel)",
   "language": "python",
   "name": "python3"
  },
  "language_info": {
   "codemirror_mode": {
    "name": "ipython",
    "version": 3
   },
   "file_extension": ".py",
   "mimetype": "text/x-python",
   "name": "python",
   "nbconvert_exporter": "python",
   "pygments_lexer": "ipython3",
   "version": "3.8.8"
  }
 },
 "nbformat": 4,
 "nbformat_minor": 5
}
